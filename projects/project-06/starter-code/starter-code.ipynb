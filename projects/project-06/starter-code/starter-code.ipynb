{
 "cells": [
  {
   "cell_type": "markdown",
   "metadata": {},
   "source": [
    "# Project 6: IMDB\n",
    "\n",
    "This project involves NLP, decision trees, bagging, boosting, and more!\n",
    "\n",
    "---"
   ]
  },
  {
   "cell_type": "markdown",
   "metadata": {},
   "source": [
    "## Load packages\n",
    "\n",
    "You are likely going to need to install the `imdbpie` package:\n",
    "\n",
    "    > pip install imdbpie\n",
    "\n",
    "---"
   ]
  },
  {
   "cell_type": "code",
   "execution_count": 1,
   "metadata": {
    "collapsed": false
   },
   "outputs": [
    {
     "name": "stdout",
     "output_type": "stream",
     "text": [
      "Requirement already satisfied (use --upgrade to upgrade): imdbpie in /Users/Stav/anaconda/lib/python2.7/site-packages\n",
      "Requirement already satisfied (use --upgrade to upgrade): requests>=0.10 in /Users/Stav/anaconda/lib/python2.7/site-packages (from imdbpie)\n",
      "Requirement already satisfied (use --upgrade to upgrade): wheel in /Users/Stav/anaconda/lib/python2.7/site-packages (from imdbpie)\n",
      "Requirement already satisfied (use --upgrade to upgrade): cachecontrol[filecache] in /Users/Stav/anaconda/lib/python2.7/site-packages (from imdbpie)\n",
      "Requirement already satisfied (use --upgrade to upgrade): six<2.0.0,>=1.0.0 in /Users/Stav/anaconda/lib/python2.7/site-packages (from imdbpie)\n",
      "Requirement already satisfied (use --upgrade to upgrade): lockfile>=0.9 in /Users/Stav/anaconda/lib/python2.7/site-packages (from cachecontrol[filecache]->imdbpie)\n"
     ]
    },
    {
     "name": "stderr",
     "output_type": "stream",
     "text": [
      "You are using pip version 8.1.1, however version 8.1.2 is available.\n",
      "You should consider upgrading via the 'pip install --upgrade pip' command.\n"
     ]
    }
   ],
   "source": [
    "%%bash\n",
    "pip install imdbpie"
   ]
  },
  {
   "cell_type": "code",
   "execution_count": 2,
   "metadata": {
    "collapsed": false
   },
   "outputs": [],
   "source": [
    "import os\n",
    "import subprocess\n",
    "import collections\n",
    "import re\n",
    "import csv\n",
    "import json\n",
    "\n",
    "import pandas as pd\n",
    "import numpy as np\n",
    "import scipy\n",
    "\n",
    "from sklearn.ensemble import RandomForestClassifier\n",
    "from sklearn.ensemble import RandomForestRegressor\n",
    "\n",
    "import psycopg2\n",
    "import requests\n",
    "from imdbpie import Imdb\n",
    "import nltk\n",
    "\n",
    "import urllib\n",
    "from bs4 import BeautifulSoup\n",
    "import nltk\n",
    "\n",
    "import matplotlib.pyplot as plt\n",
    "import seaborn as sns\n",
    "\n",
    "%matplotlib inline"
   ]
  },
  {
   "cell_type": "markdown",
   "metadata": {},
   "source": [
    "---\n",
    "\n",
    "## Part 1: Acquire the Data\n",
    "\n",
    "You will connect to the IMDB API to query for movies. \n",
    "\n",
    "See here for documentation on how to use the package:\n",
    "\n",
    "https://github.com/richardasaurus/imdb-pie"
   ]
  },
  {
   "cell_type": "markdown",
   "metadata": {},
   "source": [
    "#### 1. Connect to the IMDB API"
   ]
  },
  {
   "cell_type": "code",
   "execution_count": 3,
   "metadata": {
    "collapsed": true
   },
   "outputs": [],
   "source": [
    "from imdbpie import Imdb\n",
    "\n",
    "imdb = Imdb()\n",
    "imdb = Imdb(anonymize=True)"
   ]
  },
  {
   "cell_type": "markdown",
   "metadata": {},
   "source": [
    "#### 2. Query the top 250 rated movies in the database"
   ]
  },
  {
   "cell_type": "code",
   "execution_count": 4,
   "metadata": {
    "collapsed": false
   },
   "outputs": [],
   "source": [
    "top = imdb.top_250()"
   ]
  },
  {
   "cell_type": "markdown",
   "metadata": {},
   "source": [
    "#### 3. Make a dataframe from the movie data\n",
    "\n",
    "Keep the fields:\n",
    "\n",
    "    num_votes\n",
    "    rating\n",
    "    tconst\n",
    "    title\n",
    "    year\n",
    "    \n",
    "And discard the rest"
   ]
  },
  {
   "cell_type": "code",
   "execution_count": 5,
   "metadata": {
    "collapsed": false,
    "scrolled": true
   },
   "outputs": [],
   "source": [
    "top_df = {'num_votes':[],'rating':[],'tconst':[],'title':[],'year':[]}  # create dictionary\n",
    "for i in top:  #iterate through top 250 movies\n",
    "    top_df['num_votes'].append(i['num_votes'])  #append values to appropriate dictionary keys\n",
    "    top_df['rating'].append(i['rating'])\n",
    "    top_df['tconst'].append(i['tconst'])\n",
    "    top_df['title'].append(i['title'])\n",
    "    top_df['year'].append(i['year'])"
   ]
  },
  {
   "cell_type": "code",
   "execution_count": 6,
   "metadata": {
    "collapsed": false
   },
   "outputs": [
    {
     "data": {
      "text/html": [
       "<div>\n",
       "<table border=\"1\" class=\"dataframe\">\n",
       "  <thead>\n",
       "    <tr style=\"text-align: right;\">\n",
       "      <th></th>\n",
       "      <th>num_votes</th>\n",
       "      <th>rating</th>\n",
       "      <th>tconst</th>\n",
       "      <th>title</th>\n",
       "      <th>year</th>\n",
       "    </tr>\n",
       "  </thead>\n",
       "  <tbody>\n",
       "    <tr>\n",
       "      <th>0</th>\n",
       "      <td>1661358</td>\n",
       "      <td>9.3</td>\n",
       "      <td>tt0111161</td>\n",
       "      <td>The Shawshank Redemption</td>\n",
       "      <td>1994</td>\n",
       "    </tr>\n",
       "    <tr>\n",
       "      <th>1</th>\n",
       "      <td>1137094</td>\n",
       "      <td>9.2</td>\n",
       "      <td>tt0068646</td>\n",
       "      <td>The Godfather</td>\n",
       "      <td>1972</td>\n",
       "    </tr>\n",
       "    <tr>\n",
       "      <th>2</th>\n",
       "      <td>776658</td>\n",
       "      <td>9.0</td>\n",
       "      <td>tt0071562</td>\n",
       "      <td>The Godfather: Part II</td>\n",
       "      <td>1974</td>\n",
       "    </tr>\n",
       "    <tr>\n",
       "      <th>3</th>\n",
       "      <td>1647046</td>\n",
       "      <td>9.0</td>\n",
       "      <td>tt0468569</td>\n",
       "      <td>The Dark Knight</td>\n",
       "      <td>2008</td>\n",
       "    </tr>\n",
       "    <tr>\n",
       "      <th>4</th>\n",
       "      <td>849965</td>\n",
       "      <td>8.9</td>\n",
       "      <td>tt0108052</td>\n",
       "      <td>Schindler's List</td>\n",
       "      <td>1993</td>\n",
       "    </tr>\n",
       "  </tbody>\n",
       "</table>\n",
       "</div>"
      ],
      "text/plain": [
       "   num_votes  rating     tconst                     title  year\n",
       "0    1661358     9.3  tt0111161  The Shawshank Redemption  1994\n",
       "1    1137094     9.2  tt0068646             The Godfather  1972\n",
       "2     776658     9.0  tt0071562    The Godfather: Part II  1974\n",
       "3    1647046     9.0  tt0468569           The Dark Knight  2008\n",
       "4     849965     8.9  tt0108052          Schindler's List  1993"
      ]
     },
     "execution_count": 6,
     "metadata": {},
     "output_type": "execute_result"
    }
   ],
   "source": [
    "top_df = pd.DataFrame(top_df)\n",
    "top_df.head()"
   ]
  },
  {
   "cell_type": "markdown",
   "metadata": {},
   "source": [
    "#### 3. Select only the top 100 movies"
   ]
  },
  {
   "cell_type": "code",
   "execution_count": 7,
   "metadata": {
    "collapsed": false
   },
   "outputs": [
    {
     "data": {
      "text/html": [
       "<div>\n",
       "<table border=\"1\" class=\"dataframe\">\n",
       "  <thead>\n",
       "    <tr style=\"text-align: right;\">\n",
       "      <th></th>\n",
       "      <th>num_votes</th>\n",
       "      <th>rating</th>\n",
       "      <th>tconst</th>\n",
       "      <th>title</th>\n",
       "      <th>year</th>\n",
       "    </tr>\n",
       "  </thead>\n",
       "  <tbody>\n",
       "    <tr>\n",
       "      <th>0</th>\n",
       "      <td>1661358</td>\n",
       "      <td>9.3</td>\n",
       "      <td>tt0111161</td>\n",
       "      <td>The Shawshank Redemption</td>\n",
       "      <td>1994</td>\n",
       "    </tr>\n",
       "    <tr>\n",
       "      <th>1</th>\n",
       "      <td>1137094</td>\n",
       "      <td>9.2</td>\n",
       "      <td>tt0068646</td>\n",
       "      <td>The Godfather</td>\n",
       "      <td>1972</td>\n",
       "    </tr>\n",
       "    <tr>\n",
       "      <th>2</th>\n",
       "      <td>776658</td>\n",
       "      <td>9.0</td>\n",
       "      <td>tt0071562</td>\n",
       "      <td>The Godfather: Part II</td>\n",
       "      <td>1974</td>\n",
       "    </tr>\n",
       "    <tr>\n",
       "      <th>3</th>\n",
       "      <td>1647046</td>\n",
       "      <td>9.0</td>\n",
       "      <td>tt0468569</td>\n",
       "      <td>The Dark Knight</td>\n",
       "      <td>2008</td>\n",
       "    </tr>\n",
       "    <tr>\n",
       "      <th>7</th>\n",
       "      <td>1195590</td>\n",
       "      <td>8.9</td>\n",
       "      <td>tt0167260</td>\n",
       "      <td>The Lord of the Rings: The Return of the King</td>\n",
       "      <td>2003</td>\n",
       "    </tr>\n",
       "  </tbody>\n",
       "</table>\n",
       "</div>"
      ],
      "text/plain": [
       "   num_votes  rating     tconst  \\\n",
       "0    1661358     9.3  tt0111161   \n",
       "1    1137094     9.2  tt0068646   \n",
       "2     776658     9.0  tt0071562   \n",
       "3    1647046     9.0  tt0468569   \n",
       "7    1195590     8.9  tt0167260   \n",
       "\n",
       "                                           title  year  \n",
       "0                       The Shawshank Redemption  1994  \n",
       "1                                  The Godfather  1972  \n",
       "2                         The Godfather: Part II  1974  \n",
       "3                                The Dark Knight  2008  \n",
       "7  The Lord of the Rings: The Return of the King  2003  "
      ]
     },
     "execution_count": 7,
     "metadata": {},
     "output_type": "execute_result"
    }
   ],
   "source": [
    "top_100 = top_df.sort_values('rating', ascending = False)[0:100]   # order by rating and subset 100\n",
    "top_100.head()"
   ]
  },
  {
   "cell_type": "code",
   "execution_count": 8,
   "metadata": {
    "collapsed": false
   },
   "outputs": [
    {
     "data": {
      "text/html": [
       "<div>\n",
       "<table border=\"1\" class=\"dataframe\">\n",
       "  <thead>\n",
       "    <tr style=\"text-align: right;\">\n",
       "      <th></th>\n",
       "      <th>num_votes</th>\n",
       "      <th>rating</th>\n",
       "      <th>tconst</th>\n",
       "      <th>title</th>\n",
       "      <th>year</th>\n",
       "    </tr>\n",
       "  </thead>\n",
       "  <tbody>\n",
       "    <tr>\n",
       "      <th>0</th>\n",
       "      <td>1661358</td>\n",
       "      <td>9.3</td>\n",
       "      <td>tt0111161</td>\n",
       "      <td>The Shawshank Redemption</td>\n",
       "      <td>1994</td>\n",
       "    </tr>\n",
       "    <tr>\n",
       "      <th>1</th>\n",
       "      <td>1137094</td>\n",
       "      <td>9.2</td>\n",
       "      <td>tt0068646</td>\n",
       "      <td>The Godfather</td>\n",
       "      <td>1972</td>\n",
       "    </tr>\n",
       "    <tr>\n",
       "      <th>2</th>\n",
       "      <td>776658</td>\n",
       "      <td>9.0</td>\n",
       "      <td>tt0071562</td>\n",
       "      <td>The Godfather: Part II</td>\n",
       "      <td>1974</td>\n",
       "    </tr>\n",
       "    <tr>\n",
       "      <th>3</th>\n",
       "      <td>1647046</td>\n",
       "      <td>9.0</td>\n",
       "      <td>tt0468569</td>\n",
       "      <td>The Dark Knight</td>\n",
       "      <td>2008</td>\n",
       "    </tr>\n",
       "    <tr>\n",
       "      <th>7</th>\n",
       "      <td>1195590</td>\n",
       "      <td>8.9</td>\n",
       "      <td>tt0167260</td>\n",
       "      <td>The Lord of the Rings: The Return of the King</td>\n",
       "      <td>2003</td>\n",
       "    </tr>\n",
       "  </tbody>\n",
       "</table>\n",
       "</div>"
      ],
      "text/plain": [
       "   num_votes  rating     tconst  \\\n",
       "0    1661358     9.3  tt0111161   \n",
       "1    1137094     9.2  tt0068646   \n",
       "2     776658     9.0  tt0071562   \n",
       "3    1647046     9.0  tt0468569   \n",
       "7    1195590     8.9  tt0167260   \n",
       "\n",
       "                                           title  year  \n",
       "0                       The Shawshank Redemption  1994  \n",
       "1                                  The Godfather  1972  \n",
       "2                         The Godfather: Part II  1974  \n",
       "3                                The Dark Knight  2008  \n",
       "7  The Lord of the Rings: The Return of the King  2003  "
      ]
     },
     "execution_count": 8,
     "metadata": {},
     "output_type": "execute_result"
    }
   ],
   "source": [
    "top_100.head()"
   ]
  },
  {
   "cell_type": "markdown",
   "metadata": {},
   "source": [
    "#### 4. Get the genres and runtime for each movie and add them to the dataframe\n",
    "\n",
    "There can be multiple genres per movie, so this will need some finessing."
   ]
  },
  {
   "cell_type": "code",
   "execution_count": 9,
   "metadata": {
    "collapsed": false,
    "scrolled": false
   },
   "outputs": [],
   "source": [
    "import requests\n",
    "import json\n",
    "\n",
    "movies = {'genre': [], 'runtime':[]}   # create empty dictionary for genre runtime\n",
    "for a in top_100.tconst:  # for each IMDB id\n",
    "    path = \"http://www.omdbapi.com/?i=%s&plot=short&r=json\" % a   # parse through the paths of each id,\n",
    "    #substituting the new id via the %s %sub method\n",
    "    movie_dict = json.loads(requests.get(path).text)   #load the request data into json object\n",
    "    movies['genre'].append(movie_dict['Genre'])   #append the genres, runtime to a dictionary\n",
    "    movies['runtime'].append(movie_dict['Runtime'])\n",
    "    \n",
    "top_100['genre'] = movies['genre']   # finish dataframe\n",
    "top_100['runtime'] = movies['runtime']"
   ]
  },
  {
   "cell_type": "code",
   "execution_count": 10,
   "metadata": {
    "collapsed": false
   },
   "outputs": [
    {
     "data": {
      "text/html": [
       "<div>\n",
       "<table border=\"1\" class=\"dataframe\">\n",
       "  <thead>\n",
       "    <tr style=\"text-align: right;\">\n",
       "      <th></th>\n",
       "      <th>num_votes</th>\n",
       "      <th>rating</th>\n",
       "      <th>tconst</th>\n",
       "      <th>title</th>\n",
       "      <th>year</th>\n",
       "      <th>genre</th>\n",
       "      <th>runtime</th>\n",
       "    </tr>\n",
       "  </thead>\n",
       "  <tbody>\n",
       "    <tr>\n",
       "      <th>0</th>\n",
       "      <td>1661358</td>\n",
       "      <td>9.3</td>\n",
       "      <td>tt0111161</td>\n",
       "      <td>The Shawshank Redemption</td>\n",
       "      <td>1994</td>\n",
       "      <td>Crime, Drama</td>\n",
       "      <td>142 min</td>\n",
       "    </tr>\n",
       "    <tr>\n",
       "      <th>1</th>\n",
       "      <td>1137094</td>\n",
       "      <td>9.2</td>\n",
       "      <td>tt0068646</td>\n",
       "      <td>The Godfather</td>\n",
       "      <td>1972</td>\n",
       "      <td>Crime, Drama</td>\n",
       "      <td>175 min</td>\n",
       "    </tr>\n",
       "    <tr>\n",
       "      <th>2</th>\n",
       "      <td>776658</td>\n",
       "      <td>9.0</td>\n",
       "      <td>tt0071562</td>\n",
       "      <td>The Godfather: Part II</td>\n",
       "      <td>1974</td>\n",
       "      <td>Crime, Drama</td>\n",
       "      <td>202 min</td>\n",
       "    </tr>\n",
       "    <tr>\n",
       "      <th>3</th>\n",
       "      <td>1647046</td>\n",
       "      <td>9.0</td>\n",
       "      <td>tt0468569</td>\n",
       "      <td>The Dark Knight</td>\n",
       "      <td>2008</td>\n",
       "      <td>Action, Crime, Thriller</td>\n",
       "      <td>152 min</td>\n",
       "    </tr>\n",
       "    <tr>\n",
       "      <th>7</th>\n",
       "      <td>1195590</td>\n",
       "      <td>8.9</td>\n",
       "      <td>tt0167260</td>\n",
       "      <td>The Lord of the Rings: The Return of the King</td>\n",
       "      <td>2003</td>\n",
       "      <td>Adventure, Drama, Fantasy</td>\n",
       "      <td>201 min</td>\n",
       "    </tr>\n",
       "  </tbody>\n",
       "</table>\n",
       "</div>"
      ],
      "text/plain": [
       "   num_votes  rating     tconst  \\\n",
       "0    1661358     9.3  tt0111161   \n",
       "1    1137094     9.2  tt0068646   \n",
       "2     776658     9.0  tt0071562   \n",
       "3    1647046     9.0  tt0468569   \n",
       "7    1195590     8.9  tt0167260   \n",
       "\n",
       "                                           title  year  \\\n",
       "0                       The Shawshank Redemption  1994   \n",
       "1                                  The Godfather  1972   \n",
       "2                         The Godfather: Part II  1974   \n",
       "3                                The Dark Knight  2008   \n",
       "7  The Lord of the Rings: The Return of the King  2003   \n",
       "\n",
       "                       genre  runtime  \n",
       "0               Crime, Drama  142 min  \n",
       "1               Crime, Drama  175 min  \n",
       "2               Crime, Drama  202 min  \n",
       "3    Action, Crime, Thriller  152 min  \n",
       "7  Adventure, Drama, Fantasy  201 min  "
      ]
     },
     "execution_count": 10,
     "metadata": {},
     "output_type": "execute_result"
    }
   ],
   "source": [
    "top_100.head()"
   ]
  },
  {
   "cell_type": "markdown",
   "metadata": {},
   "source": [
    "#### 4. Write the Results to a csv"
   ]
  },
  {
   "cell_type": "code",
   "execution_count": 11,
   "metadata": {
    "collapsed": false
   },
   "outputs": [],
   "source": [
    "#top_100.to_csv('../assets/data/top_100.csv', encoding = 'utf-8')"
   ]
  },
  {
   "cell_type": "markdown",
   "metadata": {},
   "source": [
    "---\n",
    "\n",
    "## Part 2: Wrangle the text data"
   ]
  },
  {
   "cell_type": "markdown",
   "metadata": {},
   "source": [
    "#### 1. Scrape the reviews for the top 100 movies"
   ]
  },
  {
   "cell_type": "markdown",
   "metadata": {},
   "source": [
    "*Hint*: Use a loop to scrape each page at once"
   ]
  },
  {
   "cell_type": "code",
   "execution_count": null,
   "metadata": {
    "collapsed": true
   },
   "outputs": [],
   "source": []
  },
  {
   "cell_type": "code",
   "execution_count": 12,
   "metadata": {
    "collapsed": false
   },
   "outputs": [
    {
     "name": "stdout",
     "output_type": "stream",
     "text": [
      "[  1.   3.   5.   7.   9.  11.  13.  15.  17.  19.]\n",
      "http://www.imdb.com/title/tt0111161/reviews?filter=best\n",
      "http://www.imdb.com/title/tt0068646/reviews?filter=best\n",
      "http://www.imdb.com/title/tt0071562/reviews?filter=best\n",
      "http://www.imdb.com/title/tt0468569/reviews?filter=best\n",
      "http://www.imdb.com/title/tt0167260/reviews?filter=best\n",
      "http://www.imdb.com/title/tt0137523/reviews?filter=best\n",
      "http://www.imdb.com/title/tt0060196/reviews?filter=best\n",
      "http://www.imdb.com/title/tt0110912/reviews?filter=best\n",
      "http://www.imdb.com/title/tt0050083/reviews?filter=best\n",
      "http://www.imdb.com/title/tt0108052/reviews?filter=best\n",
      "http://www.imdb.com/title/tt0120737/reviews?filter=best\n",
      "http://www.imdb.com/title/tt0080684/reviews?filter=best\n",
      "http://www.imdb.com/title/tt0109830/reviews?filter=best\n"
     ]
    },
    {
     "ename": "KeyboardInterrupt",
     "evalue": "",
     "output_type": "error",
     "traceback": [
      "\u001b[0;31m---------------------------------------------------------------------------\u001b[0m",
      "\u001b[0;31mKeyboardInterrupt\u001b[0m                         Traceback (most recent call last)",
      "\u001b[0;32m<ipython-input-12-06cab6a11806>\u001b[0m in \u001b[0;36m<module>\u001b[0;34m()\u001b[0m\n\u001b[1;32m     12\u001b[0m     \u001b[0mpath\u001b[0m \u001b[0;34m=\u001b[0m \u001b[0;34m'http://www.imdb.com/title/%s/reviews?filter=best'\u001b[0m \u001b[0;34m%\u001b[0m \u001b[0mindex\u001b[0m\u001b[0;34m\u001b[0m\u001b[0m\n\u001b[1;32m     13\u001b[0m     \u001b[0;32mprint\u001b[0m \u001b[0mpath\u001b[0m\u001b[0;34m\u001b[0m\u001b[0m\n\u001b[0;32m---> 14\u001b[0;31m     \u001b[0mresponse\u001b[0m \u001b[0;34m=\u001b[0m \u001b[0mrequests\u001b[0m\u001b[0;34m.\u001b[0m\u001b[0mget\u001b[0m\u001b[0;34m(\u001b[0m\u001b[0mpath\u001b[0m\u001b[0;34m)\u001b[0m\u001b[0;34m\u001b[0m\u001b[0m\n\u001b[0m\u001b[1;32m     15\u001b[0m     \u001b[0mHTML\u001b[0m \u001b[0;34m=\u001b[0m \u001b[0mresponse\u001b[0m\u001b[0;34m.\u001b[0m\u001b[0mtext\u001b[0m\u001b[0;34m\u001b[0m\u001b[0m\n\u001b[1;32m     16\u001b[0m \u001b[0;34m\u001b[0m\u001b[0m\n",
      "\u001b[0;32m/Users/Stav/anaconda/lib/python2.7/site-packages/requests/api.pyc\u001b[0m in \u001b[0;36mget\u001b[0;34m(url, params, **kwargs)\u001b[0m\n\u001b[1;32m     65\u001b[0m \u001b[0;34m\u001b[0m\u001b[0m\n\u001b[1;32m     66\u001b[0m     \u001b[0mkwargs\u001b[0m\u001b[0;34m.\u001b[0m\u001b[0msetdefault\u001b[0m\u001b[0;34m(\u001b[0m\u001b[0;34m'allow_redirects'\u001b[0m\u001b[0;34m,\u001b[0m \u001b[0mTrue\u001b[0m\u001b[0;34m)\u001b[0m\u001b[0;34m\u001b[0m\u001b[0m\n\u001b[0;32m---> 67\u001b[0;31m     \u001b[0;32mreturn\u001b[0m \u001b[0mrequest\u001b[0m\u001b[0;34m(\u001b[0m\u001b[0;34m'get'\u001b[0m\u001b[0;34m,\u001b[0m \u001b[0murl\u001b[0m\u001b[0;34m,\u001b[0m \u001b[0mparams\u001b[0m\u001b[0;34m=\u001b[0m\u001b[0mparams\u001b[0m\u001b[0;34m,\u001b[0m \u001b[0;34m**\u001b[0m\u001b[0mkwargs\u001b[0m\u001b[0;34m)\u001b[0m\u001b[0;34m\u001b[0m\u001b[0m\n\u001b[0m\u001b[1;32m     68\u001b[0m \u001b[0;34m\u001b[0m\u001b[0m\n\u001b[1;32m     69\u001b[0m \u001b[0;34m\u001b[0m\u001b[0m\n",
      "\u001b[0;32m/Users/Stav/anaconda/lib/python2.7/site-packages/requests/api.pyc\u001b[0m in \u001b[0;36mrequest\u001b[0;34m(method, url, **kwargs)\u001b[0m\n\u001b[1;32m     51\u001b[0m     \u001b[0;31m# cases, and look like a memory leak in others.\u001b[0m\u001b[0;34m\u001b[0m\u001b[0;34m\u001b[0m\u001b[0m\n\u001b[1;32m     52\u001b[0m     \u001b[0;32mwith\u001b[0m \u001b[0msessions\u001b[0m\u001b[0;34m.\u001b[0m\u001b[0mSession\u001b[0m\u001b[0;34m(\u001b[0m\u001b[0;34m)\u001b[0m \u001b[0;32mas\u001b[0m \u001b[0msession\u001b[0m\u001b[0;34m:\u001b[0m\u001b[0;34m\u001b[0m\u001b[0m\n\u001b[0;32m---> 53\u001b[0;31m         \u001b[0;32mreturn\u001b[0m \u001b[0msession\u001b[0m\u001b[0;34m.\u001b[0m\u001b[0mrequest\u001b[0m\u001b[0;34m(\u001b[0m\u001b[0mmethod\u001b[0m\u001b[0;34m=\u001b[0m\u001b[0mmethod\u001b[0m\u001b[0;34m,\u001b[0m \u001b[0murl\u001b[0m\u001b[0;34m=\u001b[0m\u001b[0murl\u001b[0m\u001b[0;34m,\u001b[0m \u001b[0;34m**\u001b[0m\u001b[0mkwargs\u001b[0m\u001b[0;34m)\u001b[0m\u001b[0;34m\u001b[0m\u001b[0m\n\u001b[0m\u001b[1;32m     54\u001b[0m \u001b[0;34m\u001b[0m\u001b[0m\n\u001b[1;32m     55\u001b[0m \u001b[0;34m\u001b[0m\u001b[0m\n",
      "\u001b[0;32m/Users/Stav/anaconda/lib/python2.7/site-packages/requests/sessions.pyc\u001b[0m in \u001b[0;36mrequest\u001b[0;34m(self, method, url, params, data, headers, cookies, files, auth, timeout, allow_redirects, proxies, hooks, stream, verify, cert, json)\u001b[0m\n\u001b[1;32m    466\u001b[0m         }\n\u001b[1;32m    467\u001b[0m         \u001b[0msend_kwargs\u001b[0m\u001b[0;34m.\u001b[0m\u001b[0mupdate\u001b[0m\u001b[0;34m(\u001b[0m\u001b[0msettings\u001b[0m\u001b[0;34m)\u001b[0m\u001b[0;34m\u001b[0m\u001b[0m\n\u001b[0;32m--> 468\u001b[0;31m         \u001b[0mresp\u001b[0m \u001b[0;34m=\u001b[0m \u001b[0mself\u001b[0m\u001b[0;34m.\u001b[0m\u001b[0msend\u001b[0m\u001b[0;34m(\u001b[0m\u001b[0mprep\u001b[0m\u001b[0;34m,\u001b[0m \u001b[0;34m**\u001b[0m\u001b[0msend_kwargs\u001b[0m\u001b[0;34m)\u001b[0m\u001b[0;34m\u001b[0m\u001b[0m\n\u001b[0m\u001b[1;32m    469\u001b[0m \u001b[0;34m\u001b[0m\u001b[0m\n\u001b[1;32m    470\u001b[0m         \u001b[0;32mreturn\u001b[0m \u001b[0mresp\u001b[0m\u001b[0;34m\u001b[0m\u001b[0m\n",
      "\u001b[0;32m/Users/Stav/anaconda/lib/python2.7/site-packages/requests/sessions.pyc\u001b[0m in \u001b[0;36msend\u001b[0;34m(self, request, **kwargs)\u001b[0m\n\u001b[1;32m    574\u001b[0m \u001b[0;34m\u001b[0m\u001b[0m\n\u001b[1;32m    575\u001b[0m         \u001b[0;31m# Send the request\u001b[0m\u001b[0;34m\u001b[0m\u001b[0;34m\u001b[0m\u001b[0m\n\u001b[0;32m--> 576\u001b[0;31m         \u001b[0mr\u001b[0m \u001b[0;34m=\u001b[0m \u001b[0madapter\u001b[0m\u001b[0;34m.\u001b[0m\u001b[0msend\u001b[0m\u001b[0;34m(\u001b[0m\u001b[0mrequest\u001b[0m\u001b[0;34m,\u001b[0m \u001b[0;34m**\u001b[0m\u001b[0mkwargs\u001b[0m\u001b[0;34m)\u001b[0m\u001b[0;34m\u001b[0m\u001b[0m\n\u001b[0m\u001b[1;32m    577\u001b[0m \u001b[0;34m\u001b[0m\u001b[0m\n\u001b[1;32m    578\u001b[0m         \u001b[0;31m# Total elapsed time of the request (approximately)\u001b[0m\u001b[0;34m\u001b[0m\u001b[0;34m\u001b[0m\u001b[0m\n",
      "\u001b[0;32m/Users/Stav/anaconda/lib/python2.7/site-packages/requests/adapters.pyc\u001b[0m in \u001b[0;36msend\u001b[0;34m(self, request, stream, timeout, verify, cert, proxies)\u001b[0m\n\u001b[1;32m    374\u001b[0m                     \u001b[0mdecode_content\u001b[0m\u001b[0;34m=\u001b[0m\u001b[0mFalse\u001b[0m\u001b[0;34m,\u001b[0m\u001b[0;34m\u001b[0m\u001b[0m\n\u001b[1;32m    375\u001b[0m                     \u001b[0mretries\u001b[0m\u001b[0;34m=\u001b[0m\u001b[0mself\u001b[0m\u001b[0;34m.\u001b[0m\u001b[0mmax_retries\u001b[0m\u001b[0;34m,\u001b[0m\u001b[0;34m\u001b[0m\u001b[0m\n\u001b[0;32m--> 376\u001b[0;31m                     \u001b[0mtimeout\u001b[0m\u001b[0;34m=\u001b[0m\u001b[0mtimeout\u001b[0m\u001b[0;34m\u001b[0m\u001b[0m\n\u001b[0m\u001b[1;32m    377\u001b[0m                 )\n\u001b[1;32m    378\u001b[0m \u001b[0;34m\u001b[0m\u001b[0m\n",
      "\u001b[0;32m/Users/Stav/anaconda/lib/python2.7/site-packages/requests/packages/urllib3/connectionpool.pyc\u001b[0m in \u001b[0;36murlopen\u001b[0;34m(self, method, url, body, headers, retries, redirect, assert_same_host, timeout, pool_timeout, release_conn, **response_kw)\u001b[0m\n\u001b[1;32m    557\u001b[0m             httplib_response = self._make_request(conn, method, url,\n\u001b[1;32m    558\u001b[0m                                                   \u001b[0mtimeout\u001b[0m\u001b[0;34m=\u001b[0m\u001b[0mtimeout_obj\u001b[0m\u001b[0;34m,\u001b[0m\u001b[0;34m\u001b[0m\u001b[0m\n\u001b[0;32m--> 559\u001b[0;31m                                                   body=body, headers=headers)\n\u001b[0m\u001b[1;32m    560\u001b[0m \u001b[0;34m\u001b[0m\u001b[0m\n\u001b[1;32m    561\u001b[0m             \u001b[0;31m# If we're going to release the connection in ``finally:``, then\u001b[0m\u001b[0;34m\u001b[0m\u001b[0;34m\u001b[0m\u001b[0m\n",
      "\u001b[0;32m/Users/Stav/anaconda/lib/python2.7/site-packages/requests/packages/urllib3/connectionpool.pyc\u001b[0m in \u001b[0;36m_make_request\u001b[0;34m(self, conn, method, url, timeout, **httplib_request_kw)\u001b[0m\n\u001b[1;32m    351\u001b[0m         \u001b[0;31m# conn.request() calls httplib.*.request, not the method in\u001b[0m\u001b[0;34m\u001b[0m\u001b[0;34m\u001b[0m\u001b[0m\n\u001b[1;32m    352\u001b[0m         \u001b[0;31m# urllib3.request. It also calls makefile (recv) on the socket.\u001b[0m\u001b[0;34m\u001b[0m\u001b[0;34m\u001b[0m\u001b[0m\n\u001b[0;32m--> 353\u001b[0;31m         \u001b[0mconn\u001b[0m\u001b[0;34m.\u001b[0m\u001b[0mrequest\u001b[0m\u001b[0;34m(\u001b[0m\u001b[0mmethod\u001b[0m\u001b[0;34m,\u001b[0m \u001b[0murl\u001b[0m\u001b[0;34m,\u001b[0m \u001b[0;34m**\u001b[0m\u001b[0mhttplib_request_kw\u001b[0m\u001b[0;34m)\u001b[0m\u001b[0;34m\u001b[0m\u001b[0m\n\u001b[0m\u001b[1;32m    354\u001b[0m \u001b[0;34m\u001b[0m\u001b[0m\n\u001b[1;32m    355\u001b[0m         \u001b[0;31m# Reset the timeout for the recv() on the socket\u001b[0m\u001b[0;34m\u001b[0m\u001b[0;34m\u001b[0m\u001b[0m\n",
      "\u001b[0;32m/Users/Stav/anaconda/lib/python2.7/httplib.pyc\u001b[0m in \u001b[0;36mrequest\u001b[0;34m(self, method, url, body, headers)\u001b[0m\n\u001b[1;32m   1055\u001b[0m     \u001b[0;32mdef\u001b[0m \u001b[0mrequest\u001b[0m\u001b[0;34m(\u001b[0m\u001b[0mself\u001b[0m\u001b[0;34m,\u001b[0m \u001b[0mmethod\u001b[0m\u001b[0;34m,\u001b[0m \u001b[0murl\u001b[0m\u001b[0;34m,\u001b[0m \u001b[0mbody\u001b[0m\u001b[0;34m=\u001b[0m\u001b[0mNone\u001b[0m\u001b[0;34m,\u001b[0m \u001b[0mheaders\u001b[0m\u001b[0;34m=\u001b[0m\u001b[0;34m{\u001b[0m\u001b[0;34m}\u001b[0m\u001b[0;34m)\u001b[0m\u001b[0;34m:\u001b[0m\u001b[0;34m\u001b[0m\u001b[0m\n\u001b[1;32m   1056\u001b[0m         \u001b[0;34m\"\"\"Send a complete request to the server.\"\"\"\u001b[0m\u001b[0;34m\u001b[0m\u001b[0m\n\u001b[0;32m-> 1057\u001b[0;31m         \u001b[0mself\u001b[0m\u001b[0;34m.\u001b[0m\u001b[0m_send_request\u001b[0m\u001b[0;34m(\u001b[0m\u001b[0mmethod\u001b[0m\u001b[0;34m,\u001b[0m \u001b[0murl\u001b[0m\u001b[0;34m,\u001b[0m \u001b[0mbody\u001b[0m\u001b[0;34m,\u001b[0m \u001b[0mheaders\u001b[0m\u001b[0;34m)\u001b[0m\u001b[0;34m\u001b[0m\u001b[0m\n\u001b[0m\u001b[1;32m   1058\u001b[0m \u001b[0;34m\u001b[0m\u001b[0m\n\u001b[1;32m   1059\u001b[0m     \u001b[0;32mdef\u001b[0m \u001b[0m_set_content_length\u001b[0m\u001b[0;34m(\u001b[0m\u001b[0mself\u001b[0m\u001b[0;34m,\u001b[0m \u001b[0mbody\u001b[0m\u001b[0;34m,\u001b[0m \u001b[0mmethod\u001b[0m\u001b[0;34m)\u001b[0m\u001b[0;34m:\u001b[0m\u001b[0;34m\u001b[0m\u001b[0m\n",
      "\u001b[0;32m/Users/Stav/anaconda/lib/python2.7/httplib.pyc\u001b[0m in \u001b[0;36m_send_request\u001b[0;34m(self, method, url, body, headers)\u001b[0m\n\u001b[1;32m   1095\u001b[0m         \u001b[0;32mfor\u001b[0m \u001b[0mhdr\u001b[0m\u001b[0;34m,\u001b[0m \u001b[0mvalue\u001b[0m \u001b[0;32min\u001b[0m \u001b[0mheaders\u001b[0m\u001b[0;34m.\u001b[0m\u001b[0miteritems\u001b[0m\u001b[0;34m(\u001b[0m\u001b[0;34m)\u001b[0m\u001b[0;34m:\u001b[0m\u001b[0;34m\u001b[0m\u001b[0m\n\u001b[1;32m   1096\u001b[0m             \u001b[0mself\u001b[0m\u001b[0;34m.\u001b[0m\u001b[0mputheader\u001b[0m\u001b[0;34m(\u001b[0m\u001b[0mhdr\u001b[0m\u001b[0;34m,\u001b[0m \u001b[0mvalue\u001b[0m\u001b[0;34m)\u001b[0m\u001b[0;34m\u001b[0m\u001b[0m\n\u001b[0;32m-> 1097\u001b[0;31m         \u001b[0mself\u001b[0m\u001b[0;34m.\u001b[0m\u001b[0mendheaders\u001b[0m\u001b[0;34m(\u001b[0m\u001b[0mbody\u001b[0m\u001b[0;34m)\u001b[0m\u001b[0;34m\u001b[0m\u001b[0m\n\u001b[0m\u001b[1;32m   1098\u001b[0m \u001b[0;34m\u001b[0m\u001b[0m\n\u001b[1;32m   1099\u001b[0m     \u001b[0;32mdef\u001b[0m \u001b[0mgetresponse\u001b[0m\u001b[0;34m(\u001b[0m\u001b[0mself\u001b[0m\u001b[0;34m,\u001b[0m \u001b[0mbuffering\u001b[0m\u001b[0;34m=\u001b[0m\u001b[0mFalse\u001b[0m\u001b[0;34m)\u001b[0m\u001b[0;34m:\u001b[0m\u001b[0;34m\u001b[0m\u001b[0m\n",
      "\u001b[0;32m/Users/Stav/anaconda/lib/python2.7/httplib.pyc\u001b[0m in \u001b[0;36mendheaders\u001b[0;34m(self, message_body)\u001b[0m\n\u001b[1;32m   1051\u001b[0m         \u001b[0;32melse\u001b[0m\u001b[0;34m:\u001b[0m\u001b[0;34m\u001b[0m\u001b[0m\n\u001b[1;32m   1052\u001b[0m             \u001b[0;32mraise\u001b[0m \u001b[0mCannotSendHeader\u001b[0m\u001b[0;34m(\u001b[0m\u001b[0;34m)\u001b[0m\u001b[0;34m\u001b[0m\u001b[0m\n\u001b[0;32m-> 1053\u001b[0;31m         \u001b[0mself\u001b[0m\u001b[0;34m.\u001b[0m\u001b[0m_send_output\u001b[0m\u001b[0;34m(\u001b[0m\u001b[0mmessage_body\u001b[0m\u001b[0;34m)\u001b[0m\u001b[0;34m\u001b[0m\u001b[0m\n\u001b[0m\u001b[1;32m   1054\u001b[0m \u001b[0;34m\u001b[0m\u001b[0m\n\u001b[1;32m   1055\u001b[0m     \u001b[0;32mdef\u001b[0m \u001b[0mrequest\u001b[0m\u001b[0;34m(\u001b[0m\u001b[0mself\u001b[0m\u001b[0;34m,\u001b[0m \u001b[0mmethod\u001b[0m\u001b[0;34m,\u001b[0m \u001b[0murl\u001b[0m\u001b[0;34m,\u001b[0m \u001b[0mbody\u001b[0m\u001b[0;34m=\u001b[0m\u001b[0mNone\u001b[0m\u001b[0;34m,\u001b[0m \u001b[0mheaders\u001b[0m\u001b[0;34m=\u001b[0m\u001b[0;34m{\u001b[0m\u001b[0;34m}\u001b[0m\u001b[0;34m)\u001b[0m\u001b[0;34m:\u001b[0m\u001b[0;34m\u001b[0m\u001b[0m\n",
      "\u001b[0;32m/Users/Stav/anaconda/lib/python2.7/httplib.pyc\u001b[0m in \u001b[0;36m_send_output\u001b[0;34m(self, message_body)\u001b[0m\n\u001b[1;32m    895\u001b[0m             \u001b[0mmsg\u001b[0m \u001b[0;34m+=\u001b[0m \u001b[0mmessage_body\u001b[0m\u001b[0;34m\u001b[0m\u001b[0m\n\u001b[1;32m    896\u001b[0m             \u001b[0mmessage_body\u001b[0m \u001b[0;34m=\u001b[0m \u001b[0mNone\u001b[0m\u001b[0;34m\u001b[0m\u001b[0m\n\u001b[0;32m--> 897\u001b[0;31m         \u001b[0mself\u001b[0m\u001b[0;34m.\u001b[0m\u001b[0msend\u001b[0m\u001b[0;34m(\u001b[0m\u001b[0mmsg\u001b[0m\u001b[0;34m)\u001b[0m\u001b[0;34m\u001b[0m\u001b[0m\n\u001b[0m\u001b[1;32m    898\u001b[0m         \u001b[0;32mif\u001b[0m \u001b[0mmessage_body\u001b[0m \u001b[0;32mis\u001b[0m \u001b[0;32mnot\u001b[0m \u001b[0mNone\u001b[0m\u001b[0;34m:\u001b[0m\u001b[0;34m\u001b[0m\u001b[0m\n\u001b[1;32m    899\u001b[0m             \u001b[0;31m#message_body was not a string (i.e. it is a file) and\u001b[0m\u001b[0;34m\u001b[0m\u001b[0;34m\u001b[0m\u001b[0m\n",
      "\u001b[0;32m/Users/Stav/anaconda/lib/python2.7/httplib.pyc\u001b[0m in \u001b[0;36msend\u001b[0;34m(self, data)\u001b[0m\n\u001b[1;32m    857\u001b[0m         \u001b[0;32mif\u001b[0m \u001b[0mself\u001b[0m\u001b[0;34m.\u001b[0m\u001b[0msock\u001b[0m \u001b[0;32mis\u001b[0m \u001b[0mNone\u001b[0m\u001b[0;34m:\u001b[0m\u001b[0;34m\u001b[0m\u001b[0m\n\u001b[1;32m    858\u001b[0m             \u001b[0;32mif\u001b[0m \u001b[0mself\u001b[0m\u001b[0;34m.\u001b[0m\u001b[0mauto_open\u001b[0m\u001b[0;34m:\u001b[0m\u001b[0;34m\u001b[0m\u001b[0m\n\u001b[0;32m--> 859\u001b[0;31m                 \u001b[0mself\u001b[0m\u001b[0;34m.\u001b[0m\u001b[0mconnect\u001b[0m\u001b[0;34m(\u001b[0m\u001b[0;34m)\u001b[0m\u001b[0;34m\u001b[0m\u001b[0m\n\u001b[0m\u001b[1;32m    860\u001b[0m             \u001b[0;32melse\u001b[0m\u001b[0;34m:\u001b[0m\u001b[0;34m\u001b[0m\u001b[0m\n\u001b[1;32m    861\u001b[0m                 \u001b[0;32mraise\u001b[0m \u001b[0mNotConnected\u001b[0m\u001b[0;34m(\u001b[0m\u001b[0;34m)\u001b[0m\u001b[0;34m\u001b[0m\u001b[0m\n",
      "\u001b[0;32m/Users/Stav/anaconda/lib/python2.7/site-packages/requests/packages/urllib3/connection.pyc\u001b[0m in \u001b[0;36mconnect\u001b[0;34m(self)\u001b[0m\n\u001b[1;32m    160\u001b[0m \u001b[0;34m\u001b[0m\u001b[0m\n\u001b[1;32m    161\u001b[0m     \u001b[0;32mdef\u001b[0m \u001b[0mconnect\u001b[0m\u001b[0;34m(\u001b[0m\u001b[0mself\u001b[0m\u001b[0;34m)\u001b[0m\u001b[0;34m:\u001b[0m\u001b[0;34m\u001b[0m\u001b[0m\n\u001b[0;32m--> 162\u001b[0;31m         \u001b[0mconn\u001b[0m \u001b[0;34m=\u001b[0m \u001b[0mself\u001b[0m\u001b[0;34m.\u001b[0m\u001b[0m_new_conn\u001b[0m\u001b[0;34m(\u001b[0m\u001b[0;34m)\u001b[0m\u001b[0;34m\u001b[0m\u001b[0m\n\u001b[0m\u001b[1;32m    163\u001b[0m         \u001b[0mself\u001b[0m\u001b[0;34m.\u001b[0m\u001b[0m_prepare_conn\u001b[0m\u001b[0;34m(\u001b[0m\u001b[0mconn\u001b[0m\u001b[0;34m)\u001b[0m\u001b[0;34m\u001b[0m\u001b[0m\n\u001b[1;32m    164\u001b[0m \u001b[0;34m\u001b[0m\u001b[0m\n",
      "\u001b[0;32m/Users/Stav/anaconda/lib/python2.7/site-packages/requests/packages/urllib3/connection.pyc\u001b[0m in \u001b[0;36m_new_conn\u001b[0;34m(self)\u001b[0m\n\u001b[1;32m    135\u001b[0m         \u001b[0;32mtry\u001b[0m\u001b[0;34m:\u001b[0m\u001b[0;34m\u001b[0m\u001b[0m\n\u001b[1;32m    136\u001b[0m             conn = connection.create_connection(\n\u001b[0;32m--> 137\u001b[0;31m                 (self.host, self.port), self.timeout, **extra_kw)\n\u001b[0m\u001b[1;32m    138\u001b[0m \u001b[0;34m\u001b[0m\u001b[0m\n\u001b[1;32m    139\u001b[0m         \u001b[0;32mexcept\u001b[0m \u001b[0mSocketTimeout\u001b[0m \u001b[0;32mas\u001b[0m \u001b[0me\u001b[0m\u001b[0;34m:\u001b[0m\u001b[0;34m\u001b[0m\u001b[0m\n",
      "\u001b[0;32m/Users/Stav/anaconda/lib/python2.7/site-packages/requests/packages/urllib3/util/connection.pyc\u001b[0m in \u001b[0;36mcreate_connection\u001b[0;34m(address, timeout, source_address, socket_options)\u001b[0m\n\u001b[1;32m     79\u001b[0m             \u001b[0;32mif\u001b[0m \u001b[0msource_address\u001b[0m\u001b[0;34m:\u001b[0m\u001b[0;34m\u001b[0m\u001b[0m\n\u001b[1;32m     80\u001b[0m                 \u001b[0msock\u001b[0m\u001b[0;34m.\u001b[0m\u001b[0mbind\u001b[0m\u001b[0;34m(\u001b[0m\u001b[0msource_address\u001b[0m\u001b[0;34m)\u001b[0m\u001b[0;34m\u001b[0m\u001b[0m\n\u001b[0;32m---> 81\u001b[0;31m             \u001b[0msock\u001b[0m\u001b[0;34m.\u001b[0m\u001b[0mconnect\u001b[0m\u001b[0;34m(\u001b[0m\u001b[0msa\u001b[0m\u001b[0;34m)\u001b[0m\u001b[0;34m\u001b[0m\u001b[0m\n\u001b[0m\u001b[1;32m     82\u001b[0m             \u001b[0;32mreturn\u001b[0m \u001b[0msock\u001b[0m\u001b[0;34m\u001b[0m\u001b[0m\n\u001b[1;32m     83\u001b[0m \u001b[0;34m\u001b[0m\u001b[0m\n",
      "\u001b[0;32m/Users/Stav/anaconda/lib/python2.7/socket.pyc\u001b[0m in \u001b[0;36mmeth\u001b[0;34m(name, self, *args)\u001b[0m\n\u001b[1;32m    226\u001b[0m \u001b[0;34m\u001b[0m\u001b[0m\n\u001b[1;32m    227\u001b[0m \u001b[0;32mdef\u001b[0m \u001b[0mmeth\u001b[0m\u001b[0;34m(\u001b[0m\u001b[0mname\u001b[0m\u001b[0;34m,\u001b[0m\u001b[0mself\u001b[0m\u001b[0;34m,\u001b[0m\u001b[0;34m*\u001b[0m\u001b[0margs\u001b[0m\u001b[0;34m)\u001b[0m\u001b[0;34m:\u001b[0m\u001b[0;34m\u001b[0m\u001b[0m\n\u001b[0;32m--> 228\u001b[0;31m     \u001b[0;32mreturn\u001b[0m \u001b[0mgetattr\u001b[0m\u001b[0;34m(\u001b[0m\u001b[0mself\u001b[0m\u001b[0;34m.\u001b[0m\u001b[0m_sock\u001b[0m\u001b[0;34m,\u001b[0m\u001b[0mname\u001b[0m\u001b[0;34m)\u001b[0m\u001b[0;34m(\u001b[0m\u001b[0;34m*\u001b[0m\u001b[0margs\u001b[0m\u001b[0;34m)\u001b[0m\u001b[0;34m\u001b[0m\u001b[0m\n\u001b[0m\u001b[1;32m    229\u001b[0m \u001b[0;34m\u001b[0m\u001b[0m\n\u001b[1;32m    230\u001b[0m \u001b[0;32mfor\u001b[0m \u001b[0m_m\u001b[0m \u001b[0;32min\u001b[0m \u001b[0m_socketmethods\u001b[0m\u001b[0;34m:\u001b[0m\u001b[0;34m\u001b[0m\u001b[0m\n",
      "\u001b[0;31mKeyboardInterrupt\u001b[0m: "
     ]
    }
   ],
   "source": [
    "from scrapy.selector import Selector\n",
    "from scrapy.http import HtmlResponse\n",
    "reviews = []\n",
    "import urllib\n",
    "reviews_dict = {'tconst' : [],'best':[],'best_rate':[]}\n",
    "            \n",
    "testing = np.linspace(1,19,10)\n",
    "print testing\n",
    "for index in top_100.tconst:\n",
    "    \n",
    "    #top 10 best\n",
    "    path = 'http://www.imdb.com/title/%s/reviews?filter=best' % index\n",
    "    print path\n",
    "    response = requests.get(path)\n",
    "    HTML = response.text\n",
    "        \n",
    "    for r in range(1,11):   # starts at p1\n",
    "        reviews = Selector(text=HTML).xpath(\"//div[@id='tn15content']/p[%s]/text()\" % r).extract()\n",
    "        reviews_dict['tconst'].append(index)\n",
    "        reviews_dict['best'].append(reviews)\n",
    "                #getting star rating        \n",
    "    for i in testing:\n",
    "        if Selector(text=HTML).xpath(\"//div[@id='tn15content']/div[%s]/img/@alt\" % i).extract() == []:\n",
    "          # place holder\n",
    "            reviews_dict['best_rate'].append(['-1/10'])\n",
    "        else:\n",
    "            reviews_dict['best_rate'].append(Selector(text=HTML).xpath(\"//div[@id='tn15content']/div[%s]/img/@alt\" % i).extract())\n",
    "    \n",
    "   "
   ]
  },
  {
   "cell_type": "code",
   "execution_count": null,
   "metadata": {
    "collapsed": false
   },
   "outputs": [],
   "source": [
    "reviews_df = pd.DataFrame(reviews_dict)\n",
    "reviews_df.shape"
   ]
  },
  {
   "cell_type": "markdown",
   "metadata": {},
   "source": [
    "#### 2. Extract the reviews and the rating per review for each movie\n",
    "\n",
    "*Note*: \"soup\" from BeautifulSoup is the html returned from all 25 pages. You'll need to either address each page individually or break them down by elements."
   ]
  },
  {
   "cell_type": "code",
   "execution_count": null,
   "metadata": {
    "collapsed": false
   },
   "outputs": [],
   "source": [
    "from string import ascii_letters, digits"
   ]
  },
  {
   "cell_type": "code",
   "execution_count": null,
   "metadata": {
    "collapsed": false
   },
   "outputs": [],
   "source": [
    "reviews_df.best"
   ]
  },
  {
   "cell_type": "markdown",
   "metadata": {},
   "source": [
    "#### 3. Remove the non AlphaNumeric characters from reviews"
   ]
  },
  {
   "cell_type": "code",
   "execution_count": null,
   "metadata": {
    "collapsed": false
   },
   "outputs": [],
   "source": [
    "import re\n",
    "reviews_df.best = reviews_df.best.apply(lambda x: [s.encode('UTF8') for s in x])\n",
    "\n",
    "reviews_df.best = reviews_df.best.apply(lambda x: str(x).replace('\\\\n', ' '))\n",
    "            \n",
    "reviews_df.best = reviews_df.best.apply(lambda x: re.sub(r'([^\\s\\w]|_)+', '', str(x)))"
   ]
  },
  {
   "cell_type": "code",
   "execution_count": null,
   "metadata": {
    "collapsed": false
   },
   "outputs": [],
   "source": [
    "reviews_df.best.shape"
   ]
  },
  {
   "cell_type": "markdown",
   "metadata": {},
   "source": [
    "#### 4. Calculate the top 200 ngrams from the user reviews\n",
    "\n",
    "Use the `TfidfVectorizer` in sklearn.\n",
    "\n",
    "Recommended parameters:\n",
    "\n",
    "    ngram_range = (1, 2)\n",
    "    stop_words = 'english'\n",
    "    binary = False\n",
    "    max_features = 200"
   ]
  },
  {
   "cell_type": "code",
   "execution_count": null,
   "metadata": {
    "collapsed": false
   },
   "outputs": [],
   "source": [
    "#%debug\n",
    "best = reviews_df.best \n",
    "from sklearn.feature_extraction.text import TfidfVectorizer\n",
    "\n",
    "tvec = TfidfVectorizer(ngram_range=(1,2), stop_words='english', binary = False, max_features = 200)\n",
    "X = tvec.fit_transform(best)\n",
    "indices = np.argsort(tvec.idf_)[::-1]\n",
    "features = tvec.get_feature_names()\n",
    "counts = tvec.inverse_transform(X)\n",
    "top_n = 200\n",
    "top_features = [features[i] for i in indices[:top_n]]\n",
    "print top_features\n",
    "\n",
    "# counts = tvec.inverse_transform(X)\n",
    "# top_counts = [counts[i] for i in indices[:top_n]]\n",
    "# print top_counts\n",
    "\n",
    "# ask dave how to get counts in a dataframe, counts and words\n"
   ]
  },
  {
   "cell_type": "markdown",
   "metadata": {},
   "source": [
    "#### 5. Merge the user reviews and ratings"
   ]
  },
  {
   "cell_type": "code",
   "execution_count": null,
   "metadata": {
    "collapsed": false
   },
   "outputs": [],
   "source": [
    "reviews_df.head()"
   ]
  },
  {
   "cell_type": "markdown",
   "metadata": {},
   "source": [
    "#### 6. Save this merged dataframe as a csv"
   ]
  },
  {
   "cell_type": "code",
   "execution_count": 377,
   "metadata": {
    "collapsed": true
   },
   "outputs": [],
   "source": [
    "reviews_df.to_csv('../assets/data/top_reviews.csv', encoding = 'utf-8')"
   ]
  },
  {
   "cell_type": "markdown",
   "metadata": {},
   "source": [
    "---\n",
    "\n",
    "## Part 3: Combine Tables in PostgreSQL"
   ]
  },
  {
   "cell_type": "markdown",
   "metadata": {},
   "source": [
    "#### 1. Import your two .csv data files into your Postgre Database as two different tables"
   ]
  },
  {
   "cell_type": "markdown",
   "metadata": {},
   "source": [
    "For ease, we can call these table1 and table2"
   ]
  },
  {
   "cell_type": "code",
   "execution_count": 13,
   "metadata": {
    "collapsed": false
   },
   "outputs": [],
   "source": [
    "#table1 = pd.read_csv('../assets/data/top_100.csv')\n",
    "#table2 = pd.read_csv('../assets/data/top_reviews.csv')\n",
    "#table1.columns = [c.lower() for c in table1.columns] #postgres doesn't like capitals or spaces\n",
    "#table2.columns = [c.lower() for c in table2.columns]\n",
    "from sqlalchemy import create_engine\n",
    "engine = create_engine('postgresql://Stav@localhost:5432/imdb')\n",
    "\n",
    "#table1.to_sql(\"table1\", engine)\n",
    "#table2.to_sql(\"table2\",engine)"
   ]
  },
  {
   "cell_type": "markdown",
   "metadata": {},
   "source": [
    "#### 2. Connect to database and query the joined set"
   ]
  },
  {
   "cell_type": "code",
   "execution_count": 90,
   "metadata": {
    "collapsed": false
   },
   "outputs": [],
   "source": [
    "sql = \"\"\"\n",
    "SELECT * FROM table1 WHERE \"rating\" > 5\n",
    "\n",
    "\"\"\"\n",
    "\n",
    "top_100 = pd.read_sql(sql,engine)"
   ]
  },
  {
   "cell_type": "markdown",
   "metadata": {},
   "source": [
    "#### 3. Join the two tables "
   ]
  },
  {
   "cell_type": "code",
   "execution_count": 15,
   "metadata": {
    "collapsed": false
   },
   "outputs": [
    {
     "data": {
      "text/html": [
       "<div>\n",
       "<table border=\"1\" class=\"dataframe\">\n",
       "  <thead>\n",
       "    <tr style=\"text-align: right;\">\n",
       "      <th></th>\n",
       "      <th>num_votes</th>\n",
       "      <th>tconst</th>\n",
       "      <th>title</th>\n",
       "      <th>year</th>\n",
       "      <th>genre</th>\n",
       "      <th>runtime</th>\n",
       "      <th>best</th>\n",
       "      <th>best_rate</th>\n",
       "      <th>rating</th>\n",
       "    </tr>\n",
       "  </thead>\n",
       "  <tbody>\n",
       "    <tr>\n",
       "      <th>0</th>\n",
       "      <td>1658688</td>\n",
       "      <td>tt0111161</td>\n",
       "      <td>The Shawshank Redemption</td>\n",
       "      <td>1994</td>\n",
       "      <td>Crime, Drama</td>\n",
       "      <td>142 min</td>\n",
       "      <td>Why do I want to write the 234th comment on T...</td>\n",
       "      <td>[10/10]</td>\n",
       "      <td>9.3</td>\n",
       "    </tr>\n",
       "    <tr>\n",
       "      <th>1</th>\n",
       "      <td>1658688</td>\n",
       "      <td>tt0111161</td>\n",
       "      <td>The Shawshank Redemption</td>\n",
       "      <td>1994</td>\n",
       "      <td>Crime, Drama</td>\n",
       "      <td>142 min</td>\n",
       "      <td>Can Hollywood usually creating things for en...</td>\n",
       "      <td>[10/10]</td>\n",
       "      <td>9.3</td>\n",
       "    </tr>\n",
       "    <tr>\n",
       "      <th>2</th>\n",
       "      <td>1658688</td>\n",
       "      <td>tt0111161</td>\n",
       "      <td>The Shawshank Redemption</td>\n",
       "      <td>1994</td>\n",
       "      <td>Crime, Drama</td>\n",
       "      <td>142 min</td>\n",
       "      <td>I have never seen such an amazing film since...</td>\n",
       "      <td>[-1/10]</td>\n",
       "      <td>9.3</td>\n",
       "    </tr>\n",
       "    <tr>\n",
       "      <th>3</th>\n",
       "      <td>1658688</td>\n",
       "      <td>tt0111161</td>\n",
       "      <td>The Shawshank Redemption</td>\n",
       "      <td>1994</td>\n",
       "      <td>Crime, Drama</td>\n",
       "      <td>142 min</td>\n",
       "      <td>In its Oscar year Shawshank Redemption writte...</td>\n",
       "      <td>[10/10]</td>\n",
       "      <td>9.3</td>\n",
       "    </tr>\n",
       "    <tr>\n",
       "      <th>4</th>\n",
       "      <td>1658688</td>\n",
       "      <td>tt0111161</td>\n",
       "      <td>The Shawshank Redemption</td>\n",
       "      <td>1994</td>\n",
       "      <td>Crime, Drama</td>\n",
       "      <td>142 min</td>\n",
       "      <td>The reason I became a member of this database...</td>\n",
       "      <td>[-1/10]</td>\n",
       "      <td>9.3</td>\n",
       "    </tr>\n",
       "  </tbody>\n",
       "</table>\n",
       "</div>"
      ],
      "text/plain": [
       "   num_votes     tconst                     title  year         genre  \\\n",
       "0    1658688  tt0111161  The Shawshank Redemption  1994  Crime, Drama   \n",
       "1    1658688  tt0111161  The Shawshank Redemption  1994  Crime, Drama   \n",
       "2    1658688  tt0111161  The Shawshank Redemption  1994  Crime, Drama   \n",
       "3    1658688  tt0111161  The Shawshank Redemption  1994  Crime, Drama   \n",
       "4    1658688  tt0111161  The Shawshank Redemption  1994  Crime, Drama   \n",
       "\n",
       "   runtime                                               best best_rate  \\\n",
       "0  142 min   Why do I want to write the 234th comment on T...   [10/10]   \n",
       "1  142 min    Can Hollywood usually creating things for en...   [10/10]   \n",
       "2  142 min    I have never seen such an amazing film since...   [-1/10]   \n",
       "3  142 min   In its Oscar year Shawshank Redemption writte...   [10/10]   \n",
       "4  142 min   The reason I became a member of this database...   [-1/10]   \n",
       "\n",
       "   rating  \n",
       "0     9.3  \n",
       "1     9.3  \n",
       "2     9.3  \n",
       "3     9.3  \n",
       "4     9.3  "
      ]
     },
     "execution_count": 15,
     "metadata": {},
     "output_type": "execute_result"
    }
   ],
   "source": [
    "sql = \"\"\"\n",
    "SELECT \"num_votes\",table1.\"tconst\",\"title\",\"year\",\"genre\",\"runtime\",\"best\",\"best_rate\",\"rating\"\n",
    "FROM table1 LEFT JOIN table2 ON table1.tconst = table2.tconst LIMIT 5\n",
    "\n",
    "\"\"\"\n",
    "\n",
    "pd.read_sql(sql,engine)"
   ]
  },
  {
   "cell_type": "markdown",
   "metadata": {},
   "source": [
    "#### 4. Select the newly joined table and save two copies of the into dataframes"
   ]
  },
  {
   "cell_type": "code",
   "execution_count": 16,
   "metadata": {
    "collapsed": false
   },
   "outputs": [],
   "source": [
    "sql = \"\"\"\n",
    "SELECT \"num_votes\",table1.\"tconst\",\"title\",\"year\",\"genre\",\"runtime\",\"best\",\"best_rate\",\"rating\"\n",
    "FROM table1 LEFT JOIN table2 ON table1.tconst = table2.tconst\n",
    "\"\"\"\n",
    "\n",
    "merged_df = pd.read_sql(sql,engine)"
   ]
  },
  {
   "cell_type": "code",
   "execution_count": 17,
   "metadata": {
    "collapsed": false
   },
   "outputs": [
    {
     "data": {
      "text/html": [
       "<div>\n",
       "<table border=\"1\" class=\"dataframe\">\n",
       "  <thead>\n",
       "    <tr style=\"text-align: right;\">\n",
       "      <th></th>\n",
       "      <th>num_votes</th>\n",
       "      <th>tconst</th>\n",
       "      <th>title</th>\n",
       "      <th>year</th>\n",
       "      <th>genre</th>\n",
       "      <th>runtime</th>\n",
       "      <th>best</th>\n",
       "      <th>best_rate</th>\n",
       "      <th>rating</th>\n",
       "    </tr>\n",
       "  </thead>\n",
       "  <tbody>\n",
       "    <tr>\n",
       "      <th>0</th>\n",
       "      <td>1658688</td>\n",
       "      <td>tt0111161</td>\n",
       "      <td>The Shawshank Redemption</td>\n",
       "      <td>1994</td>\n",
       "      <td>Crime, Drama</td>\n",
       "      <td>142 min</td>\n",
       "      <td>Why do I want to write the 234th comment on T...</td>\n",
       "      <td>[10/10]</td>\n",
       "      <td>9.3</td>\n",
       "    </tr>\n",
       "    <tr>\n",
       "      <th>1</th>\n",
       "      <td>1658688</td>\n",
       "      <td>tt0111161</td>\n",
       "      <td>The Shawshank Redemption</td>\n",
       "      <td>1994</td>\n",
       "      <td>Crime, Drama</td>\n",
       "      <td>142 min</td>\n",
       "      <td>Can Hollywood usually creating things for en...</td>\n",
       "      <td>[10/10]</td>\n",
       "      <td>9.3</td>\n",
       "    </tr>\n",
       "    <tr>\n",
       "      <th>2</th>\n",
       "      <td>1658688</td>\n",
       "      <td>tt0111161</td>\n",
       "      <td>The Shawshank Redemption</td>\n",
       "      <td>1994</td>\n",
       "      <td>Crime, Drama</td>\n",
       "      <td>142 min</td>\n",
       "      <td>I have never seen such an amazing film since...</td>\n",
       "      <td>[-1/10]</td>\n",
       "      <td>9.3</td>\n",
       "    </tr>\n",
       "    <tr>\n",
       "      <th>3</th>\n",
       "      <td>1658688</td>\n",
       "      <td>tt0111161</td>\n",
       "      <td>The Shawshank Redemption</td>\n",
       "      <td>1994</td>\n",
       "      <td>Crime, Drama</td>\n",
       "      <td>142 min</td>\n",
       "      <td>In its Oscar year Shawshank Redemption writte...</td>\n",
       "      <td>[10/10]</td>\n",
       "      <td>9.3</td>\n",
       "    </tr>\n",
       "    <tr>\n",
       "      <th>4</th>\n",
       "      <td>1658688</td>\n",
       "      <td>tt0111161</td>\n",
       "      <td>The Shawshank Redemption</td>\n",
       "      <td>1994</td>\n",
       "      <td>Crime, Drama</td>\n",
       "      <td>142 min</td>\n",
       "      <td>The reason I became a member of this database...</td>\n",
       "      <td>[-1/10]</td>\n",
       "      <td>9.3</td>\n",
       "    </tr>\n",
       "  </tbody>\n",
       "</table>\n",
       "</div>"
      ],
      "text/plain": [
       "   num_votes     tconst                     title  year         genre  \\\n",
       "0    1658688  tt0111161  The Shawshank Redemption  1994  Crime, Drama   \n",
       "1    1658688  tt0111161  The Shawshank Redemption  1994  Crime, Drama   \n",
       "2    1658688  tt0111161  The Shawshank Redemption  1994  Crime, Drama   \n",
       "3    1658688  tt0111161  The Shawshank Redemption  1994  Crime, Drama   \n",
       "4    1658688  tt0111161  The Shawshank Redemption  1994  Crime, Drama   \n",
       "\n",
       "   runtime                                               best best_rate  \\\n",
       "0  142 min   Why do I want to write the 234th comment on T...   [10/10]   \n",
       "1  142 min    Can Hollywood usually creating things for en...   [10/10]   \n",
       "2  142 min    I have never seen such an amazing film since...   [-1/10]   \n",
       "3  142 min   In its Oscar year Shawshank Redemption writte...   [10/10]   \n",
       "4  142 min   The reason I became a member of this database...   [-1/10]   \n",
       "\n",
       "   rating  \n",
       "0     9.3  \n",
       "1     9.3  \n",
       "2     9.3  \n",
       "3     9.3  \n",
       "4     9.3  "
      ]
     },
     "execution_count": 17,
     "metadata": {},
     "output_type": "execute_result"
    }
   ],
   "source": [
    "merged_df.head()"
   ]
  },
  {
   "cell_type": "markdown",
   "metadata": {},
   "source": [
    "---\n",
    "\n",
    "## Part 4: Parsing and Exploratory Data Analysis"
   ]
  },
  {
   "cell_type": "markdown",
   "metadata": {},
   "source": [
    "#### 1. Rename any columns you think should be renamed for clarity"
   ]
  },
  {
   "cell_type": "code",
   "execution_count": 18,
   "metadata": {
    "collapsed": false
   },
   "outputs": [
    {
     "data": {
      "text/plain": [
       "Index([u'num_votes',        u'id',     u'title',      u'year',     u'genre',\n",
       "         u'runtime',      u'best', u'best_rate',    u'rating'],\n",
       "      dtype='object')"
      ]
     },
     "execution_count": 18,
     "metadata": {},
     "output_type": "execute_result"
    }
   ],
   "source": [
    "merged_df.rename(columns={'tconst':'id'}, inplace=True)\n",
    "merged_df.columns"
   ]
  },
  {
   "cell_type": "markdown",
   "metadata": {},
   "source": [
    "#### 2. Describe anything interesting or suspicious about your data (quality assurance)"
   ]
  },
  {
   "cell_type": "code",
   "execution_count": 19,
   "metadata": {
    "collapsed": false
   },
   "outputs": [
    {
     "data": {
      "text/plain": [
       "num_votes    0\n",
       "id           0\n",
       "title        0\n",
       "year         0\n",
       "genre        0\n",
       "runtime      0\n",
       "best         0\n",
       "best_rate    0\n",
       "rating       0\n",
       "dtype: int64"
      ]
     },
     "execution_count": 19,
     "metadata": {},
     "output_type": "execute_result"
    }
   ],
   "source": [
    "merged_df.isnull().sum()  # nothing seems that suspicious about the data"
   ]
  },
  {
   "cell_type": "markdown",
   "metadata": {
    "collapsed": true
   },
   "source": [
    "#### 3. Make four visualizations of interest to you using the data"
   ]
  },
  {
   "cell_type": "code",
   "execution_count": 20,
   "metadata": {
    "collapsed": false,
    "scrolled": true
   },
   "outputs": [
    {
     "data": {
      "text/plain": [
       "<matplotlib.axes._subplots.AxesSubplot at 0x1192c5890>"
      ]
     },
     "execution_count": 20,
     "metadata": {},
     "output_type": "execute_result"
    },
    {
     "data": {
      "image/png": "[encoded data removed]",
      "text/plain": [
       "<matplotlib.figure.Figure at 0x11919db50>"
      ]
     },
     "metadata": {},
     "output_type": "display_data"
    }
   ],
   "source": [
    "sns.distplot(merged_df.year)"
   ]
  },
  {
   "cell_type": "code",
   "execution_count": 21,
   "metadata": {
    "collapsed": false,
    "scrolled": true
   },
   "outputs": [
    {
     "data": {
      "text/plain": [
       "<matplotlib.axes._subplots.AxesSubplot at 0x1195cfd10>"
      ]
     },
     "execution_count": 21,
     "metadata": {},
     "output_type": "execute_result"
    },
    {
     "data": {
      "image/png": "[encoded data removed]",
      "text/plain": [
       "<matplotlib.figure.Figure at 0x11960cb10>"
      ]
     },
     "metadata": {},
     "output_type": "display_data"
    }
   ],
   "source": [
    "#rating plot\n",
    "sns.distplot(merged_df.rating)"
   ]
  },
  {
   "cell_type": "code",
   "execution_count": 22,
   "metadata": {
    "collapsed": false
   },
   "outputs": [
    {
     "data": {
      "text/plain": [
       "<matplotlib.axes._subplots.AxesSubplot at 0x11c5ae590>"
      ]
     },
     "execution_count": 22,
     "metadata": {},
     "output_type": "execute_result"
    },
    {
     "data": {
      "image/png": "[encoded data removed]",
      "text/plain": [
       "<matplotlib.figure.Figure at 0x11c5a3fd0>"
      ]
     },
     "metadata": {},
     "output_type": "display_data"
    }
   ],
   "source": [
    "#runtime plot\n",
    "merged_df.runtime = merged_df.runtime.apply(lambda x: float((x.replace('min',''))))\n",
    "sns.distplot(merged_df.runtime)"
   ]
  },
  {
   "cell_type": "code",
   "execution_count": 23,
   "metadata": {
    "collapsed": false
   },
   "outputs": [
    {
     "data": {
      "text/plain": [
       "<matplotlib.axes._subplots.AxesSubplot at 0x11c85a710>"
      ]
     },
     "execution_count": 23,
     "metadata": {},
     "output_type": "execute_result"
    },
    {
     "data": {
      "image/png": "[encoded data removed]",
      "text/plain": [
       "<matplotlib.figure.Figure at 0x11c5a3990>"
      ]
     },
     "metadata": {},
     "output_type": "display_data"
    }
   ],
   "source": [
    "merged_df.genre.value_counts()[0:10].plot(kind = 'barh')"
   ]
  },
  {
   "cell_type": "markdown",
   "metadata": {},
   "source": [
    "---\n",
    "\n",
    "## Part 5: Decision Tree Classifiers and Regressors"
   ]
  },
  {
   "cell_type": "markdown",
   "metadata": {
    "collapsed": true
   },
   "source": [
    "#### 1. What is our target attribute? \n",
    "\n",
    "Choose a target variable for the decision tree regressor and the classifier. "
   ]
  },
  {
   "cell_type": "code",
   "execution_count": 24,
   "metadata": {
    "collapsed": false
   },
   "outputs": [
    {
     "data": {
      "text/html": [
       "<div>\n",
       "<table border=\"1\" class=\"dataframe\">\n",
       "  <thead>\n",
       "    <tr style=\"text-align: right;\">\n",
       "      <th></th>\n",
       "      <th>num_votes</th>\n",
       "      <th>id</th>\n",
       "      <th>title</th>\n",
       "      <th>year</th>\n",
       "      <th>genre</th>\n",
       "      <th>runtime</th>\n",
       "      <th>best</th>\n",
       "      <th>best_rate</th>\n",
       "      <th>rating</th>\n",
       "    </tr>\n",
       "  </thead>\n",
       "  <tbody>\n",
       "    <tr>\n",
       "      <th>0</th>\n",
       "      <td>1658688</td>\n",
       "      <td>tt0111161</td>\n",
       "      <td>The Shawshank Redemption</td>\n",
       "      <td>1994</td>\n",
       "      <td>Crime, Drama</td>\n",
       "      <td>142.0</td>\n",
       "      <td>Why do I want to write the 234th comment on T...</td>\n",
       "      <td>[10/10]</td>\n",
       "      <td>9.3</td>\n",
       "    </tr>\n",
       "    <tr>\n",
       "      <th>1</th>\n",
       "      <td>1658688</td>\n",
       "      <td>tt0111161</td>\n",
       "      <td>The Shawshank Redemption</td>\n",
       "      <td>1994</td>\n",
       "      <td>Crime, Drama</td>\n",
       "      <td>142.0</td>\n",
       "      <td>Can Hollywood usually creating things for en...</td>\n",
       "      <td>[10/10]</td>\n",
       "      <td>9.3</td>\n",
       "    </tr>\n",
       "    <tr>\n",
       "      <th>2</th>\n",
       "      <td>1658688</td>\n",
       "      <td>tt0111161</td>\n",
       "      <td>The Shawshank Redemption</td>\n",
       "      <td>1994</td>\n",
       "      <td>Crime, Drama</td>\n",
       "      <td>142.0</td>\n",
       "      <td>I have never seen such an amazing film since...</td>\n",
       "      <td>[-1/10]</td>\n",
       "      <td>9.3</td>\n",
       "    </tr>\n",
       "    <tr>\n",
       "      <th>3</th>\n",
       "      <td>1658688</td>\n",
       "      <td>tt0111161</td>\n",
       "      <td>The Shawshank Redemption</td>\n",
       "      <td>1994</td>\n",
       "      <td>Crime, Drama</td>\n",
       "      <td>142.0</td>\n",
       "      <td>In its Oscar year Shawshank Redemption writte...</td>\n",
       "      <td>[10/10]</td>\n",
       "      <td>9.3</td>\n",
       "    </tr>\n",
       "    <tr>\n",
       "      <th>4</th>\n",
       "      <td>1658688</td>\n",
       "      <td>tt0111161</td>\n",
       "      <td>The Shawshank Redemption</td>\n",
       "      <td>1994</td>\n",
       "      <td>Crime, Drama</td>\n",
       "      <td>142.0</td>\n",
       "      <td>The reason I became a member of this database...</td>\n",
       "      <td>[-1/10]</td>\n",
       "      <td>9.3</td>\n",
       "    </tr>\n",
       "    <tr>\n",
       "      <th>5</th>\n",
       "      <td>1658688</td>\n",
       "      <td>tt0111161</td>\n",
       "      <td>The Shawshank Redemption</td>\n",
       "      <td>1994</td>\n",
       "      <td>Crime, Drama</td>\n",
       "      <td>142.0</td>\n",
       "      <td>I believe that this film is the best story e...</td>\n",
       "      <td>[8/10]</td>\n",
       "      <td>9.3</td>\n",
       "    </tr>\n",
       "    <tr>\n",
       "      <th>6</th>\n",
       "      <td>1658688</td>\n",
       "      <td>tt0111161</td>\n",
       "      <td>The Shawshank Redemption</td>\n",
       "      <td>1994</td>\n",
       "      <td>Crime, Drama</td>\n",
       "      <td>142.0</td>\n",
       "      <td>One of my all time favorites Shawshank Redem...</td>\n",
       "      <td>[10/10]</td>\n",
       "      <td>9.3</td>\n",
       "    </tr>\n",
       "    <tr>\n",
       "      <th>7</th>\n",
       "      <td>1658688</td>\n",
       "      <td>tt0111161</td>\n",
       "      <td>The Shawshank Redemption</td>\n",
       "      <td>1994</td>\n",
       "      <td>Crime, Drama</td>\n",
       "      <td>142.0</td>\n",
       "      <td>One of the finest films made in recent years...</td>\n",
       "      <td>[10/10]</td>\n",
       "      <td>9.3</td>\n",
       "    </tr>\n",
       "    <tr>\n",
       "      <th>8</th>\n",
       "      <td>820511</td>\n",
       "      <td>tt0080684</td>\n",
       "      <td>Star Wars: Episode V - The Empire Strikes Back</td>\n",
       "      <td>1980</td>\n",
       "      <td>Action, Adventure, Fantasy</td>\n",
       "      <td>124.0</td>\n",
       "      <td>An excellent sequel to Star Wars this is easi...</td>\n",
       "      <td>[9/10]</td>\n",
       "      <td>8.8</td>\n",
       "    </tr>\n",
       "    <tr>\n",
       "      <th>9</th>\n",
       "      <td>1658688</td>\n",
       "      <td>tt0111161</td>\n",
       "      <td>The Shawshank Redemption</td>\n",
       "      <td>1994</td>\n",
       "      <td>Crime, Drama</td>\n",
       "      <td>142.0</td>\n",
       "      <td>Misery and Stand By Me were the best adaptati...</td>\n",
       "      <td>[10/10]</td>\n",
       "      <td>9.3</td>\n",
       "    </tr>\n",
       "    <tr>\n",
       "      <th>10</th>\n",
       "      <td>1658688</td>\n",
       "      <td>tt0111161</td>\n",
       "      <td>The Shawshank Redemption</td>\n",
       "      <td>1994</td>\n",
       "      <td>Crime, Drama</td>\n",
       "      <td>142.0</td>\n",
       "      <td>The Shawshank Redemption is without a doubt ...</td>\n",
       "      <td>[10/10]</td>\n",
       "      <td>9.3</td>\n",
       "    </tr>\n",
       "    <tr>\n",
       "      <th>11</th>\n",
       "      <td>1135329</td>\n",
       "      <td>tt0068646</td>\n",
       "      <td>The Godfather</td>\n",
       "      <td>1972</td>\n",
       "      <td>Crime, Drama</td>\n",
       "      <td>175.0</td>\n",
       "      <td>Rather than concentrating on everything that ...</td>\n",
       "      <td>[10/10]</td>\n",
       "      <td>9.2</td>\n",
       "    </tr>\n",
       "    <tr>\n",
       "      <th>12</th>\n",
       "      <td>1135329</td>\n",
       "      <td>tt0068646</td>\n",
       "      <td>The Godfather</td>\n",
       "      <td>1972</td>\n",
       "      <td>Crime, Drama</td>\n",
       "      <td>175.0</td>\n",
       "      <td>This is by far the best movie ever to give a...</td>\n",
       "      <td>[10/10]</td>\n",
       "      <td>9.2</td>\n",
       "    </tr>\n",
       "    <tr>\n",
       "      <th>13</th>\n",
       "      <td>1135329</td>\n",
       "      <td>tt0068646</td>\n",
       "      <td>The Godfather</td>\n",
       "      <td>1972</td>\n",
       "      <td>Crime, Drama</td>\n",
       "      <td>175.0</td>\n",
       "      <td>The Godfather is one of the few films in whi...</td>\n",
       "      <td>[10/10]</td>\n",
       "      <td>9.2</td>\n",
       "    </tr>\n",
       "    <tr>\n",
       "      <th>14</th>\n",
       "      <td>1135329</td>\n",
       "      <td>tt0068646</td>\n",
       "      <td>The Godfather</td>\n",
       "      <td>1972</td>\n",
       "      <td>Crime, Drama</td>\n",
       "      <td>175.0</td>\n",
       "      <td>This movie is strong good script great ...</td>\n",
       "      <td>[10/10]</td>\n",
       "      <td>9.2</td>\n",
       "    </tr>\n",
       "  </tbody>\n",
       "</table>\n",
       "</div>"
      ],
      "text/plain": [
       "    num_votes         id                                           title  \\\n",
       "0     1658688  tt0111161                        The Shawshank Redemption   \n",
       "1     1658688  tt0111161                        The Shawshank Redemption   \n",
       "2     1658688  tt0111161                        The Shawshank Redemption   \n",
       "3     1658688  tt0111161                        The Shawshank Redemption   \n",
       "4     1658688  tt0111161                        The Shawshank Redemption   \n",
       "5     1658688  tt0111161                        The Shawshank Redemption   \n",
       "6     1658688  tt0111161                        The Shawshank Redemption   \n",
       "7     1658688  tt0111161                        The Shawshank Redemption   \n",
       "8      820511  tt0080684  Star Wars: Episode V - The Empire Strikes Back   \n",
       "9     1658688  tt0111161                        The Shawshank Redemption   \n",
       "10    1658688  tt0111161                        The Shawshank Redemption   \n",
       "11    1135329  tt0068646                                   The Godfather   \n",
       "12    1135329  tt0068646                                   The Godfather   \n",
       "13    1135329  tt0068646                                   The Godfather   \n",
       "14    1135329  tt0068646                                   The Godfather   \n",
       "\n",
       "    year                       genre  runtime  \\\n",
       "0   1994                Crime, Drama    142.0   \n",
       "1   1994                Crime, Drama    142.0   \n",
       "2   1994                Crime, Drama    142.0   \n",
       "3   1994                Crime, Drama    142.0   \n",
       "4   1994                Crime, Drama    142.0   \n",
       "5   1994                Crime, Drama    142.0   \n",
       "6   1994                Crime, Drama    142.0   \n",
       "7   1994                Crime, Drama    142.0   \n",
       "8   1980  Action, Adventure, Fantasy    124.0   \n",
       "9   1994                Crime, Drama    142.0   \n",
       "10  1994                Crime, Drama    142.0   \n",
       "11  1972                Crime, Drama    175.0   \n",
       "12  1972                Crime, Drama    175.0   \n",
       "13  1972                Crime, Drama    175.0   \n",
       "14  1972                Crime, Drama    175.0   \n",
       "\n",
       "                                                 best best_rate  rating  \n",
       "0    Why do I want to write the 234th comment on T...   [10/10]     9.3  \n",
       "1     Can Hollywood usually creating things for en...   [10/10]     9.3  \n",
       "2     I have never seen such an amazing film since...   [-1/10]     9.3  \n",
       "3    In its Oscar year Shawshank Redemption writte...   [10/10]     9.3  \n",
       "4    The reason I became a member of this database...   [-1/10]     9.3  \n",
       "5     I believe that this film is the best story e...    [8/10]     9.3  \n",
       "6     One of my all time favorites Shawshank Redem...   [10/10]     9.3  \n",
       "7     One of the finest films made in recent years...   [10/10]     9.3  \n",
       "8    An excellent sequel to Star Wars this is easi...    [9/10]     8.8  \n",
       "9    Misery and Stand By Me were the best adaptati...   [10/10]     9.3  \n",
       "10    The Shawshank Redemption is without a doubt ...   [10/10]     9.3  \n",
       "11   Rather than concentrating on everything that ...   [10/10]     9.2  \n",
       "12    This is by far the best movie ever to give a...   [10/10]     9.2  \n",
       "13    The Godfather is one of the few films in whi...   [10/10]     9.2  \n",
       "14         This movie is strong good script great ...   [10/10]     9.2  "
      ]
     },
     "execution_count": 24,
     "metadata": {},
     "output_type": "execute_result"
    }
   ],
   "source": [
    "merged_df.head(15)"
   ]
  },
  {
   "cell_type": "code",
   "execution_count": 25,
   "metadata": {
    "collapsed": false
   },
   "outputs": [
    {
     "data": {
      "text/plain": [
       "array([   0,   10,   20,   30,   40,   50,   60,   70,   80,   90,  100,\n",
       "        110,  120,  130,  140,  150,  160,  170,  180,  190,  200,  210,\n",
       "        220,  230,  240,  250,  260,  270,  280,  290,  300,  310,  320,\n",
       "        330,  340,  350,  360,  370,  380,  390,  400,  410,  420,  430,\n",
       "        440,  450,  460,  470,  480,  490,  500,  510,  520,  530,  540,\n",
       "        550,  560,  570,  580,  590,  600,  610,  620,  630,  640,  650,\n",
       "        660,  670,  680,  690,  700,  710,  720,  730,  740,  750,  760,\n",
       "        770,  780,  790,  800,  810,  820,  830,  840,  850,  860,  870,\n",
       "        880,  890,  900,  910,  920,  930,  940,  950,  960,  970,  980,\n",
       "        990, 1000])"
      ]
     },
     "execution_count": 25,
     "metadata": {},
     "output_type": "execute_result"
    }
   ],
   "source": [
    "x = merged_df.best\n",
    "np.arange(0,1010,10)\n"
   ]
  },
  {
   "cell_type": "markdown",
   "metadata": {},
   "source": []
  },
  {
   "cell_type": "markdown",
   "metadata": {},
   "source": [
    "#### 2. Prepare the X and Y matrices and preprocess data as you see fit"
   ]
  },
  {
   "cell_type": "code",
   "execution_count": 70,
   "metadata": {
    "collapsed": false
   },
   "outputs": [
    {
     "data": {
      "text/plain": [
       "0    870\n",
       "1    130\n",
       "Name: is_comedy, dtype: int64"
      ]
     },
     "execution_count": 70,
     "metadata": {},
     "output_type": "execute_result"
    }
   ],
   "source": [
    "merged_df['is_comedy'] = [1 if 'Comedy' in index else 0 for index in merged_df.genre]\n",
    "merged_df.head()\n",
    "merged_df.is_comedy.value_counts()"
   ]
  },
  {
   "cell_type": "code",
   "execution_count": 29,
   "metadata": {
    "collapsed": false,
    "scrolled": true
   },
   "outputs": [],
   "source": [
    "merged_df.head()\n",
    "merged_df.best_rate = merged_df.best_rate.apply(lambda x: x.replace('[','').replace(']','') )\n",
    "merged_df.best_rate = merged_df.best_rate.apply(lambda x: float((x.split('/')[0]))/float((x.split('/')[1])))"
   ]
  },
  {
   "cell_type": "code",
   "execution_count": 30,
   "metadata": {
    "collapsed": false,
    "scrolled": true
   },
   "outputs": [
    {
     "name": "stdout",
     "output_type": "stream",
     "text": [
      " 1.0    598\n",
      "-0.1    215\n",
      " 0.9    106\n",
      " 0.8     39\n",
      " 0.1     28\n",
      " 0.7      6\n",
      " 0.3      3\n",
      " 0.2      2\n",
      " 0.5      2\n",
      " 0.4      1\n",
      "Name: best_rate, dtype: int64\n"
     ]
    }
   ],
   "source": [
    "merged_df[['best', 'best_rate']]\n",
    "print merged_df['best_rate'].value_counts()\n",
    "\n",
    "\n",
    "merged_df.best_rate = merged_df.best_rate.apply(lambda x: np.nan if x == -0.1 else x)\n"
   ]
  },
  {
   "cell_type": "code",
   "execution_count": 31,
   "metadata": {
    "collapsed": false
   },
   "outputs": [],
   "source": [
    "sentiment_df = merged_df[['best', 'best_rate','is_comedy','title','genre']]"
   ]
  },
  {
   "cell_type": "code",
   "execution_count": 32,
   "metadata": {
    "collapsed": false,
    "scrolled": true
   },
   "outputs": [
    {
     "data": {
      "text/html": [
       "<div>\n",
       "<table border=\"1\" class=\"dataframe\">\n",
       "  <thead>\n",
       "    <tr style=\"text-align: right;\">\n",
       "      <th></th>\n",
       "      <th>review</th>\n",
       "      <th>review_rate</th>\n",
       "      <th>is_comedy</th>\n",
       "      <th>title</th>\n",
       "      <th>genre</th>\n",
       "    </tr>\n",
       "  </thead>\n",
       "  <tbody>\n",
       "    <tr>\n",
       "      <th>107</th>\n",
       "      <td>Charlie Chaplins study of a tramp teaming up...</td>\n",
       "      <td>NaN</td>\n",
       "      <td>1</td>\n",
       "      <td>The Kid</td>\n",
       "      <td>Comedy, Drama, Family</td>\n",
       "    </tr>\n",
       "    <tr>\n",
       "      <th>155</th>\n",
       "      <td>This movie surprised us We checked on IMDb an...</td>\n",
       "      <td>0.9</td>\n",
       "      <td>1</td>\n",
       "      <td>The Intouchables</td>\n",
       "      <td>Biography, Comedy, Drama</td>\n",
       "    </tr>\n",
       "    <tr>\n",
       "      <th>156</th>\n",
       "      <td>In less than two months Untouchable became th...</td>\n",
       "      <td>1.0</td>\n",
       "      <td>1</td>\n",
       "      <td>The Intouchables</td>\n",
       "      <td>Biography, Comedy, Drama</td>\n",
       "    </tr>\n",
       "    <tr>\n",
       "      <th>168</th>\n",
       "      <td>Well Ive just got out of the theater and i mu...</td>\n",
       "      <td>1.0</td>\n",
       "      <td>1</td>\n",
       "      <td>The Intouchables</td>\n",
       "      <td>Biography, Comedy, Drama</td>\n",
       "    </tr>\n",
       "    <tr>\n",
       "      <th>169</th>\n",
       "      <td>Its not because Im French that I appreciated ...</td>\n",
       "      <td>1.0</td>\n",
       "      <td>1</td>\n",
       "      <td>The Intouchables</td>\n",
       "      <td>Biography, Comedy, Drama</td>\n",
       "    </tr>\n",
       "    <tr>\n",
       "      <th>216</th>\n",
       "      <td>Just seen last night amazing movie great perf...</td>\n",
       "      <td>1.0</td>\n",
       "      <td>1</td>\n",
       "      <td>The Intouchables</td>\n",
       "      <td>Biography, Comedy, Drama</td>\n",
       "    </tr>\n",
       "    <tr>\n",
       "      <th>243</th>\n",
       "      <td>Part satire part slapstick comedy part melodr...</td>\n",
       "      <td>0.9</td>\n",
       "      <td>1</td>\n",
       "      <td>Modern Times</td>\n",
       "      <td>Comedy, Drama</td>\n",
       "    </tr>\n",
       "    <tr>\n",
       "      <th>244</th>\n",
       "      <td>Charlie Chaplins Modern Times 1936 is the fi...</td>\n",
       "      <td>1.0</td>\n",
       "      <td>1</td>\n",
       "      <td>Modern Times</td>\n",
       "      <td>Comedy, Drama</td>\n",
       "    </tr>\n",
       "    <tr>\n",
       "      <th>245</th>\n",
       "      <td>Modern Times is in my top 5 films and 2 in m...</td>\n",
       "      <td>1.0</td>\n",
       "      <td>1</td>\n",
       "      <td>Modern Times</td>\n",
       "      <td>Comedy, Drama</td>\n",
       "    </tr>\n",
       "    <tr>\n",
       "      <th>246</th>\n",
       "      <td>It is a testament to Chaplins filmmaking ski...</td>\n",
       "      <td>1.0</td>\n",
       "      <td>1</td>\n",
       "      <td>Modern Times</td>\n",
       "      <td>Comedy, Drama</td>\n",
       "    </tr>\n",
       "    <tr>\n",
       "      <th>247</th>\n",
       "      <td>This movie is a must see for anyone who love...</td>\n",
       "      <td>1.0</td>\n",
       "      <td>1</td>\n",
       "      <td>Modern Times</td>\n",
       "      <td>Comedy, Drama</td>\n",
       "    </tr>\n",
       "    <tr>\n",
       "      <th>248</th>\n",
       "      <td>Hilarious touching anarchic revolutionary re...</td>\n",
       "      <td>NaN</td>\n",
       "      <td>1</td>\n",
       "      <td>Modern Times</td>\n",
       "      <td>Comedy, Drama</td>\n",
       "    </tr>\n",
       "    <tr>\n",
       "      <th>249</th>\n",
       "      <td>It is difficult to review Chaplins movies obj...</td>\n",
       "      <td>1.0</td>\n",
       "      <td>1</td>\n",
       "      <td>Modern Times</td>\n",
       "      <td>Comedy, Drama</td>\n",
       "    </tr>\n",
       "    <tr>\n",
       "      <th>250</th>\n",
       "      <td>Favorite Chaplin film Packed with social comm...</td>\n",
       "      <td>1.0</td>\n",
       "      <td>1</td>\n",
       "      <td>Modern Times</td>\n",
       "      <td>Comedy, Drama</td>\n",
       "    </tr>\n",
       "    <tr>\n",
       "      <th>251</th>\n",
       "      <td>The Tramp Charlie Chaplin is just a cog in th...</td>\n",
       "      <td>0.9</td>\n",
       "      <td>1</td>\n",
       "      <td>Modern Times</td>\n",
       "      <td>Comedy, Drama</td>\n",
       "    </tr>\n",
       "    <tr>\n",
       "      <th>252</th>\n",
       "      <td>Long after most people thought the silent mo...</td>\n",
       "      <td>NaN</td>\n",
       "      <td>1</td>\n",
       "      <td>Modern Times</td>\n",
       "      <td>Comedy, Drama</td>\n",
       "    </tr>\n",
       "    <tr>\n",
       "      <th>253</th>\n",
       "      <td>If there is one Charlie Chaplin film to recom...</td>\n",
       "      <td>1.0</td>\n",
       "      <td>1</td>\n",
       "      <td>City Lights</td>\n",
       "      <td>Comedy, Drama, Romance</td>\n",
       "    </tr>\n",
       "    <tr>\n",
       "      <th>254</th>\n",
       "      <td>Chaplin takes himself a little more seriousl...</td>\n",
       "      <td>1.0</td>\n",
       "      <td>1</td>\n",
       "      <td>City Lights</td>\n",
       "      <td>Comedy, Drama, Romance</td>\n",
       "    </tr>\n",
       "    <tr>\n",
       "      <th>255</th>\n",
       "      <td>Once again Chaplin plays his famous creation ...</td>\n",
       "      <td>0.9</td>\n",
       "      <td>1</td>\n",
       "      <td>City Lights</td>\n",
       "      <td>Comedy, Drama, Romance</td>\n",
       "    </tr>\n",
       "    <tr>\n",
       "      <th>256</th>\n",
       "      <td>This is my favorite Chaplin film but I dont w...</td>\n",
       "      <td>NaN</td>\n",
       "      <td>1</td>\n",
       "      <td>City Lights</td>\n",
       "      <td>Comedy, Drama, Romance</td>\n",
       "    </tr>\n",
       "    <tr>\n",
       "      <th>257</th>\n",
       "      <td>Let me join the consensus and call Charlie Ch...</td>\n",
       "      <td>NaN</td>\n",
       "      <td>1</td>\n",
       "      <td>City Lights</td>\n",
       "      <td>Comedy, Drama, Romance</td>\n",
       "    </tr>\n",
       "    <tr>\n",
       "      <th>258</th>\n",
       "      <td>CITY LIGHTS United Artists 1931 written direc...</td>\n",
       "      <td>NaN</td>\n",
       "      <td>1</td>\n",
       "      <td>City Lights</td>\n",
       "      <td>Comedy, Drama, Romance</td>\n",
       "    </tr>\n",
       "    <tr>\n",
       "      <th>259</th>\n",
       "      <td>City Lights is simply put one of the best mov...</td>\n",
       "      <td>0.9</td>\n",
       "      <td>1</td>\n",
       "      <td>City Lights</td>\n",
       "      <td>Comedy, Drama, Romance</td>\n",
       "    </tr>\n",
       "    <tr>\n",
       "      <th>260</th>\n",
       "      <td>Charlie Chaplins City Lights contains a blen...</td>\n",
       "      <td>NaN</td>\n",
       "      <td>1</td>\n",
       "      <td>City Lights</td>\n",
       "      <td>Comedy, Drama, Romance</td>\n",
       "    </tr>\n",
       "    <tr>\n",
       "      <th>261</th>\n",
       "      <td>I always thought this was one of Charlie Chap...</td>\n",
       "      <td>0.9</td>\n",
       "      <td>1</td>\n",
       "      <td>City Lights</td>\n",
       "      <td>Comedy, Drama, Romance</td>\n",
       "    </tr>\n",
       "    <tr>\n",
       "      <th>262</th>\n",
       "      <td>Film has become a medium that is strongly in...</td>\n",
       "      <td>NaN</td>\n",
       "      <td>1</td>\n",
       "      <td>City Lights</td>\n",
       "      <td>Comedy, Drama, Romance</td>\n",
       "    </tr>\n",
       "    <tr>\n",
       "      <th>291</th>\n",
       "      <td>Do not look at this through the prism of Fore...</td>\n",
       "      <td>1.0</td>\n",
       "      <td>1</td>\n",
       "      <td>The Intouchables</td>\n",
       "      <td>Biography, Comedy, Drama</td>\n",
       "    </tr>\n",
       "    <tr>\n",
       "      <th>292</th>\n",
       "      <td>I am now trying to find words to describe thi...</td>\n",
       "      <td>1.0</td>\n",
       "      <td>1</td>\n",
       "      <td>The Intouchables</td>\n",
       "      <td>Biography, Comedy, Drama</td>\n",
       "    </tr>\n",
       "    <tr>\n",
       "      <th>293</th>\n",
       "      <td>Being french and a film maker myself I have h...</td>\n",
       "      <td>NaN</td>\n",
       "      <td>1</td>\n",
       "      <td>The Intouchables</td>\n",
       "      <td>Biography, Comedy, Drama</td>\n",
       "    </tr>\n",
       "    <tr>\n",
       "      <th>294</th>\n",
       "      <td>It has been 9 weeks now since Intoucblaes has...</td>\n",
       "      <td>1.0</td>\n",
       "      <td>1</td>\n",
       "      <td>The Intouchables</td>\n",
       "      <td>Biography, Comedy, Drama</td>\n",
       "    </tr>\n",
       "    <tr>\n",
       "      <th>...</th>\n",
       "      <td>...</td>\n",
       "      <td>...</td>\n",
       "      <td>...</td>\n",
       "      <td>...</td>\n",
       "      <td>...</td>\n",
       "    </tr>\n",
       "    <tr>\n",
       "      <th>865</th>\n",
       "      <td>Admittedly biased Some Like It Hot can certa...</td>\n",
       "      <td>1.0</td>\n",
       "      <td>1</td>\n",
       "      <td>Some Like It Hot</td>\n",
       "      <td>Comedy, Crime, Romance</td>\n",
       "    </tr>\n",
       "    <tr>\n",
       "      <th>891</th>\n",
       "      <td>One of the all time great screen comedies So...</td>\n",
       "      <td>1.0</td>\n",
       "      <td>1</td>\n",
       "      <td>Some Like It Hot</td>\n",
       "      <td>Comedy, Crime, Romance</td>\n",
       "    </tr>\n",
       "    <tr>\n",
       "      <th>892</th>\n",
       "      <td>Some people still say this is the greatest co...</td>\n",
       "      <td>1.0</td>\n",
       "      <td>1</td>\n",
       "      <td>Some Like It Hot</td>\n",
       "      <td>Comedy, Crime, Romance</td>\n",
       "    </tr>\n",
       "    <tr>\n",
       "      <th>893</th>\n",
       "      <td>I just saw this movie for the first time and...</td>\n",
       "      <td>1.0</td>\n",
       "      <td>1</td>\n",
       "      <td>Some Like It Hot</td>\n",
       "      <td>Comedy, Crime, Romance</td>\n",
       "    </tr>\n",
       "    <tr>\n",
       "      <th>894</th>\n",
       "      <td>Why a man would want to marry another man ask...</td>\n",
       "      <td>1.0</td>\n",
       "      <td>1</td>\n",
       "      <td>Some Like It Hot</td>\n",
       "      <td>Comedy, Crime, Romance</td>\n",
       "    </tr>\n",
       "    <tr>\n",
       "      <th>895</th>\n",
       "      <td>What Jack Lemmon and Tony Curtis do in Some ...</td>\n",
       "      <td>NaN</td>\n",
       "      <td>1</td>\n",
       "      <td>Some Like It Hot</td>\n",
       "      <td>Comedy, Crime, Romance</td>\n",
       "    </tr>\n",
       "    <tr>\n",
       "      <th>896</th>\n",
       "      <td>Any camera loved Marilyn the bestxc2x85 In al...</td>\n",
       "      <td>0.8</td>\n",
       "      <td>1</td>\n",
       "      <td>Some Like It Hot</td>\n",
       "      <td>Comedy, Crime, Romance</td>\n",
       "    </tr>\n",
       "    <tr>\n",
       "      <th>897</th>\n",
       "      <td>Sit back and enjoy this comedy I dont believ...</td>\n",
       "      <td>NaN</td>\n",
       "      <td>1</td>\n",
       "      <td>Some Like It Hot</td>\n",
       "      <td>Comedy, Crime, Romance</td>\n",
       "    </tr>\n",
       "    <tr>\n",
       "      <th>898</th>\n",
       "      <td>A Comedy that has it all and lacks absolutel...</td>\n",
       "      <td>NaN</td>\n",
       "      <td>1</td>\n",
       "      <td>Some Like It Hot</td>\n",
       "      <td>Comedy, Crime, Romance</td>\n",
       "    </tr>\n",
       "    <tr>\n",
       "      <th>899</th>\n",
       "      <td>Some Like it Hot will have a Danish repremie...</td>\n",
       "      <td>NaN</td>\n",
       "      <td>1</td>\n",
       "      <td>Some Like It Hot</td>\n",
       "      <td>Comedy, Crime, Romance</td>\n",
       "    </tr>\n",
       "    <tr>\n",
       "      <th>910</th>\n",
       "      <td>talk about lack luster in this movie and lack...</td>\n",
       "      <td>0.1</td>\n",
       "      <td>1</td>\n",
       "      <td>Inside Out</td>\n",
       "      <td>Animation, Adventure, Comedy</td>\n",
       "    </tr>\n",
       "    <tr>\n",
       "      <th>911</th>\n",
       "      <td>I am genuinely confused as to why people are ...</td>\n",
       "      <td>0.1</td>\n",
       "      <td>1</td>\n",
       "      <td>Inside Out</td>\n",
       "      <td>Animation, Adventure, Comedy</td>\n",
       "    </tr>\n",
       "    <tr>\n",
       "      <th>922</th>\n",
       "      <td>I was luckily able to catch a screening a few...</td>\n",
       "      <td>1.0</td>\n",
       "      <td>1</td>\n",
       "      <td>Up</td>\n",
       "      <td>Animation, Adventure, Comedy</td>\n",
       "    </tr>\n",
       "    <tr>\n",
       "      <th>923</th>\n",
       "      <td>I was lucky enough to get a ticket to a speci...</td>\n",
       "      <td>1.0</td>\n",
       "      <td>1</td>\n",
       "      <td>Up</td>\n",
       "      <td>Animation, Adventure, Comedy</td>\n",
       "    </tr>\n",
       "    <tr>\n",
       "      <th>924</th>\n",
       "      <td>UP Pixars latest animated feature is just del...</td>\n",
       "      <td>1.0</td>\n",
       "      <td>1</td>\n",
       "      <td>Up</td>\n",
       "      <td>Animation, Adventure, Comedy</td>\n",
       "    </tr>\n",
       "    <tr>\n",
       "      <th>925</th>\n",
       "      <td>Carl Frederickson Ed Asner has lived a long l...</td>\n",
       "      <td>1.0</td>\n",
       "      <td>1</td>\n",
       "      <td>Up</td>\n",
       "      <td>Animation, Adventure, Comedy</td>\n",
       "    </tr>\n",
       "    <tr>\n",
       "      <th>926</th>\n",
       "      <td>If theres a list of great computer animation ...</td>\n",
       "      <td>NaN</td>\n",
       "      <td>1</td>\n",
       "      <td>Up</td>\n",
       "      <td>Animation, Adventure, Comedy</td>\n",
       "    </tr>\n",
       "    <tr>\n",
       "      <th>927</th>\n",
       "      <td>Viewed at the Festival de Cannes 2009  The op...</td>\n",
       "      <td>NaN</td>\n",
       "      <td>1</td>\n",
       "      <td>Up</td>\n",
       "      <td>Animation, Adventure, Comedy</td>\n",
       "    </tr>\n",
       "    <tr>\n",
       "      <th>929</th>\n",
       "      <td>If Pixar  as a studio  has any weakness its t...</td>\n",
       "      <td>1.0</td>\n",
       "      <td>1</td>\n",
       "      <td>Up</td>\n",
       "      <td>Animation, Adventure, Comedy</td>\n",
       "    </tr>\n",
       "    <tr>\n",
       "      <th>930</th>\n",
       "      <td>Greetings again from the darkness Another cra...</td>\n",
       "      <td>0.8</td>\n",
       "      <td>1</td>\n",
       "      <td>Up</td>\n",
       "      <td>Animation, Adventure, Comedy</td>\n",
       "    </tr>\n",
       "    <tr>\n",
       "      <th>931</th>\n",
       "      <td>What can I say about Pixar Amazing Perfect Go...</td>\n",
       "      <td>1.0</td>\n",
       "      <td>1</td>\n",
       "      <td>Up</td>\n",
       "      <td>Animation, Adventure, Comedy</td>\n",
       "    </tr>\n",
       "    <tr>\n",
       "      <th>932</th>\n",
       "      <td>Seriously Im convinced Pixar is maybe the onl...</td>\n",
       "      <td>1.0</td>\n",
       "      <td>1</td>\n",
       "      <td>Up</td>\n",
       "      <td>Animation, Adventure, Comedy</td>\n",
       "    </tr>\n",
       "    <tr>\n",
       "      <th>955</th>\n",
       "      <td>Where to begin with DisneyPixars Inside Out I...</td>\n",
       "      <td>0.1</td>\n",
       "      <td>1</td>\n",
       "      <td>Inside Out</td>\n",
       "      <td>Animation, Adventure, Comedy</td>\n",
       "    </tr>\n",
       "    <tr>\n",
       "      <th>956</th>\n",
       "      <td>I have not seen every Disney Pixar film The o...</td>\n",
       "      <td>0.1</td>\n",
       "      <td>1</td>\n",
       "      <td>Inside Out</td>\n",
       "      <td>Animation, Adventure, Comedy</td>\n",
       "    </tr>\n",
       "    <tr>\n",
       "      <th>957</th>\n",
       "      <td>The film was awful and extremely boring It wa...</td>\n",
       "      <td>0.1</td>\n",
       "      <td>1</td>\n",
       "      <td>Inside Out</td>\n",
       "      <td>Animation, Adventure, Comedy</td>\n",
       "    </tr>\n",
       "    <tr>\n",
       "      <th>958</th>\n",
       "      <td>There are a few reasons why I consider this m...</td>\n",
       "      <td>0.1</td>\n",
       "      <td>1</td>\n",
       "      <td>Inside Out</td>\n",
       "      <td>Animation, Adventure, Comedy</td>\n",
       "    </tr>\n",
       "    <tr>\n",
       "      <th>959</th>\n",
       "      <td>I had high hopes of Inside Out before heading...</td>\n",
       "      <td>0.1</td>\n",
       "      <td>1</td>\n",
       "      <td>Inside Out</td>\n",
       "      <td>Animation, Adventure, Comedy</td>\n",
       "    </tr>\n",
       "    <tr>\n",
       "      <th>960</th>\n",
       "      <td>Inside Out tells me that we have no free will...</td>\n",
       "      <td>0.1</td>\n",
       "      <td>1</td>\n",
       "      <td>Inside Out</td>\n",
       "      <td>Animation, Adventure, Comedy</td>\n",
       "    </tr>\n",
       "    <tr>\n",
       "      <th>961</th>\n",
       "      <td>This movie was built up by the trailers and I...</td>\n",
       "      <td>0.1</td>\n",
       "      <td>1</td>\n",
       "      <td>Inside Out</td>\n",
       "      <td>Animation, Adventure, Comedy</td>\n",
       "    </tr>\n",
       "    <tr>\n",
       "      <th>962</th>\n",
       "      <td>OK playtimes over Pixar now get over it This ...</td>\n",
       "      <td>0.1</td>\n",
       "      <td>1</td>\n",
       "      <td>Inside Out</td>\n",
       "      <td>Animation, Adventure, Comedy</td>\n",
       "    </tr>\n",
       "  </tbody>\n",
       "</table>\n",
       "<p>130 rows × 5 columns</p>\n",
       "</div>"
      ],
      "text/plain": [
       "                                                review  review_rate  \\\n",
       "107    Charlie Chaplins study of a tramp teaming up...          NaN   \n",
       "155   This movie surprised us We checked on IMDb an...          0.9   \n",
       "156   In less than two months Untouchable became th...          1.0   \n",
       "168   Well Ive just got out of the theater and i mu...          1.0   \n",
       "169   Its not because Im French that I appreciated ...          1.0   \n",
       "216   Just seen last night amazing movie great perf...          1.0   \n",
       "243   Part satire part slapstick comedy part melodr...          0.9   \n",
       "244    Charlie Chaplins Modern Times 1936 is the fi...          1.0   \n",
       "245    Modern Times is in my top 5 films and 2 in m...          1.0   \n",
       "246    It is a testament to Chaplins filmmaking ski...          1.0   \n",
       "247    This movie is a must see for anyone who love...          1.0   \n",
       "248    Hilarious touching anarchic revolutionary re...          NaN   \n",
       "249   It is difficult to review Chaplins movies obj...          1.0   \n",
       "250   Favorite Chaplin film Packed with social comm...          1.0   \n",
       "251   The Tramp Charlie Chaplin is just a cog in th...          0.9   \n",
       "252    Long after most people thought the silent mo...          NaN   \n",
       "253   If there is one Charlie Chaplin film to recom...          1.0   \n",
       "254    Chaplin takes himself a little more seriousl...          1.0   \n",
       "255   Once again Chaplin plays his famous creation ...          0.9   \n",
       "256   This is my favorite Chaplin film but I dont w...          NaN   \n",
       "257   Let me join the consensus and call Charlie Ch...          NaN   \n",
       "258   CITY LIGHTS United Artists 1931 written direc...          NaN   \n",
       "259   City Lights is simply put one of the best mov...          0.9   \n",
       "260    Charlie Chaplins City Lights contains a blen...          NaN   \n",
       "261   I always thought this was one of Charlie Chap...          0.9   \n",
       "262    Film has become a medium that is strongly in...          NaN   \n",
       "291   Do not look at this through the prism of Fore...          1.0   \n",
       "292   I am now trying to find words to describe thi...          1.0   \n",
       "293   Being french and a film maker myself I have h...          NaN   \n",
       "294   It has been 9 weeks now since Intoucblaes has...          1.0   \n",
       "..                                                 ...          ...   \n",
       "865    Admittedly biased Some Like It Hot can certa...          1.0   \n",
       "891    One of the all time great screen comedies So...          1.0   \n",
       "892   Some people still say this is the greatest co...          1.0   \n",
       "893    I just saw this movie for the first time and...          1.0   \n",
       "894   Why a man would want to marry another man ask...          1.0   \n",
       "895    What Jack Lemmon and Tony Curtis do in Some ...          NaN   \n",
       "896   Any camera loved Marilyn the bestxc2x85 In al...          0.8   \n",
       "897    Sit back and enjoy this comedy I dont believ...          NaN   \n",
       "898    A Comedy that has it all and lacks absolutel...          NaN   \n",
       "899    Some Like it Hot will have a Danish repremie...          NaN   \n",
       "910   talk about lack luster in this movie and lack...          0.1   \n",
       "911   I am genuinely confused as to why people are ...          0.1   \n",
       "922   I was luckily able to catch a screening a few...          1.0   \n",
       "923   I was lucky enough to get a ticket to a speci...          1.0   \n",
       "924   UP Pixars latest animated feature is just del...          1.0   \n",
       "925   Carl Frederickson Ed Asner has lived a long l...          1.0   \n",
       "926   If theres a list of great computer animation ...          NaN   \n",
       "927   Viewed at the Festival de Cannes 2009  The op...          NaN   \n",
       "929   If Pixar  as a studio  has any weakness its t...          1.0   \n",
       "930   Greetings again from the darkness Another cra...          0.8   \n",
       "931   What can I say about Pixar Amazing Perfect Go...          1.0   \n",
       "932   Seriously Im convinced Pixar is maybe the onl...          1.0   \n",
       "955   Where to begin with DisneyPixars Inside Out I...          0.1   \n",
       "956   I have not seen every Disney Pixar film The o...          0.1   \n",
       "957   The film was awful and extremely boring It wa...          0.1   \n",
       "958   There are a few reasons why I consider this m...          0.1   \n",
       "959   I had high hopes of Inside Out before heading...          0.1   \n",
       "960   Inside Out tells me that we have no free will...          0.1   \n",
       "961   This movie was built up by the trailers and I...          0.1   \n",
       "962   OK playtimes over Pixar now get over it This ...          0.1   \n",
       "\n",
       "     is_comedy             title                         genre  \n",
       "107          1           The Kid         Comedy, Drama, Family  \n",
       "155          1  The Intouchables      Biography, Comedy, Drama  \n",
       "156          1  The Intouchables      Biography, Comedy, Drama  \n",
       "168          1  The Intouchables      Biography, Comedy, Drama  \n",
       "169          1  The Intouchables      Biography, Comedy, Drama  \n",
       "216          1  The Intouchables      Biography, Comedy, Drama  \n",
       "243          1      Modern Times                 Comedy, Drama  \n",
       "244          1      Modern Times                 Comedy, Drama  \n",
       "245          1      Modern Times                 Comedy, Drama  \n",
       "246          1      Modern Times                 Comedy, Drama  \n",
       "247          1      Modern Times                 Comedy, Drama  \n",
       "248          1      Modern Times                 Comedy, Drama  \n",
       "249          1      Modern Times                 Comedy, Drama  \n",
       "250          1      Modern Times                 Comedy, Drama  \n",
       "251          1      Modern Times                 Comedy, Drama  \n",
       "252          1      Modern Times                 Comedy, Drama  \n",
       "253          1       City Lights        Comedy, Drama, Romance  \n",
       "254          1       City Lights        Comedy, Drama, Romance  \n",
       "255          1       City Lights        Comedy, Drama, Romance  \n",
       "256          1       City Lights        Comedy, Drama, Romance  \n",
       "257          1       City Lights        Comedy, Drama, Romance  \n",
       "258          1       City Lights        Comedy, Drama, Romance  \n",
       "259          1       City Lights        Comedy, Drama, Romance  \n",
       "260          1       City Lights        Comedy, Drama, Romance  \n",
       "261          1       City Lights        Comedy, Drama, Romance  \n",
       "262          1       City Lights        Comedy, Drama, Romance  \n",
       "291          1  The Intouchables      Biography, Comedy, Drama  \n",
       "292          1  The Intouchables      Biography, Comedy, Drama  \n",
       "293          1  The Intouchables      Biography, Comedy, Drama  \n",
       "294          1  The Intouchables      Biography, Comedy, Drama  \n",
       "..         ...               ...                           ...  \n",
       "865          1  Some Like It Hot        Comedy, Crime, Romance  \n",
       "891          1  Some Like It Hot        Comedy, Crime, Romance  \n",
       "892          1  Some Like It Hot        Comedy, Crime, Romance  \n",
       "893          1  Some Like It Hot        Comedy, Crime, Romance  \n",
       "894          1  Some Like It Hot        Comedy, Crime, Romance  \n",
       "895          1  Some Like It Hot        Comedy, Crime, Romance  \n",
       "896          1  Some Like It Hot        Comedy, Crime, Romance  \n",
       "897          1  Some Like It Hot        Comedy, Crime, Romance  \n",
       "898          1  Some Like It Hot        Comedy, Crime, Romance  \n",
       "899          1  Some Like It Hot        Comedy, Crime, Romance  \n",
       "910          1        Inside Out  Animation, Adventure, Comedy  \n",
       "911          1        Inside Out  Animation, Adventure, Comedy  \n",
       "922          1                Up  Animation, Adventure, Comedy  \n",
       "923          1                Up  Animation, Adventure, Comedy  \n",
       "924          1                Up  Animation, Adventure, Comedy  \n",
       "925          1                Up  Animation, Adventure, Comedy  \n",
       "926          1                Up  Animation, Adventure, Comedy  \n",
       "927          1                Up  Animation, Adventure, Comedy  \n",
       "929          1                Up  Animation, Adventure, Comedy  \n",
       "930          1                Up  Animation, Adventure, Comedy  \n",
       "931          1                Up  Animation, Adventure, Comedy  \n",
       "932          1                Up  Animation, Adventure, Comedy  \n",
       "955          1        Inside Out  Animation, Adventure, Comedy  \n",
       "956          1        Inside Out  Animation, Adventure, Comedy  \n",
       "957          1        Inside Out  Animation, Adventure, Comedy  \n",
       "958          1        Inside Out  Animation, Adventure, Comedy  \n",
       "959          1        Inside Out  Animation, Adventure, Comedy  \n",
       "960          1        Inside Out  Animation, Adventure, Comedy  \n",
       "961          1        Inside Out  Animation, Adventure, Comedy  \n",
       "962          1        Inside Out  Animation, Adventure, Comedy  \n",
       "\n",
       "[130 rows x 5 columns]"
      ]
     },
     "execution_count": 32,
     "metadata": {},
     "output_type": "execute_result"
    }
   ],
   "source": [
    "sentiment_df.columns = ['review','review_rate','is_comedy','title','genre']\n",
    "#sentiment_df[sentiment_df.is_comedy == 1]"
   ]
  },
  {
   "cell_type": "code",
   "execution_count": 105,
   "metadata": {
    "collapsed": false
   },
   "outputs": [],
   "source": [
    "joined_movies = []\n",
    "\n",
    "for movie in sentiment_df.title.unique():\n",
    "    joined_movies.append([movie, \"\".join(sentiment_df[sentiment_df['title'] == movie]['review'])])\n",
    "    \n",
    "joined_reviews = pd.DataFrame(joined_movies)\n"
   ]
  },
  {
   "cell_type": "code",
   "execution_count": 106,
   "metadata": {
    "collapsed": false
   },
   "outputs": [],
   "source": [
    "joined_reviews.columns = ['title','review']"
   ]
  },
  {
   "cell_type": "code",
   "execution_count": 107,
   "metadata": {
    "collapsed": false
   },
   "outputs": [],
   "source": [
    "joined_reviews['genre'] = top_100.genre"
   ]
  },
  {
   "cell_type": "code",
   "execution_count": 108,
   "metadata": {
    "collapsed": false
   },
   "outputs": [
    {
     "ename": "NameError",
     "evalue": "name 'joined_reivews' is not defined",
     "output_type": "error",
     "traceback": [
      "\u001b[0;31m---------------------------------------------------------------------------\u001b[0m",
      "\u001b[0;31mNameError\u001b[0m                                 Traceback (most recent call last)",
      "\u001b[0;32m<ipython-input-108-df162619a2a8>\u001b[0m in \u001b[0;36m<module>\u001b[0;34m()\u001b[0m\n\u001b[0;32m----> 1\u001b[0;31m \u001b[0mjoined_reivews\u001b[0m\u001b[0;34m[\u001b[0m\u001b[0;34m'genre'\u001b[0m\u001b[0;34m]\u001b[0m \u001b[0;34m==\u001b[0m \u001b[0mtop_100\u001b[0m\u001b[0;34m.\u001b[0m\u001b[0mgenre\u001b[0m\u001b[0;34m\u001b[0m\u001b[0m\n\u001b[0m",
      "\u001b[0;31mNameError\u001b[0m: name 'joined_reivews' is not defined"
     ]
    }
   ],
   "source": [
    "joined_reivews['genre'] == top_100.genre"
   ]
  },
  {
   "cell_type": "code",
   "execution_count": 75,
   "metadata": {
    "collapsed": false
   },
   "outputs": [
    {
     "data": {
      "text/plain": [
       "Crime, Drama                  50\n",
       "Adventure, Drama, Fantasy     15\n",
       "Action, Crime, Thriller       10\n",
       "Western                       10\n",
       "Drama                         10\n",
       "Biography, Drama, History      3\n",
       "Action, Adventure, Fantasy     2\n",
       "Name: is_comedy, dtype: int64"
      ]
     },
     "execution_count": 75,
     "metadata": {},
     "output_type": "execute_result"
    }
   ],
   "source": [
    "joined_reviews.columns = ['title','review','is_comedy','genre']\n",
    "joined_reviews.is_comedy.value_counts()"
   ]
  },
  {
   "cell_type": "code",
   "execution_count": 77,
   "metadata": {
    "collapsed": false
   },
   "outputs": [
    {
     "data": {
      "text/html": [
       "<div>\n",
       "<table border=\"1\" class=\"dataframe\">\n",
       "  <thead>\n",
       "    <tr style=\"text-align: right;\">\n",
       "      <th></th>\n",
       "      <th>title</th>\n",
       "      <th>review</th>\n",
       "      <th>is_comedy</th>\n",
       "      <th>genre</th>\n",
       "    </tr>\n",
       "  </thead>\n",
       "  <tbody>\n",
       "    <tr>\n",
       "      <th>0</th>\n",
       "      <td>The Shawshank Redemption</td>\n",
       "      <td>Why do I want to write the 234th comment on T...</td>\n",
       "      <td>Crime, Drama</td>\n",
       "      <td>0</td>\n",
       "    </tr>\n",
       "    <tr>\n",
       "      <th>1</th>\n",
       "      <td>Star Wars: Episode V - The Empire Strikes Back</td>\n",
       "      <td>An excellent sequel to Star Wars this is easi...</td>\n",
       "      <td>Crime, Drama</td>\n",
       "      <td>0</td>\n",
       "    </tr>\n",
       "    <tr>\n",
       "      <th>2</th>\n",
       "      <td>The Godfather</td>\n",
       "      <td>Rather than concentrating on everything that ...</td>\n",
       "      <td>Crime, Drama</td>\n",
       "      <td>0</td>\n",
       "    </tr>\n",
       "    <tr>\n",
       "      <th>3</th>\n",
       "      <td>Schindler's List</td>\n",
       "      <td>When I first saw that Spielberg was behind th...</td>\n",
       "      <td>Crime, Drama</td>\n",
       "      <td>0</td>\n",
       "    </tr>\n",
       "    <tr>\n",
       "      <th>4</th>\n",
       "      <td>The Godfather: Part II</td>\n",
       "      <td>This movie is way to be good to be labelled ...</td>\n",
       "      <td>Crime, Drama</td>\n",
       "      <td>0</td>\n",
       "    </tr>\n",
       "    <tr>\n",
       "      <th>5</th>\n",
       "      <td>The Dark Knight</td>\n",
       "      <td>Weve been subjected to enormous amounts of hy...</td>\n",
       "      <td>Crime, Drama</td>\n",
       "      <td>0</td>\n",
       "    </tr>\n",
       "    <tr>\n",
       "      <th>6</th>\n",
       "      <td>The Lord of the Rings: The Fellowship of the Ring</td>\n",
       "      <td>but oh was I thankful for it All through the...</td>\n",
       "      <td>Crime, Drama</td>\n",
       "      <td>0</td>\n",
       "    </tr>\n",
       "    <tr>\n",
       "      <th>7</th>\n",
       "      <td>The Lord of the Rings: The Return of the King</td>\n",
       "      <td>Peter Jackson has done it  He has created an...</td>\n",
       "      <td>Crime, Drama</td>\n",
       "      <td>0</td>\n",
       "    </tr>\n",
       "    <tr>\n",
       "      <th>8</th>\n",
       "      <td>Fight Club</td>\n",
       "      <td>When I first saw the previews for this movie...</td>\n",
       "      <td>Action, Adventure, Fantasy</td>\n",
       "      <td>0</td>\n",
       "    </tr>\n",
       "    <tr>\n",
       "      <th>9</th>\n",
       "      <td>Pulp Fiction</td>\n",
       "      <td>My oh my  Pulp Fiction is one of those rolle...</td>\n",
       "      <td>Crime, Drama</td>\n",
       "      <td>0</td>\n",
       "    </tr>\n",
       "    <tr>\n",
       "      <th>10</th>\n",
       "      <td>The Good, the Bad and the Ugly</td>\n",
       "      <td>A sprawling Western epic that follows the ad...</td>\n",
       "      <td>Crime, Drama</td>\n",
       "      <td>0</td>\n",
       "    </tr>\n",
       "    <tr>\n",
       "      <th>11</th>\n",
       "      <td>12 Angry Men</td>\n",
       "      <td>Intense courtroom drama which has 12 very di...</td>\n",
       "      <td>Crime, Drama</td>\n",
       "      <td>0</td>\n",
       "    </tr>\n",
       "    <tr>\n",
       "      <th>12</th>\n",
       "      <td>The Kid</td>\n",
       "      <td>Charlie Chaplins study of a tramp teaming up...</td>\n",
       "      <td>Crime, Drama</td>\n",
       "      <td>0</td>\n",
       "    </tr>\n",
       "    <tr>\n",
       "      <th>13</th>\n",
       "      <td>Lawrence of Arabia</td>\n",
       "      <td>I first saw this film on its release aged 13 ...</td>\n",
       "      <td>Crime, Drama</td>\n",
       "      <td>0</td>\n",
       "    </tr>\n",
       "    <tr>\n",
       "      <th>14</th>\n",
       "      <td>Forrest Gump</td>\n",
       "      <td>I believe everyone has a right to their opini...</td>\n",
       "      <td>Crime, Drama</td>\n",
       "      <td>0</td>\n",
       "    </tr>\n",
       "    <tr>\n",
       "      <th>15</th>\n",
       "      <td>American History X</td>\n",
       "      <td>This is a fantastic movie because no matter w...</td>\n",
       "      <td>Crime, Drama</td>\n",
       "      <td>0</td>\n",
       "    </tr>\n",
       "    <tr>\n",
       "      <th>16</th>\n",
       "      <td>Seven Samurai</td>\n",
       "      <td>Akira Kurosawas masterpiece The Japanese equ...</td>\n",
       "      <td>Biography, Drama, History</td>\n",
       "      <td>0</td>\n",
       "    </tr>\n",
       "    <tr>\n",
       "      <th>17</th>\n",
       "      <td>Inception</td>\n",
       "      <td>Id like to keep my review rather to the point...</td>\n",
       "      <td>Crime, Drama</td>\n",
       "      <td>0</td>\n",
       "    </tr>\n",
       "    <tr>\n",
       "      <th>18</th>\n",
       "      <td>City of God</td>\n",
       "      <td>Cidade de Deus seems to have a lot of praise ...</td>\n",
       "      <td>Crime, Drama</td>\n",
       "      <td>0</td>\n",
       "    </tr>\n",
       "    <tr>\n",
       "      <th>19</th>\n",
       "      <td>Star Wars</td>\n",
       "      <td>Theres not much to say about this movie this...</td>\n",
       "      <td>Crime, Drama</td>\n",
       "      <td>0</td>\n",
       "    </tr>\n",
       "    <tr>\n",
       "      <th>20</th>\n",
       "      <td>The Intouchables</td>\n",
       "      <td>This movie surprised us We checked on IMDb an...</td>\n",
       "      <td>Crime, Drama</td>\n",
       "      <td>0</td>\n",
       "    </tr>\n",
       "    <tr>\n",
       "      <th>21</th>\n",
       "      <td>The Lord of the Rings: The Two Towers</td>\n",
       "      <td>Peter Jackson truly outdid himself when creat...</td>\n",
       "      <td>Crime, Drama</td>\n",
       "      <td>0</td>\n",
       "    </tr>\n",
       "    <tr>\n",
       "      <th>22</th>\n",
       "      <td>Goodfellas</td>\n",
       "      <td>If there was one word that I could use to des...</td>\n",
       "      <td>Crime, Drama</td>\n",
       "      <td>0</td>\n",
       "    </tr>\n",
       "    <tr>\n",
       "      <th>23</th>\n",
       "      <td>The Matrix</td>\n",
       "      <td>The story of a reluctant Christlike protagon...</td>\n",
       "      <td>Crime, Drama</td>\n",
       "      <td>0</td>\n",
       "    </tr>\n",
       "    <tr>\n",
       "      <th>24</th>\n",
       "      <td>One Flew Over the Cuckoo's Nest</td>\n",
       "      <td>Milos Formans One Flew Over the Cuckoos Nest ...</td>\n",
       "      <td>Action, Crime, Thriller</td>\n",
       "      <td>0</td>\n",
       "    </tr>\n",
       "    <tr>\n",
       "      <th>25</th>\n",
       "      <td>Interstellar</td>\n",
       "      <td>The film begins by establishing at his own rh...</td>\n",
       "      <td>Crime, Drama</td>\n",
       "      <td>0</td>\n",
       "    </tr>\n",
       "    <tr>\n",
       "      <th>26</th>\n",
       "      <td>Saving Private Ryan</td>\n",
       "      <td>I know its fashionable to trash successful m...</td>\n",
       "      <td>Crime, Drama</td>\n",
       "      <td>0</td>\n",
       "    </tr>\n",
       "    <tr>\n",
       "      <th>27</th>\n",
       "      <td>The Usual Suspects</td>\n",
       "      <td>I have seen this movie many times and yet it...</td>\n",
       "      <td>Crime, Drama</td>\n",
       "      <td>0</td>\n",
       "    </tr>\n",
       "    <tr>\n",
       "      <th>28</th>\n",
       "      <td>Once Upon a Time in the West</td>\n",
       "      <td>I cant quite find the words to even come clo...</td>\n",
       "      <td>Crime, Drama</td>\n",
       "      <td>0</td>\n",
       "    </tr>\n",
       "    <tr>\n",
       "      <th>29</th>\n",
       "      <td>The Message</td>\n",
       "      <td>I was assigned to view this movie for class ...</td>\n",
       "      <td>Crime, Drama</td>\n",
       "      <td>0</td>\n",
       "    </tr>\n",
       "    <tr>\n",
       "      <th>...</th>\n",
       "      <td>...</td>\n",
       "      <td>...</td>\n",
       "      <td>...</td>\n",
       "      <td>...</td>\n",
       "    </tr>\n",
       "    <tr>\n",
       "      <th>70</th>\n",
       "      <td>A Separation</td>\n",
       "      <td>If mainstream cinema leaves you soulless see ...</td>\n",
       "      <td>Western</td>\n",
       "      <td>0</td>\n",
       "    </tr>\n",
       "    <tr>\n",
       "      <th>71</th>\n",
       "      <td>Witness for the Prosecution</td>\n",
       "      <td>Witness for the Prosecution is as IMDb voters...</td>\n",
       "      <td>Western</td>\n",
       "      <td>0</td>\n",
       "    </tr>\n",
       "    <tr>\n",
       "      <th>72</th>\n",
       "      <td>To Kill a Mockingbird</td>\n",
       "      <td>To Kill a Mockingbird is the movie based on ...</td>\n",
       "      <td>Western</td>\n",
       "      <td>0</td>\n",
       "    </tr>\n",
       "    <tr>\n",
       "      <th>73</th>\n",
       "      <td>Aliens</td>\n",
       "      <td>James Cameron is an extremely talented action...</td>\n",
       "      <td>Western</td>\n",
       "      <td>0</td>\n",
       "    </tr>\n",
       "    <tr>\n",
       "      <th>74</th>\n",
       "      <td>Requiem for a Dream</td>\n",
       "      <td>Im not going to waste space with a synopsis ...</td>\n",
       "      <td>Western</td>\n",
       "      <td>0</td>\n",
       "    </tr>\n",
       "    <tr>\n",
       "      <th>75</th>\n",
       "      <td>Princess Mononoke</td>\n",
       "      <td>I saw this film in Japan in Japanese with no...</td>\n",
       "      <td>Crime, Drama</td>\n",
       "      <td>0</td>\n",
       "    </tr>\n",
       "    <tr>\n",
       "      <th>76</th>\n",
       "      <td>Reservoir Dogs</td>\n",
       "      <td>Reservoir Dogs is a testament to the idea th...</td>\n",
       "      <td>Western</td>\n",
       "      <td>0</td>\n",
       "    </tr>\n",
       "    <tr>\n",
       "      <th>77</th>\n",
       "      <td>North by Northwest</td>\n",
       "      <td>For Christmas this year I received my first ...</td>\n",
       "      <td>Western</td>\n",
       "      <td>0</td>\n",
       "    </tr>\n",
       "    <tr>\n",
       "      <th>78</th>\n",
       "      <td>Star Wars: Episode VI - Return of the Jedi</td>\n",
       "      <td>I noticed that A NEW HOPE and THE EMPIRE STRI...</td>\n",
       "      <td>Western</td>\n",
       "      <td>0</td>\n",
       "    </tr>\n",
       "    <tr>\n",
       "      <th>79</th>\n",
       "      <td>WALL·E</td>\n",
       "      <td>I just saw the screener in the theater and wa...</td>\n",
       "      <td>Western</td>\n",
       "      <td>0</td>\n",
       "    </tr>\n",
       "    <tr>\n",
       "      <th>80</th>\n",
       "      <td>Oldboy</td>\n",
       "      <td>To start off This is the one and only film th...</td>\n",
       "      <td>Crime, Drama</td>\n",
       "      <td>0</td>\n",
       "    </tr>\n",
       "    <tr>\n",
       "      <th>81</th>\n",
       "      <td>Das Boot</td>\n",
       "      <td>Das Boot is one of the most emotionally invo...</td>\n",
       "      <td>Crime, Drama</td>\n",
       "      <td>0</td>\n",
       "    </tr>\n",
       "    <tr>\n",
       "      <th>82</th>\n",
       "      <td>Citizen Kane</td>\n",
       "      <td>Its a difficult undertaking for someone of m...</td>\n",
       "      <td>Crime, Drama</td>\n",
       "      <td>0</td>\n",
       "    </tr>\n",
       "    <tr>\n",
       "      <th>83</th>\n",
       "      <td>American Beauty</td>\n",
       "      <td>Of the 250 films Ive seen and rated on IMDb o...</td>\n",
       "      <td>Crime, Drama</td>\n",
       "      <td>0</td>\n",
       "    </tr>\n",
       "    <tr>\n",
       "      <th>84</th>\n",
       "      <td>Vertigo</td>\n",
       "      <td>I have seen ALOT of movies in my life but no...</td>\n",
       "      <td>Crime, Drama</td>\n",
       "      <td>0</td>\n",
       "    </tr>\n",
       "    <tr>\n",
       "      <th>85</th>\n",
       "      <td>Once Upon a Time in America</td>\n",
       "      <td>Many people compare Once Upon a Time in Amer...</td>\n",
       "      <td>Crime, Drama</td>\n",
       "      <td>0</td>\n",
       "    </tr>\n",
       "    <tr>\n",
       "      <th>86</th>\n",
       "      <td>The Shining</td>\n",
       "      <td>When this film first came out in 1980 I reme...</td>\n",
       "      <td>Crime, Drama</td>\n",
       "      <td>0</td>\n",
       "    </tr>\n",
       "    <tr>\n",
       "      <th>87</th>\n",
       "      <td>Captain America: Civil War</td>\n",
       "      <td>The story goes Marvel runs out of ideas They ...</td>\n",
       "      <td>Crime, Drama</td>\n",
       "      <td>0</td>\n",
       "    </tr>\n",
       "    <tr>\n",
       "      <th>88</th>\n",
       "      <td>Some Like It Hot</td>\n",
       "      <td>Admittedly biased Some Like It Hot can certa...</td>\n",
       "      <td>Crime, Drama</td>\n",
       "      <td>0</td>\n",
       "    </tr>\n",
       "    <tr>\n",
       "      <th>89</th>\n",
       "      <td>Tokyo Story</td>\n",
       "      <td>This film is commonly called one of the maste...</td>\n",
       "      <td>Crime, Drama</td>\n",
       "      <td>0</td>\n",
       "    </tr>\n",
       "    <tr>\n",
       "      <th>90</th>\n",
       "      <td>Judgment at Nuremberg</td>\n",
       "      <td>This is a fine film by a fine director but I...</td>\n",
       "      <td>Crime, Drama</td>\n",
       "      <td>0</td>\n",
       "    </tr>\n",
       "    <tr>\n",
       "      <th>91</th>\n",
       "      <td>Inside Out</td>\n",
       "      <td>talk about lack luster in this movie and lack...</td>\n",
       "      <td>Crime, Drama</td>\n",
       "      <td>0</td>\n",
       "    </tr>\n",
       "    <tr>\n",
       "      <th>92</th>\n",
       "      <td>Good Will Hunting</td>\n",
       "      <td>Theres one thing about Hollywood  you cant s...</td>\n",
       "      <td>Biography, Drama, History</td>\n",
       "      <td>0</td>\n",
       "    </tr>\n",
       "    <tr>\n",
       "      <th>93</th>\n",
       "      <td>Up</td>\n",
       "      <td>I was luckily able to catch a screening a few...</td>\n",
       "      <td>Crime, Drama</td>\n",
       "      <td>0</td>\n",
       "    </tr>\n",
       "    <tr>\n",
       "      <th>94</th>\n",
       "      <td>Gangs of Wasseypur</td>\n",
       "      <td>Just watched this movie today on the day of r...</td>\n",
       "      <td>Crime, Drama</td>\n",
       "      <td>0</td>\n",
       "    </tr>\n",
       "    <tr>\n",
       "      <th>95</th>\n",
       "      <td>The Third Man</td>\n",
       "      <td>The Third Man is a movie that looks and feel...</td>\n",
       "      <td>Crime, Drama</td>\n",
       "      <td>0</td>\n",
       "    </tr>\n",
       "    <tr>\n",
       "      <th>96</th>\n",
       "      <td>Downfall</td>\n",
       "      <td>I dont know what to say about this film I am ...</td>\n",
       "      <td>Crime, Drama</td>\n",
       "      <td>0</td>\n",
       "    </tr>\n",
       "    <tr>\n",
       "      <th>97</th>\n",
       "      <td>Raging Bull</td>\n",
       "      <td>Raging Bull isnt the average stereotypical un...</td>\n",
       "      <td>Crime, Drama</td>\n",
       "      <td>0</td>\n",
       "    </tr>\n",
       "    <tr>\n",
       "      <th>98</th>\n",
       "      <td>Sunrise</td>\n",
       "      <td>I have no words This is cinema This is not a...</td>\n",
       "      <td>Crime, Drama</td>\n",
       "      <td>0</td>\n",
       "    </tr>\n",
       "    <tr>\n",
       "      <th>99</th>\n",
       "      <td>The Great Escape</td>\n",
       "      <td>This is a great movie which much more histor...</td>\n",
       "      <td>Biography, Drama, History</td>\n",
       "      <td>0</td>\n",
       "    </tr>\n",
       "  </tbody>\n",
       "</table>\n",
       "<p>100 rows × 4 columns</p>\n",
       "</div>"
      ],
      "text/plain": [
       "                                                title  \\\n",
       "0                            The Shawshank Redemption   \n",
       "1      Star Wars: Episode V - The Empire Strikes Back   \n",
       "2                                       The Godfather   \n",
       "3                                    Schindler's List   \n",
       "4                              The Godfather: Part II   \n",
       "5                                     The Dark Knight   \n",
       "6   The Lord of the Rings: The Fellowship of the Ring   \n",
       "7       The Lord of the Rings: The Return of the King   \n",
       "8                                          Fight Club   \n",
       "9                                        Pulp Fiction   \n",
       "10                     The Good, the Bad and the Ugly   \n",
       "11                                       12 Angry Men   \n",
       "12                                            The Kid   \n",
       "13                                 Lawrence of Arabia   \n",
       "14                                       Forrest Gump   \n",
       "15                                 American History X   \n",
       "16                                      Seven Samurai   \n",
       "17                                          Inception   \n",
       "18                                        City of God   \n",
       "19                                          Star Wars   \n",
       "20                                   The Intouchables   \n",
       "21              The Lord of the Rings: The Two Towers   \n",
       "22                                         Goodfellas   \n",
       "23                                         The Matrix   \n",
       "24                    One Flew Over the Cuckoo's Nest   \n",
       "25                                       Interstellar   \n",
       "26                                Saving Private Ryan   \n",
       "27                                 The Usual Suspects   \n",
       "28                       Once Upon a Time in the West   \n",
       "29                                        The Message   \n",
       "..                                                ...   \n",
       "70                                       A Separation   \n",
       "71                        Witness for the Prosecution   \n",
       "72                              To Kill a Mockingbird   \n",
       "73                                             Aliens   \n",
       "74                                Requiem for a Dream   \n",
       "75                                  Princess Mononoke   \n",
       "76                                     Reservoir Dogs   \n",
       "77                                 North by Northwest   \n",
       "78         Star Wars: Episode VI - Return of the Jedi   \n",
       "79                                             WALL·E   \n",
       "80                                             Oldboy   \n",
       "81                                           Das Boot   \n",
       "82                                       Citizen Kane   \n",
       "83                                    American Beauty   \n",
       "84                                            Vertigo   \n",
       "85                        Once Upon a Time in America   \n",
       "86                                        The Shining   \n",
       "87                         Captain America: Civil War   \n",
       "88                                   Some Like It Hot   \n",
       "89                                        Tokyo Story   \n",
       "90                              Judgment at Nuremberg   \n",
       "91                                         Inside Out   \n",
       "92                                  Good Will Hunting   \n",
       "93                                                 Up   \n",
       "94                                 Gangs of Wasseypur   \n",
       "95                                      The Third Man   \n",
       "96                                           Downfall   \n",
       "97                                        Raging Bull   \n",
       "98                                            Sunrise   \n",
       "99                                   The Great Escape   \n",
       "\n",
       "                                               review  \\\n",
       "0    Why do I want to write the 234th comment on T...   \n",
       "1    An excellent sequel to Star Wars this is easi...   \n",
       "2    Rather than concentrating on everything that ...   \n",
       "3    When I first saw that Spielberg was behind th...   \n",
       "4     This movie is way to be good to be labelled ...   \n",
       "5    Weve been subjected to enormous amounts of hy...   \n",
       "6     but oh was I thankful for it All through the...   \n",
       "7     Peter Jackson has done it  He has created an...   \n",
       "8     When I first saw the previews for this movie...   \n",
       "9     My oh my  Pulp Fiction is one of those rolle...   \n",
       "10    A sprawling Western epic that follows the ad...   \n",
       "11    Intense courtroom drama which has 12 very di...   \n",
       "12    Charlie Chaplins study of a tramp teaming up...   \n",
       "13   I first saw this film on its release aged 13 ...   \n",
       "14   I believe everyone has a right to their opini...   \n",
       "15   This is a fantastic movie because no matter w...   \n",
       "16    Akira Kurosawas masterpiece The Japanese equ...   \n",
       "17   Id like to keep my review rather to the point...   \n",
       "18   Cidade de Deus seems to have a lot of praise ...   \n",
       "19    Theres not much to say about this movie this...   \n",
       "20   This movie surprised us We checked on IMDb an...   \n",
       "21   Peter Jackson truly outdid himself when creat...   \n",
       "22   If there was one word that I could use to des...   \n",
       "23    The story of a reluctant Christlike protagon...   \n",
       "24   Milos Formans One Flew Over the Cuckoos Nest ...   \n",
       "25   The film begins by establishing at his own rh...   \n",
       "26    I know its fashionable to trash successful m...   \n",
       "27    I have seen this movie many times and yet it...   \n",
       "28    I cant quite find the words to even come clo...   \n",
       "29    I was assigned to view this movie for class ...   \n",
       "..                                                ...   \n",
       "70   If mainstream cinema leaves you soulless see ...   \n",
       "71   Witness for the Prosecution is as IMDb voters...   \n",
       "72    To Kill a Mockingbird is the movie based on ...   \n",
       "73   James Cameron is an extremely talented action...   \n",
       "74    Im not going to waste space with a synopsis ...   \n",
       "75    I saw this film in Japan in Japanese with no...   \n",
       "76    Reservoir Dogs is a testament to the idea th...   \n",
       "77    For Christmas this year I received my first ...   \n",
       "78   I noticed that A NEW HOPE and THE EMPIRE STRI...   \n",
       "79   I just saw the screener in the theater and wa...   \n",
       "80   To start off This is the one and only film th...   \n",
       "81    Das Boot is one of the most emotionally invo...   \n",
       "82    Its a difficult undertaking for someone of m...   \n",
       "83   Of the 250 films Ive seen and rated on IMDb o...   \n",
       "84    I have seen ALOT of movies in my life but no...   \n",
       "85    Many people compare Once Upon a Time in Amer...   \n",
       "86    When this film first came out in 1980 I reme...   \n",
       "87   The story goes Marvel runs out of ideas They ...   \n",
       "88    Admittedly biased Some Like It Hot can certa...   \n",
       "89   This film is commonly called one of the maste...   \n",
       "90    This is a fine film by a fine director but I...   \n",
       "91   talk about lack luster in this movie and lack...   \n",
       "92    Theres one thing about Hollywood  you cant s...   \n",
       "93   I was luckily able to catch a screening a few...   \n",
       "94   Just watched this movie today on the day of r...   \n",
       "95    The Third Man is a movie that looks and feel...   \n",
       "96   I dont know what to say about this film I am ...   \n",
       "97   Raging Bull isnt the average stereotypical un...   \n",
       "98    I have no words This is cinema This is not a...   \n",
       "99    This is a great movie which much more histor...   \n",
       "\n",
       "                     is_comedy  genre  \n",
       "0                 Crime, Drama      0  \n",
       "1                 Crime, Drama      0  \n",
       "2                 Crime, Drama      0  \n",
       "3                 Crime, Drama      0  \n",
       "4                 Crime, Drama      0  \n",
       "5                 Crime, Drama      0  \n",
       "6                 Crime, Drama      0  \n",
       "7                 Crime, Drama      0  \n",
       "8   Action, Adventure, Fantasy      0  \n",
       "9                 Crime, Drama      0  \n",
       "10                Crime, Drama      0  \n",
       "11                Crime, Drama      0  \n",
       "12                Crime, Drama      0  \n",
       "13                Crime, Drama      0  \n",
       "14                Crime, Drama      0  \n",
       "15                Crime, Drama      0  \n",
       "16   Biography, Drama, History      0  \n",
       "17                Crime, Drama      0  \n",
       "18                Crime, Drama      0  \n",
       "19                Crime, Drama      0  \n",
       "20                Crime, Drama      0  \n",
       "21                Crime, Drama      0  \n",
       "22                Crime, Drama      0  \n",
       "23                Crime, Drama      0  \n",
       "24     Action, Crime, Thriller      0  \n",
       "25                Crime, Drama      0  \n",
       "26                Crime, Drama      0  \n",
       "27                Crime, Drama      0  \n",
       "28                Crime, Drama      0  \n",
       "29                Crime, Drama      0  \n",
       "..                         ...    ...  \n",
       "70                     Western      0  \n",
       "71                     Western      0  \n",
       "72                     Western      0  \n",
       "73                     Western      0  \n",
       "74                     Western      0  \n",
       "75                Crime, Drama      0  \n",
       "76                     Western      0  \n",
       "77                     Western      0  \n",
       "78                     Western      0  \n",
       "79                     Western      0  \n",
       "80                Crime, Drama      0  \n",
       "81                Crime, Drama      0  \n",
       "82                Crime, Drama      0  \n",
       "83                Crime, Drama      0  \n",
       "84                Crime, Drama      0  \n",
       "85                Crime, Drama      0  \n",
       "86                Crime, Drama      0  \n",
       "87                Crime, Drama      0  \n",
       "88                Crime, Drama      0  \n",
       "89                Crime, Drama      0  \n",
       "90                Crime, Drama      0  \n",
       "91                Crime, Drama      0  \n",
       "92   Biography, Drama, History      0  \n",
       "93                Crime, Drama      0  \n",
       "94                Crime, Drama      0  \n",
       "95                Crime, Drama      0  \n",
       "96                Crime, Drama      0  \n",
       "97                Crime, Drama      0  \n",
       "98                Crime, Drama      0  \n",
       "99   Biography, Drama, History      0  \n",
       "\n",
       "[100 rows x 4 columns]"
      ]
     },
     "execution_count": 77,
     "metadata": {},
     "output_type": "execute_result"
    }
   ],
   "source": [
    "joined_reviews"
   ]
  },
  {
   "cell_type": "code",
   "execution_count": 61,
   "metadata": {
    "collapsed": false
   },
   "outputs": [
    {
     "ename": "ValueError",
     "evalue": "empty vocabulary; perhaps the documents only contain stop words",
     "output_type": "error",
     "traceback": [
      "\u001b[0;31m---------------------------------------------------------------------------\u001b[0m",
      "\u001b[0;31mValueError\u001b[0m                                Traceback (most recent call last)",
      "\u001b[0;32m<ipython-input-61-20bdf5104227>\u001b[0m in \u001b[0;36m<module>\u001b[0;34m()\u001b[0m\n\u001b[1;32m      2\u001b[0m \u001b[0;34m\u001b[0m\u001b[0m\n\u001b[1;32m      3\u001b[0m \u001b[0mvct\u001b[0m \u001b[0;34m=\u001b[0m \u001b[0mTfidfVectorizer\u001b[0m\u001b[0;34m(\u001b[0m\u001b[0mstop_words\u001b[0m\u001b[0;34m=\u001b[0m\u001b[0;34m\"english\"\u001b[0m\u001b[0;34m)\u001b[0m\u001b[0;34m\u001b[0m\u001b[0m\n\u001b[0;32m----> 4\u001b[0;31m \u001b[0mmatrix\u001b[0m \u001b[0;34m=\u001b[0m \u001b[0mvct\u001b[0m\u001b[0;34m.\u001b[0m\u001b[0mfit_transform\u001b[0m\u001b[0;34m(\u001b[0m\u001b[0mjoined_reviews\u001b[0m\u001b[0;34m[\u001b[0m\u001b[0mjoined_reviews\u001b[0m\u001b[0;34m[\u001b[0m\u001b[0;34m'is_comedy'\u001b[0m\u001b[0;34m]\u001b[0m \u001b[0;34m==\u001b[0m \u001b[0;36m1\u001b[0m\u001b[0;34m]\u001b[0m\u001b[0;34m.\u001b[0m\u001b[0mreview\u001b[0m\u001b[0;34m)\u001b[0m\u001b[0;34m\u001b[0m\u001b[0m\n\u001b[0m\u001b[1;32m      5\u001b[0m \u001b[0mfreqs\u001b[0m \u001b[0;34m=\u001b[0m \u001b[0;34m[\u001b[0m\u001b[0;34m(\u001b[0m\u001b[0mword\u001b[0m\u001b[0;34m,\u001b[0m \u001b[0mmatrix\u001b[0m\u001b[0;34m.\u001b[0m\u001b[0mgetcol\u001b[0m\u001b[0;34m(\u001b[0m\u001b[0midx\u001b[0m\u001b[0;34m)\u001b[0m\u001b[0;34m.\u001b[0m\u001b[0msum\u001b[0m\u001b[0;34m(\u001b[0m\u001b[0;34m)\u001b[0m\u001b[0;34m)\u001b[0m \u001b[0;32mfor\u001b[0m \u001b[0mword\u001b[0m\u001b[0;34m,\u001b[0m \u001b[0midx\u001b[0m \u001b[0;32min\u001b[0m \u001b[0mvct\u001b[0m\u001b[0;34m.\u001b[0m\u001b[0mvocabulary_\u001b[0m\u001b[0;34m.\u001b[0m\u001b[0mitems\u001b[0m\u001b[0;34m(\u001b[0m\u001b[0;34m)\u001b[0m\u001b[0;34m]\u001b[0m\u001b[0;34m\u001b[0m\u001b[0m\n\u001b[1;32m      6\u001b[0m \u001b[0;31m#sort from largest to smallest\u001b[0m\u001b[0;34m\u001b[0m\u001b[0;34m\u001b[0m\u001b[0m\n",
      "\u001b[0;32m/Users/Stav/anaconda/lib/python2.7/site-packages/sklearn/feature_extraction/text.pyc\u001b[0m in \u001b[0;36mfit_transform\u001b[0;34m(self, raw_documents, y)\u001b[0m\n\u001b[1;32m   1303\u001b[0m             \u001b[0mTf\u001b[0m\u001b[0;34m-\u001b[0m\u001b[0midf\u001b[0m\u001b[0;34m-\u001b[0m\u001b[0mweighted\u001b[0m \u001b[0mdocument\u001b[0m\u001b[0;34m-\u001b[0m\u001b[0mterm\u001b[0m \u001b[0mmatrix\u001b[0m\u001b[0;34m.\u001b[0m\u001b[0;34m\u001b[0m\u001b[0m\n\u001b[1;32m   1304\u001b[0m         \"\"\"\n\u001b[0;32m-> 1305\u001b[0;31m         \u001b[0mX\u001b[0m \u001b[0;34m=\u001b[0m \u001b[0msuper\u001b[0m\u001b[0;34m(\u001b[0m\u001b[0mTfidfVectorizer\u001b[0m\u001b[0;34m,\u001b[0m \u001b[0mself\u001b[0m\u001b[0;34m)\u001b[0m\u001b[0;34m.\u001b[0m\u001b[0mfit_transform\u001b[0m\u001b[0;34m(\u001b[0m\u001b[0mraw_documents\u001b[0m\u001b[0;34m)\u001b[0m\u001b[0;34m\u001b[0m\u001b[0m\n\u001b[0m\u001b[1;32m   1306\u001b[0m         \u001b[0mself\u001b[0m\u001b[0;34m.\u001b[0m\u001b[0m_tfidf\u001b[0m\u001b[0;34m.\u001b[0m\u001b[0mfit\u001b[0m\u001b[0;34m(\u001b[0m\u001b[0mX\u001b[0m\u001b[0;34m)\u001b[0m\u001b[0;34m\u001b[0m\u001b[0m\n\u001b[1;32m   1307\u001b[0m         \u001b[0;31m# X is already a transformed view of raw_documents so\u001b[0m\u001b[0;34m\u001b[0m\u001b[0;34m\u001b[0m\u001b[0m\n",
      "\u001b[0;32m/Users/Stav/anaconda/lib/python2.7/site-packages/sklearn/feature_extraction/text.pyc\u001b[0m in \u001b[0;36mfit_transform\u001b[0;34m(self, raw_documents, y)\u001b[0m\n\u001b[1;32m    815\u001b[0m \u001b[0;34m\u001b[0m\u001b[0m\n\u001b[1;32m    816\u001b[0m         vocabulary, X = self._count_vocab(raw_documents,\n\u001b[0;32m--> 817\u001b[0;31m                                           self.fixed_vocabulary_)\n\u001b[0m\u001b[1;32m    818\u001b[0m \u001b[0;34m\u001b[0m\u001b[0m\n\u001b[1;32m    819\u001b[0m         \u001b[0;32mif\u001b[0m \u001b[0mself\u001b[0m\u001b[0;34m.\u001b[0m\u001b[0mbinary\u001b[0m\u001b[0;34m:\u001b[0m\u001b[0;34m\u001b[0m\u001b[0m\n",
      "\u001b[0;32m/Users/Stav/anaconda/lib/python2.7/site-packages/sklearn/feature_extraction/text.pyc\u001b[0m in \u001b[0;36m_count_vocab\u001b[0;34m(self, raw_documents, fixed_vocab)\u001b[0m\n\u001b[1;32m    762\u001b[0m             \u001b[0mvocabulary\u001b[0m \u001b[0;34m=\u001b[0m \u001b[0mdict\u001b[0m\u001b[0;34m(\u001b[0m\u001b[0mvocabulary\u001b[0m\u001b[0;34m)\u001b[0m\u001b[0;34m\u001b[0m\u001b[0m\n\u001b[1;32m    763\u001b[0m             \u001b[0;32mif\u001b[0m \u001b[0;32mnot\u001b[0m \u001b[0mvocabulary\u001b[0m\u001b[0;34m:\u001b[0m\u001b[0;34m\u001b[0m\u001b[0m\n\u001b[0;32m--> 764\u001b[0;31m                 raise ValueError(\"empty vocabulary; perhaps the documents only\"\n\u001b[0m\u001b[1;32m    765\u001b[0m                                  \" contain stop words\")\n\u001b[1;32m    766\u001b[0m \u001b[0;34m\u001b[0m\u001b[0m\n",
      "\u001b[0;31mValueError\u001b[0m: empty vocabulary; perhaps the documents only contain stop words"
     ]
    }
   ],
   "source": [
    "from sklearn.feature_extraction.text import TfidfVectorizer\n",
    "\n",
    "vct = TfidfVectorizer(stop_words=\"english\")\n",
    "matrix = vct.fit_transform(joined_reviews[joined_reviews['is_comedy'] == 1].review)\n",
    "freqs = [(word, matrix.getcol(idx).sum()) for word, idx in vct.vocabulary_.items()]\n",
    "#sort from largest to smallest\n",
    "print sorted (freqs, key = lambda x: -x[1])[:75]\n",
    "\n"
   ]
  },
  {
   "cell_type": "code",
   "execution_count": 95,
   "metadata": {
    "collapsed": false
   },
   "outputs": [
    {
     "data": {
      "text/plain": [
       "LogisticRegression(C=1.0, class_weight=None, dual=False, fit_intercept=True,\n",
       "          intercept_scaling=1, max_iter=100, multi_class='ovr', n_jobs=1,\n",
       "          penalty='l2', random_state=None, solver='liblinear', tol=0.0001,\n",
       "          verbose=0, warm_start=False)"
      ]
     },
     "execution_count": 95,
     "metadata": {},
     "output_type": "execute_result"
    }
   ],
   "source": [
    "from sklearn.linear_model import LogisticRegression\n",
    "\n",
    "# Preprocess our text data to Tfidf\n",
    "tfv = TfidfVectorizer(lowercase=True, strip_accents='unicode')\n",
    "X_all = tfv.fit_transform(sentiment_df['review'])\n",
    "\n",
    "# Setup logistic regression (or try another classification method here)\n",
    "estimator = LogisticRegression()\n",
    "estimator.fit(X_all, sentiment_df['is_comedy'])\n"
   ]
  },
  {
   "cell_type": "code",
   "execution_count": 135,
   "metadata": {
    "collapsed": false
   },
   "outputs": [
    {
     "name": "stdout",
     "output_type": "stream",
     "text": [
      "[[ 0.53781731]\n",
      " [ 0.39668663]]\n",
      "[1 0]\n"
     ]
    }
   ],
   "source": [
    "# Prep our source as TfIdf vectors\n",
    "source_test = sentiment_df.review[243:245]\n",
    "\n",
    "############\n",
    "# NOTE:  Do not re-initialize the tfidf vectorizor or the feature space willbe overwritten and\n",
    "# hence your transform will not match the number of features you trained your model on.\n",
    "#\n",
    "# This is why you only need to \"transform\" since you already \"fit\" previously\n",
    "#\n",
    "####\n",
    "\n",
    "X_all = tfv.transform(source_test)\n",
    "\n",
    "# Predict using previously trained logist regression `estimator`\n",
    "print estimator.predict_proba(X_all)[:,1:]\n",
    "print estimator.predict(X_all)"
   ]
  },
  {
   "cell_type": "markdown",
   "metadata": {},
   "source": [
    "#### 3. Build and cross-validate your decision tree classifier"
   ]
  },
  {
   "cell_type": "code",
   "execution_count": null,
   "metadata": {
    "collapsed": true
   },
   "outputs": [],
   "source": []
  },
  {
   "cell_type": "markdown",
   "metadata": {},
   "source": [
    "#### 4. Gridsearch optimal parameters for your classifier. Does the performance improve?"
   ]
  },
  {
   "cell_type": "code",
   "execution_count": null,
   "metadata": {
    "collapsed": true
   },
   "outputs": [],
   "source": []
  },
  {
   "cell_type": "markdown",
   "metadata": {},
   "source": [
    "#### 5. Build and cross-validate your decision tree regressor"
   ]
  },
  {
   "cell_type": "code",
   "execution_count": null,
   "metadata": {
    "collapsed": true
   },
   "outputs": [],
   "source": []
  },
  {
   "cell_type": "markdown",
   "metadata": {},
   "source": [
    "#### 6. Gridsearch the optimal parameters for your classifier. Does performance improve?"
   ]
  },
  {
   "cell_type": "code",
   "execution_count": null,
   "metadata": {
    "collapsed": true
   },
   "outputs": [],
   "source": []
  },
  {
   "cell_type": "markdown",
   "metadata": {},
   "source": [
    "---\n",
    "\n",
    "## Part 6: Elastic Net\n"
   ]
  },
  {
   "cell_type": "markdown",
   "metadata": {},
   "source": [
    "#### 1. Gridsearch optimal parameters for an ElasticNet using the regression target and predictors you used for the decision tree regressor.\n"
   ]
  },
  {
   "cell_type": "code",
   "execution_count": null,
   "metadata": {
    "collapsed": true
   },
   "outputs": [],
   "source": []
  },
  {
   "cell_type": "markdown",
   "metadata": {},
   "source": [
    "#### 2. Is cross-validated performance better or worse than with the decision trees? "
   ]
  },
  {
   "cell_type": "code",
   "execution_count": null,
   "metadata": {
    "collapsed": true
   },
   "outputs": [],
   "source": []
  },
  {
   "cell_type": "markdown",
   "metadata": {},
   "source": [
    "#### 3. Explain why the elastic net may have performed best at that particular l1_ratio and alpha"
   ]
  },
  {
   "cell_type": "code",
   "execution_count": null,
   "metadata": {
    "collapsed": true
   },
   "outputs": [],
   "source": []
  },
  {
   "cell_type": "markdown",
   "metadata": {},
   "source": [
    "---\n",
    "\n",
    "## Part 7: Bagging and Boosting: Random Forests, Extra Trees, and AdaBoost"
   ]
  },
  {
   "cell_type": "markdown",
   "metadata": {},
   "source": [
    "#### 1. Load the random forest regressor, extra trees regressor, and adaboost regressor from sklearn"
   ]
  },
  {
   "cell_type": "code",
   "execution_count": null,
   "metadata": {
    "collapsed": true
   },
   "outputs": [],
   "source": []
  },
  {
   "cell_type": "markdown",
   "metadata": {},
   "source": [
    "#### 2. Gridsearch optimal parameters for the three different ensemble methods."
   ]
  },
  {
   "cell_type": "code",
   "execution_count": null,
   "metadata": {
    "collapsed": true
   },
   "outputs": [],
   "source": []
  },
  {
   "cell_type": "markdown",
   "metadata": {},
   "source": [
    "#### 3. Evaluate the performance of the two bagging and one boosting model. Which performs best?"
   ]
  },
  {
   "cell_type": "code",
   "execution_count": null,
   "metadata": {
    "collapsed": true
   },
   "outputs": [],
   "source": []
  },
  {
   "cell_type": "markdown",
   "metadata": {},
   "source": [
    "#### 4. Extract the feature importances from the Random Forest regressor and make a DataFrame pairing variable names with their variable importances."
   ]
  },
  {
   "cell_type": "code",
   "execution_count": null,
   "metadata": {
    "collapsed": true
   },
   "outputs": [],
   "source": []
  },
  {
   "cell_type": "markdown",
   "metadata": {},
   "source": [
    "#### 5. Plot the ranked feature importances."
   ]
  },
  {
   "cell_type": "code",
   "execution_count": null,
   "metadata": {
    "collapsed": true
   },
   "outputs": [],
   "source": []
  },
  {
   "cell_type": "markdown",
   "metadata": {},
   "source": [
    "#### 6.1 [BONUS] Gridsearch an optimal Lasso model and use it for variable selection (make a new predictor matrix with only the variables not zeroed out by the Lasso). "
   ]
  },
  {
   "cell_type": "code",
   "execution_count": null,
   "metadata": {
    "collapsed": true
   },
   "outputs": [],
   "source": []
  },
  {
   "cell_type": "markdown",
   "metadata": {},
   "source": [
    "#### 6.2 [BONUS] Gridsearch your best performing bagging/boosting model from above with the features retained after the Lasso. Does the score improve?"
   ]
  },
  {
   "cell_type": "code",
   "execution_count": null,
   "metadata": {
    "collapsed": true
   },
   "outputs": [],
   "source": []
  },
  {
   "cell_type": "markdown",
   "metadata": {},
   "source": [
    "#### 7.1. [BONUS] Select a threshold for variable importance from your Random Forest regressor and use that to perform feature selection, creating a new subset predictor matrix."
   ]
  },
  {
   "cell_type": "code",
   "execution_count": null,
   "metadata": {
    "collapsed": true
   },
   "outputs": [],
   "source": []
  },
  {
   "cell_type": "markdown",
   "metadata": {},
   "source": [
    "#### 7.2 [BONUS] Using BaggingRegressor with a base estimator of your choice, test a model using the feature-selected dataset you made in 7.1"
   ]
  },
  {
   "cell_type": "code",
   "execution_count": null,
   "metadata": {
    "collapsed": true
   },
   "outputs": [],
   "source": []
  },
  {
   "cell_type": "markdown",
   "metadata": {},
   "source": [
    "---\n",
    "\n",
    "## [VERY BONUS] Part 8: PCA"
   ]
  },
  {
   "cell_type": "markdown",
   "metadata": {},
   "source": [
    "#### 1. Perform a PCA on your predictor matrix"
   ]
  },
  {
   "cell_type": "code",
   "execution_count": null,
   "metadata": {
    "collapsed": true
   },
   "outputs": [],
   "source": []
  },
  {
   "cell_type": "markdown",
   "metadata": {},
   "source": [
    "#### 2. Examine the variance explained and determine what components you want to keep based on them."
   ]
  },
  {
   "cell_type": "code",
   "execution_count": null,
   "metadata": {
    "collapsed": true
   },
   "outputs": [],
   "source": []
  },
  {
   "cell_type": "markdown",
   "metadata": {},
   "source": [
    "#### 3. Plot the cumulative variance explained by the ordered principal components."
   ]
  },
  {
   "cell_type": "code",
   "execution_count": null,
   "metadata": {
    "collapsed": true
   },
   "outputs": [],
   "source": []
  },
  {
   "cell_type": "markdown",
   "metadata": {},
   "source": [
    "#### 4. Gridsearch an elastic net using the principal components you selected as your predictors. Does this perform better than the elastic net you fit earlier?"
   ]
  },
  {
   "cell_type": "code",
   "execution_count": null,
   "metadata": {
    "collapsed": true
   },
   "outputs": [],
   "source": []
  },
  {
   "cell_type": "markdown",
   "metadata": {},
   "source": [
    "#### 5. Gridsearch a bagging ensemble estimator that you fit before, this time using the principal components as predictors. Does this perform better or worse than the original? "
   ]
  },
  {
   "cell_type": "code",
   "execution_count": null,
   "metadata": {
    "collapsed": true
   },
   "outputs": [],
   "source": []
  },
  {
   "cell_type": "markdown",
   "metadata": {},
   "source": [
    "#### 6. Look at the loadings of the original predictor columns on the first 3 principal components. Is there any kind of intuitive meaning here?\n",
    "\n",
    "Hint, you will probably want to sort by absolute value of magnitude of loading, and also only look at the obviously important (larger) ones!"
   ]
  },
  {
   "cell_type": "code",
   "execution_count": null,
   "metadata": {
    "collapsed": true
   },
   "outputs": [],
   "source": []
  },
  {
   "cell_type": "markdown",
   "metadata": {},
   "source": [
    "# [Extremely Bonus] Part 9:  Clustering\n",
    "\n",
    "![](https://snag.gy/jPSZ6U.jpg)\n",
    "\n",
    " ***Bonus Bonus:***\n",
    "This extended bonus question is asking to do something we never really talked about but would like for you to attempt based on the assumptions that we learned during this weeks clustering lesson(s)."
   ]
  },
  {
   "cell_type": "markdown",
   "metadata": {},
   "source": [
    "#### 1. Import your favorite clustering module"
   ]
  },
  {
   "cell_type": "code",
   "execution_count": null,
   "metadata": {
    "collapsed": true
   },
   "outputs": [],
   "source": []
  },
  {
   "cell_type": "markdown",
   "metadata": {},
   "source": [
    "#### 2. Encode categoricals"
   ]
  },
  {
   "cell_type": "code",
   "execution_count": null,
   "metadata": {
    "collapsed": true
   },
   "outputs": [],
   "source": []
  },
  {
   "cell_type": "markdown",
   "metadata": {},
   "source": [
    "#### 3. Evaluate cluster metics solely based on a range of K\n",
    "If K-Means:  SSE/Inertia vs Silhouette (ie: Elbow), silhouette average, etc"
   ]
  },
  {
   "cell_type": "code",
   "execution_count": null,
   "metadata": {
    "collapsed": true
   },
   "outputs": [],
   "source": []
  },
  {
   "cell_type": "markdown",
   "metadata": {},
   "source": [
    "#### 4.  Look at your data based on the subset of your predicted clusters.\n",
    "Assign the cluster predictions back to your dataframe in order to see them in context.  This is great to be able to group by cluster to get a sense of the data that clumped together."
   ]
  },
  {
   "cell_type": "code",
   "execution_count": null,
   "metadata": {
    "collapsed": true
   },
   "outputs": [],
   "source": []
  },
  {
   "cell_type": "markdown",
   "metadata": {},
   "source": [
    "#### 5. Describe your findings based on the predicted clusters \n",
    "_How well did it do?  What's good or bad?  How would you improve this? Does any of it make sense?_"
   ]
  },
  {
   "cell_type": "code",
   "execution_count": null,
   "metadata": {
    "collapsed": true
   },
   "outputs": [],
   "source": []
  }
 ],
 "metadata": {
  "kernelspec": {
   "display_name": "Python 2",
   "language": "python",
   "name": "python2"
  },
  "language_info": {
   "codemirror_mode": {
    "name": "ipython",
    "version": 2
   },
   "file_extension": ".py",
   "mimetype": "text/x-python",
   "name": "python",
   "nbconvert_exporter": "python",
   "pygments_lexer": "ipython2",
   "version": "2.7.11"
  },
  "widgets": {
   "state": {},
   "version": "1.1.0"
  }
 },
 "nbformat": 4,
 "nbformat_minor": 0
}

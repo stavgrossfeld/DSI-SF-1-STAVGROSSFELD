{
 "cells": [
  {
   "cell_type": "markdown",
   "metadata": {},
   "source": [
    "# Classification with stumbleupon data\n",
    "\n",
    "Project 4 has been changed since scraping was untenable. The project now focuses on the stumbleupon kaggle dataset. For more information on this dataset, [check out the website here](https://www.kaggle.com/c/stumbleupon).\n",
    "\n",
    "---"
   ]
  },
  {
   "cell_type": "markdown",
   "metadata": {},
   "source": [
    "## 1. Load in the dataset\n",
    "\n",
    "This is the only part completed for you.\n",
    "\n",
    "---"
   ]
  },
  {
   "cell_type": "code",
   "execution_count": 1,
   "metadata": {
    "collapsed": false
   },
   "outputs": [],
   "source": [
    "import pandas as pd\n",
    "import numpy as np\n",
    "import matplotlib.pyplot as plt\n",
    "import seaborn as sns\n",
    "from sklearn.cross_validation import train_test_split\n",
    "sns.set_style('dark')\n",
    "\n",
    "%matplotlib inline"
   ]
  },
  {
   "cell_type": "code",
   "execution_count": 2,
   "metadata": {
    "collapsed": false
   },
   "outputs": [],
   "source": [
    "su = pd.read_csv('../dataset/evergreen.tsv', delimiter='\\t', encoding='utf-8')"
   ]
  },
  {
   "cell_type": "code",
   "execution_count": 3,
   "metadata": {
    "collapsed": false
   },
   "outputs": [
    {
     "data": {
      "text/plain": [
       "0    5853\n",
       "?    1248\n",
       "1     294\n",
       "Name: news_front_page, dtype: int64"
      ]
     },
     "execution_count": 3,
     "metadata": {},
     "output_type": "execute_result"
    }
   ],
   "source": [
    "su.news_front_page.value_counts()"
   ]
  },
  {
   "cell_type": "markdown",
   "metadata": {},
   "source": [
    "## 2. Clean up/examine your data\n",
    "\n",
    "Some of the columns may have values that need changing or that are of the wrong type. There could also be columns that aren't very useful.\n",
    "\n",
    "---"
   ]
  },
  {
   "cell_type": "code",
   "execution_count": 4,
   "metadata": {
    "collapsed": false
   },
   "outputs": [
    {
     "name": "stdout",
     "output_type": "stream",
     "text": [
      "[u'url' u'urlid' u'boilerplate' u'alchemy_category'\n",
      " u'alchemy_category_score' u'avglinksize' u'commonlinkratio_1'\n",
      " u'commonlinkratio_2' u'commonlinkratio_3' u'commonlinkratio_4'\n",
      " u'compression_ratio' u'embed_ratio' u'framebased' u'frameTagRatio'\n",
      " u'hasDomainLink' u'html_ratio' u'image_ratio' u'is_news'\n",
      " u'lengthyLinkDomain' u'linkwordscore' u'news_front_page'\n",
      " u'non_markup_alphanum_characters' u'numberOfLinks' u'numwords_in_url'\n",
      " u'parametrizedLinkRatio' u'spelling_errors_ratio' u'label']\n"
     ]
    },
    {
     "data": {
      "text/html": [
       "<div>\n",
       "<table border=\"1\" class=\"dataframe\">\n",
       "  <thead>\n",
       "    <tr style=\"text-align: right;\">\n",
       "      <th></th>\n",
       "      <th>url</th>\n",
       "      <th>urlid</th>\n",
       "      <th>boilerplate</th>\n",
       "      <th>alchemy_category</th>\n",
       "      <th>alchemy_category_score</th>\n",
       "      <th>avglinksize</th>\n",
       "      <th>commonlinkratio_1</th>\n",
       "      <th>commonlinkratio_2</th>\n",
       "      <th>commonlinkratio_3</th>\n",
       "      <th>commonlinkratio_4</th>\n",
       "      <th>...</th>\n",
       "      <th>is_news</th>\n",
       "      <th>lengthyLinkDomain</th>\n",
       "      <th>linkwordscore</th>\n",
       "      <th>news_front_page</th>\n",
       "      <th>non_markup_alphanum_characters</th>\n",
       "      <th>numberOfLinks</th>\n",
       "      <th>numwords_in_url</th>\n",
       "      <th>parametrizedLinkRatio</th>\n",
       "      <th>spelling_errors_ratio</th>\n",
       "      <th>label</th>\n",
       "    </tr>\n",
       "  </thead>\n",
       "  <tbody>\n",
       "    <tr>\n",
       "      <th>0</th>\n",
       "      <td>http://www.bloomberg.com/news/2010-12-23/ibm-p...</td>\n",
       "      <td>4042</td>\n",
       "      <td>{\"title\":\"IBM Sees Holographic Calls Air Breat...</td>\n",
       "      <td>business</td>\n",
       "      <td>0.789131</td>\n",
       "      <td>2.055556</td>\n",
       "      <td>0.676471</td>\n",
       "      <td>0.205882</td>\n",
       "      <td>0.047059</td>\n",
       "      <td>0.023529</td>\n",
       "      <td>...</td>\n",
       "      <td>1</td>\n",
       "      <td>1</td>\n",
       "      <td>24</td>\n",
       "      <td>0</td>\n",
       "      <td>5424</td>\n",
       "      <td>170</td>\n",
       "      <td>8</td>\n",
       "      <td>0.152941</td>\n",
       "      <td>0.07913</td>\n",
       "      <td>0</td>\n",
       "    </tr>\n",
       "  </tbody>\n",
       "</table>\n",
       "<p>1 rows × 27 columns</p>\n",
       "</div>"
      ],
      "text/plain": [
       "                                                 url  urlid  \\\n",
       "0  http://www.bloomberg.com/news/2010-12-23/ibm-p...   4042   \n",
       "\n",
       "                                         boilerplate alchemy_category  \\\n",
       "0  {\"title\":\"IBM Sees Holographic Calls Air Breat...         business   \n",
       "\n",
       "  alchemy_category_score  avglinksize  commonlinkratio_1  commonlinkratio_2  \\\n",
       "0               0.789131     2.055556           0.676471           0.205882   \n",
       "\n",
       "   commonlinkratio_3  commonlinkratio_4  ...    is_news  lengthyLinkDomain  \\\n",
       "0           0.047059           0.023529  ...          1                  1   \n",
       "\n",
       "   linkwordscore  news_front_page  non_markup_alphanum_characters  \\\n",
       "0             24                0                            5424   \n",
       "\n",
       "   numberOfLinks  numwords_in_url parametrizedLinkRatio  \\\n",
       "0            170                8              0.152941   \n",
       "\n",
       "   spelling_errors_ratio  label  \n",
       "0                0.07913      0  \n",
       "\n",
       "[1 rows x 27 columns]"
      ]
     },
     "execution_count": 4,
     "metadata": {},
     "output_type": "execute_result"
    }
   ],
   "source": [
    "print su.columns.values\n",
    "su.head(1)"
   ]
  },
  {
   "cell_type": "code",
   "execution_count": 5,
   "metadata": {
    "collapsed": false,
    "scrolled": true
   },
   "outputs": [
    {
     "name": "stdout",
     "output_type": "stream",
     "text": [
      "<class 'pandas.core.frame.DataFrame'>\n",
      "RangeIndex: 7395 entries, 0 to 7394\n",
      "Data columns (total 27 columns):\n",
      "url                               7395 non-null object\n",
      "urlid                             7395 non-null int64\n",
      "boilerplate                       7395 non-null object\n",
      "alchemy_category                  7395 non-null object\n",
      "alchemy_category_score            7395 non-null object\n",
      "avglinksize                       7395 non-null float64\n",
      "commonlinkratio_1                 7395 non-null float64\n",
      "commonlinkratio_2                 7395 non-null float64\n",
      "commonlinkratio_3                 7395 non-null float64\n",
      "commonlinkratio_4                 7395 non-null float64\n",
      "compression_ratio                 7395 non-null float64\n",
      "embed_ratio                       7395 non-null float64\n",
      "framebased                        7395 non-null int64\n",
      "frameTagRatio                     7395 non-null float64\n",
      "hasDomainLink                     7395 non-null int64\n",
      "html_ratio                        7395 non-null float64\n",
      "image_ratio                       7395 non-null float64\n",
      "is_news                           7395 non-null object\n",
      "lengthyLinkDomain                 7395 non-null int64\n",
      "linkwordscore                     7395 non-null int64\n",
      "news_front_page                   7395 non-null object\n",
      "non_markup_alphanum_characters    7395 non-null int64\n",
      "numberOfLinks                     7395 non-null int64\n",
      "numwords_in_url                   7395 non-null int64\n",
      "parametrizedLinkRatio             7395 non-null float64\n",
      "spelling_errors_ratio             7395 non-null float64\n",
      "label                             7395 non-null int64\n",
      "dtypes: float64(12), int64(9), object(6)\n",
      "memory usage: 1.5+ MB\n"
     ]
    }
   ],
   "source": [
    "su.info()"
   ]
  },
  {
   "cell_type": "code",
   "execution_count": 6,
   "metadata": {
    "collapsed": false
   },
   "outputs": [
    {
     "name": "stdout",
     "output_type": "stream",
     "text": [
      "[u'url', u'boilerplate', u'alchemy_category', u'alchemy_category_score', u'is_news', u'news_front_page']\n"
     ]
    },
    {
     "data": {
      "text/html": [
       "<div>\n",
       "<table border=\"1\" class=\"dataframe\">\n",
       "  <thead>\n",
       "    <tr style=\"text-align: right;\">\n",
       "      <th></th>\n",
       "      <th>url</th>\n",
       "      <th>boilerplate</th>\n",
       "      <th>alchemy_category</th>\n",
       "      <th>alchemy_category_score</th>\n",
       "      <th>is_news</th>\n",
       "      <th>news_front_page</th>\n",
       "    </tr>\n",
       "  </thead>\n",
       "  <tbody>\n",
       "    <tr>\n",
       "      <th>0</th>\n",
       "      <td>http://www.bloomberg.com/news/2010-12-23/ibm-p...</td>\n",
       "      <td>{\"title\":\"IBM Sees Holographic Calls Air Breat...</td>\n",
       "      <td>business</td>\n",
       "      <td>0.789131</td>\n",
       "      <td>1</td>\n",
       "      <td>0</td>\n",
       "    </tr>\n",
       "  </tbody>\n",
       "</table>\n",
       "</div>"
      ],
      "text/plain": [
       "                                                 url  \\\n",
       "0  http://www.bloomberg.com/news/2010-12-23/ibm-p...   \n",
       "\n",
       "                                         boilerplate alchemy_category  \\\n",
       "0  {\"title\":\"IBM Sees Holographic Calls Air Breat...         business   \n",
       "\n",
       "  alchemy_category_score is_news news_front_page  \n",
       "0               0.789131       1               0  "
      ]
     },
     "execution_count": 6,
     "metadata": {},
     "output_type": "execute_result"
    }
   ],
   "source": [
    "#check to see which object columns are corrupt\n",
    "object_cols = []\n",
    "for i in su.columns:\n",
    "    if su[i].dtype == object:\n",
    "       # print i\n",
    "        object_cols.append(i)\n",
    "\n",
    "print object_cols\n",
    "su[object_cols].head(1)\n"
   ]
  },
  {
   "cell_type": "code",
   "execution_count": 7,
   "metadata": {
    "collapsed": false
   },
   "outputs": [
    {
     "name": "stdout",
     "output_type": "stream",
     "text": [
      "?                     2342\n",
      "recreation            1229\n",
      "arts_entertainment     941\n",
      "business               880\n",
      "health                 506\n",
      "sports                 380\n",
      "culture_politics       343\n",
      "computer_internet      296\n",
      "science_technology     289\n",
      "gaming                  76\n",
      "religion                72\n",
      "law_crime               31\n",
      "unknown                  6\n",
      "weather                  4\n",
      "Name: alchemy_category, dtype: int64\n"
     ]
    }
   ],
   "source": [
    "print su['alchemy_category'].value_counts() \n",
    "#check to see which categories there are, 6 unknown but 2342 ?,change the 2342 ? to unknown"
   ]
  },
  {
   "cell_type": "code",
   "execution_count": 8,
   "metadata": {
    "collapsed": false
   },
   "outputs": [
    {
     "data": {
      "text/plain": [
       "1    4552\n",
       "?    2843\n",
       "Name: is_news, dtype: int64"
      ]
     },
     "execution_count": 8,
     "metadata": {},
     "output_type": "execute_result"
    }
   ],
   "source": [
    "su.is_news.value_counts()"
   ]
  },
  {
   "cell_type": "code",
   "execution_count": 9,
   "metadata": {
    "collapsed": false
   },
   "outputs": [],
   "source": [
    "# change all ? in the number columns to NaN values in the columns where there are ?\n",
    "for i in object_cols:\n",
    "    if i == 'is_news':    # change is_news ? to be 0 since there are no 0's and kaggle said that they can only be 1, 0\n",
    "        su[i] = su[i].apply(lambda x: 0 if x == '?' else x)    \n",
    "    else:\n",
    "        su[i] = su[i].apply(lambda x: np.nan if x == '?' else x)\n",
    "\n",
    "su['alchemy_category'] = su['alchemy_category'].fillna('unknown')"
   ]
  },
  {
   "cell_type": "code",
   "execution_count": 10,
   "metadata": {
    "collapsed": false
   },
   "outputs": [
    {
     "data": {
      "text/plain": [
       "unknown               2348\n",
       "recreation            1229\n",
       "arts_entertainment     941\n",
       "business               880\n",
       "health                 506\n",
       "sports                 380\n",
       "culture_politics       343\n",
       "computer_internet      296\n",
       "science_technology     289\n",
       "gaming                  76\n",
       "religion                72\n",
       "law_crime               31\n",
       "weather                  4\n",
       "Name: alchemy_category, dtype: int64"
      ]
     },
     "execution_count": 10,
     "metadata": {},
     "output_type": "execute_result"
    }
   ],
   "source": [
    "su.alchemy_category.value_counts()"
   ]
  },
  {
   "cell_type": "code",
   "execution_count": 11,
   "metadata": {
    "collapsed": false
   },
   "outputs": [],
   "source": [
    "su.head()\n",
    "su.alchemy_category_score = su.alchemy_category_score.apply(lambda x: float(x))\n",
    "#change alchemy category score to float"
   ]
  },
  {
   "cell_type": "code",
   "execution_count": 12,
   "metadata": {
    "collapsed": false
   },
   "outputs": [
    {
     "data": {
      "text/plain": [
       "<matplotlib.axes._subplots.AxesSubplot at 0x116e9bc50>"
      ]
     },
     "execution_count": 12,
     "metadata": {},
     "output_type": "execute_result"
    },
    {
     "data": {
      "image/png": "[encoded data removed]",
      "text/plain": [
       "<matplotlib.figure.Figure at 0x104055690>"
      ]
     },
     "metadata": {},
     "output_type": "display_data"
    }
   ],
   "source": [
    "sns.set(rc={\"figure.figsize\": (6, 6)})\n",
    "su.alchemy_category.value_counts().plot(kind = 'barh')"
   ]
  },
  {
   "cell_type": "code",
   "execution_count": 13,
   "metadata": {
    "collapsed": false,
    "scrolled": true
   },
   "outputs": [
    {
     "name": "stdout",
     "output_type": "stream",
     "text": [
      "False    5053\n",
      "True     2342\n",
      "Name: alchemy_category_score, dtype: int64\n",
      "count    5053.000000\n",
      "mean        0.603334\n",
      "std         0.212864\n",
      "min         0.070833\n",
      "25%         0.452424\n",
      "50%         0.625616\n",
      "75%         0.780851\n",
      "max         0.999426\n",
      "Name: alchemy_category_score, dtype: float64\n",
      "median 0.625616\n"
     ]
    },
    {
     "data": {
      "text/plain": [
       "<matplotlib.axes._subplots.AxesSubplot at 0x11724fed0>"
      ]
     },
     "execution_count": 13,
     "metadata": {},
     "output_type": "execute_result"
    },
    {
     "data": {
      "image/png": "[encoded data removed]",
      "text/plain": [
       "<matplotlib.figure.Figure at 0x117200e90>"
      ]
     },
     "metadata": {},
     "output_type": "display_data"
    }
   ],
   "source": [
    "print su.alchemy_category_score.isnull().value_counts()\n",
    "print su.alchemy_category_score.describe()\n",
    "print 'median', su.alchemy_category_score.median()\n",
    "sns.distplot(su[~su.alchemy_category_score.isnull()].alchemy_category_score)\n",
    "\n"
   ]
  },
  {
   "cell_type": "code",
   "execution_count": 14,
   "metadata": {
    "collapsed": false,
    "scrolled": true
   },
   "outputs": [
    {
     "data": {
      "text/plain": [
       "0.6022903188027942"
      ]
     },
     "execution_count": 14,
     "metadata": {},
     "output_type": "execute_result"
    },
    {
     "data": {
      "image/png": "[encoded data removed]",
      "text/plain": [
       "<matplotlib.figure.Figure at 0x11724f290>"
      ]
     },
     "metadata": {},
     "output_type": "display_data"
    }
   ],
   "source": [
    "# create normal distribution with mean and std deviation so it has noise and add that to the data\n",
    "# mean 0.603334, std 0.212864   2342 values total\n",
    "# do this to not inflate distribution with the whole mean\n",
    "\n",
    "mu = 0.603334\n",
    "s = 0.212864\n",
    "size = 2342\n",
    "np.random.seed(5)\n",
    "normal_alchemy_score = pd.Series(np.random.normal(mu,s,size))\n",
    "sns.distplot(normal_alchemy_score)\n",
    "normal_alchemy_score.mean()"
   ]
  },
  {
   "cell_type": "code",
   "execution_count": 15,
   "metadata": {
    "collapsed": false,
    "scrolled": true
   },
   "outputs": [
    {
     "name": "stdout",
     "output_type": "stream",
     "text": [
      "False    7395\n",
      "Name: alchemy_category_score, dtype: int64\n"
     ]
    }
   ],
   "source": [
    "su.ix[su.alchemy_category_score.isnull(), 'alchemy_category_score'] = normal_alchemy_score.values\n",
    "print su.alchemy_category_score.isnull().value_counts()"
   ]
  },
  {
   "cell_type": "code",
   "execution_count": 16,
   "metadata": {
    "collapsed": false
   },
   "outputs": [
    {
     "data": {
      "text/plain": [
       "<matplotlib.axes._subplots.AxesSubplot at 0x117e8d490>"
      ]
     },
     "execution_count": 16,
     "metadata": {},
     "output_type": "execute_result"
    },
    {
     "data": {
      "image/png": "[encoded data removed]",
      "text/plain": [
       "<matplotlib.figure.Figure at 0x104055490>"
      ]
     },
     "metadata": {},
     "output_type": "display_data"
    }
   ],
   "source": [
    "sns.distplot(su.alchemy_category_score)"
   ]
  },
  {
   "cell_type": "code",
   "execution_count": 17,
   "metadata": {
    "collapsed": false
   },
   "outputs": [
    {
     "data": {
      "text/plain": [
       "<matplotlib.axes._subplots.AxesSubplot at 0x118423150>"
      ]
     },
     "execution_count": 17,
     "metadata": {},
     "output_type": "execute_result"
    },
    {
     "data": {
      "image/png": "[encoded data removed]",
      "text/plain": [
       "<matplotlib.figure.Figure at 0x117f03890>"
      ]
     },
     "metadata": {},
     "output_type": "display_data"
    }
   ],
   "source": [
    "sns.set(rc={\"figure.figsize\": (12, 12)})\n",
    "sns.heatmap(su.corr())"
   ]
  },
  {
   "cell_type": "code",
   "execution_count": 18,
   "metadata": {
    "collapsed": false
   },
   "outputs": [
    {
     "data": {
      "text/plain": [
       "1    3796\n",
       "0    3599\n",
       "Name: label, dtype: int64"
      ]
     },
     "execution_count": 18,
     "metadata": {},
     "output_type": "execute_result"
    }
   ],
   "source": [
    "su.label.value_counts()  # ratio of evergreen to not evergreen"
   ]
  },
  {
   "cell_type": "code",
   "execution_count": 19,
   "metadata": {
    "collapsed": false
   },
   "outputs": [],
   "source": [
    "#sns.pairplot(su_scale_normal)"
   ]
  },
  {
   "cell_type": "markdown",
   "metadata": {},
   "source": [
    "## 3. Use statsmodels' logistic regression function to look at variable significance\n",
    "\n",
    "The **`import statsmodels.formula.api as smf`** code below gives us access to a statsmodels api that can run logistic regressions using patsy-style formulas.\n",
    "\n",
    "Ex:\n",
    "\n",
    "```python\n",
    "formula = 'target ~ var1 + var2 + C(var3) -1'\n",
    "logreg = smf.logit(formula, data=data)\n",
    "logreg_results = logreg.fit()\n",
    "print logreg_results.summary()\n",
    "```\n",
    "\n",
    "---"
   ]
  },
  {
   "cell_type": "code",
   "execution_count": 20,
   "metadata": {
    "collapsed": false
   },
   "outputs": [
    {
     "name": "stdout",
     "output_type": "stream",
     "text": [
      "Optimization terminated successfully.\n",
      "         Current function value: 0.670765\n",
      "         Iterations 6\n",
      "                           Logit Regression Results                           \n",
      "==============================================================================\n",
      "Dep. Variable:                  label   No. Observations:                 7395\n",
      "Model:                          Logit   Df Residuals:                     7389\n",
      "Method:                           MLE   Df Model:                            5\n",
      "Date:                Wed, 18 May 2016   Pseudo R-squ.:                 0.03179\n",
      "Time:                        22:31:18   Log-Likelihood:                -4960.3\n",
      "converged:                       True   LL-Null:                       -5123.2\n",
      "                                        LLR p-value:                 2.861e-68\n",
      "==========================================================================================\n",
      "                             coef    std err          z      P>|z|      [95.0% Conf. Int.]\n",
      "------------------------------------------------------------------------------------------\n",
      "Intercept                  0.8484      0.136      6.256      0.000         0.583     1.114\n",
      "alchemy_category_score    -0.5335      0.113     -4.720      0.000        -0.755    -0.312\n",
      "frameTagRatio            -10.6479      0.708    -15.044      0.000       -12.035    -9.261\n",
      "html_ratio                 0.7701      0.511      1.509      0.131        -0.230     1.771\n",
      "image_ratio               -0.0741      0.022     -3.391      0.001        -0.117    -0.031\n",
      "compression_ratio         -0.0184      0.005     -4.079      0.000        -0.027    -0.010\n",
      "==========================================================================================\n"
     ]
    }
   ],
   "source": [
    "import statsmodels.formula.api as smf\n",
    "formula = 'label ~ alchemy_category_score + frameTagRatio + html_ratio + image_ratio + compression_ratio'\n",
    "logreg = smf.logit(formula, data = su)\n",
    "logreg_results = logreg.fit()\n",
    "print logreg_results.summary()"
   ]
  },
  {
   "cell_type": "code",
   "execution_count": 21,
   "metadata": {
    "collapsed": false
   },
   "outputs": [
    {
     "data": {
      "text/plain": [
       "(7395, 27)"
      ]
     },
     "execution_count": 21,
     "metadata": {},
     "output_type": "execute_result"
    }
   ],
   "source": [
    "su.shape"
   ]
  },
  {
   "cell_type": "code",
   "execution_count": 22,
   "metadata": {
    "collapsed": false
   },
   "outputs": [
    {
     "name": "stdout",
     "output_type": "stream",
     "text": [
      "Optimization terminated successfully.\n",
      "         Current function value: 0.645454\n",
      "         Iterations 5\n",
      "                           Logit Regression Results                           \n",
      "==============================================================================\n",
      "Dep. Variable:                  label   No. Observations:                 6147\n",
      "Model:                          Logit   Df Residuals:                     6125\n",
      "Method:                           MLE   Df Model:                           21\n",
      "Date:                Wed, 18 May 2016   Pseudo R-squ.:                 0.06804\n",
      "Time:                        22:31:21   Log-Likelihood:                -3967.6\n",
      "converged:                       True   LL-Null:                       -4257.3\n",
      "                                        LLR p-value:                3.465e-109\n",
      "==================================================================================================\n",
      "                                     coef    std err          z      P>|z|      [95.0% Conf. Int.]\n",
      "--------------------------------------------------------------------------------------------------\n",
      "is_news[0]                         1.7400      0.219      7.951      0.000         1.311     2.169\n",
      "is_news[1]                         1.7832      0.219      8.126      0.000         1.353     2.213\n",
      "news_front_page[T.1]              -0.5894      0.136     -4.320      0.000        -0.857    -0.322\n",
      "alchemy_category_score            -0.7231      0.129     -5.584      0.000        -0.977    -0.469\n",
      "avglinksize                        0.0024      0.003      0.765      0.444        -0.004     0.008\n",
      "commonlinkratio_1                  0.8426      0.248      3.394      0.001         0.356     1.329\n",
      "commonlinkratio_2                 -0.4054      0.422     -0.960      0.337        -1.233     0.422\n",
      "commonlinkratio_3                  3.9185      0.841      4.660      0.000         2.270     5.567\n",
      "commonlinkratio_4                 -2.6621      0.857     -3.106      0.002        -4.342    -0.983\n",
      "compression_ratio                 -0.0111      0.011     -1.015      0.310        -0.033     0.010\n",
      "embed_ratio                       -0.2506      0.187     -1.343      0.179        -0.616     0.115\n",
      "frameTagRatio                     -7.3589      0.894     -8.230      0.000        -9.111    -5.606\n",
      "hasDomainLink                      0.0969      0.193      0.501      0.616        -0.282     0.476\n",
      "html_ratio                        -0.7815      0.656     -1.191      0.234        -2.068     0.505\n",
      "image_ratio                       -0.0190      0.016     -1.171      0.242        -0.051     0.013\n",
      "lengthyLinkDomain                 -0.0153      0.069     -0.222      0.824        -0.150     0.119\n",
      "linkwordscore                     -0.0261      0.002    -13.330      0.000        -0.030    -0.022\n",
      "non_markup_alphanum_characters -2.666e-05   4.94e-06     -5.395      0.000     -3.63e-05  -1.7e-05\n",
      "numberOfLinks                      0.0010      0.000      3.927      0.000         0.000     0.001\n",
      "numwords_in_url                   -0.0387      0.009     -4.089      0.000        -0.057    -0.020\n",
      "parametrizedLinkRatio             -0.0654      0.157     -0.416      0.678        -0.374     0.243\n",
      "spelling_errors_ratio             -2.2195      0.458     -4.842      0.000        -3.118    -1.321\n",
      "==================================================================================================\n"
     ]
    }
   ],
   "source": [
    "#### ALL VARIABLES\n",
    "formula = 'label ~  alchemy_category_score + avglinksize + commonlinkratio_1 \\\n",
    "         + commonlinkratio_2 + commonlinkratio_3 + commonlinkratio_4 + compression_ratio + embed_ratio \\\n",
    "         + frameTagRatio + hasDomainLink+html_ratio + is_news + image_ratio + lengthyLinkDomain + linkwordscore\\\n",
    "         + news_front_page + non_markup_alphanum_characters + numberOfLinks \\\n",
    "         + numwords_in_url+parametrizedLinkRatio+spelling_errors_ratio + news_front_page -1'\n",
    "\n",
    "logreg = smf.logit(formula, data = su)\n",
    "logreg_results = logreg.fit()\n",
    "print logreg_results.summary()"
   ]
  },
  {
   "cell_type": "markdown",
   "metadata": {},
   "source": [
    "### 3.1 Run a logistic regression predicting evergreen from the numeric columns\n",
    "\n",
    "And print out the results as shown in the example above.\n",
    "\n",
    "---"
   ]
  },
  {
   "cell_type": "code",
   "execution_count": 23,
   "metadata": {
    "collapsed": false
   },
   "outputs": [],
   "source": [
    "#su.head()"
   ]
  },
  {
   "cell_type": "code",
   "execution_count": 24,
   "metadata": {
    "collapsed": false
   },
   "outputs": [
    {
     "name": "stdout",
     "output_type": "stream",
     "text": [
      "[u'alchemy_category_score', u'avglinksize', u'commonlinkratio_1', u'commonlinkratio_2', u'commonlinkratio_3', u'commonlinkratio_4', u'compression_ratio', u'embed_ratio', u'frameTagRatio', u'html_ratio', u'image_ratio', u'parametrizedLinkRatio', u'spelling_errors_ratio']\n",
      "0.576403113478\n"
     ]
    }
   ],
   "source": [
    "## EVERGREEN FROM NUMERIC COLS\n",
    "\n",
    "from sklearn.linear_model import LogisticRegression\n",
    "from sklearn import cross_validation\n",
    "import patsy\n",
    "\n",
    "numeric_cols = [c for c in su if su[c].dtype == float ]\n",
    "print numeric_cols\n",
    "formula = 'label ~ alchemy_category_score + avglinksize+ commonlinkratio_1 + commonlinkratio_2 \\\n",
    "+ commonlinkratio_3 + commonlinkratio_4 + compression_ratio + embed_ratio + frameTagRatio\\\n",
    "+ html_ratio + image_ratio + parametrizedLinkRatio + spelling_errors_ratio'\n",
    "\n",
    "\n",
    "y_mat, x_mat = patsy.dmatrices(formula, data = su)\n",
    "\n",
    "x_train, x_test, y_train, y_test = cross_validation.train_test_split(x_mat,y_mat, test_size = .33)\n",
    "logreg = LogisticRegression()\n",
    "logreg = logreg.fit(x_train, np.ravel(y_train))\n",
    "\n",
    "y_pred = logreg.predict(x_test)\n",
    "print logreg.score(x_test,y_test)"
   ]
  },
  {
   "cell_type": "code",
   "execution_count": 25,
   "metadata": {
    "collapsed": false,
    "scrolled": true
   },
   "outputs": [
    {
     "data": {
      "text/plain": [
       "(7395, 14)"
      ]
     },
     "execution_count": 25,
     "metadata": {},
     "output_type": "execute_result"
    }
   ],
   "source": [
    "x_mat.shape"
   ]
  },
  {
   "cell_type": "markdown",
   "metadata": {},
   "source": [
    "### 3.2 Run a logistic regression predicting evergreen from the numeric columns and a categorical variable of alchemy_category\n",
    "\n",
    "And print out the results as shown in the example.\n",
    "\n",
    "---"
   ]
  },
  {
   "cell_type": "code",
   "execution_count": 26,
   "metadata": {
    "collapsed": false,
    "scrolled": true
   },
   "outputs": [
    {
     "name": "stdout",
     "output_type": "stream",
     "text": [
      "0.626792298238\n"
     ]
    }
   ],
   "source": [
    "# EVER GREEN FROM NUMERIC AND ALCHEMY_CATEGORY\n",
    "\n",
    "from sklearn.linear_model import LogisticRegression\n",
    "from sklearn import cross_validation\n",
    "import patsy\n",
    "\n",
    "\n",
    "formula = 'label ~ alchemy_category_score + C(alchemy_category) + avglinksize+ commonlinkratio_1\\\n",
    "+ commonlinkratio_2 + commonlinkratio_3 + commonlinkratio_4 + compression_ratio + embed_ratio + frameTagRatio\\\n",
    "+ html_ratio + image_ratio + parametrizedLinkRatio + spelling_errors_ratio - 1'\n",
    "\n",
    "\n",
    "y_mat, x_mat = patsy.dmatrices(formula, data = su)\n",
    "\n",
    "x_train, x_test, y_train, y_test = cross_validation.train_test_split(x_mat,y_mat, test_size = .33)\n",
    "logreg = LogisticRegression()\n",
    "logreg = logreg.fit(x_train, np.ravel(y_train))\n",
    "\n",
    "y_pred = logreg.predict(x_test)\n",
    "print logreg.score(x_test,y_test)\n"
   ]
  },
  {
   "cell_type": "code",
   "execution_count": 27,
   "metadata": {
    "collapsed": false
   },
   "outputs": [
    {
     "name": "stdout",
     "output_type": "stream",
     "text": [
      "0.642359688652\n"
     ]
    }
   ],
   "source": [
    "# EVER GREEN FROM NUMERIC AND ALCHEMY_CATEGORY and is_news category\n",
    "\n",
    "from sklearn.linear_model import LogisticRegression\n",
    "from sklearn import cross_validation\n",
    "import patsy\n",
    "\n",
    "\n",
    "formula = 'label ~ alchemy_category_score + C(alchemy_category) + C(is_news) + avglinksize+ commonlinkratio_1\\\n",
    "+ commonlinkratio_2 + commonlinkratio_3 + commonlinkratio_4 + compression_ratio + embed_ratio + frameTagRatio\\\n",
    "+ html_ratio + image_ratio + parametrizedLinkRatio + spelling_errors_ratio'\n",
    "\n",
    "\n",
    "y_mat, x_mat = patsy.dmatrices(formula, data = su)\n",
    "\n",
    "x_train, x_test, y_train, y_test = cross_validation.train_test_split(x_mat,y_mat, test_size = .33)\n",
    "logreg = LogisticRegression()\n",
    "logreg = logreg.fit(x_train, np.ravel(y_train))\n",
    "\n",
    "y_pred = logreg.predict(x_test)\n",
    "print logreg.score(x_test,y_test)\n",
    "\n"
   ]
  },
  {
   "cell_type": "markdown",
   "metadata": {},
   "source": [
    "## 4. Use sklearn to cross-validate the accuracy of the model above\n",
    "\n",
    "Normalize the numeric and categorical columns of the predictor matrix.\n",
    "\n",
    "---"
   ]
  },
  {
   "cell_type": "code",
   "execution_count": 63,
   "metadata": {
    "collapsed": false
   },
   "outputs": [
    {
     "data": {
      "text/html": [
       "<div>\n",
       "<table border=\"1\" class=\"dataframe\">\n",
       "  <thead>\n",
       "    <tr style=\"text-align: right;\">\n",
       "      <th></th>\n",
       "      <th>alchemy_category_score</th>\n",
       "      <th>avglinksize</th>\n",
       "      <th>commonlinkratio_1</th>\n",
       "      <th>commonlinkratio_2</th>\n",
       "      <th>commonlinkratio_3</th>\n",
       "      <th>commonlinkratio_4</th>\n",
       "      <th>compression_ratio</th>\n",
       "      <th>embed_ratio</th>\n",
       "      <th>frameTagRatio</th>\n",
       "      <th>html_ratio</th>\n",
       "      <th>image_ratio</th>\n",
       "      <th>parametrizedLinkRatio</th>\n",
       "      <th>spelling_errors_ratio</th>\n",
       "      <th>label</th>\n",
       "      <th>alchemy_category</th>\n",
       "      <th>is_news</th>\n",
       "      <th>news_front_page</th>\n",
       "      <th>hasDomainLink</th>\n",
       "      <th>lengthyLinkDomain</th>\n",
       "    </tr>\n",
       "  </thead>\n",
       "  <tbody>\n",
       "    <tr>\n",
       "      <th>0</th>\n",
       "      <td>0.876178</td>\n",
       "      <td>-0.081936</td>\n",
       "      <td>1.025140</td>\n",
       "      <td>-0.055864</td>\n",
       "      <td>-0.468893</td>\n",
       "      <td>-0.354305</td>\n",
       "      <td>-0.317535</td>\n",
       "      <td>0.338451</td>\n",
       "      <td>0.828822</td>\n",
       "      <td>0.229640</td>\n",
       "      <td>-0.141626</td>\n",
       "      <td>-0.108698</td>\n",
       "      <td>-0.278821</td>\n",
       "      <td>0</td>\n",
       "      <td>business</td>\n",
       "      <td>1</td>\n",
       "      <td>0</td>\n",
       "      <td>0</td>\n",
       "      <td>1</td>\n",
       "    </tr>\n",
       "    <tr>\n",
       "      <th>1</th>\n",
       "      <td>-0.135840</td>\n",
       "      <td>0.106284</td>\n",
       "      <td>0.195886</td>\n",
       "      <td>0.508987</td>\n",
       "      <td>1.269469</td>\n",
       "      <td>1.309714</td>\n",
       "      <td>-0.313176</td>\n",
       "      <td>0.338451</td>\n",
       "      <td>1.020244</td>\n",
       "      <td>-0.577072</td>\n",
       "      <td>-0.097460</td>\n",
       "      <td>0.048853</td>\n",
       "      <td>0.305780</td>\n",
       "      <td>1</td>\n",
       "      <td>recreation</td>\n",
       "      <td>1</td>\n",
       "      <td>0</td>\n",
       "      <td>0</td>\n",
       "      <td>1</td>\n",
       "    </tr>\n",
       "    <tr>\n",
       "      <th>2</th>\n",
       "      <td>1.852471</td>\n",
       "      <td>-0.043962</td>\n",
       "      <td>0.461692</td>\n",
       "      <td>0.733430</td>\n",
       "      <td>0.292698</td>\n",
       "      <td>-0.091238</td>\n",
       "      <td>-0.303219</td>\n",
       "      <td>0.338451</td>\n",
       "      <td>0.386654</td>\n",
       "      <td>-0.140539</td>\n",
       "      <td>-0.080848</td>\n",
       "      <td>-0.033813</td>\n",
       "      <td>-0.550387</td>\n",
       "      <td>1</td>\n",
       "      <td>health</td>\n",
       "      <td>1</td>\n",
       "      <td>0</td>\n",
       "      <td>0</td>\n",
       "      <td>1</td>\n",
       "    </tr>\n",
       "    <tr>\n",
       "      <th>3</th>\n",
       "      <td>0.933217</td>\n",
       "      <td>-0.141386</td>\n",
       "      <td>-0.335890</td>\n",
       "      <td>-0.777414</td>\n",
       "      <td>-0.785550</td>\n",
       "      <td>-0.678274</td>\n",
       "      <td>-0.311059</td>\n",
       "      <td>0.338451</td>\n",
       "      <td>0.951555</td>\n",
       "      <td>0.607347</td>\n",
       "      <td>-0.125235</td>\n",
       "      <td>-0.715808</td>\n",
       "      <td>-0.004574</td>\n",
       "      <td>1</td>\n",
       "      <td>health</td>\n",
       "      <td>1</td>\n",
       "      <td>0</td>\n",
       "      <td>0</td>\n",
       "      <td>0</td>\n",
       "    </tr>\n",
       "    <tr>\n",
       "      <th>4</th>\n",
       "      <td>0.546781</td>\n",
       "      <td>-0.009902</td>\n",
       "      <td>0.156397</td>\n",
       "      <td>0.055487</td>\n",
       "      <td>0.327100</td>\n",
       "      <td>-0.083332</td>\n",
       "      <td>-0.317121</td>\n",
       "      <td>0.338451</td>\n",
       "      <td>-0.760377</td>\n",
       "      <td>-0.093184</td>\n",
       "      <td>-0.117352</td>\n",
       "      <td>-0.404279</td>\n",
       "      <td>-0.235413</td>\n",
       "      <td>0</td>\n",
       "      <td>sports</td>\n",
       "      <td>1</td>\n",
       "      <td>0</td>\n",
       "      <td>0</td>\n",
       "      <td>1</td>\n",
       "    </tr>\n",
       "  </tbody>\n",
       "</table>\n",
       "</div>"
      ],
      "text/plain": [
       "   alchemy_category_score  avglinksize  commonlinkratio_1  commonlinkratio_2  \\\n",
       "0                0.876178    -0.081936           1.025140          -0.055864   \n",
       "1               -0.135840     0.106284           0.195886           0.508987   \n",
       "2                1.852471    -0.043962           0.461692           0.733430   \n",
       "3                0.933217    -0.141386          -0.335890          -0.777414   \n",
       "4                0.546781    -0.009902           0.156397           0.055487   \n",
       "\n",
       "   commonlinkratio_3  commonlinkratio_4  compression_ratio  embed_ratio  \\\n",
       "0          -0.468893          -0.354305          -0.317535     0.338451   \n",
       "1           1.269469           1.309714          -0.313176     0.338451   \n",
       "2           0.292698          -0.091238          -0.303219     0.338451   \n",
       "3          -0.785550          -0.678274          -0.311059     0.338451   \n",
       "4           0.327100          -0.083332          -0.317121     0.338451   \n",
       "\n",
       "   frameTagRatio  html_ratio  image_ratio  parametrizedLinkRatio  \\\n",
       "0       0.828822    0.229640    -0.141626              -0.108698   \n",
       "1       1.020244   -0.577072    -0.097460               0.048853   \n",
       "2       0.386654   -0.140539    -0.080848              -0.033813   \n",
       "3       0.951555    0.607347    -0.125235              -0.715808   \n",
       "4      -0.760377   -0.093184    -0.117352              -0.404279   \n",
       "\n",
       "   spelling_errors_ratio  label alchemy_category is_news news_front_page  \\\n",
       "0              -0.278821      0         business       1               0   \n",
       "1               0.305780      1       recreation       1               0   \n",
       "2              -0.550387      1           health       1               0   \n",
       "3              -0.004574      1           health       1               0   \n",
       "4              -0.235413      0           sports       1               0   \n",
       "\n",
       "   hasDomainLink  lengthyLinkDomain  \n",
       "0              0                  1  \n",
       "1              0                  1  \n",
       "2              0                  1  \n",
       "3              0                  0  \n",
       "4              0                  1  "
      ]
     },
     "execution_count": 63,
     "metadata": {},
     "output_type": "execute_result"
    }
   ],
   "source": [
    "\n",
    "# normalized data\n",
    "numeric_cols = [c for c in su if su[c].dtype == float ]\n",
    "\n",
    "\n",
    "su_scale = su[numeric_cols]\n",
    "\n",
    "su_scale_normal = (su_scale - su_scale.mean()) / su_scale.std()\n",
    "su_scale_normal['label'] = su.label\n",
    "su_scale_normal['alchemy_category'] = su.alchemy_category\n",
    "su_scale_normal['is_news'] = su.is_news\n",
    "su_scale_normal['news_front_page'] = su.news_front_page\n",
    "su_scale_normal['hasDomainLink'] = su.hasDomainLink\n",
    "su_scale_normal['lengthyLinkDomain'] = su.lengthyLinkDomain\n",
    "su_scale_normal.head()\n",
    "\n"
   ]
  },
  {
   "cell_type": "code",
   "execution_count": 64,
   "metadata": {
    "collapsed": false
   },
   "outputs": [
    {
     "data": {
      "text/plain": [
       "<matplotlib.axes._subplots.AxesSubplot at 0x121b9a4d0>"
      ]
     },
     "execution_count": 64,
     "metadata": {},
     "output_type": "execute_result"
    },
    {
     "data": {
      "image/png": "[encoded data removed]",
      "text/plain": [
       "<matplotlib.figure.Figure at 0x121b92110>"
      ]
     },
     "metadata": {},
     "output_type": "display_data"
    }
   ],
   "source": [
    "sns.heatmap(su_scale_normal.corr())"
   ]
  },
  {
   "cell_type": "code",
   "execution_count": 30,
   "metadata": {
    "collapsed": false
   },
   "outputs": [
    {
     "name": "stdout",
     "output_type": "stream",
     "text": [
      "0.62965997542\n"
     ]
    }
   ],
   "source": [
    "#normalized numerical and some categorical\n",
    "formula = 'label ~ alchemy_category_score + C(alchemy_category) + avglinksize+ commonlinkratio_1\\\n",
    "+ commonlinkratio_2 + commonlinkratio_3 + commonlinkratio_4 + compression_ratio + embed_ratio + frameTagRatio\\\n",
    "+ html_ratio + image_ratio + parametrizedLinkRatio + spelling_errors_ratio'\n",
    "\n",
    "\n",
    "y_mat, x_mat = patsy.dmatrices(formula, data = su_scale_normal)\n",
    "\n",
    "x_train, x_test, y_train, y_test = cross_validation.train_test_split(x_mat,y_mat, test_size = .33)\n",
    "logreg = LogisticRegression()\n",
    "logreg = logreg.fit(x_train, np.ravel(y_train))\n",
    "\n",
    "y_pred = logreg.predict(x_test)\n",
    "print logreg.score(x_test,y_test)\n"
   ]
  },
  {
   "cell_type": "code",
   "execution_count": 31,
   "metadata": {
    "collapsed": false
   },
   "outputs": [
    {
     "name": "stdout",
     "output_type": "stream",
     "text": [
      "0.66535239034\n"
     ]
    }
   ],
   "source": [
    "#normalized numerical and some categorical but added is_news + news_front_page\n",
    "formula = 'label ~ alchemy_category_score + C(alchemy_category) + avglinksize+ commonlinkratio_1\\\n",
    "+ commonlinkratio_2 + commonlinkratio_3 + commonlinkratio_4 + compression_ratio + embed_ratio + frameTagRatio\\\n",
    "+ html_ratio + image_ratio + parametrizedLinkRatio + spelling_errors_ratio + C(is_news) + C(news_front_page)' \n",
    "\n",
    "\n",
    "y_mat, x_mat = patsy.dmatrices(formula, data = su_scale_normal)\n",
    "\n",
    "x_train, x_test, y_train, y_test = cross_validation.train_test_split(x_mat,y_mat, test_size = .33)\n",
    "logreg = LogisticRegression()\n",
    "logreg = logreg.fit(x_train, np.ravel(y_train))\n",
    "\n",
    "y_pred = logreg.predict(x_test)\n",
    "print logreg.score(x_test,y_test)"
   ]
  },
  {
   "cell_type": "code",
   "execution_count": 32,
   "metadata": {
    "collapsed": false
   },
   "outputs": [
    {
     "name": "stdout",
     "output_type": "stream",
     "text": [
      "0.666830951207\n"
     ]
    }
   ],
   "source": [
    "#normalized numerical and some categorical but added is_news + news_front_page + add rest categorical variables\n",
    "formula = 'label ~ alchemy_category_score + C(alchemy_category) + avglinksize+ commonlinkratio_1\\\n",
    "+ commonlinkratio_2 + commonlinkratio_3 + commonlinkratio_4 + compression_ratio + embed_ratio + frameTagRatio\\\n",
    "+ html_ratio + image_ratio + parametrizedLinkRatio + spelling_errors_ratio + C(is_news) + C(news_front_page)\\\n",
    "+ C(hasDomainLink) + C(lengthyLinkDomain) - 1' \n",
    "\n",
    "\n",
    "y_mat, x_mat = patsy.dmatrices(formula, data = su_scale_normal)\n",
    "\n",
    "x_train, x_test, y_train, y_test = cross_validation.train_test_split(x_mat,y_mat, test_size = .33)\n",
    "logreg = LogisticRegression()\n",
    "logreg = logreg.fit(x_train, np.ravel(y_train))\n",
    "\n",
    "y_pred = logreg.predict(x_test)\n",
    "print logreg.score(x_test,y_test)"
   ]
  },
  {
   "cell_type": "code",
   "execution_count": 33,
   "metadata": {
    "collapsed": false
   },
   "outputs": [
    {
     "name": "stdout",
     "output_type": "stream",
     "text": [
      "<class 'pandas.core.frame.DataFrame'>\n",
      "RangeIndex: 7395 entries, 0 to 7394\n",
      "Data columns (total 27 columns):\n",
      "url                               7395 non-null object\n",
      "urlid                             7395 non-null int64\n",
      "boilerplate                       7395 non-null object\n",
      "alchemy_category                  7395 non-null object\n",
      "alchemy_category_score            7395 non-null float64\n",
      "avglinksize                       7395 non-null float64\n",
      "commonlinkratio_1                 7395 non-null float64\n",
      "commonlinkratio_2                 7395 non-null float64\n",
      "commonlinkratio_3                 7395 non-null float64\n",
      "commonlinkratio_4                 7395 non-null float64\n",
      "compression_ratio                 7395 non-null float64\n",
      "embed_ratio                       7395 non-null float64\n",
      "framebased                        7395 non-null int64\n",
      "frameTagRatio                     7395 non-null float64\n",
      "hasDomainLink                     7395 non-null int64\n",
      "html_ratio                        7395 non-null float64\n",
      "image_ratio                       7395 non-null float64\n",
      "is_news                           7395 non-null object\n",
      "lengthyLinkDomain                 7395 non-null int64\n",
      "linkwordscore                     7395 non-null int64\n",
      "news_front_page                   6147 non-null object\n",
      "non_markup_alphanum_characters    7395 non-null int64\n",
      "numberOfLinks                     7395 non-null int64\n",
      "numwords_in_url                   7395 non-null int64\n",
      "parametrizedLinkRatio             7395 non-null float64\n",
      "spelling_errors_ratio             7395 non-null float64\n",
      "label                             7395 non-null int64\n",
      "dtypes: float64(13), int64(9), object(5)\n",
      "memory usage: 1.5+ MB\n"
     ]
    }
   ],
   "source": [
    "su.info()"
   ]
  },
  {
   "cell_type": "code",
   "execution_count": null,
   "metadata": {
    "collapsed": false
   },
   "outputs": [],
   "source": []
  },
  {
   "cell_type": "markdown",
   "metadata": {},
   "source": [
    "## 5. Gridsearch regularization parameters for logistic regression\n",
    "\n",
    "Find the best regularization type (Ridge, Lasso) across a set of regularization strengths.\n",
    "\n",
    "[NOTE: C is the inverse of the regularization strength. Lower C values are stronger regularization. Having a C higher than 1 will significantly slow down the search. I'm not particularly interested in values over 1, since this is the default regularization strength in LogisticRegression.]\n",
    "\n",
    "**After you find the best set of parameters, build a Logistic Regression with those parameters and crossvalidate the score.**\n",
    "\n",
    "[NOTE 2: to run Lasso regularization the solver should be `'liblinear'`]\n",
    "\n",
    "---"
   ]
  },
  {
   "cell_type": "code",
   "execution_count": 34,
   "metadata": {
    "collapsed": false
   },
   "outputs": [
    {
     "data": {
      "text/plain": [
       "(7395, 19)"
      ]
     },
     "execution_count": 34,
     "metadata": {},
     "output_type": "execute_result"
    }
   ],
   "source": [
    "su_scale_normal.shape"
   ]
  },
  {
   "cell_type": "code",
   "execution_count": 35,
   "metadata": {
    "collapsed": false,
    "scrolled": true
   },
   "outputs": [
    {
     "name": "stdout",
     "output_type": "stream",
     "text": [
      "Best Estimator: GridSearchCV(cv=3, error_score='raise',\n",
      "       estimator=LogisticRegression(C=1.0, class_weight=None, dual=False, fit_intercept=True,\n",
      "          intercept_scaling=1, max_iter=100, multi_class='ovr', n_jobs=1,\n",
      "          penalty='l2', random_state=None, solver='liblinear', tol=0.0001,\n",
      "          verbose=0, warm_start=False),\n",
      "       fit_params={}, iid=True, n_jobs=1,\n",
      "       param_grid={'warm_start': [False, True], 'C': array([  1.00000e+00,   1.83298e+00,   3.35982e+00,   6.15848e+00,\n",
      "         1.12884e+01,   2.06914e+01,   3.79269e+01,   6.95193e+01,\n",
      "         1.27427e+02,   2.33572e+02,   4.28133e+02,   7.84760e+02,\n",
      "         1.43845e+03,   2.63665e+03,   4.83293e+03,  ...near'], 'fit_intercept': [False, True], 'penalty': ['l1', 'l2'], 'class_weight': [None, 'balanced']},\n",
      "       pre_dispatch='2*n_jobs', refit=True, scoring=None, verbose=0)\n",
      "Best Params: {'warm_start': False, 'C': 1.0, 'intercept_scaling': 2, 'fit_intercept': True, 'solver': 'liblinear', 'penalty': 'l2', 'class_weight': None}\n",
      "Best Score: 0.648951994591\n"
     ]
    }
   ],
   "source": [
    "from sklearn.grid_search import GridSearchCV\n",
    "from sklearn.linear_model import LogisticRegression\n",
    "\n",
    "formula = '~ alchemy_category_score + C(alchemy_category) + avglinksize + commonlinkratio_1\\\n",
    "+ commonlinkratio_2 + commonlinkratio_3 + commonlinkratio_4 + compression_ratio + embed_ratio\\\n",
    "+ frameTagRatio + html_ratio + image_ratio + parametrizedLinkRatio + spelling_errors_ratio - 1'\n",
    "\n",
    "\n",
    "x_mat = patsy.dmatrix(formula, data = su_scale_normal)\n",
    "y_mat = su_scale_normal.label\n",
    "\n",
    "logreg = LogisticRegression()\n",
    "Cs = np.logspace(0.0, 5.0, 20)\n",
    "\n",
    "search_parameters = {\n",
    "    \"penalty\":             ['l1','l2'],   # Used to specify the norm used in the penalization.\n",
    "    \"C\":                   Cs,  # Regularization paramter\n",
    "    #\"dual\":                [True, False], # Dual or primal formulation. Dual formulation is only implemented for l2 penalty with liblinear solver. Prefer dual=False when n_samples > n_features\n",
    "    \"fit_intercept\":       [False, True], # Specifies if a constant (a.k.a. bias or intercept) should be added to the decision function.\n",
    "    \"class_weight\":        [None, \"balanced\"], # The “balanced” mode uses the values of y to automatically adjust weights inversely proportional to class frequencies in the input data as n_samples / (n_classes * np.bincount(y))\n",
    "    \"intercept_scaling\":   [2, 1],        # Useful only if solver is liblinear. when self.fit_intercept is True, instance vector x becomes [x, self.intercept_scaling], i.e. a “synthetic” feature with constant value equals to intercept_scaling is appended to the instance vector. \n",
    "    \"solver\":              ['liblinear'],\n",
    "    \"warm_start\":          [False, True]\n",
    "}\n",
    "\n",
    "estimator = GridSearchCV(logreg, search_parameters, cv = 3)\n",
    "estimator.fit(x_mat, y_mat)\n",
    "\n",
    "print \"Best Estimator:\",estimator\n",
    "print \"Best Params:\", estimator.best_params_\n",
    "print \"Best Score:\", estimator.best_score_"
   ]
  },
  {
   "cell_type": "code",
   "execution_count": 36,
   "metadata": {
    "collapsed": false
   },
   "outputs": [
    {
     "data": {
      "text/plain": [
       "DesignMatrix with shape (7395, 26)\n",
       "  Columns:\n",
       "    ['C(alchemy_category)[arts_entertainment]',\n",
       "     'C(alchemy_category)[business]',\n",
       "     'C(alchemy_category)[computer_internet]',\n",
       "     'C(alchemy_category)[culture_politics]',\n",
       "     'C(alchemy_category)[gaming]',\n",
       "     'C(alchemy_category)[health]',\n",
       "     'C(alchemy_category)[law_crime]',\n",
       "     'C(alchemy_category)[recreation]',\n",
       "     'C(alchemy_category)[religion]',\n",
       "     'C(alchemy_category)[science_technology]',\n",
       "     'C(alchemy_category)[sports]',\n",
       "     'C(alchemy_category)[unknown]',\n",
       "     'C(alchemy_category)[weather]',\n",
       "     'alchemy_category_score',\n",
       "     'avglinksize',\n",
       "     'commonlinkratio_1',\n",
       "     'commonlinkratio_2',\n",
       "     'commonlinkratio_3',\n",
       "     'commonlinkratio_4',\n",
       "     'compression_ratio',\n",
       "     'embed_ratio',\n",
       "     'frameTagRatio',\n",
       "     'html_ratio',\n",
       "     'image_ratio',\n",
       "     'parametrizedLinkRatio',\n",
       "     'spelling_errors_ratio']\n",
       "  Terms:\n",
       "    'C(alchemy_category)' (columns 0:13)\n",
       "    'alchemy_category_score' (column 13)\n",
       "    'avglinksize' (column 14)\n",
       "    'commonlinkratio_1' (column 15)\n",
       "    'commonlinkratio_2' (column 16)\n",
       "    'commonlinkratio_3' (column 17)\n",
       "    'commonlinkratio_4' (column 18)\n",
       "    'compression_ratio' (column 19)\n",
       "    'embed_ratio' (column 20)\n",
       "    'frameTagRatio' (column 21)\n",
       "    'html_ratio' (column 22)\n",
       "    'image_ratio' (column 23)\n",
       "    'parametrizedLinkRatio' (column 24)\n",
       "    'spelling_errors_ratio' (column 25)\n",
       "  (to view full data, use np.asarray(this_obj))"
      ]
     },
     "execution_count": 36,
     "metadata": {},
     "output_type": "execute_result"
    }
   ],
   "source": [
    "x_mat"
   ]
  },
  {
   "cell_type": "code",
   "execution_count": 37,
   "metadata": {
    "collapsed": false
   },
   "outputs": [
    {
     "data": {
      "text/plain": [
       "[-0.070865005751269985, -0.072008715474140464, -0.073199234178292008]"
      ]
     },
     "execution_count": 37,
     "metadata": {},
     "output_type": "execute_result"
    }
   ],
   "source": [
    "#Ridge\n",
    "from sklearn.linear_model import Ridge\n",
    "def ridge_coefs(X,Y, alphas):\n",
    "    \n",
    "    # set up the list to hold the different sets of coefficients:\n",
    "    coefs = []\n",
    "    \n",
    "    # Set up a ridge regression object\n",
    "    ridge_reg = Ridge()\n",
    "    \n",
    "    # Iterate through the alphas fed into the function:\n",
    "    for a in alphas:\n",
    "        \n",
    "        # On each alpha reset the ridge model's alpha to the current one:\n",
    "        ridge_reg.set_params(alpha=a)\n",
    "        \n",
    "        # fit or refit the model on the provided X, Y\n",
    "        ridge_reg.fit(X, Y)\n",
    "        \n",
    "        # Get out the coefficient list (first element of the .coef_ attribute)\n",
    "        coefs.append(ridge_reg.coef_[0])\n",
    "        \n",
    "    return coefs\n",
    "l_alphas = (.1,.5,1)\n",
    "ridge_coefs(x_mat,y_mat,l_alphas)\n",
    "\n"
   ]
  },
  {
   "cell_type": "code",
   "execution_count": 38,
   "metadata": {
    "collapsed": false,
    "scrolled": true
   },
   "outputs": [
    {
     "data": {
      "text/plain": [
       "[array([-0.02618207,  0.13536151, -0.        , -0.        , -0.        ,\n",
       "         0.        , -0.        ,  0.13510378, -0.        , -0.        ,\n",
       "        -0.06424039,  0.        , -0.        , -0.00635872, -0.        ,\n",
       "         0.        ,  0.        ,  0.02535654,  0.        , -0.        ,\n",
       "         0.        , -0.074797  ,  0.        , -0.00545436, -0.        ,\n",
       "        -0.01323116]),\n",
       " array([-0.        ,  0.03521583, -0.        , -0.        , -0.        ,\n",
       "         0.        , -0.        ,  0.05969252, -0.        , -0.        ,\n",
       "        -0.        ,  0.        , -0.        , -0.00087842, -0.        ,\n",
       "         0.        ,  0.        ,  0.01768301,  0.        , -0.        ,\n",
       "         0.        , -0.06877285,  0.        , -0.        , -0.        ,\n",
       "        -0.00561217])]"
      ]
     },
     "execution_count": 38,
     "metadata": {},
     "output_type": "execute_result"
    }
   ],
   "source": [
    "# Lasso\n",
    "from sklearn.linear_model import Lasso\n",
    "def lasso_coefs(X,Y , alphas):\n",
    "    coefs = []\n",
    "    lasso_reg = Lasso()\n",
    "    for a in alphas:\n",
    "        lasso_reg.set_params(alpha=a)\n",
    "        lasso_reg.fit(X, Y)\n",
    "        coefs.append(lasso_reg.coef_)\n",
    "        \n",
    "    return coefs\n",
    "\n",
    "l_alphas = (0.01,0.02)\n",
    "lasso_coefs(x_mat,y_mat,l_alphas)"
   ]
  },
  {
   "cell_type": "code",
   "execution_count": 47,
   "metadata": {
    "collapsed": false
   },
   "outputs": [
    {
     "name": "stdout",
     "output_type": "stream",
     "text": [
      "0.640311347808\n"
     ]
    }
   ],
   "source": [
    "from sklearn import cross_validation\n",
    "#normalized numerical and some categorical but added is_news + news_front_page + add rest categorical variables\n",
    "formula = 'label ~ alchemy_category_score + C(alchemy_category) + avglinksize + commonlinkratio_1\\\n",
    "+ commonlinkratio_2 + commonlinkratio_3 + commonlinkratio_4 + compression_ratio + embed_ratio\\\n",
    "+ frameTagRatio + html_ratio + image_ratio + parametrizedLinkRatio + spelling_errors_ratio - 1'\n",
    "\n",
    "\n",
    "y_mat, x_mat = patsy.dmatrices(formula, data = su_scale_normal)\n",
    "\n",
    "x_train, x_test, y_train, y_test = cross_validation.train_test_split(x_mat,y_mat, test_size = .33)\n",
    "logreg = LogisticRegression(penalty = 'l2')\n",
    "logreg = logreg.fit(x_train, np.ravel(y_train))\n",
    "\n",
    "y_pred = logreg.predict(x_test)\n",
    "print logreg.score(x_test,y_test)"
   ]
  },
  {
   "cell_type": "markdown",
   "metadata": {},
   "source": [
    "## 6. Gridsearch neighbors for kNN\n",
    "\n",
    "Find the best number of neighbors with your predictors to predict the `label` target variable.\n",
    "\n",
    "Start by bulding a kNN model with a set number of neighbors, then use gridsearch to run through a series of neighbors.\n",
    "\n",
    "---"
   ]
  },
  {
   "cell_type": "code",
   "execution_count": 40,
   "metadata": {
    "collapsed": false
   },
   "outputs": [
    {
     "name": "stdout",
     "output_type": "stream",
     "text": [
      "Best Estimator: 50\n",
      "Best Params: {'n_neighbors': 50, 'weights': 'distance', 'algorithm': 'ball_tree', 'p': 1}\n",
      "Best Score: 0.656659905341\n"
     ]
    }
   ],
   "source": [
    "\n",
    "formula = 'label ~ alchemy_category_score + C(alchemy_category) + avglinksize+ commonlinkratio_1\\\n",
    "+ commonlinkratio_2 + commonlinkratio_3 + commonlinkratio_4 + compression_ratio + embed_ratio\\\n",
    "+ frameTagRatio + html_ratio + image_ratio + parametrizedLinkRatio + spelling_errors_ratio'\n",
    "\n",
    "y_mat, x_mat = patsy.dmatrices(formula, data = su_scale_normal)\n",
    "\n",
    "\n",
    "search_parameters = {\n",
    "    'n_neighbors':  [3,50], \n",
    "    'weights':      (\"uniform\", \"distance\"),\n",
    "    'algorithm':    (\"ball_tree\", \"kd_tree\", \"brute\", \"auto\"),\n",
    "    'p':            [1,2]\n",
    "}\n",
    "from sklearn import svm, grid_search, datasets\n",
    "from sklearn.neighbors import KNeighborsClassifier\n",
    "knn = KNeighborsClassifier()\n",
    "clf = grid_search.GridSearchCV(knn, search_parameters)\n",
    "\n",
    "no_labels = [col for col in su_scale_normal.columns if col != 'label']\n",
    "\n",
    "su_scale_normal_nolabel = su_scale_normal[no_labels]\n",
    "\n",
    "clf.fit(x_mat, su_scale_normal['label'])\n",
    "\n",
    "print \"Best Estimator:\", clf.best_estimator_.n_neighbors\n",
    "print \"Best Params:\", clf.best_params_\n",
    "print \"Best Score:\", clf.best_score_"
   ]
  },
  {
   "cell_type": "code",
   "execution_count": 48,
   "metadata": {
    "collapsed": false
   },
   "outputs": [
    {
     "data": {
      "text/plain": [
       "DesignMatrix with shape (7395, 26)\n",
       "  Columns:\n",
       "    ['C(alchemy_category)[arts_entertainment]',\n",
       "     'C(alchemy_category)[business]',\n",
       "     'C(alchemy_category)[computer_internet]',\n",
       "     'C(alchemy_category)[culture_politics]',\n",
       "     'C(alchemy_category)[gaming]',\n",
       "     'C(alchemy_category)[health]',\n",
       "     'C(alchemy_category)[law_crime]',\n",
       "     'C(alchemy_category)[recreation]',\n",
       "     'C(alchemy_category)[religion]',\n",
       "     'C(alchemy_category)[science_technology]',\n",
       "     'C(alchemy_category)[sports]',\n",
       "     'C(alchemy_category)[unknown]',\n",
       "     'C(alchemy_category)[weather]',\n",
       "     'alchemy_category_score',\n",
       "     'avglinksize',\n",
       "     'commonlinkratio_1',\n",
       "     'commonlinkratio_2',\n",
       "     'commonlinkratio_3',\n",
       "     'commonlinkratio_4',\n",
       "     'compression_ratio',\n",
       "     'embed_ratio',\n",
       "     'frameTagRatio',\n",
       "     'html_ratio',\n",
       "     'image_ratio',\n",
       "     'parametrizedLinkRatio',\n",
       "     'spelling_errors_ratio']\n",
       "  Terms:\n",
       "    'C(alchemy_category)' (columns 0:13)\n",
       "    'alchemy_category_score' (column 13)\n",
       "    'avglinksize' (column 14)\n",
       "    'commonlinkratio_1' (column 15)\n",
       "    'commonlinkratio_2' (column 16)\n",
       "    'commonlinkratio_3' (column 17)\n",
       "    'commonlinkratio_4' (column 18)\n",
       "    'compression_ratio' (column 19)\n",
       "    'embed_ratio' (column 20)\n",
       "    'frameTagRatio' (column 21)\n",
       "    'html_ratio' (column 22)\n",
       "    'image_ratio' (column 23)\n",
       "    'parametrizedLinkRatio' (column 24)\n",
       "    'spelling_errors_ratio' (column 25)\n",
       "  (to view full data, use np.asarray(this_obj))"
      ]
     },
     "execution_count": 48,
     "metadata": {},
     "output_type": "execute_result"
    }
   ],
   "source": [
    "x_mat"
   ]
  },
  {
   "cell_type": "markdown",
   "metadata": {},
   "source": [
    "## 7. Choose a new target from alchemy_category to predict with logistic regression\n",
    "\n",
    "**Ideally your category choice will have a small fraction of the total rows, but not TOO small!**\n",
    "\n",
    "---"
   ]
  },
  {
   "cell_type": "markdown",
   "metadata": {},
   "source": [
    "### 7.1 Chose your target category, create the Y vector, and check the fraction of instances\n",
    "\n",
    "---"
   ]
  },
  {
   "cell_type": "code",
   "execution_count": 65,
   "metadata": {
    "collapsed": false
   },
   "outputs": [],
   "source": [
    "su_scale_normal_alchem = su_scale_normal\n",
    "su_scale_normal_alchem.alchemy_category = su_scale_normal.alchemy_category.apply(lambda x: 1 if x == 'recreation' else 0)"
   ]
  },
  {
   "cell_type": "code",
   "execution_count": 66,
   "metadata": {
    "collapsed": false
   },
   "outputs": [
    {
     "data": {
      "text/html": [
       "<div>\n",
       "<table border=\"1\" class=\"dataframe\">\n",
       "  <thead>\n",
       "    <tr style=\"text-align: right;\">\n",
       "      <th></th>\n",
       "      <th>alchemy_category_score</th>\n",
       "      <th>avglinksize</th>\n",
       "      <th>commonlinkratio_1</th>\n",
       "      <th>commonlinkratio_2</th>\n",
       "      <th>commonlinkratio_3</th>\n",
       "      <th>commonlinkratio_4</th>\n",
       "      <th>compression_ratio</th>\n",
       "      <th>embed_ratio</th>\n",
       "      <th>frameTagRatio</th>\n",
       "      <th>html_ratio</th>\n",
       "      <th>image_ratio</th>\n",
       "      <th>parametrizedLinkRatio</th>\n",
       "      <th>spelling_errors_ratio</th>\n",
       "      <th>label</th>\n",
       "      <th>alchemy_category</th>\n",
       "      <th>is_news</th>\n",
       "      <th>news_front_page</th>\n",
       "      <th>hasDomainLink</th>\n",
       "      <th>lengthyLinkDomain</th>\n",
       "    </tr>\n",
       "  </thead>\n",
       "  <tbody>\n",
       "    <tr>\n",
       "      <th>0</th>\n",
       "      <td>0.876178</td>\n",
       "      <td>-0.081936</td>\n",
       "      <td>1.025140</td>\n",
       "      <td>-0.055864</td>\n",
       "      <td>-0.468893</td>\n",
       "      <td>-0.354305</td>\n",
       "      <td>-0.317535</td>\n",
       "      <td>0.338451</td>\n",
       "      <td>0.828822</td>\n",
       "      <td>0.229640</td>\n",
       "      <td>-0.141626</td>\n",
       "      <td>-0.108698</td>\n",
       "      <td>-0.278821</td>\n",
       "      <td>0</td>\n",
       "      <td>0</td>\n",
       "      <td>1</td>\n",
       "      <td>0</td>\n",
       "      <td>0</td>\n",
       "      <td>1</td>\n",
       "    </tr>\n",
       "    <tr>\n",
       "      <th>1</th>\n",
       "      <td>-0.135840</td>\n",
       "      <td>0.106284</td>\n",
       "      <td>0.195886</td>\n",
       "      <td>0.508987</td>\n",
       "      <td>1.269469</td>\n",
       "      <td>1.309714</td>\n",
       "      <td>-0.313176</td>\n",
       "      <td>0.338451</td>\n",
       "      <td>1.020244</td>\n",
       "      <td>-0.577072</td>\n",
       "      <td>-0.097460</td>\n",
       "      <td>0.048853</td>\n",
       "      <td>0.305780</td>\n",
       "      <td>1</td>\n",
       "      <td>1</td>\n",
       "      <td>1</td>\n",
       "      <td>0</td>\n",
       "      <td>0</td>\n",
       "      <td>1</td>\n",
       "    </tr>\n",
       "    <tr>\n",
       "      <th>2</th>\n",
       "      <td>1.852471</td>\n",
       "      <td>-0.043962</td>\n",
       "      <td>0.461692</td>\n",
       "      <td>0.733430</td>\n",
       "      <td>0.292698</td>\n",
       "      <td>-0.091238</td>\n",
       "      <td>-0.303219</td>\n",
       "      <td>0.338451</td>\n",
       "      <td>0.386654</td>\n",
       "      <td>-0.140539</td>\n",
       "      <td>-0.080848</td>\n",
       "      <td>-0.033813</td>\n",
       "      <td>-0.550387</td>\n",
       "      <td>1</td>\n",
       "      <td>0</td>\n",
       "      <td>1</td>\n",
       "      <td>0</td>\n",
       "      <td>0</td>\n",
       "      <td>1</td>\n",
       "    </tr>\n",
       "    <tr>\n",
       "      <th>3</th>\n",
       "      <td>0.933217</td>\n",
       "      <td>-0.141386</td>\n",
       "      <td>-0.335890</td>\n",
       "      <td>-0.777414</td>\n",
       "      <td>-0.785550</td>\n",
       "      <td>-0.678274</td>\n",
       "      <td>-0.311059</td>\n",
       "      <td>0.338451</td>\n",
       "      <td>0.951555</td>\n",
       "      <td>0.607347</td>\n",
       "      <td>-0.125235</td>\n",
       "      <td>-0.715808</td>\n",
       "      <td>-0.004574</td>\n",
       "      <td>1</td>\n",
       "      <td>0</td>\n",
       "      <td>1</td>\n",
       "      <td>0</td>\n",
       "      <td>0</td>\n",
       "      <td>0</td>\n",
       "    </tr>\n",
       "    <tr>\n",
       "      <th>4</th>\n",
       "      <td>0.546781</td>\n",
       "      <td>-0.009902</td>\n",
       "      <td>0.156397</td>\n",
       "      <td>0.055487</td>\n",
       "      <td>0.327100</td>\n",
       "      <td>-0.083332</td>\n",
       "      <td>-0.317121</td>\n",
       "      <td>0.338451</td>\n",
       "      <td>-0.760377</td>\n",
       "      <td>-0.093184</td>\n",
       "      <td>-0.117352</td>\n",
       "      <td>-0.404279</td>\n",
       "      <td>-0.235413</td>\n",
       "      <td>0</td>\n",
       "      <td>0</td>\n",
       "      <td>1</td>\n",
       "      <td>0</td>\n",
       "      <td>0</td>\n",
       "      <td>1</td>\n",
       "    </tr>\n",
       "  </tbody>\n",
       "</table>\n",
       "</div>"
      ],
      "text/plain": [
       "   alchemy_category_score  avglinksize  commonlinkratio_1  commonlinkratio_2  \\\n",
       "0                0.876178    -0.081936           1.025140          -0.055864   \n",
       "1               -0.135840     0.106284           0.195886           0.508987   \n",
       "2                1.852471    -0.043962           0.461692           0.733430   \n",
       "3                0.933217    -0.141386          -0.335890          -0.777414   \n",
       "4                0.546781    -0.009902           0.156397           0.055487   \n",
       "\n",
       "   commonlinkratio_3  commonlinkratio_4  compression_ratio  embed_ratio  \\\n",
       "0          -0.468893          -0.354305          -0.317535     0.338451   \n",
       "1           1.269469           1.309714          -0.313176     0.338451   \n",
       "2           0.292698          -0.091238          -0.303219     0.338451   \n",
       "3          -0.785550          -0.678274          -0.311059     0.338451   \n",
       "4           0.327100          -0.083332          -0.317121     0.338451   \n",
       "\n",
       "   frameTagRatio  html_ratio  image_ratio  parametrizedLinkRatio  \\\n",
       "0       0.828822    0.229640    -0.141626              -0.108698   \n",
       "1       1.020244   -0.577072    -0.097460               0.048853   \n",
       "2       0.386654   -0.140539    -0.080848              -0.033813   \n",
       "3       0.951555    0.607347    -0.125235              -0.715808   \n",
       "4      -0.760377   -0.093184    -0.117352              -0.404279   \n",
       "\n",
       "   spelling_errors_ratio  label  alchemy_category is_news news_front_page  \\\n",
       "0              -0.278821      0                 0       1               0   \n",
       "1               0.305780      1                 1       1               0   \n",
       "2              -0.550387      1                 0       1               0   \n",
       "3              -0.004574      1                 0       1               0   \n",
       "4              -0.235413      0                 0       1               0   \n",
       "\n",
       "   hasDomainLink  lengthyLinkDomain  \n",
       "0              0                  1  \n",
       "1              0                  1  \n",
       "2              0                  1  \n",
       "3              0                  0  \n",
       "4              0                  1  "
      ]
     },
     "execution_count": 66,
     "metadata": {},
     "output_type": "execute_result"
    }
   ],
   "source": [
    "su_scale_normal_alchem.head()"
   ]
  },
  {
   "cell_type": "code",
   "execution_count": 67,
   "metadata": {
    "collapsed": false
   },
   "outputs": [
    {
     "data": {
      "text/plain": [
       "0    6166\n",
       "1    1229\n",
       "Name: alchemy_category, dtype: int64"
      ]
     },
     "execution_count": 67,
     "metadata": {},
     "output_type": "execute_result"
    }
   ],
   "source": [
    "su_scale_normal_alchem.alchemy_category.value_counts()"
   ]
  },
  {
   "cell_type": "markdown",
   "metadata": {},
   "source": [
    "### 7.2 Use patsy to create an X matrix of the numeric predictors and all two-way interactions between them\n",
    "\n",
    "Ex:\n",
    "\n",
    "```python\n",
    "import patsy\n",
    "\n",
    "formula_interactions = '~ (var1 + var2 + var3)**2 -1'\n",
    "X_interactions = patsy.dmatrix(formula_interactions, data=data\n",
    "```\n",
    "\n",
    "Get the column names from the `design_info` property of the patsy X matrix.\n",
    "\n",
    "---"
   ]
  },
  {
   "cell_type": "code",
   "execution_count": 68,
   "metadata": {
    "collapsed": false
   },
   "outputs": [
    {
     "data": {
      "text/plain": [
       "['alchemy_category_score',\n",
       " 'avglinksize',\n",
       " 'commonlinkratio_1',\n",
       " 'commonlinkratio_2',\n",
       " 'commonlinkratio_3']"
      ]
     },
     "execution_count": 68,
     "metadata": {},
     "output_type": "execute_result"
    }
   ],
   "source": [
    "import patsy\n",
    "formula_interactions = '~ (alchemy_category_score + avglinksize+ commonlinkratio_1\\\n",
    "+ commonlinkratio_2 + commonlinkratio_3 + commonlinkratio_4 + compression_ratio + embed_ratio\\\n",
    "+ frameTagRatio + html_ratio + image_ratio + parametrizedLinkRatio + spelling_errors_ratio) ** 2 - 1'\n",
    "X_interactions = patsy.dmatrix(formula_interactions, data = su_scale_normal_alchem)\n",
    "X_interactions.design_info.column_names[0:5]\n",
    "\n",
    "# to the second power makes a matrix every combination of eachother"
   ]
  },
  {
   "cell_type": "markdown",
   "metadata": {},
   "source": [
    "### 7.3 Normalize the predictor matrix columns\n",
    "\n",
    "---"
   ]
  },
  {
   "cell_type": "markdown",
   "metadata": {},
   "source": [
    "### 7.4 Gridsearch a logistic regression to predict accuracy on your new target from the interaction predictors\n",
    "\n",
    "Include Ridge and Lasso.\n",
    "\n",
    "\n",
    "---"
   ]
  },
  {
   "cell_type": "code",
   "execution_count": 69,
   "metadata": {
    "collapsed": false,
    "scrolled": true
   },
   "outputs": [
    {
     "name": "stdout",
     "output_type": "stream",
     "text": [
      "Best Estimator: GridSearchCV(cv=5, error_score='raise',\n",
      "       estimator=LogisticRegression(C=1.0, class_weight=None, dual=False, fit_intercept=True,\n",
      "          intercept_scaling=1, max_iter=100, multi_class='ovr', n_jobs=1,\n",
      "          penalty='l2', random_state=None, solver='liblinear', tol=0.0001,\n",
      "          verbose=0, warm_start=False),\n",
      "       fit_params={}, iid=True, n_jobs=1,\n",
      "       param_grid={'warm_start': [False, True], 'C': array([  1.00000e+00,   1.83298e+00,   3.35982e+00,   6.15848e+00,\n",
      "         1.12884e+01,   2.06914e+01,   3.79269e+01,   6.95193e+01,\n",
      "         1.27427e+02,   2.33572e+02,   4.28133e+02,   7.84760e+02,\n",
      "         1.43845e+03,   2.63665e+03,   4.83293e+03,  ...near'], 'fit_intercept': [False, True], 'penalty': ['l1', 'l2'], 'class_weight': [None, 'balanced']},\n",
      "       pre_dispatch='2*n_jobs', refit=True, scoring=None, verbose=0)\n",
      "Best Params: {'warm_start': False, 'C': 1.0, 'intercept_scaling': 2, 'fit_intercept': True, 'solver': 'liblinear', 'penalty': 'l1', 'class_weight': 'balanced'}\n",
      "Best Score: 0.593644354293\n"
     ]
    }
   ],
   "source": [
    "\n",
    "from sklearn.grid_search import GridSearchCV\n",
    "from sklearn.linear_model import LogisticRegression\n",
    "\n",
    "formula = '~ alchemy_category_score + avglinksize + commonlinkratio_1\\\n",
    "+ commonlinkratio_2 + commonlinkratio_3 + commonlinkratio_4 + compression_ratio + embed_ratio\\\n",
    "+ frameTagRatio + html_ratio + image_ratio + parametrizedLinkRatio + spelling_errors_ratio - 1'\n",
    "\n",
    "x_mat = patsy.dmatrix(formula, data = su_scale_normal_alchem)\n",
    "y_mat = su_scale_normal_alchem.label\n",
    "\n",
    "\n",
    "\n",
    "# logreg = LogisticRegression()\n",
    "# logreg.fit(x, y)\n",
    "\n",
    "#print y[0:5]\n",
    "\n",
    "logreg = LogisticRegression()\n",
    "Cs = np.logspace(0.0, 5.0, 20)\n",
    "\n",
    "search_parameters = {\n",
    "    \"penalty\":             ['l1','l2'],   # Used to specify the norm used in the penalization.\n",
    "    \"C\":                   Cs,  # Regularization paramter\n",
    "    #\"dual\":                [True, False], # Dual or primal formulation. Dual formulation is only implemented for l2 penalty with liblinear solver. Prefer dual=False when n_samples > n_features\n",
    "    \"fit_intercept\":       [False, True], # Specifies if a constant (a.k.a. bias or intercept) should be added to the decision function.\n",
    "    \"class_weight\":        [None, \"balanced\"], # The “balanced” mode uses the values of y to automatically adjust weights inversely proportional to class frequencies in the input data as n_samples / (n_classes * np.bincount(y))\n",
    "    \"intercept_scaling\":   [2, 1],        # Useful only if solver is liblinear. when self.fit_intercept is True, instance vector x becomes [x, self.intercept_scaling], i.e. a “synthetic” feature with constant value equals to intercept_scaling is appended to the instance vector. \n",
    "    \"solver\":              ['liblinear'],\n",
    "    \"warm_start\":          [False, True]\n",
    "}\n",
    "\n",
    "estimator = GridSearchCV(logreg, search_parameters, cv = 5)\n",
    "estimator.fit(x_mat, y_mat)\n",
    "\n",
    "print \"Best Estimator:\",estimator\n",
    "print \"Best Params:\", estimator.best_params_\n",
    "print \"Best Score:\", estimator.best_score_"
   ]
  },
  {
   "cell_type": "code",
   "execution_count": 71,
   "metadata": {
    "collapsed": false
   },
   "outputs": [
    {
     "data": {
      "text/plain": [
       "(7395, 13)"
      ]
     },
     "execution_count": 71,
     "metadata": {},
     "output_type": "execute_result"
    }
   ],
   "source": [
    "x_mat.shape"
   ]
  },
  {
   "cell_type": "markdown",
   "metadata": {},
   "source": [
    "### 7.5 Build a logistic regression with the optimal parameters, and look at the coefficients\n",
    "\n",
    "---"
   ]
  },
  {
   "cell_type": "code",
   "execution_count": 75,
   "metadata": {
    "collapsed": false
   },
   "outputs": [
    {
     "name": "stdout",
     "output_type": "stream",
     "text": [
      "0.832855387136\n"
     ]
    }
   ],
   "source": [
    "from sklearn import cross_validation\n",
    "#normalized numerical and some categorical but added is_news + news_front_page + add rest categorical variables\n",
    "formula = 'alchemy_category ~ alchemy_category_score + avglinksize + commonlinkratio_1\\\n",
    "+ commonlinkratio_2 + commonlinkratio_3 + commonlinkratio_4 + compression_ratio + embed_ratio\\\n",
    "+ frameTagRatio + html_ratio + image_ratio + parametrizedLinkRatio + spelling_errors_ratio - 1'\n",
    "\n",
    "\n",
    "y_mat, x_mat = patsy.dmatrices(formula, data = su_scale_normal_alchem)\n",
    "\n",
    "x_train, x_test, y_train, y_test = cross_validation.train_test_split(x_mat,y_mat, test_size = .33)\n",
    "logreg = LogisticRegression(penalty = 'l1')\n",
    "logreg = logreg.fit(x_train, np.ravel(y_train))\n",
    "\n",
    "y_pred = logreg.predict(x_test)\n",
    "print logreg.score(x_test,y_test)"
   ]
  },
  {
   "cell_type": "markdown",
   "metadata": {},
   "source": [
    "### 7.6 Gridsearch parameters for a logistic regression with the same target and predictors, but score based on precision rather than accuracy\n",
    "\n",
    "Look at the documentation.\n",
    "\n",
    "---"
   ]
  },
  {
   "cell_type": "code",
   "execution_count": null,
   "metadata": {
    "collapsed": true
   },
   "outputs": [],
   "source": []
  },
  {
   "cell_type": "markdown",
   "metadata": {},
   "source": [
    "## [BONUS] 8. Build models predicting from words\n",
    "\n",
    "This is a bit of the NLP we covered in the pipeline lecture!\n",
    "\n",
    "---"
   ]
  },
  {
   "cell_type": "code",
   "execution_count": null,
   "metadata": {
    "collapsed": true
   },
   "outputs": [],
   "source": []
  },
  {
   "cell_type": "code",
   "execution_count": null,
   "metadata": {
    "collapsed": true
   },
   "outputs": [],
   "source": []
  },
  {
   "cell_type": "code",
   "execution_count": null,
   "metadata": {
    "collapsed": true
   },
   "outputs": [],
   "source": []
  },
  {
   "cell_type": "code",
   "execution_count": null,
   "metadata": {
    "collapsed": true
   },
   "outputs": [],
   "source": []
  },
  {
   "cell_type": "markdown",
   "metadata": {},
   "source": [
    "### 8.1 Choose 'body' or 'title' from the boilerplate to be the basis of your word predictors\n",
    "\n",
    "You will need to parse the json from the boilerplate field.\n",
    "\n",
    "---"
   ]
  },
  {
   "cell_type": "code",
   "execution_count": 77,
   "metadata": {
    "collapsed": false
   },
   "outputs": [
    {
     "name": "stdout",
     "output_type": "stream",
     "text": [
      "\n"
     ]
    }
   ],
   "source": [
    "import json\n",
    "def ignore_corrupted_titles(x):\n",
    "    js = json.loads(x)\n",
    "    if 'title' in js:\n",
    "        return js['title']\n",
    "    else:\n",
    "        return ''\n",
    "\n",
    "mask = ~su.boilerplate.isnull()\n",
    "su.ix[mask, 'parsed_title'] = su[mask].boilerplate.map(ignore_corrupted_titles)\n",
    "su.ix[~mask, 'parsed_title'] = ''\n",
    "\n",
    "\n"
   ]
  },
  {
   "cell_type": "code",
   "execution_count": 78,
   "metadata": {
    "collapsed": false
   },
   "outputs": [
    {
     "data": {
      "text/plain": [
       "0       IBM Sees Holographic Calls Air Breathing Batte...\n",
       "1       The Fully Electronic Futuristic Starting Gun T...\n",
       "2       Fruits that Fight the Flu fruits that fight th...\n",
       "3                     10 Foolproof Tips for Better Sleep \n",
       "4       The 50 Coolest Jerseys You Didn t Know Existed...\n",
       "5                               Genital Herpes Treatment \n",
       "6                       fashion lane American Wild Child \n",
       "7       Racing For Recovery by Dean Johnson racing for...\n",
       "8                      Valet The Handbook 31 Days 31 days\n",
       "9             Cookies and Cream Brownies How Sweet It Is \n",
       "10      Business Financial News Breaking US Internatio...\n",
       "11      A Tip of the Cap to The Greatest Iron Man of T...\n",
       "12                         9 Foods That Trash Your Teeth \n",
       "13                                                       \n",
       "14      French Onion Steaks with Red Wine Sauce french...\n",
       "15      Izabel Goulart Swimsuit by Kikidoll 2012 Sport...\n",
       "16                    Liquid Mountaineering The Awesomer \n",
       "17                                                   None\n",
       "18                          Grilled Peaches Sugarcrafter \n",
       "19      How to Make Your Home Healthier A Room by Room...\n",
       "20      Olympic Soccer Babe Alex Morgan Medal Winning ...\n",
       "21         BBC Food Recipes Blueberry and lemon traybake \n",
       "22      Quit Smoking Counter Online counter that measu...\n",
       "23            Original techniques to tie your shoe laces \n",
       "24                                                       \n",
       "25       Best College Football Fan Sign Ever Alabama Fan \n",
       "26                                    Breaking News Blog \n",
       "27                     The Alton Brown Flower Pot Smoker \n",
       "28          Supermodels show off their bikini bods Humor \n",
       "29      Genevieve Morton Swimsuit by Tyler Rose Swimwe...\n",
       "                              ...                        \n",
       "7365    Chocolate Chip S mores Cookies of the Day choc...\n",
       "7366    Money Happiness Newsweek money & happiness - n...\n",
       "7367                                                     \n",
       "7368    Sourdough Sour Cherry Bread Pudding with Cherr...\n",
       "7369    Noble Pig Mini Peanut Butter Finger Cheesecake...\n",
       "7370            Fancy Knot Dress in Clothes at Nasty Gal \n",
       "7371                        Perfect Pumpkin Bread Recipe \n",
       "7372    Get the Lead Out Cartridge Free Erasable Penci...\n",
       "7373    blog khymos org dedicated to molecular gastron...\n",
       "7374    Versace launches haute couture for autumn wint...\n",
       "7375                                 What Megan s Making \n",
       "7376        Chinese Food Recipes Cooking Chinese Cuisine \n",
       "7377    Google Gives iPhone Users Browser Choice For P...\n",
       "7378       12 Smoothies Recipes and Cooking Food Network \n",
       "7379    Toasted Sesame Ginger Salmon TechMunch Boston ...\n",
       "7380          iVillage s 25 Most Popular Recipes of 2010 \n",
       "7381                                       Caravan Style \n",
       "7382    Mountain Dew Cupcakes All Things Cupcake mount...\n",
       "7383                                  80s kids Random RR \n",
       "7384                        Homemade Cake Mix i am baker \n",
       "7385                           MARKET HQ Brands MINKPINK \n",
       "7386    How to Make No Knead Pizza Dough No Knead Pizz...\n",
       "7387                       Vintage Funk A Chic Direction \n",
       "7388    New York Best Place to Watch Wildlife Jamaica ...\n",
       "7389                      Gummy Snake Worth1000 Contests \n",
       "7390    Kno Raises 46 Million More To Build Most Power...\n",
       "7391                                  Why I Miss College \n",
       "7392    Sweet Potatoes Eat This Not That  i'm eating t...\n",
       "7393                                      Naturally Ella \n",
       "7394    Esti Ginzburg Swimsuit by Letarte by Lisa Cabr...\n",
       "Name: parsed_title, dtype: object"
      ]
     },
     "execution_count": 78,
     "metadata": {},
     "output_type": "execute_result"
    }
   ],
   "source": [
    "su.parsed_title"
   ]
  },
  {
   "cell_type": "markdown",
   "metadata": {},
   "source": [
    "### 8.2 Use CountVectorizer to create your predictor matrix from the string column\n",
    "\n",
    "It is up to you what range of ngrams and features, and whether or not you want the columns binary or counts.\n",
    "\n",
    "---"
   ]
  },
  {
   "cell_type": "code",
   "execution_count": 81,
   "metadata": {
    "collapsed": false
   },
   "outputs": [
    {
     "ename": "AttributeError",
     "evalue": "'NoneType' object has no attribute 'lower'",
     "output_type": "error",
     "traceback": [
      "\u001b[0;31m---------------------------------------------------------------------------\u001b[0m",
      "\u001b[0;31mAttributeError\u001b[0m                            Traceback (most recent call last)",
      "\u001b[0;32m<ipython-input-81-8e828a485ce2>\u001b[0m in \u001b[0;36m<module>\u001b[0;34m()\u001b[0m\n\u001b[1;32m     27\u001b[0m \u001b[0;34m\u001b[0m\u001b[0m\n\u001b[1;32m     28\u001b[0m \u001b[0;31m# Use `fit` to learn the vocabulary of the titles\u001b[0m\u001b[0;34m\u001b[0m\u001b[0;34m\u001b[0m\u001b[0m\n\u001b[0;32m---> 29\u001b[0;31m \u001b[0mtitle_vectorizer\u001b[0m\u001b[0;34m.\u001b[0m\u001b[0mfit\u001b[0m\u001b[0;34m(\u001b[0m\u001b[0msu\u001b[0m\u001b[0;34m.\u001b[0m\u001b[0mparsed_title\u001b[0m\u001b[0;34m)\u001b[0m\u001b[0;34m\u001b[0m\u001b[0m\n\u001b[0m\u001b[1;32m     30\u001b[0m \u001b[0;34m\u001b[0m\u001b[0m\n\u001b[1;32m     31\u001b[0m \u001b[0;31m# Use `transform` to generate the sample title and body word matrix\u001b[0m\u001b[0;34m\u001b[0m\u001b[0;34m\u001b[0m\u001b[0m\n",
      "\u001b[0;32m/Users/Stav/anaconda/lib/python2.7/site-packages/sklearn/feature_extraction/text.pyc\u001b[0m in \u001b[0;36mfit\u001b[0;34m(self, raw_documents, y)\u001b[0m\n\u001b[1;32m    787\u001b[0m         \u001b[0mself\u001b[0m\u001b[0;34m\u001b[0m\u001b[0m\n\u001b[1;32m    788\u001b[0m         \"\"\"\n\u001b[0;32m--> 789\u001b[0;31m         \u001b[0mself\u001b[0m\u001b[0;34m.\u001b[0m\u001b[0mfit_transform\u001b[0m\u001b[0;34m(\u001b[0m\u001b[0mraw_documents\u001b[0m\u001b[0;34m)\u001b[0m\u001b[0;34m\u001b[0m\u001b[0m\n\u001b[0m\u001b[1;32m    790\u001b[0m         \u001b[0;32mreturn\u001b[0m \u001b[0mself\u001b[0m\u001b[0;34m\u001b[0m\u001b[0m\n\u001b[1;32m    791\u001b[0m \u001b[0;34m\u001b[0m\u001b[0m\n",
      "\u001b[0;32m/Users/Stav/anaconda/lib/python2.7/site-packages/sklearn/feature_extraction/text.pyc\u001b[0m in \u001b[0;36mfit_transform\u001b[0;34m(self, raw_documents, y)\u001b[0m\n\u001b[1;32m    815\u001b[0m \u001b[0;34m\u001b[0m\u001b[0m\n\u001b[1;32m    816\u001b[0m         vocabulary, X = self._count_vocab(raw_documents,\n\u001b[0;32m--> 817\u001b[0;31m                                           self.fixed_vocabulary_)\n\u001b[0m\u001b[1;32m    818\u001b[0m \u001b[0;34m\u001b[0m\u001b[0m\n\u001b[1;32m    819\u001b[0m         \u001b[0;32mif\u001b[0m \u001b[0mself\u001b[0m\u001b[0;34m.\u001b[0m\u001b[0mbinary\u001b[0m\u001b[0;34m:\u001b[0m\u001b[0;34m\u001b[0m\u001b[0m\n",
      "\u001b[0;32m/Users/Stav/anaconda/lib/python2.7/site-packages/sklearn/feature_extraction/text.pyc\u001b[0m in \u001b[0;36m_count_vocab\u001b[0;34m(self, raw_documents, fixed_vocab)\u001b[0m\n\u001b[1;32m    750\u001b[0m         \u001b[0mindptr\u001b[0m\u001b[0;34m.\u001b[0m\u001b[0mappend\u001b[0m\u001b[0;34m(\u001b[0m\u001b[0;36m0\u001b[0m\u001b[0;34m)\u001b[0m\u001b[0;34m\u001b[0m\u001b[0m\n\u001b[1;32m    751\u001b[0m         \u001b[0;32mfor\u001b[0m \u001b[0mdoc\u001b[0m \u001b[0;32min\u001b[0m \u001b[0mraw_documents\u001b[0m\u001b[0;34m:\u001b[0m\u001b[0;34m\u001b[0m\u001b[0m\n\u001b[0;32m--> 752\u001b[0;31m             \u001b[0;32mfor\u001b[0m \u001b[0mfeature\u001b[0m \u001b[0;32min\u001b[0m \u001b[0manalyze\u001b[0m\u001b[0;34m(\u001b[0m\u001b[0mdoc\u001b[0m\u001b[0;34m)\u001b[0m\u001b[0;34m:\u001b[0m\u001b[0;34m\u001b[0m\u001b[0m\n\u001b[0m\u001b[1;32m    753\u001b[0m                 \u001b[0;32mtry\u001b[0m\u001b[0;34m:\u001b[0m\u001b[0;34m\u001b[0m\u001b[0m\n\u001b[1;32m    754\u001b[0m                     \u001b[0mj_indices\u001b[0m\u001b[0;34m.\u001b[0m\u001b[0mappend\u001b[0m\u001b[0;34m(\u001b[0m\u001b[0mvocabulary\u001b[0m\u001b[0;34m[\u001b[0m\u001b[0mfeature\u001b[0m\u001b[0;34m]\u001b[0m\u001b[0;34m)\u001b[0m\u001b[0;34m\u001b[0m\u001b[0m\n",
      "\u001b[0;32m/Users/Stav/anaconda/lib/python2.7/site-packages/sklearn/feature_extraction/text.pyc\u001b[0m in \u001b[0;36m<lambda>\u001b[0;34m(doc)\u001b[0m\n\u001b[1;32m    236\u001b[0m \u001b[0;34m\u001b[0m\u001b[0m\n\u001b[1;32m    237\u001b[0m             return lambda doc: self._word_ngrams(\n\u001b[0;32m--> 238\u001b[0;31m                 tokenize(preprocess(self.decode(doc))), stop_words)\n\u001b[0m\u001b[1;32m    239\u001b[0m \u001b[0;34m\u001b[0m\u001b[0m\n\u001b[1;32m    240\u001b[0m         \u001b[0;32melse\u001b[0m\u001b[0;34m:\u001b[0m\u001b[0;34m\u001b[0m\u001b[0m\n",
      "\u001b[0;32m/Users/Stav/anaconda/lib/python2.7/site-packages/sklearn/feature_extraction/text.pyc\u001b[0m in \u001b[0;36m<lambda>\u001b[0;34m(x)\u001b[0m\n\u001b[1;32m    202\u001b[0m \u001b[0;34m\u001b[0m\u001b[0m\n\u001b[1;32m    203\u001b[0m         \u001b[0;32mif\u001b[0m \u001b[0mself\u001b[0m\u001b[0;34m.\u001b[0m\u001b[0mlowercase\u001b[0m\u001b[0;34m:\u001b[0m\u001b[0;34m\u001b[0m\u001b[0m\n\u001b[0;32m--> 204\u001b[0;31m             \u001b[0;32mreturn\u001b[0m \u001b[0;32mlambda\u001b[0m \u001b[0mx\u001b[0m\u001b[0;34m:\u001b[0m \u001b[0mstrip_accents\u001b[0m\u001b[0;34m(\u001b[0m\u001b[0mx\u001b[0m\u001b[0;34m.\u001b[0m\u001b[0mlower\u001b[0m\u001b[0;34m(\u001b[0m\u001b[0;34m)\u001b[0m\u001b[0;34m)\u001b[0m\u001b[0;34m\u001b[0m\u001b[0m\n\u001b[0m\u001b[1;32m    205\u001b[0m         \u001b[0;32melse\u001b[0m\u001b[0;34m:\u001b[0m\u001b[0;34m\u001b[0m\u001b[0m\n\u001b[1;32m    206\u001b[0m             \u001b[0;32mreturn\u001b[0m \u001b[0mstrip_accents\u001b[0m\u001b[0;34m\u001b[0m\u001b[0m\n",
      "\u001b[0;31mAttributeError\u001b[0m: 'NoneType' object has no attribute 'lower'"
     ]
    }
   ],
   "source": [
    "from sklearn.feature_extraction.text import CountVectorizer\n",
    "\n",
    "# We want 1000 words as features max.\n",
    "# ngram_range = (1,2) specifies that we want single words and word pairs\n",
    "# stop_words = 'english' specifies that we do not want the most common english words\n",
    "# binary = True means we want 1 if the word was present rather than a count of that word\n",
    "vectorizer = CountVectorizer(max_features = 1000,\n",
    "                             ngram_range=(1, 2),\n",
    "                             stop_words='english',\n",
    "                             binary=True)\n",
    "\n",
    "# fit on an example:\n",
    "vectorizer.fit(['IBM Sees Holographic Calls Air Breathing'])\n",
    "\n",
    "vectorizer.get_feature_names()\n",
    "\n",
    "\n",
    "title_vectorizer = CountVectorizer(max_features = 1000,\n",
    "                                   ngram_range=(1, 2),\n",
    "                                   stop_words='english',\n",
    "                                   binary=True)\n",
    "\n",
    "body_vectorizer = CountVectorizer(max_features = 1000,\n",
    "                                  ngram_range=(1, 2),\n",
    "                                  stop_words='english',\n",
    "                                  binary=True)\n",
    "\n",
    "# Use `fit` to learn the vocabulary of the titles\n",
    "title_vectorizer.fit(su.parsed_title)\n",
    "\n",
    "# Use `transform` to generate the sample title and body word matrix\n",
    "# one column per feature (word or n-grams)\n",
    "title_X = title_vectorizer.transform(titles)\n"
   ]
  },
  {
   "cell_type": "markdown",
   "metadata": {},
   "source": [
    "### 8.3 Gridsearch a logistic regression predicting accuracy of your chosen target category from word predictor matrix\n",
    "\n",
    "---"
   ]
  },
  {
   "cell_type": "code",
   "execution_count": null,
   "metadata": {
    "collapsed": true
   },
   "outputs": [],
   "source": []
  },
  {
   "cell_type": "markdown",
   "metadata": {},
   "source": [
    "### 8.4 Do the same as above, but score the gridsearch based on precision rather than accuracy\n",
    "\n",
    "---"
   ]
  },
  {
   "cell_type": "code",
   "execution_count": null,
   "metadata": {
    "collapsed": true
   },
   "outputs": [],
   "source": []
  },
  {
   "cell_type": "markdown",
   "metadata": {},
   "source": [
    "### 8.5 Build a logistic regression with optimal precision categories\n",
    "\n",
    "Print out the top 20 or 25 word features as ranked by their coefficients.\n",
    "\n",
    "---"
   ]
  },
  {
   "cell_type": "code",
   "execution_count": null,
   "metadata": {
    "collapsed": true
   },
   "outputs": [],
   "source": []
  }
 ],
 "metadata": {
  "kernelspec": {
   "display_name": "Python 2",
   "language": "python",
   "name": "python2"
  },
  "language_info": {
   "codemirror_mode": {
    "name": "ipython",
    "version": 2
   },
   "file_extension": ".py",
   "mimetype": "text/x-python",
   "name": "python",
   "nbconvert_exporter": "python",
   "pygments_lexer": "ipython2",
   "version": "2.7.11"
  }
 },
 "nbformat": 4,
 "nbformat_minor": 0
}

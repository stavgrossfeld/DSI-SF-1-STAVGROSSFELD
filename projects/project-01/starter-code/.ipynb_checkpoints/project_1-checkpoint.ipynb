{
 "cells": [
  {
   "cell_type": "markdown",
   "metadata": {},
   "source": [
    "# Project 1\n",
    "\n",
    "## Step 1: Open the `sat_scores.csv` file. Investigate the data, and answer the questions below.\n"
   ]
  },
  {
   "cell_type": "markdown",
   "metadata": {},
   "source": [
    "##### 1. What does the data describe?"
   ]
  },
  {
   "cell_type": "markdown",
   "metadata": {},
   "source": [
    "The data describes SAT scores around the united states."
   ]
  },
  {
   "cell_type": "code",
   "execution_count": 70,
   "metadata": {
    "collapsed": false,
    "scrolled": true
   },
   "outputs": [
    {
     "data": {
      "text/html": [
       "<div>\n",
       "<table border=\"1\" class=\"dataframe\">\n",
       "  <thead>\n",
       "    <tr style=\"text-align: right;\">\n",
       "      <th></th>\n",
       "      <th>State</th>\n",
       "      <th>Rate</th>\n",
       "      <th>Verbal</th>\n",
       "      <th>Math</th>\n",
       "    </tr>\n",
       "  </thead>\n",
       "  <tbody>\n",
       "    <tr>\n",
       "      <th>0</th>\n",
       "      <td>CT</td>\n",
       "      <td>82</td>\n",
       "      <td>509</td>\n",
       "      <td>510</td>\n",
       "    </tr>\n",
       "    <tr>\n",
       "      <th>1</th>\n",
       "      <td>NJ</td>\n",
       "      <td>81</td>\n",
       "      <td>499</td>\n",
       "      <td>513</td>\n",
       "    </tr>\n",
       "    <tr>\n",
       "      <th>2</th>\n",
       "      <td>MA</td>\n",
       "      <td>79</td>\n",
       "      <td>511</td>\n",
       "      <td>515</td>\n",
       "    </tr>\n",
       "    <tr>\n",
       "      <th>3</th>\n",
       "      <td>NY</td>\n",
       "      <td>77</td>\n",
       "      <td>495</td>\n",
       "      <td>505</td>\n",
       "    </tr>\n",
       "    <tr>\n",
       "      <th>4</th>\n",
       "      <td>NH</td>\n",
       "      <td>72</td>\n",
       "      <td>520</td>\n",
       "      <td>516</td>\n",
       "    </tr>\n",
       "    <tr>\n",
       "      <th>5</th>\n",
       "      <td>RI</td>\n",
       "      <td>71</td>\n",
       "      <td>501</td>\n",
       "      <td>499</td>\n",
       "    </tr>\n",
       "    <tr>\n",
       "      <th>6</th>\n",
       "      <td>PA</td>\n",
       "      <td>71</td>\n",
       "      <td>500</td>\n",
       "      <td>499</td>\n",
       "    </tr>\n",
       "    <tr>\n",
       "      <th>7</th>\n",
       "      <td>VT</td>\n",
       "      <td>69</td>\n",
       "      <td>511</td>\n",
       "      <td>506</td>\n",
       "    </tr>\n",
       "    <tr>\n",
       "      <th>8</th>\n",
       "      <td>ME</td>\n",
       "      <td>69</td>\n",
       "      <td>506</td>\n",
       "      <td>500</td>\n",
       "    </tr>\n",
       "    <tr>\n",
       "      <th>9</th>\n",
       "      <td>VA</td>\n",
       "      <td>68</td>\n",
       "      <td>510</td>\n",
       "      <td>501</td>\n",
       "    </tr>\n",
       "  </tbody>\n",
       "</table>\n",
       "</div>"
      ],
      "text/plain": [
       "  State  Rate  Verbal  Math\n",
       "0    CT    82     509   510\n",
       "1    NJ    81     499   513\n",
       "2    MA    79     511   515\n",
       "3    NY    77     495   505\n",
       "4    NH    72     520   516\n",
       "5    RI    71     501   499\n",
       "6    PA    71     500   499\n",
       "7    VT    69     511   506\n",
       "8    ME    69     506   500\n",
       "9    VA    68     510   501"
      ]
     },
     "execution_count": 70,
     "metadata": {},
     "output_type": "execute_result"
    }
   ],
   "source": [
    "import pandas as pd\n",
    "SAT = pd.read_csv('/Users/Stav/github-repos/Stav-Grossfeld-DSI/projects/project-01/assets/sat_scores.csv')\n",
    "SAT.head(10)\n",
    "#SAT.shape\n",
    "#SAT.isnull()  # dataset looks complete\n"
   ]
  },
  {
   "cell_type": "markdown",
   "metadata": {},
   "source": [
    "##### 2. Does the data look complete? Are there any obvious issues with the observations?"
   ]
  },
  {
   "cell_type": "markdown",
   "metadata": {},
   "source": [
    "SAT dataset looks complete"
   ]
  },
  {
   "cell_type": "markdown",
   "metadata": {},
   "source": [
    "##### 3. Create a data dictionary for the dataset."
   ]
  },
  {
   "cell_type": "code",
   "execution_count": 71,
   "metadata": {
    "collapsed": false
   },
   "outputs": [
    {
     "name": "stdout",
     "output_type": "stream",
     "text": [
      "['State' 'Rate' 'Verbal' 'Math']\n",
      "State     object\n",
      "Rate       int64\n",
      "Verbal     int64\n",
      "Math       int64\n",
      "dtype: object\n",
      "data_dictionary:  {'Math': dtype('int64'), 'State': dtype('O'), 'Rate': dtype('int64'), 'Verbal': dtype('int64')}\n"
     ]
    }
   ],
   "source": [
    "data_dict = {}\n",
    "columns = SAT.columns.values\n",
    "print columns\n",
    "types =   SAT.dtypes   # list of column types\n",
    "print types\n",
    "\n",
    "for i in range(len(columns)):\n",
    "    data_dict[columns[i]] = types[i]\n",
    "\n",
    "print \"data_dictionary: \" , data_dict\n"
   ]
  },
  {
   "cell_type": "markdown",
   "metadata": {
    "collapsed": true
   },
   "source": []
  },
  {
   "cell_type": "markdown",
   "metadata": {},
   "source": [
    "## Step 2: Load the data."
   ]
  },
  {
   "cell_type": "markdown",
   "metadata": {},
   "source": [
    "##### 4. Load the data into a list of lists\n",
    "# not sure what this means\n"
   ]
  },
  {
   "cell_type": "code",
   "execution_count": 72,
   "metadata": {
    "collapsed": false
   },
   "outputs": [
    {
     "name": "stdout",
     "output_type": "stream",
     "text": [
      "   State  Rate  Verbal  Math\n",
      "0     CT    82     509   510\n",
      "1     NJ    81     499   513\n",
      "2     MA    79     511   515\n",
      "3     NY    77     495   505\n",
      "4     NH    72     520   516\n",
      "5     RI    71     501   499\n",
      "6     PA    71     500   499\n",
      "7     VT    69     511   506\n",
      "8     ME    69     506   500\n",
      "9     VA    68     510   501\n",
      "10    DE    67     501   499\n",
      "11    MD    65     508   510\n",
      "12    NC    65     493   499\n",
      "13    GA    63     491   489\n",
      "14    IN    60     499   501\n",
      "15    SC    57     486   488\n",
      "16    DC    56     482   474\n",
      "17    OR    55     526   526\n",
      "18    FL    54     498   499\n",
      "19    WA    53     527   527\n",
      "20    TX    53     493   499\n",
      "21    HI    52     485   515\n",
      "22    AK    51     514   510\n",
      "23    CA    51     498   517\n",
      "24    AZ    34     523   525\n",
      "25    NV    33     509   515\n",
      "26    CO    31     539   542\n",
      "27    OH    26     534   439\n",
      "28    MT    23     539   539\n",
      "29    WV    18     527   512\n",
      "30    ID    17     543   542\n",
      "31    TN    13     562   553\n",
      "32    NM    13     551   542\n",
      "33    IL    12     576   589\n",
      "34    KY    12     550   550\n",
      "35    WY    11     547   545\n",
      "36    MI    11     561   572\n",
      "37    MN     9     580   589\n",
      "38    KS     9     577   580\n",
      "39    AL     9     559   554\n",
      "40    NB     8     562   568\n",
      "41    OK     8     567   561\n",
      "42    MO     8     577   577\n",
      "43    LA     7     564   562\n",
      "44    WI     6     584   596\n",
      "45    AR     6     562   550\n",
      "46    UT     5     575   570\n",
      "47    IA     5     593   603\n",
      "48    SD     4     577   582\n",
      "49    ND     4     592   599\n",
      "50    MS     4     566   551\n",
      "51   All    45     506   514\n"
     ]
    }
   ],
   "source": [
    "state = SAT['State']\n",
    "\n",
    "rate = SAT['Rate']\n",
    "verbal = SAT['Verbal']\n",
    "math = SAT['Math']\n",
    "data_list = [state,rate,verbal,math]\n",
    "data = SAT[['State', 'Rate', 'Verbal', 'Math']]\n",
    "print data"
   ]
  },
  {
   "cell_type": "markdown",
   "metadata": {},
   "source": [
    "##### 5. Print the data"
   ]
  },
  {
   "cell_type": "code",
   "execution_count": null,
   "metadata": {
    "collapsed": false
   },
   "outputs": [],
   "source": []
  },
  {
   "cell_type": "markdown",
   "metadata": {
    "collapsed": true
   },
   "source": [
    "##### 6. Extract a list of the labels from the data, and remove them from the data.\n",
    "# NOT SURE WHAT THIS MEANS"
   ]
  },
  {
   "cell_type": "code",
   "execution_count": 73,
   "metadata": {
    "collapsed": false,
    "scrolled": true
   },
   "outputs": [],
   "source": [
    "import numpy as np\n",
    "#print SAT.iloc[:,0:4]"
   ]
  },
  {
   "cell_type": "markdown",
   "metadata": {},
   "source": [
    "##### 7. Create a list of State names extracted from the data. (Hint: use the list of labels to index on the State column)"
   ]
  },
  {
   "cell_type": "code",
   "execution_count": 74,
   "metadata": {
    "collapsed": false
   },
   "outputs": [
    {
     "name": "stdout",
     "output_type": "stream",
     "text": [
      "0      CT\n",
      "1      NJ\n",
      "2      MA\n",
      "3      NY\n",
      "4      NH\n",
      "5      RI\n",
      "6      PA\n",
      "7      VT\n",
      "8      ME\n",
      "9      VA\n",
      "10     DE\n",
      "11     MD\n",
      "12     NC\n",
      "13     GA\n",
      "14     IN\n",
      "15     SC\n",
      "16     DC\n",
      "17     OR\n",
      "18     FL\n",
      "19     WA\n",
      "20     TX\n",
      "21     HI\n",
      "22     AK\n",
      "23     CA\n",
      "24     AZ\n",
      "25     NV\n",
      "26     CO\n",
      "27     OH\n",
      "28     MT\n",
      "29     WV\n",
      "30     ID\n",
      "31     TN\n",
      "32     NM\n",
      "33     IL\n",
      "34     KY\n",
      "35     WY\n",
      "36     MI\n",
      "37     MN\n",
      "38     KS\n",
      "39     AL\n",
      "40     NB\n",
      "41     OK\n",
      "42     MO\n",
      "43     LA\n",
      "44     WI\n",
      "45     AR\n",
      "46     UT\n",
      "47     IA\n",
      "48     SD\n",
      "49     ND\n",
      "50     MS\n",
      "51    All\n",
      "Name: State, dtype: object\n"
     ]
    }
   ],
   "source": [
    "print state"
   ]
  },
  {
   "cell_type": "markdown",
   "metadata": {},
   "source": [
    "##### 8. Print the types of each column"
   ]
  },
  {
   "cell_type": "code",
   "execution_count": 75,
   "metadata": {
    "collapsed": false
   },
   "outputs": [
    {
     "name": "stdout",
     "output_type": "stream",
     "text": [
      "State     object\n",
      "Rate       int64\n",
      "Verbal     int64\n",
      "Math       int64\n",
      "dtype: object\n"
     ]
    }
   ],
   "source": [
    "types = SAT.dtypes\n",
    "print types"
   ]
  },
  {
   "cell_type": "markdown",
   "metadata": {},
   "source": [
    "##### 9. Do any types need to be reassigned? If so, go ahead and do it."
   ]
  },
  {
   "cell_type": "code",
   "execution_count": 76,
   "metadata": {
    "collapsed": false
   },
   "outputs": [
    {
     "data": {
      "text/html": [
       "<div>\n",
       "<table border=\"1\" class=\"dataframe\">\n",
       "  <thead>\n",
       "    <tr style=\"text-align: right;\">\n",
       "      <th></th>\n",
       "      <th>State</th>\n",
       "      <th>Rate</th>\n",
       "      <th>Verbal</th>\n",
       "      <th>Math</th>\n",
       "    </tr>\n",
       "  </thead>\n",
       "  <tbody>\n",
       "    <tr>\n",
       "      <th>47</th>\n",
       "      <td>IA</td>\n",
       "      <td>5.0</td>\n",
       "      <td>593.0</td>\n",
       "      <td>603.0</td>\n",
       "    </tr>\n",
       "    <tr>\n",
       "      <th>48</th>\n",
       "      <td>SD</td>\n",
       "      <td>4.0</td>\n",
       "      <td>577.0</td>\n",
       "      <td>582.0</td>\n",
       "    </tr>\n",
       "    <tr>\n",
       "      <th>49</th>\n",
       "      <td>ND</td>\n",
       "      <td>4.0</td>\n",
       "      <td>592.0</td>\n",
       "      <td>599.0</td>\n",
       "    </tr>\n",
       "    <tr>\n",
       "      <th>50</th>\n",
       "      <td>MS</td>\n",
       "      <td>4.0</td>\n",
       "      <td>566.0</td>\n",
       "      <td>551.0</td>\n",
       "    </tr>\n",
       "    <tr>\n",
       "      <th>51</th>\n",
       "      <td>All</td>\n",
       "      <td>45.0</td>\n",
       "      <td>506.0</td>\n",
       "      <td>514.0</td>\n",
       "    </tr>\n",
       "  </tbody>\n",
       "</table>\n",
       "</div>"
      ],
      "text/plain": [
       "   State  Rate  Verbal   Math\n",
       "47    IA   5.0   593.0  603.0\n",
       "48    SD   4.0   577.0  582.0\n",
       "49    ND   4.0   592.0  599.0\n",
       "50    MS   4.0   566.0  551.0\n",
       "51   All  45.0   506.0  514.0"
      ]
     },
     "execution_count": 76,
     "metadata": {},
     "output_type": "execute_result"
    }
   ],
   "source": [
    "##object = string in pandas\n",
    "##### convert to floats, easier to work with\n",
    "SAT[['Rate', 'Verbal','Math']] = SAT[['Rate', 'Verbal','Math']].astype(float)\n",
    "#print SAT.dtypes\n",
    "\n",
    "SAT.tail(5)"
   ]
  },
  {
   "cell_type": "markdown",
   "metadata": {},
   "source": [
    "##### 10. Create a dictionary for each column mapping the State to its respective value for that column. "
   ]
  },
  {
   "cell_type": "code",
   "execution_count": 103,
   "metadata": {
    "collapsed": false
   },
   "outputs": [
    {
     "name": "stdout",
     "output_type": "stream",
     "text": [
      "{'WA': 53.0, 'DE': 67.0, 'DC': 56.0, 'WI': 6.0, 'WV': 18.0, 'HI': 52.0, 'FL': 54.0, 'WY': 11.0, 'NH': 72.0, 'NJ': 81.0, 'NM': 13.0, 'TX': 53.0, 'LA': 7.0, 'NB': 8.0, 'NC': 65.0, 'ND': 4.0, 'TN': 13.0, 'NY': 77.0, 'PA': 71.0, 'RI': 71.0, 'NV': 33.0, 'VA': 68.0, 'CO': 31.0, 'AK': 51.0, 'AL': 9.0, 'AR': 6.0, 'VT': 69.0, 'IL': 12.0, 'GA': 63.0, 'IN': 60.0, 'IA': 5.0, 'OK': 8.0, 'AZ': 34.0, 'CA': 51.0, 'ID': 17.0, 'CT': 82.0, 'ME': 69.0, 'MD': 65.0, 'All': 45.0, 'MA': 79.0, 'OH': 26.0, 'UT': 5.0, 'MO': 8.0, 'MN': 9.0, 'MI': 11.0, 'KS': 9.0, 'MT': 23.0, 'MS': 4.0, 'SC': 57.0, 'KY': 12.0, 'OR': 55.0, 'SD': 4.0}\n",
      "{'WA': 527.0, 'DE': 501.0, 'DC': 482.0, 'WI': 584.0, 'WV': 527.0, 'HI': 485.0, 'FL': 498.0, 'WY': 547.0, 'NH': 520.0, 'NJ': 499.0, 'NM': 551.0, 'TX': 493.0, 'LA': 564.0, 'NB': 562.0, 'NC': 493.0, 'ND': 592.0, 'TN': 562.0, 'NY': 495.0, 'PA': 500.0, 'RI': 501.0, 'NV': 509.0, 'VA': 510.0, 'CO': 539.0, 'AK': 514.0, 'AL': 559.0, 'AR': 562.0, 'VT': 511.0, 'IL': 576.0, 'GA': 491.0, 'IN': 499.0, 'IA': 593.0, 'OK': 567.0, 'AZ': 523.0, 'CA': 498.0, 'ID': 543.0, 'CT': 509.0, 'ME': 506.0, 'MD': 508.0, 'All': 506.0, 'MA': 511.0, 'OH': 534.0, 'UT': 575.0, 'MO': 577.0, 'MN': 580.0, 'MI': 561.0, 'KS': 577.0, 'MT': 539.0, 'MS': 566.0, 'SC': 486.0, 'KY': 550.0, 'OR': 526.0, 'SD': 577.0}\n",
      "{'WA': 527.0, 'DE': 499.0, 'DC': 474.0, 'WI': 596.0, 'WV': 512.0, 'HI': 515.0, 'FL': 499.0, 'WY': 545.0, 'NH': 516.0, 'NJ': 513.0, 'NM': 542.0, 'TX': 499.0, 'LA': 562.0, 'NB': 568.0, 'NC': 499.0, 'ND': 599.0, 'TN': 553.0, 'NY': 505.0, 'PA': 499.0, 'RI': 499.0, 'NV': 515.0, 'VA': 501.0, 'CO': 542.0, 'AK': 510.0, 'AL': 554.0, 'AR': 550.0, 'VT': 506.0, 'IL': 589.0, 'GA': 489.0, 'IN': 501.0, 'IA': 603.0, 'OK': 561.0, 'AZ': 525.0, 'CA': 517.0, 'ID': 542.0, 'CT': 510.0, 'ME': 500.0, 'MD': 510.0, 'All': 514.0, 'MA': 515.0, 'OH': 439.0, 'UT': 570.0, 'MO': 577.0, 'MN': 589.0, 'MI': 572.0, 'KS': 580.0, 'MT': 539.0, 'MS': 551.0, 'SC': 488.0, 'KY': 550.0, 'OR': 526.0, 'SD': 582.0}\n"
     ]
    },
    {
     "data": {
      "text/html": [
       "<div>\n",
       "<table border=\"1\" class=\"dataframe\">\n",
       "  <thead>\n",
       "    <tr style=\"text-align: right;\">\n",
       "      <th></th>\n",
       "      <th>State</th>\n",
       "      <th>Rate</th>\n",
       "      <th>Verbal</th>\n",
       "      <th>Math</th>\n",
       "    </tr>\n",
       "  </thead>\n",
       "  <tbody>\n",
       "    <tr>\n",
       "      <th>0</th>\n",
       "      <td>CT</td>\n",
       "      <td>82.0</td>\n",
       "      <td>509.0</td>\n",
       "      <td>510.0</td>\n",
       "    </tr>\n",
       "    <tr>\n",
       "      <th>1</th>\n",
       "      <td>NJ</td>\n",
       "      <td>81.0</td>\n",
       "      <td>499.0</td>\n",
       "      <td>513.0</td>\n",
       "    </tr>\n",
       "    <tr>\n",
       "      <th>2</th>\n",
       "      <td>MA</td>\n",
       "      <td>79.0</td>\n",
       "      <td>511.0</td>\n",
       "      <td>515.0</td>\n",
       "    </tr>\n",
       "    <tr>\n",
       "      <th>3</th>\n",
       "      <td>NY</td>\n",
       "      <td>77.0</td>\n",
       "      <td>495.0</td>\n",
       "      <td>505.0</td>\n",
       "    </tr>\n",
       "    <tr>\n",
       "      <th>4</th>\n",
       "      <td>NH</td>\n",
       "      <td>72.0</td>\n",
       "      <td>520.0</td>\n",
       "      <td>516.0</td>\n",
       "    </tr>\n",
       "  </tbody>\n",
       "</table>\n",
       "</div>"
      ],
      "text/plain": [
       "  State  Rate  Verbal   Math\n",
       "0    CT  82.0   509.0  510.0\n",
       "1    NJ  81.0   499.0  513.0\n",
       "2    MA  79.0   511.0  515.0\n",
       "3    NY  77.0   495.0  505.0\n",
       "4    NH  72.0   520.0  516.0"
      ]
     },
     "execution_count": 103,
     "metadata": {},
     "output_type": "execute_result"
    }
   ],
   "source": [
    "dict_rate = {}\n",
    "dict_verbal = {}\n",
    "dict_math = {}\n",
    "for row in SAT.iterrows():   #iterate through rows in pandas df\n",
    "    #print row\n",
    "    dict_rate[row[1][0]] = row[1][1]  #assign rate to state key\n",
    "    dict_verbal[row[1][0]] = row[1][2] #assign verbal to state key\n",
    "    dict_math[row[1][0]] = row[1][3]  # assign math to state key\n",
    "\n",
    "print dict_rate\n",
    "print dict_verbal\n",
    "print dict_math\n",
    "\n",
    "SAT.head()\n",
    "    #check SD: R 4.0, 577.0, 582.0"
   ]
  },
  {
   "cell_type": "markdown",
   "metadata": {},
   "source": [
    "# 11. Create a dictionary with the values for each of the numeric columns"
   ]
  },
  {
   "cell_type": "code",
   "execution_count": null,
   "metadata": {
    "collapsed": false
   },
   "outputs": [],
   "source": []
  },
  {
   "cell_type": "markdown",
   "metadata": {},
   "source": [
    "## Step 3: Describe the data"
   ]
  },
  {
   "cell_type": "markdown",
   "metadata": {},
   "source": [
    "##### 12. Print the min and max of each column"
   ]
  },
  {
   "cell_type": "code",
   "execution_count": 116,
   "metadata": {
    "collapsed": false
   },
   "outputs": [
    {
     "name": "stdout",
     "output_type": "stream",
     "text": [
      "max vals: \n",
      "State      WY\n",
      "Rate       82\n",
      "Verbal    593\n",
      "Math      603\n",
      "dtype: object\n",
      "min vals: \n",
      "State      AK\n",
      "Rate        4\n",
      "Verbal    482\n",
      "Math      439\n",
      "dtype: object\n"
     ]
    }
   ],
   "source": [
    "print \"max vals:\", '\\n', SAT.max()\n",
    "print \"min vals:\", '\\n', SAT.min()"
   ]
  },
  {
   "cell_type": "markdown",
   "metadata": {},
   "source": [
    "##### 13. Write a function using only list comprehensions, no loops, to compute Standard Deviation. Print the Standard Deviation of each numeric column."
   ]
  },
  {
   "cell_type": "code",
   "execution_count": 120,
   "metadata": {
    "collapsed": false
   },
   "outputs": [
    {
     "name": "stdout",
     "output_type": "stream",
     "text": [
      "Standard deviations of each column:  \n",
      "\n",
      "Rate      27.301788\n",
      "Verbal    33.236225\n",
      "Math      36.014975\n",
      "dtype: float64\n"
     ]
    }
   ],
   "source": [
    "print \"Standard deviations of each column: \" , '\\n','\\n' , SAT.std()"
   ]
  },
  {
   "cell_type": "markdown",
   "metadata": {},
   "source": [
    "## Step 4: Visualize the data\n",
    "# http://stackoverflow.com/questions/19410042/how-to-make-ipython-notebook-matplotlib-plot-inline\n"
   ]
  },
  {
   "cell_type": "markdown",
   "metadata": {
    "collapsed": true
   },
   "source": [
    "##### 14. Using MatPlotLib and PyPlot, plot the distribution of the Rate using histograms."
   ]
  },
  {
   "cell_type": "code",
   "execution_count": 135,
   "metadata": {
    "collapsed": false
   },
   "outputs": [
    {
     "data": {
      "text/plain": [
       "(array([ 0.06163708,  0.03698225,  0.03698225,  0.03698225,  0.02465483,\n",
       "         0.04930966,  0.        ,  0.        ,  0.02465483,  0.        ,\n",
       "         0.        ,  0.        ,  0.01232742,  0.        ,  0.01232742,\n",
       "         0.        ,  0.        ,  0.01232742,  0.01232742,  0.01232742,\n",
       "         0.        ,  0.        ,  0.        ,  0.        ,  0.        ,\n",
       "         0.        ,  0.01232742,  0.        ,  0.        ,  0.        ,\n",
       "         0.03698225,  0.02465483,  0.02465483,  0.02465483,  0.        ,\n",
       "         0.01232742,  0.        ,  0.01232742,  0.        ,  0.02465483,\n",
       "         0.01232742,  0.03698225,  0.02465483,  0.01232742,  0.        ,\n",
       "         0.        ,  0.01232742,  0.        ,  0.01232742,  0.02465483]),\n",
       " array([  4.  ,   5.56,   7.12,   8.68,  10.24,  11.8 ,  13.36,  14.92,\n",
       "         16.48,  18.04,  19.6 ,  21.16,  22.72,  24.28,  25.84,  27.4 ,\n",
       "         28.96,  30.52,  32.08,  33.64,  35.2 ,  36.76,  38.32,  39.88,\n",
       "         41.44,  43.  ,  44.56,  46.12,  47.68,  49.24,  50.8 ,  52.36,\n",
       "         53.92,  55.48,  57.04,  58.6 ,  60.16,  61.72,  63.28,  64.84,\n",
       "         66.4 ,  67.96,  69.52,  71.08,  72.64,  74.2 ,  75.76,  77.32,\n",
       "         78.88,  80.44,  82.  ]),\n",
       " <a list of 50 Patch objects>)"
      ]
     },
     "execution_count": 135,
     "metadata": {},
     "output_type": "execute_result"
    },
    {
     "data": {
      "image/png": "[encoded data removed]",
      "text/plain": [
       "<matplotlib.figure.Figure at 0x1120f0e10>"
      ]
     },
     "metadata": {},
     "output_type": "display_data"
    }
   ],
   "source": [
    "%matplotlib inline\n",
    "import matplotlib.pyplot as plt\n",
    "plt.hist(SAT['Rate'],50, normed=1, facecolor='blue', alpha=0.75)\n"
   ]
  },
  {
   "cell_type": "markdown",
   "metadata": {},
   "source": [
    "##### 15. Plot the Math distribution"
   ]
  },
  {
   "cell_type": "code",
   "execution_count": 136,
   "metadata": {
    "collapsed": false
   },
   "outputs": [
    {
     "data": {
      "text/plain": [
       "(array([ 0.00586304,  0.        ,  0.        ,  0.        ,  0.        ,\n",
       "         0.        ,  0.        ,  0.        ,  0.        ,  0.        ,\n",
       "         0.00586304,  0.        ,  0.        ,  0.        ,  0.00586304,\n",
       "         0.00586304,  0.        ,  0.        ,  0.05276735,  0.        ,\n",
       "         0.01172608,  0.01758912,  0.01758912,  0.0293152 ,  0.        ,\n",
       "         0.        ,  0.01758912,  0.        ,  0.        ,  0.        ,\n",
       "         0.00586304,  0.01758912,  0.00586304,  0.01172608,  0.01172608,\n",
       "         0.00586304,  0.        ,  0.01172608,  0.        ,  0.01172608,\n",
       "         0.00586304,  0.        ,  0.01172608,  0.00586304,  0.        ,\n",
       "         0.01172608,  0.        ,  0.00586304,  0.00586304,  0.00586304]),\n",
       " array([ 439.  ,  442.28,  445.56,  448.84,  452.12,  455.4 ,  458.68,\n",
       "         461.96,  465.24,  468.52,  471.8 ,  475.08,  478.36,  481.64,\n",
       "         484.92,  488.2 ,  491.48,  494.76,  498.04,  501.32,  504.6 ,\n",
       "         507.88,  511.16,  514.44,  517.72,  521.  ,  524.28,  527.56,\n",
       "         530.84,  534.12,  537.4 ,  540.68,  543.96,  547.24,  550.52,\n",
       "         553.8 ,  557.08,  560.36,  563.64,  566.92,  570.2 ,  573.48,\n",
       "         576.76,  580.04,  583.32,  586.6 ,  589.88,  593.16,  596.44,\n",
       "         599.72,  603.  ]),\n",
       " <a list of 50 Patch objects>)"
      ]
     },
     "execution_count": 136,
     "metadata": {},
     "output_type": "execute_result"
    },
    {
     "data": {
      "image/png": "[encoded data removed]",
      "text/plain": [
       "<matplotlib.figure.Figure at 0x1120f05d0>"
      ]
     },
     "metadata": {},
     "output_type": "display_data"
    }
   ],
   "source": [
    "plt.hist(SAT['Math'],50, normed=1, facecolor='blue', alpha=0.75)\n"
   ]
  },
  {
   "cell_type": "markdown",
   "metadata": {},
   "source": [
    "##### 16. Plot the Verbal distribution"
   ]
  },
  {
   "cell_type": "code",
   "execution_count": 137,
   "metadata": {
    "collapsed": false
   },
   "outputs": [
    {
     "data": {
      "text/plain": [
       "(array([ 0.00866251,  0.01732502,  0.        ,  0.        ,  0.02598753,\n",
       "         0.00866251,  0.        ,  0.03465003,  0.02598753,  0.        ,\n",
       "         0.01732502,  0.00866251,  0.02598753,  0.01732502,  0.00866251,\n",
       "         0.        ,  0.        ,  0.00866251,  0.00866251,  0.00866251,\n",
       "         0.01732502,  0.        ,  0.        ,  0.00866251,  0.        ,\n",
       "         0.01732502,  0.        ,  0.00866251,  0.        ,  0.00866251,\n",
       "         0.00866251,  0.00866251,  0.        ,  0.        ,  0.00866251,\n",
       "         0.00866251,  0.03465003,  0.00866251,  0.00866251,  0.        ,\n",
       "         0.        ,  0.00866251,  0.03465003,  0.        ,  0.00866251,\n",
       "         0.00866251,  0.        ,  0.        ,  0.        ,  0.01732502]),\n",
       " array([ 482.  ,  484.22,  486.44,  488.66,  490.88,  493.1 ,  495.32,\n",
       "         497.54,  499.76,  501.98,  504.2 ,  506.42,  508.64,  510.86,\n",
       "         513.08,  515.3 ,  517.52,  519.74,  521.96,  524.18,  526.4 ,\n",
       "         528.62,  530.84,  533.06,  535.28,  537.5 ,  539.72,  541.94,\n",
       "         544.16,  546.38,  548.6 ,  550.82,  553.04,  555.26,  557.48,\n",
       "         559.7 ,  561.92,  564.14,  566.36,  568.58,  570.8 ,  573.02,\n",
       "         575.24,  577.46,  579.68,  581.9 ,  584.12,  586.34,  588.56,\n",
       "         590.78,  593.  ]),\n",
       " <a list of 50 Patch objects>)"
      ]
     },
     "execution_count": 137,
     "metadata": {},
     "output_type": "execute_result"
    },
    {
     "data": {
      "image/png": "[encoded data removed]",
      "text/plain": [
       "<matplotlib.figure.Figure at 0x117f1f390>"
      ]
     },
     "metadata": {},
     "output_type": "display_data"
    }
   ],
   "source": [
    "plt.hist(SAT['Verbal'],50, normed=1, facecolor='blue', alpha=0.75)\n"
   ]
  },
  {
   "cell_type": "markdown",
   "metadata": {},
   "source": [
    "##### 17. What is the typical assumption for data distribution?"
   ]
  },
  {
   "cell_type": "code",
   "execution_count": null,
   "metadata": {
    "collapsed": false
   },
   "outputs": [],
   "source": []
  },
  {
   "cell_type": "markdown",
   "metadata": {},
   "source": [
    "##### 18. Does that distribution hold true for our data?"
   ]
  },
  {
   "cell_type": "code",
   "execution_count": null,
   "metadata": {
    "collapsed": false
   },
   "outputs": [],
   "source": []
  },
  {
   "cell_type": "markdown",
   "metadata": {},
   "source": [
    "##### 19. Plot some scatterplots. **BONUS**: Use a PyPlot `figure` to present multiple plots at once."
   ]
  },
  {
   "cell_type": "code",
   "execution_count": null,
   "metadata": {
    "collapsed": false
   },
   "outputs": [],
   "source": []
  },
  {
   "cell_type": "markdown",
   "metadata": {},
   "source": [
    "##### 20. Are there any interesting relationships to note?"
   ]
  },
  {
   "cell_type": "code",
   "execution_count": null,
   "metadata": {
    "collapsed": false
   },
   "outputs": [],
   "source": []
  },
  {
   "cell_type": "markdown",
   "metadata": {},
   "source": [
    "##### 21. Create box plots for each variable. "
   ]
  },
  {
   "cell_type": "code",
   "execution_count": null,
   "metadata": {
    "collapsed": false
   },
   "outputs": [],
   "source": []
  },
  {
   "cell_type": "markdown",
   "metadata": {},
   "source": [
    "##### BONUS: Using Tableau, create a heat map for each variable using a map of the US. "
   ]
  },
  {
   "cell_type": "code",
   "execution_count": null,
   "metadata": {
    "collapsed": true
   },
   "outputs": [],
   "source": []
  }
 ],
 "metadata": {
  "kernelspec": {
   "display_name": "Python 2",
   "language": "python",
   "name": "python2"
  },
  "language_info": {
   "codemirror_mode": {
    "name": "ipython",
    "version": 2
   },
   "file_extension": ".py",
   "mimetype": "text/x-python",
   "name": "python",
   "nbconvert_exporter": "python",
   "pygments_lexer": "ipython2",
   "version": "2.7.11"
  }
 },
 "nbformat": 4,
 "nbformat_minor": 0
}

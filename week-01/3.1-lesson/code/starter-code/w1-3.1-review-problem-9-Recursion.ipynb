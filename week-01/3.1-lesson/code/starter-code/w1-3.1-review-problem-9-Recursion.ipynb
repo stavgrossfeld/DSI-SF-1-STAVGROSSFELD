{
 "cells": [
  {
   "cell_type": "markdown",
   "metadata": {},
   "source": [
    "### Review problem 9 (expert)\n",
    "\n",
    "For this problem you write a function that takes a multi-tiered dictionary of arbitrary depth. Your function will need to iterate through the dictionary, printing out the contents.\n",
    "\n",
    "Your function should:\n",
    "\n",
    "- Accept the predefined dictionary as an argument.\n",
    "- For each key:value pair, print out the key and the value:\n",
    "    - If the value is also a dictionary, do the same, printing out the key:value pair but with tabs equivalent to the current \"depth\" indicating what level we are on.\n",
    "    - Note: tab in strings is written as ```\\t```\n",
    "    \n",
    "Example:\n",
    "```python\n",
    "'key1' : 'value1'\n",
    "'key2' :\n",
    "    'key3' : 'value3'\n",
    "    'key4' : 'value4'\n",
    "    'key5' :\n",
    "        'key6': 'value6'\n",
    "'key7' : 'value7'\n",
    "```\n"
   ]
  },
  {
   "cell_type": "code",
   "execution_count": 10,
   "metadata": {
    "collapsed": false
   },
   "outputs": [
    {
     "name": "stdout",
     "output_type": "stream",
     "text": [
      " T1.4\n",
      "\tdepth: 1\n",
      "\tT2.4\n",
      "\t\tdepth: 2\n",
      "\t\tT3.5\n",
      "\t\t\tdepth: 3\n",
      "\t\t\tT4.3\n",
      "\t\t\tV4.3\n",
      "\t\t\t\n",
      "\t\t\tT3.4\n",
      "\t\t\t\tdepth: 4\n",
      "\t\t\t\tT4.2\n",
      "\t\t\t\tV4.2\n",
      "\t\t\t\tT4.1\n",
      "\t\t\t\tV4.1\n",
      "\t\t\t\t\n",
      "\t\t\t\t\n",
      "\t\tT2.5\n",
      "\t\t['V2.3.1', 'V2.3.2']\n",
      "\t\t\n",
      "\tT1.3\n",
      "\t\tdepth: 2\n",
      "\t\tT2.1\n",
      "\t\tV2.1\n",
      "\t\tT2.2\n",
      "\t\t['V2.2.1', 'V2.2.2']\n",
      "\t\tT2.3\n",
      "\t\t\tdepth: 3\n",
      "\t\t\tT3.1\n",
      "\t\t\t['V3.1.1', 'V3.1.2']\n",
      "\t\t\tT3.3\n",
      "\t\t\tV3.3\n",
      "\t\t\tT3.2\n",
      "\t\t\tV3.2\n",
      "\t\t\t\n",
      "\t\t\t\n",
      "\t\tT1.2\n",
      "\t\tV1.2\n",
      "\t\tT1.1\n",
      "\t\tV1.1\n",
      "\t\t\n"
     ]
    }
   ],
   "source": [
    "import sys\n",
    "tiered_dict = {'T1.1':'V1.1', \n",
    "               'T1.2':'V1.2',\n",
    "               'T1.3':{'T2.1':'V2.1',\n",
    "                       'T2.2':['V2.2.1','V2.2.2'],\n",
    "                       'T2.3':{'T3.1':['V3.1.1','V3.1.2'],\n",
    "                               'T3.2':'V3.2',\n",
    "                               'T3.3':'V3.3'}},\n",
    "               'T1.4':{'T2.4':{'T3.4':{'T4.1':'V4.1',\n",
    "                                       'T4.2':'V4.2'},\n",
    "                               'T3.5':{'T4.3':'V4.3'}},\n",
    "                       'T2.5':['V2.3.1','V2.3.2']},\n",
    "               }\n",
    "#depth = 0\n",
    "#sys.setrecursionlimit(1500)\n",
    "\n",
    "\n",
    "\n",
    "def my_function(d, depth):\n",
    "\n",
    "    for k,v in d.items():\n",
    "        \n",
    "        print '\\t'*depth, k\n",
    "        if type(v) == dict:\n",
    "           \n",
    "            depth += 1\n",
    "            print '\\t'*depth+'depth:', depth\n",
    "            my_function(v, depth)\n",
    "        else:\n",
    "            print '\\t'*depth, v\n",
    "    \n",
    "    print '\\t'*depth\n",
    "            \n",
    "my_function(tiered_dict,0)"
   ]
  },
  {
   "cell_type": "code",
   "execution_count": 7,
   "metadata": {
    "collapsed": false
   },
   "outputs": [
    {
     "name": "stdout",
     "output_type": "stream",
     "text": [
      "We are on depth:  0\n",
      "Depth is less than 5, so calling simple(depth + 1)\n",
      "\tWe are on depth:  1\n",
      "\tDepth is less than 5, so calling simple(depth + 1)\n",
      "\t\tWe are on depth:  2\n",
      "\t\tDepth is less than 5, so calling simple(depth + 1)\n",
      "\t\t\tWe are on depth:  3\n",
      "\t\t\tDepth is less than 5, so calling simple(depth + 1)\n",
      "\t\t\t\tWe are on depth:  4\n",
      "\t\t\t\tDepth is less than 5, so calling simple(depth + 1)\n",
      "\t\t\t\t\tWe are on depth:  5\n",
      "\t\t\t\t\tDepth is greater than 5, so not calling simple(depth + 1)\n",
      "\t\t\t\t\tfunction at depth 5 has done everything, so ending\n",
      "\t\t\t\tsimple(depth + 1) is done, so function at depth 4 can continue\n",
      "\t\t\t\tfunction at depth 4 has done everything, so ending\n",
      "\t\t\tsimple(depth + 1) is done, so function at depth 3 can continue\n",
      "\t\t\tfunction at depth 3 has done everything, so ending\n",
      "\t\tsimple(depth + 1) is done, so function at depth 2 can continue\n",
      "\t\tfunction at depth 2 has done everything, so ending\n",
      "\tsimple(depth + 1) is done, so function at depth 1 can continue\n",
      "\tfunction at depth 1 has done everything, so ending\n",
      "simple(depth + 1) is done, so function at depth 0 can continue\n",
      "function at depth 0 has done everything, so ending\n"
     ]
    }
   ],
   "source": [
    "# Write your function here:\n",
    "\n",
    "def simple(depth):\n",
    "    spacing = '\\t'*depth\n",
    "    print spacing+'We are on depth: ', depth\n",
    "    if depth < 5:\n",
    "        print spacing+'Depth is less than 5, so calling simple(depth + 1)'\n",
    "        simple(depth + 1)\n",
    "        print spacing+'simple(depth + 1) is done, so function at depth', depth, 'can continue'\n",
    "    else:\n",
    "        print spacing+'Depth is greater than 5, so not calling simple(depth + 1)'\n",
    "    print spacing+'function at depth', depth, 'has done everything, so ending'\n",
    "\n",
    "simple(0)"
   ]
  },
  {
   "cell_type": "code",
   "execution_count": 3,
   "metadata": {
    "collapsed": false
   },
   "outputs": [
    {
     "data": {
      "text/plain": [
       "'\\t\\t\\t\\t\\t'"
      ]
     },
     "execution_count": 3,
     "metadata": {},
     "output_type": "execute_result"
    }
   ],
   "source": [
    "'\\t'*5"
   ]
  },
  {
   "cell_type": "code",
   "execution_count": null,
   "metadata": {
    "collapsed": true
   },
   "outputs": [],
   "source": []
  }
 ],
 "metadata": {
  "kernelspec": {
   "display_name": "Python 2",
   "language": "python",
   "name": "python2"
  },
  "language_info": {
   "codemirror_mode": {
    "name": "ipython",
    "version": 2
   },
   "file_extension": ".py",
   "mimetype": "text/x-python",
   "name": "python",
   "nbconvert_exporter": "python",
   "pygments_lexer": "ipython2",
   "version": "2.7.11"
  }
 },
 "nbformat": 4,
 "nbformat_minor": 0
}

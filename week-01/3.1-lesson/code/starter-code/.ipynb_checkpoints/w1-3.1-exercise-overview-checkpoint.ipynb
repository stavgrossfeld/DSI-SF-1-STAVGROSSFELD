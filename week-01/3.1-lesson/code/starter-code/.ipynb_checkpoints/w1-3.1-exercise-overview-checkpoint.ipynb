{
 "cells": [
  {
   "cell_type": "markdown",
   "metadata": {
    "slideshow": {
     "slide_type": "slide"
    }
   },
   "source": [
    "# 3.1: python exercises practicing functions\n",
    "\n",
    "1. Dictionaries and type checking\n",
    "2. Dictionaries, keyword arguments, enumeration\n",
    "3. Enumeration\n",
    "4. Iteration and summary statistics\n",
    "5. [Hard] Pearson correlation coefficient\n",
    "6. [Hard] Spearman rank correlation coefficient\n",
    "7. Numpy and \"Root Mean Squared Error\"\n",
    "8. Functions calling functions\n",
    "9. [Expert] Recursion\n"
   ]
  },
  {
   "cell_type": "code",
   "execution_count": 49,
   "metadata": {
    "collapsed": false
   },
   "outputs": [
    {
     "name": "stdout",
     "output_type": "stream",
     "text": [
      "{'Uppercase_string': 'ABCD', 1: 'integer', 2: 'integer_2', 'tuple': ('cat', 'dog'), 'integer': 1, 'CHARACTER': 'C', 'float': 99.99, 'list': [1, 2, 3, 4]} \n",
      "\n",
      "uppercase_string\n",
      "1\n",
      "2\n",
      "tuple\n",
      "integer\n",
      "character\n",
      "float\n",
      "list\n"
     ]
    },
    {
     "data": {
      "text/plain": [
       "{'CHARACTER': 'consonant',\n",
       " 'Uppercase_string': 'consonant',\n",
       " 'float': 'consonant',\n",
       " 'integer': 'vowel',\n",
       " 'list': 'consonant',\n",
       " 'tuple': 'consonant'}"
      ]
     },
     "execution_count": 49,
     "metadata": {},
     "output_type": "execute_result"
    }
   ],
   "source": [
    "import string\n",
    "\n",
    "\n",
    "## 1\n",
    "input_dict = {'list':[1,2,3,4], 'tuple':('cat', 'dog'), 'integer':1, \n",
    "              'float':99.99, 1:'integer', 2:'integer_2', 'Uppercase_string':'ABCD',\n",
    "              'CHARACTER':'C'}\n",
    "\n",
    "def type_check(dict_keys):\n",
    "    print dict_keys, '\\n'   #print dict\n",
    "    \n",
    "    for k,v in dict_keys.items():   #iterate through key value pairs\n",
    "        #print k , ':' ,v, '\\n'\n",
    "        \n",
    "        if type(k) == str:   # convert strings to lower case\n",
    "            print k.lower()\n",
    "            \n",
    "        \n",
    "            if k[0] in 'aeiou':\n",
    "                dict_keys[k] = 'vowel'\n",
    "            elif k[0] in string.ascii_lowercase:\n",
    "                dict_keys[k] = 'consonant'\n",
    "            else:\n",
    "                del dict_keys[k]\n",
    "        elif type(k) != str:\n",
    "            print k\n",
    "            del dict_keys[k]\n",
    "    return dict_keys\n",
    "            \n",
    "        \n",
    "type_check(input_dict)"
   ]
  },
  {
   "cell_type": "code",
   "execution_count": 67,
   "metadata": {
    "collapsed": false
   },
   "outputs": [
    {
     "name": "stdout",
     "output_type": "stream",
     "text": [
      "{'Uppercase_string': 'ABCD', 'tuple': 'consonant', 'integer': 'vowel', 'CHARACTER': 'C', 'float': 'consonant', 'list': 'consonant'}\n",
      "{'Uppercase_string': 'ABCD', 'tuple': 'consonant', 'integer': 'vowel', 'CHARACTER': 'C', 'float': 'consonant', 'list': 'consonant'}\n"
     ]
    }
   ],
   "source": [
    "input_dict = {'list':[1,2,3,4], 'tuple':('cat', 'dog'), 'integer':1, \n",
    "              'float':99.99, 1:'integer', 2:'integer_2', 'Uppercase_string':'ABCD',\n",
    "              'CHARACTER':'C'}\n",
    "import string\n",
    "def my_function(d):\n",
    "    #print d\n",
    "    #print d.items()\n",
    "    \n",
    "    for index, (key,value) in enumerate(d.items()):    # key value pairs as list of tuples (k,v)\n",
    "        if type(key) == str:   #check if it is a string\n",
    "            \n",
    "            if key[0] in 'aeiou':   #check if first letter of key is vowels\n",
    "                d[key] = 'vowel'\n",
    "                \n",
    "            elif key[0] in string.ascii_lowercase:\n",
    "                d[key] = 'consonant'\n",
    "        else:\n",
    "            del d[key]\n",
    "                \n",
    "    print d\n",
    "    return d    #return cleaned up dictionary\n",
    "variable = my_function(input_dict)\n"
   ]
  },
  {
   "cell_type": "code",
   "execution_count": 68,
   "metadata": {
    "collapsed": false
   },
   "outputs": [
    {
     "name": "stdout",
     "output_type": "stream",
     "text": [
      "{'Uppercase_string': 'ABCD', 'tuple': 'consonant', 'integer': 'vowel', 'CHARACTER': 'C', 'float': 'consonant', 'list': 'consonant'}\n"
     ]
    }
   ],
   "source": [
    "print variable"
   ]
  },
  {
   "cell_type": "code",
   "execution_count": 78,
   "metadata": {
    "collapsed": false
   },
   "outputs": [
    {
     "name": "stdout",
     "output_type": "stream",
     "text": [
      "0 a\n",
      "1 e\n",
      "2 i\n",
      "3 o\n",
      "4 u\n"
     ]
    }
   ],
   "source": [
    "for i,v in enumerate(['a','e','i','o','u']):\n",
    "    print i,v"
   ]
  },
  {
   "cell_type": "code",
   "execution_count": null,
   "metadata": {
    "collapsed": true
   },
   "outputs": [],
   "source": []
  }
 ],
 "metadata": {
  "celltoolbar": "Slideshow",
  "kernelspec": {
   "display_name": "Python 2",
   "language": "python",
   "name": "python2"
  },
  "language_info": {
   "codemirror_mode": {
    "name": "ipython",
    "version": 2
   },
   "file_extension": ".py",
   "mimetype": "text/x-python",
   "name": "python",
   "nbconvert_exporter": "python",
   "pygments_lexer": "ipython2",
   "version": "2.7.11"
  }
 },
 "nbformat": 4,
 "nbformat_minor": 0
}

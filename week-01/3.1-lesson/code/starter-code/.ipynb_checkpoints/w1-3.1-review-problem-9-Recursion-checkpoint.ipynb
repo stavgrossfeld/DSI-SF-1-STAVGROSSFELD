{
 "cells": [
  {
   "cell_type": "markdown",
   "metadata": {},
   "source": [
    "### Review problem 9 (expert)\n",
    "\n",
    "For this problem you write a function that takes a multi-tiered dictionary of arbitrary depth. Your function will need to iterate through the dictionary, printing out the contents.\n",
    "\n",
    "Your function should:\n",
    "\n",
    "- Accept the predefined dictionary as an argument.\n",
    "- For each key:value pair, print out the key and the value:\n",
    "    - If the value is also a dictionary, do the same, printing out the key:value pair but with tabs equivalent to the current \"depth\" indicating what level we are on.\n",
    "    - Note: tab in strings is written as ```\\t```\n",
    "    \n",
    "Example:\n",
    "```python\n",
    "'key1' : 'value1'\n",
    "'key2' :\n",
    "    'key3' : 'value3'\n",
    "    'key4' : 'value4'\n",
    "    'key5' :\n",
    "        'key6': 'value6'\n",
    "'key7' : 'value7'\n",
    "```\n"
   ]
  },
  {
   "cell_type": "code",
   "execution_count": 2,
   "metadata": {
    "collapsed": false
   },
   "outputs": [
    {
     "name": "stdout",
     "output_type": "stream",
     "text": [
      "T1.4 {'T2.4': {'T3.5': {'T4.3': 'V4.3'}, 'T3.4': {'T4.2': 'V4.2', 'T4.1': 'V4.1'}}, 'T2.5': ['V2.3.1', 'V2.3.2']}\n",
      "depth 1\n",
      "T2.4 {'T3.5': {'T4.3': 'V4.3'}, 'T3.4': {'T4.2': 'V4.2', 'T4.1': 'V4.1'}}\n",
      "depth 2\n",
      "T3.5 {'T4.3': 'V4.3'}\n",
      "depth 3\n",
      "T4.3 V4.3\n",
      "T3.4 {'T4.2': 'V4.2', 'T4.1': 'V4.1'}\n",
      "depth 4\n",
      "T4.2 V4.2\n",
      "T4.1 V4.1\n",
      "T2.5 ['V2.3.1', 'V2.3.2']\n",
      "T1.3 {'T2.1': 'V2.1', 'T2.2': ['V2.2.1', 'V2.2.2'], 'T2.3': {'T3.1': ['V3.1.1', 'V3.1.2'], 'T3.3': 'V3.3', 'T3.2': 'V3.2'}}\n",
      "depth 2\n",
      "T2.1 V2.1\n",
      "T2.2 ['V2.2.1', 'V2.2.2']\n",
      "T2.3 {'T3.1': ['V3.1.1', 'V3.1.2'], 'T3.3': 'V3.3', 'T3.2': 'V3.2'}\n",
      "depth 3\n",
      "T3.1 ['V3.1.1', 'V3.1.2']\n",
      "T3.3 V3.3\n",
      "T3.2 V3.2\n",
      "T1.2 V1.2\n",
      "T1.1 V1.1\n"
     ]
    }
   ],
   "source": [
    "import sys\n",
    "tiered_dict = {'T1.1':'V1.1', \n",
    "               'T1.2':'V1.2',\n",
    "               'T1.3':{'T2.1':'V2.1',\n",
    "                       'T2.2':['V2.2.1','V2.2.2'],\n",
    "                       'T2.3':{'T3.1':['V3.1.1','V3.1.2'],\n",
    "                               'T3.2':'V3.2',\n",
    "                               'T3.3':'V3.3'}},\n",
    "               'T1.4':{'T2.4':{'T3.4':{'T4.1':'V4.1',\n",
    "                                       'T4.2':'V4.2'},\n",
    "                               'T3.5':{'T4.3':'V4.3'}},\n",
    "                       'T2.5':['V2.3.1','V2.3.2']},\n",
    "               }\n",
    "#depth = 0\n",
    "#sys.setrecursionlimit(1500)\n",
    "\n",
    "\n",
    "\n",
    "def my_function(d, depth):\n",
    "\n",
    "    new_dict = {}\n",
    "    for k,v in d.items():\n",
    "        \n",
    "        print k,v\n",
    "        if type(v) == dict:\n",
    "           \n",
    "            depth += 1\n",
    "            print 'depth', depth\n",
    "            my_function(v, depth)\n",
    "            \n",
    "my_function(tiered_dict,0)"
   ]
  },
  {
   "cell_type": "code",
   "execution_count": 5,
   "metadata": {
    "collapsed": false
   },
   "outputs": [
    {
     "name": "stdout",
     "output_type": "stream",
     "text": [
      "First part, depth:  0\n",
      "\tFirst part, depth:  1\n",
      "\t\tFirst part, depth:  2\n",
      "\t\t\tFirst part, depth:  3\n",
      "\t\t\t\tFirst part, depth:  4\n",
      "\t\t\t\t\tFirst part, depth:  5\n",
      "\t\t\t\t\tSecond part, depth:  5\n",
      "\t\t\t\t(recursive function ended, moving on)\n",
      "\t\t\t\tSecond part, depth:  4\n",
      "\t\t\t(recursive function ended, moving on)\n",
      "\t\t\tSecond part, depth:  3\n",
      "\t\t(recursive function ended, moving on)\n",
      "\t\tSecond part, depth:  2\n",
      "\t(recursive function ended, moving on)\n",
      "\tSecond part, depth:  1\n",
      "(recursive function ended, moving on)\n",
      "Second part, depth:  0\n"
     ]
    }
   ],
   "source": [
    "# Write your function here:\n",
    "\n",
    "def simple(depth):\n",
    "    spacing = '\\t'*depth\n",
    "    print spacing+'First part, depth: ', depth\n",
    "    if depth < 5:\n",
    "        simple(depth + 1)\n",
    "        print spacing+'(recursive function ended, moving on)'\n",
    "    print spacing+'Second part, depth: ', depth\n",
    "\n",
    "simple(0)"
   ]
  },
  {
   "cell_type": "code",
   "execution_count": 3,
   "metadata": {
    "collapsed": false
   },
   "outputs": [
    {
     "data": {
      "text/plain": [
       "'\\t\\t\\t\\t\\t'"
      ]
     },
     "execution_count": 3,
     "metadata": {},
     "output_type": "execute_result"
    }
   ],
   "source": [
    "'\\t'*5"
   ]
  },
  {
   "cell_type": "code",
   "execution_count": null,
   "metadata": {
    "collapsed": true
   },
   "outputs": [],
   "source": []
  }
 ],
 "metadata": {
  "kernelspec": {
   "display_name": "Python 2",
   "language": "python",
   "name": "python2"
  },
  "language_info": {
   "codemirror_mode": {
    "name": "ipython",
    "version": 2
   },
   "file_extension": ".py",
   "mimetype": "text/x-python",
   "name": "python",
   "nbconvert_exporter": "python",
   "pygments_lexer": "ipython2",
   "version": "2.7.11"
  }
 },
 "nbformat": 4,
 "nbformat_minor": 0
}

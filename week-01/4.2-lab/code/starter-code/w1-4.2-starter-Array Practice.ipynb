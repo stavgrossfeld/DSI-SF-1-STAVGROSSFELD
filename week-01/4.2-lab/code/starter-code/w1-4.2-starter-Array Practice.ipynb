{
 "cells": [
  {
   "cell_type": "markdown",
   "metadata": {},
   "source": [
    "## exercise 1-4.1\n",
    "* 1x vector\n",
    "* 2x2\n",
    "* 3x3\n",
    "* 4x8\n"
   ]
  },
  {
   "cell_type": "code",
   "execution_count": 46,
   "metadata": {
    "collapsed": false
   },
   "outputs": [
    {
     "name": "stdout",
     "output_type": "stream",
     "text": [
      "dim a: (3,)\n",
      "dim b: (2, 2)\n",
      "[[1 2 3]\n",
      " [4 5 6]\n",
      " [7 8 9]]\n",
      "dim c: (3, 3)\n",
      "[[ 1  2  3  4  5  6  7  8]\n",
      " [ 9 10 11 12 13 14 15 16]\n",
      " [17 18 19 20 21 22 23 24]\n",
      " [25 26 27 28 29 30 31 32]]\n",
      "dim d: (4, 8)\n"
     ]
    }
   ],
   "source": [
    "# 1x3 vector\n",
    "import numpy as np\n",
    "a = np.array([1,2,3])\n",
    "print 'dim a:', a.shape\n",
    "\n",
    "#2x2\n",
    "b = np.array([[1,2],[4,5]])\n",
    "print 'dim b:', b.shape\n",
    "\n",
    "#3x3\n",
    "c = np.arange(1,10).reshape(3,3)\n",
    "print c\n",
    "print 'dim c:', c.shape\n",
    "\n",
    "#4x8\n",
    "d = np.arange(1,33).reshape(4,8)\n",
    "print d\n",
    "print 'dim d:', d.shape\n",
    "\n",
    "\n"
   ]
  },
  {
   "cell_type": "code",
   "execution_count": 6,
   "metadata": {
    "collapsed": false
   },
   "outputs": [
    {
     "data": {
      "text/plain": [
       "3"
      ]
     },
     "execution_count": 6,
     "metadata": {},
     "output_type": "execute_result"
    }
   ],
   "source": [
    "# import numpy\n",
    "# create array x\n",
    "import numpy as np\n",
    "x = np.array([5,4,3,2,1])\n",
    "x[2]"
   ]
  },
  {
   "cell_type": "code",
   "execution_count": 4,
   "metadata": {
    "collapsed": false
   },
   "outputs": [
    {
     "data": {
      "text/plain": [
       "(5,)"
      ]
     },
     "execution_count": 4,
     "metadata": {},
     "output_type": "execute_result"
    }
   ],
   "source": [
    "# print the shape of x\n",
    "np.shape(x)"
   ]
  },
  {
   "cell_type": "code",
   "execution_count": 53,
   "metadata": {
    "collapsed": false
   },
   "outputs": [
    {
     "name": "stdout",
     "output_type": "stream",
     "text": [
      "[[ 1  2  3]\n",
      " [ 4  5  6]\n",
      " [ 7  8  9]\n",
      " [10 11 12]]\n"
     ]
    }
   ],
   "source": [
    "# create a two dimensional array\n",
    "y = np.arange(1,13).reshape(4,3)\n",
    "print y\n"
   ]
  },
  {
   "cell_type": "code",
   "execution_count": 54,
   "metadata": {
    "collapsed": false
   },
   "outputs": [
    {
     "data": {
      "text/plain": [
       "(4, 3)"
      ]
     },
     "execution_count": 54,
     "metadata": {},
     "output_type": "execute_result"
    }
   ],
   "source": [
    "# print shape of 2d array\n",
    "np.shape(y)"
   ]
  },
  {
   "cell_type": "code",
   "execution_count": 55,
   "metadata": {
    "collapsed": false
   },
   "outputs": [
    {
     "data": {
      "text/plain": [
       "array([[ 1,  2,  3,  4,  5,  6],\n",
       "       [ 7,  8,  9, 10, 11, 12]])"
      ]
     },
     "execution_count": 55,
     "metadata": {},
     "output_type": "execute_result"
    }
   ],
   "source": [
    "# reshape the array to 2 x 6\n",
    "y.reshape(2,6)"
   ]
  },
  {
   "cell_type": "code",
   "execution_count": 59,
   "metadata": {
    "collapsed": false
   },
   "outputs": [
    {
     "data": {
      "text/plain": [
       "array([[ 1,  2,  3,  4,  5,  6,  7,  8,  9, 10, 11, 12]])"
      ]
     },
     "execution_count": 59,
     "metadata": {},
     "output_type": "execute_result"
    }
   ],
   "source": [
    "# reshape the array to 1 x 12\n",
    "y = y.reshape(1,12)\n",
    "y"
   ]
  },
  {
   "cell_type": "code",
   "execution_count": 60,
   "metadata": {
    "collapsed": false,
    "scrolled": true
   },
   "outputs": [
    {
     "data": {
      "text/plain": [
       "array([[ 1],\n",
       "       [ 2],\n",
       "       [ 3],\n",
       "       [ 4],\n",
       "       [ 5],\n",
       "       [ 6],\n",
       "       [ 7],\n",
       "       [ 8],\n",
       "       [ 9],\n",
       "       [10],\n",
       "       [11],\n",
       "       [12]])"
      ]
     },
     "execution_count": 60,
     "metadata": {},
     "output_type": "execute_result"
    }
   ],
   "source": [
    "# transpose the array\n",
    "np.transpose(y)"
   ]
  },
  {
   "cell_type": "code",
   "execution_count": 68,
   "metadata": {
    "collapsed": false
   },
   "outputs": [
    {
     "name": "stdout",
     "output_type": "stream",
     "text": [
      "[[[[  1   2   3   4]\n",
      "   [  5   6   7   8]\n",
      "   [  9  10  11  12]\n",
      "   [ 13  14  15  16]]\n",
      "\n",
      "  [[ 17  18  19  20]\n",
      "   [ 21  22  23  24]\n",
      "   [ 25  26  27  28]\n",
      "   [ 29  30  31  32]]\n",
      "\n",
      "  [[ 33  34  35  36]\n",
      "   [ 37  38  39  40]\n",
      "   [ 41  42  43  44]\n",
      "   [ 45  46  47  48]]\n",
      "\n",
      "  [[ 49  50  51  52]\n",
      "   [ 53  54  55  56]\n",
      "   [ 57  58  59  60]\n",
      "   [ 61  62  63  64]]]\n",
      "\n",
      "\n",
      " [[[ 65  66  67  68]\n",
      "   [ 69  70  71  72]\n",
      "   [ 73  74  75  76]\n",
      "   [ 77  78  79  80]]\n",
      "\n",
      "  [[ 81  82  83  84]\n",
      "   [ 85  86  87  88]\n",
      "   [ 89  90  91  92]\n",
      "   [ 93  94  95  96]]\n",
      "\n",
      "  [[ 97  98  99 100]\n",
      "   [101 102 103 104]\n",
      "   [105 106 107 108]\n",
      "   [109 110 111 112]]\n",
      "\n",
      "  [[113 114 115 116]\n",
      "   [117 118 119 120]\n",
      "   [121 122 123 124]\n",
      "   [125 126 127 128]]]\n",
      "\n",
      "\n",
      " [[[129 130 131 132]\n",
      "   [133 134 135 136]\n",
      "   [137 138 139 140]\n",
      "   [141 142 143 144]]\n",
      "\n",
      "  [[145 146 147 148]\n",
      "   [149 150 151 152]\n",
      "   [153 154 155 156]\n",
      "   [157 158 159 160]]\n",
      "\n",
      "  [[161 162 163 164]\n",
      "   [165 166 167 168]\n",
      "   [169 170 171 172]\n",
      "   [173 174 175 176]]\n",
      "\n",
      "  [[177 178 179 180]\n",
      "   [181 182 183 184]\n",
      "   [185 186 187 188]\n",
      "   [189 190 191 192]]]\n",
      "\n",
      "\n",
      " [[[193 194 195 196]\n",
      "   [197 198 199 200]\n",
      "   [201 202 203 204]\n",
      "   [205 206 207 208]]\n",
      "\n",
      "  [[209 210 211 212]\n",
      "   [213 214 215 216]\n",
      "   [217 218 219 220]\n",
      "   [221 222 223 224]]\n",
      "\n",
      "  [[225 226 227 228]\n",
      "   [229 230 231 232]\n",
      "   [233 234 235 236]\n",
      "   [237 238 239 240]]\n",
      "\n",
      "  [[241 242 243 244]\n",
      "   [245 246 247 248]\n",
      "   [249 250 251 252]\n",
      "   [253 254 255 256]]]]\n",
      "(4, 4, 4, 4)\n",
      "256\n"
     ]
    }
   ],
   "source": [
    "tri = np.arange(1,257).reshape(4,4,4,4)\n",
    "print tri\n",
    "print tri.shape\n",
    "print 4**4"
   ]
  },
  {
   "cell_type": "code",
   "execution_count": 79,
   "metadata": {
    "collapsed": false
   },
   "outputs": [
    {
     "data": {
      "text/plain": [
       "array([4, 4, 4])"
      ]
     },
     "execution_count": 79,
     "metadata": {},
     "output_type": "execute_result"
    }
   ],
   "source": [
    "# indexing method 1\n",
    "np.add([1,2,3],[3,2,1])\n"
   ]
  },
  {
   "cell_type": "code",
   "execution_count": 107,
   "metadata": {
    "collapsed": false
   },
   "outputs": [
    {
     "name": "stdout",
     "output_type": "stream",
     "text": [
      "[-5 -3 -1  1  3  5]\n",
      "[ 5  3  1 -1 -3 -5]\n",
      "[ 702.        -300.33       146.22      -426.3000003    7.3234      -4.234    ]\n",
      "[601, -501.33, 113, -3.3000003, -1, 10.999999999999998]\n",
      "[-702.         300.33      -146.22       426.3000003   -4.3234     -45.       ]\n"
     ]
    }
   ],
   "source": [
    "# indexing method 2\n",
    "\n",
    "#Set 1 - Add\n",
    "a = [1, 2, 3, 4, 5, 6]\n",
    "b = [-6, -5, -4, -3, -2, -1]\n",
    "print np.add(a,b)\n",
    "\n",
    "#Set 2 - Subtract\n",
    "\n",
    "a = [-1, -2, -3, -4, -5, -6]\n",
    "b = [-6, -5, -4, -3, -2, -1]\n",
    "\n",
    "print np.subtract(a,b)\n",
    "\n",
    "#Set 3 - Subtract\n",
    "a = [101, 201, 33.22, -423, 5.3234, -6.234]\n",
    "b = [-601, 501.33, -113, 3.3000003, -2, -1.999999999999999]\n",
    "print np.subtract(a,b)\n",
    "\n",
    "#Set 4 - Subtract\n",
    "a = [-101, -201, -33.22, 423, -5.3234, -34]\n",
    "\n",
    "b = ([601, -501.33, 113, -3.3000003, 'l', 10.999999999999999])\n",
    "\n",
    "for index, value in enumerate(b):\n",
    "    if type(value) == str:\n",
    "        b[index] = -1\n",
    "print b\n",
    "print np.subtract(a,b)"
   ]
  },
  {
   "cell_type": "markdown",
   "metadata": {},
   "source": [
    "## Independent Practice: Topic (20 minutes)\n",
    "Create 2 arrays. Add them together, subtract them, and do the dot product.\n",
    "Bonus:\n",
    "\n",
    "Create a 3 dimensional array\n",
    "Create a 5 dimensional array"
   ]
  },
  {
   "cell_type": "code",
   "execution_count": 136,
   "metadata": {
    "collapsed": false
   },
   "outputs": [
    {
     "name": "stdout",
     "output_type": "stream",
     "text": [
      "add: [-500.         702.33       -79.78      -419.6999997    3.3234      -8.234    ]\n",
      "subtract: [ 702.        -300.33       146.22      -426.3000003    7.3234      -4.234    ]\n",
      "dotproduct: 34918.3910731\n",
      "3d array: [[[ 1  2  3]\n",
      "  [ 4  5  6]\n",
      "  [ 7  8  9]]\n",
      "\n",
      " [[10 11 12]\n",
      "  [13 14 15]\n",
      "  [16 17 18]]\n",
      "\n",
      " [[19 20 21]\n",
      "  [22 23 24]\n",
      "  [25 26 27]]]\n",
      "five shape: (5, 5, 5, 5, 5)\n"
     ]
    },
    {
     "ename": "TypeError",
     "evalue": "'int' object has no attribute '__getitem__'",
     "output_type": "error",
     "traceback": [
      "\u001b[0;31m---------------------------------------------------------------------------\u001b[0m",
      "\u001b[0;31mTypeError\u001b[0m                                 Traceback (most recent call last)",
      "\u001b[0;32m<ipython-input-136-78adfa88f32f>\u001b[0m in \u001b[0;36m<module>\u001b[0;34m()\u001b[0m\n\u001b[1;32m     14\u001b[0m \u001b[0;32mprint\u001b[0m \u001b[0;34m'five shape:'\u001b[0m\u001b[0;34m,\u001b[0m \u001b[0mfive\u001b[0m\u001b[0;34m.\u001b[0m\u001b[0mshape\u001b[0m\u001b[0;34m\u001b[0m\u001b[0m\n\u001b[1;32m     15\u001b[0m \u001b[0;36m5\u001b[0m\u001b[0;34m**\u001b[0m\u001b[0;36m5\u001b[0m\u001b[0;34m\u001b[0m\u001b[0m\n\u001b[0;32m---> 16\u001b[0;31m \u001b[0msix\u001b[0m \u001b[0;34m=\u001b[0m \u001b[0mnp\u001b[0m\u001b[0;34m.\u001b[0m\u001b[0marray\u001b[0m\u001b[0;34m(\u001b[0m\u001b[0;34m[\u001b[0m\u001b[0;34m[\u001b[0m\u001b[0;36m1\u001b[0m\u001b[0;34m,\u001b[0m\u001b[0;36m2\u001b[0m\u001b[0;34m[\u001b[0m\u001b[0;36m1\u001b[0m\u001b[0;34m,\u001b[0m\u001b[0;36m2\u001b[0m\u001b[0;34m[\u001b[0m\u001b[0;36m1\u001b[0m\u001b[0;34m,\u001b[0m\u001b[0;36m2\u001b[0m\u001b[0;34m[\u001b[0m\u001b[0;36m1\u001b[0m\u001b[0;34m,\u001b[0m\u001b[0;36m2\u001b[0m\u001b[0;34m[\u001b[0m\u001b[0;36m1\u001b[0m\u001b[0;34m,\u001b[0m\u001b[0;36m2\u001b[0m\u001b[0;34m[\u001b[0m\u001b[0;36m1\u001b[0m\u001b[0;34m,\u001b[0m\u001b[0;36m2\u001b[0m\u001b[0;34m]\u001b[0m\u001b[0;34m]\u001b[0m\u001b[0;34m]\u001b[0m\u001b[0;34m]\u001b[0m\u001b[0;34m]\u001b[0m\u001b[0;34m]\u001b[0m\u001b[0;34m]\u001b[0m\u001b[0;34m)\u001b[0m\u001b[0;34m\u001b[0m\u001b[0m\n\u001b[0m\u001b[1;32m     17\u001b[0m \u001b[0;34m\u001b[0m\u001b[0m\n\u001b[1;32m     18\u001b[0m \u001b[0;32mprint\u001b[0m \u001b[0;34m'six shape:'\u001b[0m \u001b[0;34m,\u001b[0m \u001b[0msix\u001b[0m\u001b[0;34m.\u001b[0m\u001b[0mshape\u001b[0m\u001b[0;34m\u001b[0m\u001b[0m\n",
      "\u001b[0;31mTypeError\u001b[0m: 'int' object has no attribute '__getitem__'"
     ]
    }
   ],
   "source": [
    "# indexing method 3\n",
    "\n",
    "a = [101, 201, 33.22, -423, 5.3234, -6.234]\n",
    "b = [-601, 501.33, -113, 3.3000003, -2, -1.999999999999999]\n",
    "print 'add:' , np.add(a,b)\n",
    "print 'subtract:',np.subtract(a,b)\n",
    "print 'dotproduct:',np.dot(a,b)\n",
    "\n",
    "three = np.arange(1,28).reshape(3,3,3)\n",
    "print '3d array:', three\n",
    "\n",
    "five = np.arange((5**5)).reshape(5,5,5,5,5)\n",
    "#print '5d array:', five\n",
    "print 'five shape:', five.shape\n",
    "5**5\n",
    "six = np.array([[1,2[1,2[1,2[1,2[1,2[1,2]]]]]]])\n",
    "\n",
    "print 'six shape:' , six.shape"
   ]
  },
  {
   "cell_type": "code",
   "execution_count": 12,
   "metadata": {
    "collapsed": false
   },
   "outputs": [],
   "source": [
    "# indexing method 4"
   ]
  },
  {
   "cell_type": "code",
   "execution_count": 11,
   "metadata": {
    "collapsed": false
   },
   "outputs": [],
   "source": [
    "# indexing method 5"
   ]
  },
  {
   "cell_type": "code",
   "execution_count": 10,
   "metadata": {
    "collapsed": false
   },
   "outputs": [],
   "source": [
    "# indexing method 6"
   ]
  }
 ],
 "metadata": {
  "kernelspec": {
   "display_name": "Python 2",
   "language": "python",
   "name": "python2"
  },
  "language_info": {
   "codemirror_mode": {
    "name": "ipython",
    "version": 2
   },
   "file_extension": ".py",
   "mimetype": "text/x-python",
   "name": "python",
   "nbconvert_exporter": "python",
   "pygments_lexer": "ipython2",
   "version": "2.7.11"
  }
 },
 "nbformat": 4,
 "nbformat_minor": 0
}

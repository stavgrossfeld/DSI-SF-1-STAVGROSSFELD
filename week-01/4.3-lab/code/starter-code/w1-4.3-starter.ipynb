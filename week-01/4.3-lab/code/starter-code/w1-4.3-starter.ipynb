{
 "cells": [
  {
   "cell_type": "code",
   "execution_count": 3,
   "metadata": {
    "collapsed": false
   },
   "outputs": [
    {
     "name": "stdout",
     "output_type": "stream",
     "text": [
      "[1 2 3 4 5 6 7 8 9]\n"
     ]
    }
   ],
   "source": [
    "import numpy as np \n",
    "import math \n",
    "\n",
    "# create an array\n",
    "x = np.arange(1,10)\n",
    "type(x)\n",
    "print x"
   ]
  },
  {
   "cell_type": "code",
   "execution_count": 15,
   "metadata": {
    "collapsed": false
   },
   "outputs": [
    {
     "data": {
      "text/plain": [
       "6.666666666666667"
      ]
     },
     "execution_count": 15,
     "metadata": {},
     "output_type": "execute_result"
    }
   ],
   "source": [
    "# Write a function that computes the variance\n",
    "# Compare your function results with numpy results\n",
    "\n",
    "def var_function(your_array):\n",
    "    add = sum(your_array)\n",
    "    length = float(len(your_array))\n",
    "    avg = (add/length)\n",
    "    minus_mean = []\n",
    "    for i in your_array:\n",
    "        minus_mean.append((i - avg)**2)\n",
    "    return (sum(minus_mean)/length)\n",
    "var_function(x)\n",
    "#print 'var',np.var(x)"
   ]
  },
  {
   "cell_type": "code",
   "execution_count": 18,
   "metadata": {
    "collapsed": false
   },
   "outputs": [
    {
     "data": {
      "text/plain": [
       "2.5819888974716112"
      ]
     },
     "execution_count": 18,
     "metadata": {},
     "output_type": "execute_result"
    }
   ],
   "source": [
    "# Write a function that computes the standard deviation and \n",
    "# compare your function results with numpy equivalents. \n",
    "\n",
    "def std_function(your_array):\n",
    "    add = sum(your_array)\n",
    "    length = float(len(your_array))\n",
    "    avg = (add/length)\n",
    "    minus_mean = []\n",
    "    for i in your_array:\n",
    "        minus_mean.append((i - avg)**2)\n",
    "    return math.sqrt((sum(minus_mean)/length))\n",
    "std_function(x)\n",
    "#np.std(x)"
   ]
  },
  {
   "cell_type": "code",
   "execution_count": null,
   "metadata": {
    "collapsed": true
   },
   "outputs": [],
   "source": []
  }
 ],
 "metadata": {
  "kernelspec": {
   "display_name": "Python 2",
   "language": "python",
   "name": "python2"
  },
  "language_info": {
   "codemirror_mode": {
    "name": "ipython",
    "version": 2
   },
   "file_extension": ".py",
   "mimetype": "text/x-python",
   "name": "python",
   "nbconvert_exporter": "python",
   "pygments_lexer": "ipython2",
   "version": "2.7.11"
  }
 },
 "nbformat": 4,
 "nbformat_minor": 0
}

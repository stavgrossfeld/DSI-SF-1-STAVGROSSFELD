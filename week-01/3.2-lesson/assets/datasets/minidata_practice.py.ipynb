{
 "cells": [
  {
   "cell_type": "code",
   "execution_count": 3,
   "metadata": {
    "collapsed": false
   },
   "outputs": [
    {
     "name": "stdout",
     "output_type": "stream",
     "text": [
      "[['column1', 'column2', 'column3'], ['bird', '1', '2.3'], ['cat', '3', '4.6'], ['dog', '120', '0.001']]\n"
     ]
    }
   ],
   "source": [
    "import csv\n",
    "\n",
    "mini_data_path = 'mini_data.csv'   # assign name of file\n",
    "csv_rows = []   #create empty list\n",
    "\n",
    "with open(mini_data_path, 'r') as f:\n",
    "    reader = csv.reader(f)\n",
    "    for row in reader:\n",
    "        csv_rows.append(row)\n",
    "print csv_rows"
   ]
  },
  {
   "cell_type": "code",
   "execution_count": null,
   "metadata": {
    "collapsed": true
   },
   "outputs": [],
   "source": []
  }
 ],
 "metadata": {
  "kernelspec": {
   "display_name": "Python 2",
   "language": "python",
   "name": "python2"
  },
  "language_info": {
   "codemirror_mode": {
    "name": "ipython",
    "version": 2
   },
   "file_extension": ".py",
   "mimetype": "text/x-python",
   "name": "python",
   "nbconvert_exporter": "python",
   "pygments_lexer": "ipython2",
   "version": "2.7.11"
  }
 },
 "nbformat": 4,
 "nbformat_minor": 0
}

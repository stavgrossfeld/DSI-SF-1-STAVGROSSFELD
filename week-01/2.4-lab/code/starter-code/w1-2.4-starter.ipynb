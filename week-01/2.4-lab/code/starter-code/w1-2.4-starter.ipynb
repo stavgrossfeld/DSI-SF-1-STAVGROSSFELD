{
 "cells": [
  {
   "cell_type": "code",
   "execution_count": 19,
   "metadata": {
    "collapsed": false
   },
   "outputs": [],
   "source": [
    "# Dictionary of movies\n",
    "\n",
    "movies = [\n",
    "{\n",
    "\"name\": \"Usual Suspects\", \n",
    "\"imdb\": 7.0,\n",
    "\"category\": \"Thriller\"\n",
    "},\n",
    "{\n",
    "\"name\": \"Hitman\",\n",
    "\"imdb\": 6.3,\n",
    "\"category\": \"Action\"\n",
    "},\n",
    "{\n",
    "\"name\": \"Dark Knight\",\n",
    "\"imdb\": 9.0,\n",
    "\"category\": \"Adventure\"\n",
    "},\n",
    "{\n",
    "\"name\": \"The Help\",\n",
    "\"imdb\": 8.0,\n",
    "\"category\": \"Drama\"\n",
    "},\n",
    "{\n",
    "\"name\": \"The Choice\",\n",
    "\"imdb\": 6.2,\n",
    "\"category\": \"Romance\"\n",
    "},\n",
    "{\n",
    "\"name\": \"Colonia\",\n",
    "\"imdb\": 7.4,\n",
    "\"category\": \"Romance\"\n",
    "},\n",
    "{\n",
    "\"name\": \"Love\",\n",
    "\"imdb\": 6.0,\n",
    "\"category\": \"Romance\"\n",
    "},\n",
    "{\n",
    "\"name\": \"Bride Wars\",\n",
    "\"imdb\": 5.4,\n",
    "\"category\": \"Romance\"\n",
    "},\n",
    "{\n",
    "\"name\": \"AlphaJet\",\n",
    "\"imdb\": 3.2,\n",
    "\"category\": \"War\"\n",
    "},\n",
    "{\n",
    "\"name\": \"Ringing Crime\",\n",
    "\"imdb\": 4.0,\n",
    "\"category\": \"Crime\"\n",
    "},\n",
    "{\n",
    "\"name\": \"Joking muck\",\n",
    "\"imdb\": 7.2,\n",
    "\"category\": \"Comedy\"\n",
    "},\n",
    "{\n",
    "\"name\": \"What is the name\",\n",
    "\"imdb\": 9.2,\n",
    "\"category\": \"Suspense\"\n",
    "},\n",
    "{\n",
    "\"name\": \"Detective\",\n",
    "\"imdb\": 7.0,\n",
    "\"category\": \"Suspense\"\n",
    "},\n",
    "{\n",
    "\"name\": \"Exam\",\n",
    "\"imdb\": 4.2,\n",
    "\"category\": \"Thriller\"\n",
    "},\n",
    "{\n",
    "\"name\": \"We Two\",\n",
    "\"imdb\": 7.2,\n",
    "\"category\": \"Romance\"\n",
    "}\n",
    "]"
   ]
  },
  {
   "cell_type": "code",
   "execution_count": 26,
   "metadata": {
    "collapsed": false
   },
   "outputs": [
    {
     "name": "stdout",
     "output_type": "stream",
     "text": [
      "{'category': 'Thriller', 'imdb': 7.0, 'name': 'Usual Suspects'}\n",
      "{'category': 'Action', 'imdb': 6.3, 'name': 'Hitman'}\n",
      "{'category': 'Adventure', 'imdb': 9.0, 'name': 'Dark Knight'}\n",
      "{'category': 'Drama', 'imdb': 8.0, 'name': 'The Help'}\n",
      "{'category': 'Romance', 'imdb': 6.2, 'name': 'The Choice'}\n",
      "{'category': 'Romance', 'imdb': 7.4, 'name': 'Colonia'}\n",
      "{'category': 'Romance', 'imdb': 6.0, 'name': 'Love'}\n",
      "{'category': 'Romance', 'imdb': 5.4, 'name': 'Bride Wars'}\n",
      "{'category': 'War', 'imdb': 3.2, 'name': 'AlphaJet'}\n",
      "{'category': 'Crime', 'imdb': 4.0, 'name': 'Ringing Crime'}\n",
      "{'category': 'Comedy', 'imdb': 7.2, 'name': 'Joking muck'}\n",
      "{'category': 'Suspense', 'imdb': 9.2, 'name': 'What is the name'}\n",
      "{'category': 'Suspense', 'imdb': 7.0, 'name': 'Detective'}\n",
      "IMDB Rating:  7.0 Category : Suspense\n"
     ]
    },
    {
     "data": {
      "text/plain": [
       "True"
      ]
     },
     "execution_count": 26,
     "metadata": {},
     "output_type": "execute_result"
    }
   ],
   "source": [
    "# Write a function that takes a single movie and \n",
    "# returns True if its IMDB score is above 5.5\n",
    "\n",
    "def rate(name):\n",
    "    \n",
    "    for movie in movies:\n",
    "        print movie\n",
    "        if movie['name'] == str(name) and movie['imdb'] > 5.5:\n",
    "            print \"IMDB Rating: \", movie['imdb'], \"Category :\" ,movie['category']\n",
    "            return True\n",
    "            \n",
    "            \n",
    "rate('Detective')"
   ]
  },
  {
   "cell_type": "code",
   "execution_count": 34,
   "metadata": {
    "collapsed": false
   },
   "outputs": [
    {
     "data": {
      "text/plain": [
       "[('Usual Suspects', 7.0),\n",
       " ('Hitman', 6.3),\n",
       " ('Dark Knight', 9.0),\n",
       " ('The Help', 8.0),\n",
       " ('The Choice', 6.2),\n",
       " ('Colonia', 7.4),\n",
       " ('Love', 6.0),\n",
       " ('Joking muck', 7.2),\n",
       " ('What is the name', 9.2),\n",
       " ('Detective', 7.0),\n",
       " ('We Two', 7.2)]"
      ]
     },
     "execution_count": 34,
     "metadata": {},
     "output_type": "execute_result"
    }
   ],
   "source": [
    "# Write a function that returns a sublist of movies \n",
    "# with an IMDB score above 5.5. \n",
    "\n",
    "\n",
    "def sub():\n",
    "    sublist = []\n",
    "    for movie in movies:\n",
    "        if movie['imdb'] > 5.5:\n",
    "            sublist.append((movie['name'],movie['imdb']))\n",
    "    return sublist\n",
    "                   \n",
    "sub()\n",
    "\n",
    "\n"
   ]
  },
  {
   "cell_type": "code",
   "execution_count": 33,
   "metadata": {
    "collapsed": false
   },
   "outputs": [
    {
     "data": {
      "text/plain": [
       "\"Romance movies: [('The Choice', 6.2), ('Colonia', 7.4), ('Love', 6.0), ('Bride Wars', 5.4), ('We Two', 7.2)]\""
      ]
     },
     "execution_count": 33,
     "metadata": {},
     "output_type": "execute_result"
    }
   ],
   "source": [
    "# Write a function that takes a category name and returns \n",
    "# just those movies under that category.\n",
    "def sub(category):\n",
    "    sublist = []\n",
    "    for movie in movies:\n",
    "        if movie['category'] == category:\n",
    "            sublist.append((movie['name'],movie['imdb']))\n",
    "    return str(category) + \" movies: \" + str(sublist)\n",
    "                   \n",
    "sub('Romance')"
   ]
  },
  {
   "cell_type": "code",
   "execution_count": 69,
   "metadata": {
    "collapsed": false
   },
   "outputs": [
    {
     "name": "stdout",
     "output_type": "stream",
     "text": [
      "[9.0, 8.0, 6.2]\n",
      "numpy 7.73333333333\n"
     ]
    },
    {
     "data": {
      "text/plain": [
       "7.733333333333333"
      ]
     },
     "execution_count": 69,
     "metadata": {},
     "output_type": "execute_result"
    }
   ],
   "source": [
    "# Write a function that takes a list of movies and computes \n",
    "# the average IMDB score.\n",
    "import numpy as np\n",
    "def average_imdb(movie_list):\n",
    "\n",
    "    score_list = []\n",
    "    for movie in movies:\n",
    "        \n",
    "        for movie_name in movie_list:\n",
    "            if movie['name'] == movie_name:\n",
    "                score_list.append(movie['imdb'])\n",
    "    print(score_list)\n",
    "\n",
    "    average = sum(score_list) / len(score_list)\n",
    "    \n",
    "\n",
    "    print \"numpy\", np.mean(score_list)\n",
    "                \n",
    "    return average\n",
    "    \n",
    "\n",
    "average_imdb(['The Choice', 'The Help', 'Dark Knight'])"
   ]
  },
  {
   "cell_type": "code",
   "execution_count": 73,
   "metadata": {
    "collapsed": false
   },
   "outputs": [
    {
     "name": "stdout",
     "output_type": "stream",
     "text": [
      "[6.2, 7.4, 6.0, 5.4, 7.2]\n",
      "numpy 6.44\n"
     ]
    }
   ],
   "source": [
    "# Write a function that takes a category and computes \n",
    "# the average IMDB score (HINT: reuse the function \n",
    "# from question 2.)\n",
    "def average_imdb(category_name):\n",
    "\n",
    "    score_list = []\n",
    "    for movie in movies:\n",
    "        if movie['category'] == category_name:\n",
    "            score_list.append(movie['imdb'])\n",
    "    print(score_list)\n",
    "\n",
    "    print \"numpy\", np.mean(score_list)\n",
    "average_imdb('Romance')"
   ]
  },
  {
   "cell_type": "code",
   "execution_count": null,
   "metadata": {
    "collapsed": true
   },
   "outputs": [],
   "source": []
  }
 ],
 "metadata": {
  "kernelspec": {
   "display_name": "Python 2",
   "language": "python",
   "name": "python2"
  },
  "language_info": {
   "codemirror_mode": {
    "name": "ipython",
    "version": 2
   },
   "file_extension": ".py",
   "mimetype": "text/x-python",
   "name": "python",
   "nbconvert_exporter": "python",
   "pygments_lexer": "ipython2",
   "version": "2.7.11"
  }
 },
 "nbformat": 4,
 "nbformat_minor": 0
}

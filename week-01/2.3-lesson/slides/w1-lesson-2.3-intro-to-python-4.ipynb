{
 "cells": [
  {
   "cell_type": "markdown",
   "metadata": {
    "slideshow": {
     "slide_type": "slide"
    }
   },
   "source": [
    "<img src=\"https://ga-dash.s3.amazonaws.com/production/assets/logo-9f88ae6c9c3871690e33280fcf557f33.png\" style=\"float: left; margin: 10px;\"> \n",
    "\n",
    "# Intro to Python 4\n",
    "***\n",
    "Week 1 | Lesson 2.3\n",
    "\n",
    "### LEARNING OBJECTIVES\n",
    "*After this lesson, you will be able to:*\n",
    "- Iterate using for loops\n",
    "- Iterate using while loops\n",
    "\n",
    "### STUDENT PRE-WORK\n",
    "*Before this lesson, you should already be able to:*\n",
    "- If you have time, watch a video on for and while loops so that you're familiar \n",
    "  with the topic. "
   ]
  },
  {
   "cell_type": "markdown",
   "metadata": {
    "slideshow": {
     "slide_type": "slide"
    }
   },
   "source": [
    "### LESSON GUIDE\n",
    "| TIMING  | TYPE  | TOPIC  |\n",
    "|:-:|---|---|\n",
    "| 10 min  | [Introduction](#introduction)   | for and while loops  |\n",
    "| 25 min  | [Demo / Guided Practice](#demo)  | for loops  |\n",
    "| 25 min  | [Demo / Guided Practice](#demo)  | while loops  |\n",
    "| 25 min  | [Independent Practice](#ind-practice)  |   |\n",
    "| 5 min  | [Conclusion](#conclusion)  |  |"
   ]
  },
  {
   "cell_type": "markdown",
   "metadata": {
    "slideshow": {
     "slide_type": "slide"
    }
   },
   "source": [
    "<a name=\"for and while loops\"></a>\n",
    "## Introduction: for and while loops (10 mins)\n",
    "The **for** statement is used to **iterate** over the elements of a sequence. It's \n",
    "used when you have a piece of code which you want to repeat n number of times. \n",
    "You can use any object (such as strings, arrays, lists, tuples, dict and so on) \n",
    "in a for loop in Python.\n",
    "\n",
    "The **while** loop tells the computer to do something as long as a condition is met. \n",
    "A while loop consists of a block of code and a condition. The condition \n",
    "is evaluated, and if the condition is true, the code within the\n",
    "block is executed. This repeats until the condition becomes false. \n",
    "\n",
    "[for and while loops](http://www.pythonforbeginners.com/control-flow-2/python-for-and-while-loops)\n",
    "[for and while loops](http://www.cyberciti.biz/faq/python-for-loop-examples-statements/)"
   ]
  },
  {
   "cell_type": "markdown",
   "metadata": {
    "slideshow": {
     "slide_type": "slide"
    }
   },
   "source": [
    "## Demo / Codealong: for loops (25 mins)\n",
    "\n",
    "# basic for loop example\n",
    "\n",
    "```\n",
    "for count in [1, 2, 3]: \n",
    "    print(count) \n",
    "    print('Yes' * count) \n",
    "```\n",
    "\n",
    "This is a **for** loop. It has the heading starting with **for**, followed by a \n",
    "variable name (count in this case), the word in, some sequence, and a final colon. \n",
    "As with function definitions and other heading lines, the **colon** at the end of \n",
    "the line indicates that a consistently **indented block** of statements follows \n",
    "to complete the for loop."
   ]
  },
  {
   "cell_type": "markdown",
   "metadata": {
    "slideshow": {
     "slide_type": "slide"
    }
   },
   "source": [
    "Let's try a simple repeat **for** loop. When you just want to repeat the exact same \n",
    "thing a specific number of times. In that case only the length of the sequence, \n",
    "not the individual elements are important."
   ]
  },
  {
   "cell_type": "code",
   "execution_count": 1,
   "metadata": {
    "collapsed": false
   },
   "outputs": [
    {
     "name": "stdout",
     "output_type": "stream",
     "text": [
      "Hello\n",
      "Hello\n",
      "Hello\n",
      "Hello\n",
      "Hello\n"
     ]
    }
   ],
   "source": [
    "# simple repeat loop \n",
    "for i in range(5): \n",
    "    print('Hello')\n"
   ]
  },
  {
   "cell_type": "code",
   "execution_count": null,
   "metadata": {
    "collapsed": false,
    "slideshow": {
     "slide_type": "fragment"
    }
   },
   "outputs": [],
   "source": [
    "# range(10) looks like this:\n",
    "range(5)"
   ]
  },
  {
   "cell_type": "markdown",
   "metadata": {
    "slideshow": {
     "slide_type": "slide"
    }
   },
   "source": [
    "We've mostly played it safe with list sequences.  Let's try looping through a word now:\n",
    "\n",
    "word = \"computer\"\n",
    "\n",
    "How do we do this?"
   ]
  },
  {
   "cell_type": "code",
   "execution_count": 2,
   "metadata": {
    "collapsed": false,
    "slideshow": {
     "slide_type": "fragment"
    }
   },
   "outputs": [
    {
     "name": "stdout",
     "output_type": "stream",
     "text": [
      "c\n",
      "o\n",
      "m\n",
      "p\n",
      "u\n",
      "t\n",
      "e\n",
      "r\n"
     ]
    }
   ],
   "source": [
    "word = \"computer\"\n",
    "for letter in word: \n",
    "    print letter"
   ]
  },
  {
   "cell_type": "markdown",
   "metadata": {
    "slideshow": {
     "slide_type": "slide"
    }
   },
   "source": [
    "Let's try one more list:"
   ]
  },
  {
   "cell_type": "code",
   "execution_count": 3,
   "metadata": {
    "collapsed": true
   },
   "outputs": [],
   "source": [
    "shuttles = ['columbia', 'endeavour', 'challenger', 'discovery', 'atlantis', 'enterprise', 'pathfinder']"
   ]
  },
  {
   "cell_type": "code",
   "execution_count": 6,
   "metadata": {
    "collapsed": false,
    "slideshow": {
     "slide_type": "fragment"
    }
   },
   "outputs": [
    {
     "name": "stdout",
     "output_type": "stream",
     "text": [
      "c\n",
      "o\n",
      "l\n",
      "u\n",
      "m\n",
      "b\n",
      "i\n",
      "a\n",
      "e\n",
      "n\n",
      "d\n",
      "e\n",
      "a\n",
      "v\n",
      "o\n",
      "u\n",
      "r\n",
      "c\n",
      "h\n",
      "a\n",
      "l\n",
      "l\n",
      "e\n",
      "n\n",
      "g\n",
      "e\n",
      "r\n",
      "d\n",
      "i\n",
      "s\n",
      "c\n",
      "o\n",
      "v\n",
      "e\n",
      "r\n",
      "y\n",
      "a\n",
      "t\n",
      "l\n",
      "a\n",
      "n\n",
      "t\n",
      "i\n",
      "s\n",
      "e\n",
      "n\n",
      "t\n",
      "e\n",
      "r\n",
      "p\n",
      "r\n",
      "i\n",
      "s\n",
      "e\n",
      "p\n",
      "a\n",
      "t\n",
      "h\n",
      "f\n",
      "i\n",
      "n\n",
      "d\n",
      "e\n",
      "r\n"
     ]
    }
   ],
   "source": [
    "for shuttle in shuttles: \n",
    "    for letter in shuttle:\n",
    "        print letter"
   ]
  },
  {
   "cell_type": "markdown",
   "metadata": {
    "slideshow": {
     "slide_type": "-"
    }
   },
   "source": [
    "Read more about **for** loops:\n",
    "\n",
    "[For Loop Examples](http://www.cyberciti.biz/faq/python-for-loop-examples-statements/), \n",
    "[Python For and While Loops](http://www.pythonforbeginners.com/control-flow-2/python-for-and-while-loops), \n",
    "[Loops](http://anh.cs.luc.edu/python/hands-on/3.1/handsonHtml/loops.html)"
   ]
  },
  {
   "cell_type": "markdown",
   "metadata": {
    "slideshow": {
     "slide_type": "slide"
    }
   },
   "source": [
    "# **Check**: What is the basic syntax for a loop? "
   ]
  },
  {
   "cell_type": "markdown",
   "metadata": {
    "slideshow": {
     "slide_type": "slide"
    }
   },
   "source": [
    "# While Loops!\n",
    "Here's all you need to know about while loops:\n",
    "![](http://snag.gy/WsiZu.jpg)"
   ]
  },
  {
   "cell_type": "markdown",
   "metadata": {
    "slideshow": {
     "slide_type": "slide"
    }
   },
   "source": [
    "![](http://snag.gy/fbsAa.jpg)"
   ]
  },
  {
   "cell_type": "markdown",
   "metadata": {
    "slideshow": {
     "slide_type": "slide"
    }
   },
   "source": [
    "Ok so there's a little more to know.  Let's model this scenario with a while loop."
   ]
  },
  {
   "cell_type": "code",
   "execution_count": 5,
   "metadata": {
    "collapsed": false
   },
   "outputs": [
    {
     "name": "stdout",
     "output_type": "stream",
     "text": [
      "Did the snake bite you yet? (y/n):y\n",
      "Poking snake with stick..\n",
      "Don't poke the snake!!!!\n"
     ]
    }
   ],
   "source": [
    "answer = \"n\"\n",
    "while answer != \"y\":\n",
    "    answer = raw_input(\"Did the snake bite you yet? (y/n):\")\n",
    "    print \"Poking snake with stick..\"\n",
    "print \"Don't poke the snake!!!!\""
   ]
  },
  {
   "cell_type": "markdown",
   "metadata": {
    "slideshow": {
     "slide_type": "slide"
    }
   },
   "source": [
    "![](http://snag.gy/2fzfy.jpg)"
   ]
  },
  {
   "cell_type": "markdown",
   "metadata": {
    "slideshow": {
     "slide_type": "slide"
    }
   },
   "source": [
    "## One more example..\n",
    "\n",
    "There are a few more things going on but we will talk about it."
   ]
  },
  {
   "cell_type": "code",
   "execution_count": 7,
   "metadata": {
    "collapsed": false
   },
   "outputs": [
    {
     "name": "stdout",
     "output_type": "stream",
     "text": [
      "Enter text, [type \"stop\" to quit]: s\n",
      "s\n",
      "Enter text, [type \"stop\" to quit]: w\n",
      "w\n",
      "Enter text, [type \"stop\" to quit]: e\n",
      "e\n",
      "Enter text, [type \"stop\" to quit]: quit\n",
      "quit\n",
      "Enter text, [type \"stop\" to quit]: stop\n",
      "stop\n"
     ]
    }
   ],
   "source": [
    "while True:\n",
    "    reply = raw_input('Enter text, [type \"stop\" to quit]: ')\n",
    "    print reply.lower()\n",
    "    if reply == 'stop':\n",
    "        break"
   ]
  },
  {
   "cell_type": "markdown",
   "metadata": {
    "slideshow": {
     "slide_type": "slide"
    }
   },
   "source": [
    "This while loop will stop when the user types \"stop\". \n",
    "\n",
    "Remember, a while loop runs until the expression is False. The problem is, \n",
    "sometimes they don't stop. To avoid this, here are some rules to follow: \n",
    "\n",
    "1. Make sure that you use while-loops sparingly. Usually a for-loop is better.\n",
    "2. Review your while statements and make sure that the boolean test will \n",
    "   become False at some point.\n",
    "3. When in doubt, print out your test variable at the top and bottom of the \n",
    "   while-loop to see what it's doing.\n",
    "\n",
    "[while loops](http://learnpythonthehardway.org/book/ex33.html)\n",
    "\n",
    "Now, we will try to create a few while loops on our own. "
   ]
  },
  {
   "cell_type": "markdown",
   "metadata": {
    "slideshow": {
     "slide_type": "slide"
    }
   },
   "source": [
    "<a name=\"ind-practice\"></a>\n",
    "## Independent Practice: Topic (25 minutes)\n",
    "- Keep practicing for and while loops\n",
    "- Build a for loop that iterates \n",
    "  - a series of words\n",
    "  - a long string\n",
    "\n",
    "Bonus:\n",
    "- Try to build a while loop that stops after a single condition OR 10 iterations exactly\n"
   ]
  },
  {
   "cell_type": "code",
   "execution_count": 10,
   "metadata": {
    "collapsed": false
   },
   "outputs": [
    {
     "name": "stdout",
     "output_type": "stream",
     "text": [
      "yolo\n",
      "cholo\n",
      "rolo\n",
      "s\n",
      "u\n",
      "p\n",
      "e\n",
      "r\n",
      "c\n",
      "a\n",
      "l\n",
      "i\n",
      "f\n",
      "r\n",
      "a\n",
      "g\n",
      "i\n",
      "l\n",
      "i\n",
      "s\n",
      "t\n",
      "i\n",
      "c\n",
      "e\n",
      "x\n",
      "p\n",
      "i\n",
      "a\n",
      "l\n",
      "o\n",
      "d\n",
      "o\n",
      "c\n",
      "i\n",
      "o\n",
      "u\n",
      "s\n"
     ]
    }
   ],
   "source": [
    "my_list = ['yolo', 'cholo', 'rolo']\n",
    "for i in my_list:\n",
    "    print i\n",
    "    \n",
    "for i in \"supercalifragilisticexpialodocious\":\n",
    "    print i"
   ]
  },
  {
   "cell_type": "markdown",
   "metadata": {},
   "source": [
    "<a name=\"conclusion\"></a>\n",
    "## Conclusion (5 mins)\n",
    "- When is a for loop useful? \n",
    "iterate through a list, or a string\n",
    "- When is a while loop useful?\n",
    "checking if a condition is true\n",
    "- What are the differences between for and while loops? \n",
    "for loops work on iterations while loops check conditions\n",
    "\n",
    "- What is a problem that while loops run into? \n",
    "infinite loops\n",
    "- What are some things you can do so you don't run into this problem with while loops?\n",
    "make sure that your while loop is not infinite and put break checkpoints"
   ]
  }
 ],
 "metadata": {
  "celltoolbar": "Slideshow",
  "kernelspec": {
   "display_name": "Python 2",
   "language": "python",
   "name": "python2"
  },
  "language_info": {
   "codemirror_mode": {
    "name": "ipython",
    "version": 2
   },
   "file_extension": ".py",
   "mimetype": "text/x-python",
   "name": "python",
   "nbconvert_exporter": "python",
   "pygments_lexer": "ipython2",
   "version": "2.7.11"
  }
 },
 "nbformat": 4,
 "nbformat_minor": 0
}

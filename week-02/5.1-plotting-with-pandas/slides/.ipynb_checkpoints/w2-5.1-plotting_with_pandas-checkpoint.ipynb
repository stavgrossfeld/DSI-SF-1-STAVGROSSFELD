{
 "cells": [
  {
   "cell_type": "markdown",
   "metadata": {},
   "source": [
    "<img src=\"https://ga-dash.s3.amazonaws.com/production/assets/logo-9f88ae6c9c3871690e33280fcf557f33.png\" style=\"float: left; margin: 10px;\"> \n",
    "# Plotting with Pandas\n",
    "***\n",
    "Week 2 | Lesson 5.1"
   ]
  },
  {
   "cell_type": "markdown",
   "metadata": {},
   "source": [
    "\n",
    "### LEARNING OBJECTIVES\n",
    "*After this lesson, you will be able to:*\n",
    "- Generate bar charts\n",
    "- Generate scatter plots\n",
    "- Generate time series plots\n",
    "\n",
    "### LESSON GUIDE\n",
    "| TIMING  | TYPE  | TOPIC  |\n",
    "|:-:|---|---|\n",
    "| 5 min  | [Introduction](#introduction)   | Plotting with Pandas  |\n",
    "| 20 min  | [Demo / Guided Practice](#demo)  | bar plots  |\n",
    "| 20 min  | [Demo / Guided Practice](#demo)  | scatter plots  |\n",
    "| 20 min  | [Demo / Guided Practice](#demo)  | time series plots  |\n",
    "| 20 min  | [Independent Practice](#ind-practice)  |   |\n",
    "| 5 min  | [Conclusion](#conclusion)  |   |\n",
    "\n",
    "---"
   ]
  },
  {
   "cell_type": "markdown",
   "metadata": {},
   "source": [
    "<a name=\"Plotting with Pandas\"></a>\n",
    "## Introduction: Plotting with Pandas (5 mins)\n",
    "\n",
    "As we already learned in Week 1, there are several ways to plot: \n",
    " - seaborn \n",
    " - plotly \n",
    " - matplotlib. \n",
    " \n",
    "Pandas provides a convenient way to access matplotlib's plot bindings via a method that is available on every single **DataFrame** object and **DataFrame Group** object.  When we load **seaborn**, many of its **matplotlib** equivelents are available via your dataframe object by adding a **.plot()** to call the plotting methods that are bound within Pandas plotting features.\n",
    " \n",
    "\n",
    "DataFrame.plot(x=None, y=None, kind='line', ax=None, subplots=False, sharex=None, \n",
    "sharey=False, layout=None, figsize=None, use_index=True, title=None, grid=None, \n",
    "legend=True, style=None, logx=False, logy=False, loglog=False, xticks=None, yticks=None, \n",
    "xlim=None, ylim=None, rot=None, fontsize=None, colormap=None, table=False, yerr=None, \n",
    "xerr=None, secondary_y=False, sort_columns=False, **kwds)\n",
    "\n",
    "[Pandas Documentation: df.plot()](http://pandas.pydata.org/pandas-docs/stable/generated/pandas.DataFrame.plot.html)"
   ]
  },
  {
   "cell_type": "markdown",
   "metadata": {},
   "source": [
    "## Generally, Pandas .plot() method is:\n",
    "    \n",
    " -  Consistent\n",
    " -  Predictable\n",
    " -  Easy to remember common parameters\n",
    "    \n",
    "It's recommended that you learn to use .plot() to be able to navigate plotting features quickly, but use specfic libraries like **seaborn** when a higher level of visual customization is desired.  "
   ]
  },
  {
   "cell_type": "markdown",
   "metadata": {},
   "source": [
    "## 5 Mins:  Have you been working with plotting outside lessons / labs?\n",
    "\n",
    "**Additionally:**\n",
    "\n",
    " - What is difficult about plotting?\n",
    " - Is there anything you thought would be harder than it was with plotting?\n"
   ]
  },
  {
   "cell_type": "markdown",
   "metadata": {},
   "source": [
    "## Let's slice our data a few ways first.\n",
    "\n",
    "First, a more interesting dataset than random numbers."
   ]
  },
  {
   "cell_type": "code",
   "execution_count": 1,
   "metadata": {
    "collapsed": false
   },
   "outputs": [
    {
     "data": {
      "text/html": [
       "<div>\n",
       "<table border=\"1\" class=\"dataframe\">\n",
       "  <thead>\n",
       "    <tr style=\"text-align: right;\">\n",
       "      <th></th>\n",
       "      <th>account number</th>\n",
       "      <th>name</th>\n",
       "      <th>sku</th>\n",
       "      <th>category</th>\n",
       "      <th>quantity</th>\n",
       "      <th>unit price</th>\n",
       "      <th>ext price</th>\n",
       "      <th>date</th>\n",
       "    </tr>\n",
       "  </thead>\n",
       "  <tbody>\n",
       "    <tr>\n",
       "      <th>0</th>\n",
       "      <td>296809</td>\n",
       "      <td>Carroll PLC</td>\n",
       "      <td>QN-82852</td>\n",
       "      <td>Belt</td>\n",
       "      <td>13</td>\n",
       "      <td>44.48</td>\n",
       "      <td>578.24</td>\n",
       "      <td>2014-09-27 07:13:03</td>\n",
       "    </tr>\n",
       "    <tr>\n",
       "      <th>1</th>\n",
       "      <td>98022</td>\n",
       "      <td>Heidenreich-Bosco</td>\n",
       "      <td>MJ-21460</td>\n",
       "      <td>Shoes</td>\n",
       "      <td>19</td>\n",
       "      <td>53.62</td>\n",
       "      <td>1018.78</td>\n",
       "      <td>2014-07-29 02:10:44</td>\n",
       "    </tr>\n",
       "    <tr>\n",
       "      <th>2</th>\n",
       "      <td>563905</td>\n",
       "      <td>Kerluke, Reilly and Bechtelar</td>\n",
       "      <td>AS-93055</td>\n",
       "      <td>Shirt</td>\n",
       "      <td>12</td>\n",
       "      <td>24.16</td>\n",
       "      <td>289.92</td>\n",
       "      <td>2014-03-01 10:51:24</td>\n",
       "    </tr>\n",
       "    <tr>\n",
       "      <th>3</th>\n",
       "      <td>93356</td>\n",
       "      <td>Waters-Walker</td>\n",
       "      <td>AS-93055</td>\n",
       "      <td>Shirt</td>\n",
       "      <td>5</td>\n",
       "      <td>82.68</td>\n",
       "      <td>413.40</td>\n",
       "      <td>2013-11-17 20:41:11</td>\n",
       "    </tr>\n",
       "    <tr>\n",
       "      <th>4</th>\n",
       "      <td>659366</td>\n",
       "      <td>Waelchi-Fahey</td>\n",
       "      <td>AS-93055</td>\n",
       "      <td>Shirt</td>\n",
       "      <td>18</td>\n",
       "      <td>99.64</td>\n",
       "      <td>1793.52</td>\n",
       "      <td>2014-01-03 08:14:27</td>\n",
       "    </tr>\n",
       "  </tbody>\n",
       "</table>\n",
       "</div>"
      ],
      "text/plain": [
       "   account number                           name       sku category  quantity  \\\n",
       "0          296809                    Carroll PLC  QN-82852     Belt        13   \n",
       "1           98022              Heidenreich-Bosco  MJ-21460    Shoes        19   \n",
       "2          563905  Kerluke, Reilly and Bechtelar  AS-93055    Shirt        12   \n",
       "3           93356                  Waters-Walker  AS-93055    Shirt         5   \n",
       "4          659366                  Waelchi-Fahey  AS-93055    Shirt        18   \n",
       "\n",
       "   unit price  ext price                 date  \n",
       "0       44.48     578.24  2014-09-27 07:13:03  \n",
       "1       53.62    1018.78  2014-07-29 02:10:44  \n",
       "2       24.16     289.92  2014-03-01 10:51:24  \n",
       "3       82.68     413.40  2013-11-17 20:41:11  \n",
       "4       99.64    1793.52  2014-01-03 08:14:27  "
      ]
     },
     "execution_count": 1,
     "metadata": {},
     "output_type": "execute_result"
    }
   ],
   "source": [
    "import pandas as pd\n",
    "\n",
    "sales_df = pd.read_csv(\"http://pbpython.com/extras/sample-salesv2.csv\")\n",
    "sales_df.head()"
   ]
  },
  {
   "cell_type": "markdown",
   "metadata": {},
   "source": [
    "We are going to slice our customer sales data by column to only **name, ext price, date**, then display the first 20 rows."
   ]
  },
  {
   "cell_type": "code",
   "execution_count": 2,
   "metadata": {
    "collapsed": false
   },
   "outputs": [
    {
     "data": {
      "text/html": [
       "<div>\n",
       "<table border=\"1\" class=\"dataframe\">\n",
       "  <thead>\n",
       "    <tr style=\"text-align: right;\">\n",
       "      <th></th>\n",
       "      <th>name</th>\n",
       "      <th>ext price</th>\n",
       "      <th>date</th>\n",
       "    </tr>\n",
       "  </thead>\n",
       "  <tbody>\n",
       "    <tr>\n",
       "      <th>0</th>\n",
       "      <td>Carroll PLC</td>\n",
       "      <td>578.24</td>\n",
       "      <td>2014-09-27 07:13:03</td>\n",
       "    </tr>\n",
       "    <tr>\n",
       "      <th>1</th>\n",
       "      <td>Heidenreich-Bosco</td>\n",
       "      <td>1018.78</td>\n",
       "      <td>2014-07-29 02:10:44</td>\n",
       "    </tr>\n",
       "    <tr>\n",
       "      <th>2</th>\n",
       "      <td>Kerluke, Reilly and Bechtelar</td>\n",
       "      <td>289.92</td>\n",
       "      <td>2014-03-01 10:51:24</td>\n",
       "    </tr>\n",
       "    <tr>\n",
       "      <th>3</th>\n",
       "      <td>Waters-Walker</td>\n",
       "      <td>413.40</td>\n",
       "      <td>2013-11-17 20:41:11</td>\n",
       "    </tr>\n",
       "    <tr>\n",
       "      <th>4</th>\n",
       "      <td>Waelchi-Fahey</td>\n",
       "      <td>1793.52</td>\n",
       "      <td>2014-01-03 08:14:27</td>\n",
       "    </tr>\n",
       "    <tr>\n",
       "      <th>5</th>\n",
       "      <td>Kerluke, Reilly and Bechtelar</td>\n",
       "      <td>897.94</td>\n",
       "      <td>2013-12-04 02:07:05</td>\n",
       "    </tr>\n",
       "    <tr>\n",
       "      <th>6</th>\n",
       "      <td>Cole-Eichmann</td>\n",
       "      <td>275.04</td>\n",
       "      <td>2014-04-09 16:15:03</td>\n",
       "    </tr>\n",
       "    <tr>\n",
       "      <th>7</th>\n",
       "      <td>Hegmann and Sons</td>\n",
       "      <td>551.46</td>\n",
       "      <td>2014-06-18 19:25:10</td>\n",
       "    </tr>\n",
       "    <tr>\n",
       "      <th>8</th>\n",
       "      <td>Senger, Upton and Breitenberg</td>\n",
       "      <td>649.23</td>\n",
       "      <td>2014-02-10 05:55:56</td>\n",
       "    </tr>\n",
       "    <tr>\n",
       "      <th>9</th>\n",
       "      <td>Kerluke, Reilly and Bechtelar</td>\n",
       "      <td>323.76</td>\n",
       "      <td>2014-05-20 00:21:28</td>\n",
       "    </tr>\n",
       "    <tr>\n",
       "      <th>10</th>\n",
       "      <td>Cole-Eichmann</td>\n",
       "      <td>1144.18</td>\n",
       "      <td>2014-03-10 06:23:31</td>\n",
       "    </tr>\n",
       "    <tr>\n",
       "      <th>11</th>\n",
       "      <td>Hegmann and Sons</td>\n",
       "      <td>78.72</td>\n",
       "      <td>2013-11-03 18:38:16</td>\n",
       "    </tr>\n",
       "    <tr>\n",
       "      <th>12</th>\n",
       "      <td>Kihn, McClure and Denesik</td>\n",
       "      <td>238.76</td>\n",
       "      <td>2014-01-11 21:48:28</td>\n",
       "    </tr>\n",
       "    <tr>\n",
       "      <th>13</th>\n",
       "      <td>Ernser, Cruickshank and Lind</td>\n",
       "      <td>1167.00</td>\n",
       "      <td>2014-09-19 13:20:00</td>\n",
       "    </tr>\n",
       "    <tr>\n",
       "      <th>14</th>\n",
       "      <td>Koelpin PLC</td>\n",
       "      <td>732.96</td>\n",
       "      <td>2014-08-12 08:05:27</td>\n",
       "    </tr>\n",
       "    <tr>\n",
       "      <th>15</th>\n",
       "      <td>Waters-Walker</td>\n",
       "      <td>959.94</td>\n",
       "      <td>2014-07-15 23:21:11</td>\n",
       "    </tr>\n",
       "    <tr>\n",
       "      <th>16</th>\n",
       "      <td>Kerluke, Reilly and Bechtelar</td>\n",
       "      <td>142.48</td>\n",
       "      <td>2014-10-05 23:38:16</td>\n",
       "    </tr>\n",
       "    <tr>\n",
       "      <th>17</th>\n",
       "      <td>Koelpin PLC</td>\n",
       "      <td>1669.91</td>\n",
       "      <td>2014-01-26 01:52:36</td>\n",
       "    </tr>\n",
       "    <tr>\n",
       "      <th>18</th>\n",
       "      <td>Kihn, McClure and Denesik</td>\n",
       "      <td>1042.80</td>\n",
       "      <td>2013-11-13 21:38:46</td>\n",
       "    </tr>\n",
       "    <tr>\n",
       "      <th>19</th>\n",
       "      <td>Carroll PLC</td>\n",
       "      <td>961.44</td>\n",
       "      <td>2014-05-24 16:03:28</td>\n",
       "    </tr>\n",
       "  </tbody>\n",
       "</table>\n",
       "</div>"
      ],
      "text/plain": [
       "                             name  ext price                 date\n",
       "0                     Carroll PLC     578.24  2014-09-27 07:13:03\n",
       "1               Heidenreich-Bosco    1018.78  2014-07-29 02:10:44\n",
       "2   Kerluke, Reilly and Bechtelar     289.92  2014-03-01 10:51:24\n",
       "3                   Waters-Walker     413.40  2013-11-17 20:41:11\n",
       "4                   Waelchi-Fahey    1793.52  2014-01-03 08:14:27\n",
       "5   Kerluke, Reilly and Bechtelar     897.94  2013-12-04 02:07:05\n",
       "6                   Cole-Eichmann     275.04  2014-04-09 16:15:03\n",
       "7                Hegmann and Sons     551.46  2014-06-18 19:25:10\n",
       "8   Senger, Upton and Breitenberg     649.23  2014-02-10 05:55:56\n",
       "9   Kerluke, Reilly and Bechtelar     323.76  2014-05-20 00:21:28\n",
       "10                  Cole-Eichmann    1144.18  2014-03-10 06:23:31\n",
       "11               Hegmann and Sons      78.72  2013-11-03 18:38:16\n",
       "12      Kihn, McClure and Denesik     238.76  2014-01-11 21:48:28\n",
       "13   Ernser, Cruickshank and Lind    1167.00  2014-09-19 13:20:00\n",
       "14                    Koelpin PLC     732.96  2014-08-12 08:05:27\n",
       "15                  Waters-Walker     959.94  2014-07-15 23:21:11\n",
       "16  Kerluke, Reilly and Bechtelar     142.48  2014-10-05 23:38:16\n",
       "17                    Koelpin PLC    1669.91  2014-01-26 01:52:36\n",
       "18      Kihn, McClure and Denesik    1042.80  2013-11-13 21:38:46\n",
       "19                    Carroll PLC     961.44  2014-05-24 16:03:28"
      ]
     },
     "execution_count": 2,
     "metadata": {},
     "output_type": "execute_result"
    }
   ],
   "source": [
    "# We are going to \n",
    "customers = sales_df[['name','ext price','date']]\n",
    "customers.head(20)"
   ]
  },
  {
   "cell_type": "raw",
   "metadata": {
    "collapsed": false
   },
   "source": [
    "customer_group = customers.groupby('name')\n",
    "customer_group.size()"
   ]
  },
  {
   "cell_type": "code",
   "execution_count": null,
   "metadata": {
    "collapsed": false
   },
   "outputs": [],
   "source": [
    "sales_totals = customer_group.sum()\n",
    "sales_totals.sort_values('ext price')"
   ]
  },
  {
   "cell_type": "markdown",
   "metadata": {},
   "source": [
    "## Plotting Basic Elements\n",
    "\n",
    "Normally, just calling your dataframe and then \".plot()\" at the end, will produce a plot.  One way to control visual elements such as title, and x/y labels, is to save your plot in a variable, then call various plot specific methods set the various aspects to this.\n",
    "\n",
    "Also, don't forget to turn plotting on in your notebook by setting `%matplotlib inline`."
   ]
  },
  {
   "cell_type": "code",
   "execution_count": null,
   "metadata": {
    "collapsed": false
   },
   "outputs": [],
   "source": [
    "%matplotlib inline\n",
    "\n",
    "my_plot = sales_totals.plot(kind='bar')"
   ]
  },
  {
   "cell_type": "markdown",
   "metadata": {},
   "source": [
    "### Now to set visual elements \"title\" and \"xlabel\""
   ]
  },
  {
   "cell_type": "code",
   "execution_count": null,
   "metadata": {
    "collapsed": false
   },
   "outputs": [],
   "source": [
    "my_plot = sales_totals.plot(kind='bar')\n",
    "my_plot.set_xlabel(\"Customers\")\n",
    "my_plot.set_ylabel(\"Sales ($)\")"
   ]
  },
  {
   "cell_type": "code",
   "execution_count": null,
   "metadata": {
    "collapsed": false
   },
   "outputs": [],
   "source": [
    "# Importing seaborn will bind it's methods to Pandas .plot()\n",
    "import seaborn as sns\n",
    "\n",
    "my_plot = sales_totals.plot(kind='bar')\n",
    "my_plot.set_xlabel(\"Customers\")\n",
    "my_plot.set_ylabel(\"Sales ($)\")"
   ]
  },
  {
   "cell_type": "markdown",
   "metadata": {},
   "source": [
    "## Let's try something a bit more simple"
   ]
  },
  {
   "cell_type": "code",
   "execution_count": null,
   "metadata": {
    "collapsed": false
   },
   "outputs": [],
   "source": [
    "import numpy as np\n",
    "\n",
    "df = pd.DataFrame(np.random.randn(10, 4), columns=['a', 'b', 'c', 'd'])\n",
    "df"
   ]
  },
  {
   "cell_type": "markdown",
   "metadata": {},
   "source": [
    "### A basic bar plot with random data and 4 variables"
   ]
  },
  {
   "cell_type": "code",
   "execution_count": null,
   "metadata": {
    "collapsed": false
   },
   "outputs": [],
   "source": [
    "df.plot(kind='bar')"
   ]
  },
  {
   "cell_type": "markdown",
   "metadata": {},
   "source": [
    "### Now stacked bars"
   ]
  },
  {
   "cell_type": "code",
   "execution_count": null,
   "metadata": {
    "collapsed": false
   },
   "outputs": [],
   "source": [
    "df.plot(kind='bar', stacked=True)"
   ]
  },
  {
   "cell_type": "markdown",
   "metadata": {},
   "source": [
    "### Stacked Bar, Horizontally"
   ]
  },
  {
   "cell_type": "code",
   "execution_count": null,
   "metadata": {
    "collapsed": false
   },
   "outputs": [],
   "source": [
    "df.plot(kind='barh', stacked=True)"
   ]
  },
  {
   "cell_type": "markdown",
   "metadata": {},
   "source": [
    "## Help me set the title and 1 label!"
   ]
  },
  {
   "cell_type": "code",
   "execution_count": null,
   "metadata": {
    "collapsed": true
   },
   "outputs": [],
   "source": []
  },
  {
   "cell_type": "markdown",
   "metadata": {},
   "source": [
    "More refernece here:  [Pandas Docs: bar plots](http://pandas.pydata.org/pandas-docs/version/0.15.0/visualization.html)"
   ]
  },
  {
   "cell_type": "markdown",
   "metadata": {},
   "source": [
    "# df.plot( kind = \"????\" )\n",
    "\n",
    "With **DataFrames** or **DataFrame groups**, you can set the type with the \"kind\" parameter.  Check the docs for a full list.  \n",
    "\n",
    "For scatter it's simply **kind=\"scatter\"**.\n",
    "\n",
    "Some plot \"kinds\" have specific requirements.  For instance, a scatter plot requires X and Y axis data in order to work correctly.  If you have more than 2 numeric series items in your dataframe, you need to decide which 2 to plot.\n",
    "\n"
   ]
  },
  {
   "cell_type": "code",
   "execution_count": null,
   "metadata": {
    "collapsed": false
   },
   "outputs": [],
   "source": [
    "df = pd.DataFrame(np.random.randn(550, 4), columns=['a', 'b', 'c', 'd'])\n",
    "df.plot(kind='scatter', x='a', y='b')"
   ]
  },
  {
   "cell_type": "markdown",
   "metadata": {},
   "source": [
    "_If you recall: In the case of an sns.pairplot, each numeric variable is plotted against each other for x / y display._"
   ]
  },
  {
   "cell_type": "code",
   "execution_count": null,
   "metadata": {
    "collapsed": false
   },
   "outputs": [],
   "source": [
    "sns.pairplot(df)"
   ]
  },
  {
   "cell_type": "markdown",
   "metadata": {},
   "source": [
    "To plot multiple column groups in a single axes, repeat plot method specifying target \n",
    "'ax'. It is recommended to specify color and label keywords to distinguish each groups."
   ]
  },
  {
   "cell_type": "code",
   "execution_count": null,
   "metadata": {
    "collapsed": false
   },
   "outputs": [],
   "source": [
    "ax = df.plot(kind='scatter', x='a', y='b', color='Red', label='Group 1')"
   ]
  },
  {
   "cell_type": "markdown",
   "metadata": {},
   "source": [
    "Using an \"ax\", we can add multiple plots in the same space"
   ]
  },
  {
   "cell_type": "code",
   "execution_count": null,
   "metadata": {
    "collapsed": false
   },
   "outputs": [],
   "source": [
    "# This should work but it doesn't appear to work at the moment -- pardon the issue will need to revisit this example\n",
    "# in the near future..\n",
    "df.plot(kind='scatter', x='a', y='c', color='Green', label='Group 1', ax=ax)\n"
   ]
  },
  {
   "cell_type": "markdown",
   "metadata": {},
   "source": [
    "[Pandas: scatter plots](http://pandas.pydata.org/pandas-docs/version/0.15.0/visualization.html)"
   ]
  },
  {
   "cell_type": "markdown",
   "metadata": {},
   "source": [
    "## Demo/Guided Practice: time series plots (20 mins)\n",
    "\n",
    "This is a very gentle introduction to timeseries.  The main thing we want to do when we plot this type of data, is deal with an index that is a datetime type, rather than an INT or an object so we can apply resampling.\n",
    "\n",
    "Resampling the date allows us to easily slice our data based on unit of time such as:\n",
    " - Week number\n",
    " - Week day\n",
    " - Month day\n",
    " - year\n",
    " - Month number\n",
    " - etc\n",
    "\n",
    "The problem we usually encounter, is that we recieve date data as \"object\" once it makes its way to a dataframe.  The process for dealing with this is:\n",
    "\n",
    " - Convert date string to **datetime dtype**\n",
    " - Set the dataframe index as the converted **datetime dtype**\n"
   ]
  },
  {
   "cell_type": "code",
   "execution_count": null,
   "metadata": {
    "collapsed": true
   },
   "outputs": [],
   "source": [
    "from datetime import datetime"
   ]
  },
  {
   "cell_type": "code",
   "execution_count": null,
   "metadata": {
    "collapsed": false
   },
   "outputs": [],
   "source": [
    "data = {'date': ['2014-05-01 18:47:05.069722', '2014-05-01 18:47:05.119994', \n",
    "'2014-05-02 18:47:05.178768', '2014-05-02 18:47:05.230071', \n",
    "'2014-05-02 18:47:05.230071', '2014-05-02 18:47:05.280592', \n",
    "'2014-05-03 18:47:05.332662', '2014-05-03 18:47:05.385109', \n",
    "'2014-05-04 18:47:05.436523', '2014-05-04 18:47:05.486877'], \n",
    "        'battle_deaths': [34, 25, 26, 15, 15, 14, 26, 25, 62, 41]}\n",
    "df = pd.DataFrame(data, columns = ['date', 'battle_deaths'])\n",
    "df"
   ]
  },
  {
   "cell_type": "code",
   "execution_count": null,
   "metadata": {
    "collapsed": false
   },
   "outputs": [],
   "source": [
    "# Looks like the date column is an \"object\" - remember what this is?\n",
    "df.info()"
   ]
  },
  {
   "cell_type": "code",
   "execution_count": null,
   "metadata": {
    "collapsed": true
   },
   "outputs": [],
   "source": [
    "df['date'] = pd.to_datetime(df['date'])"
   ]
  },
  {
   "cell_type": "code",
   "execution_count": null,
   "metadata": {
    "collapsed": false
   },
   "outputs": [],
   "source": [
    "df.info()"
   ]
  },
  {
   "cell_type": "markdown",
   "metadata": {},
   "source": [
    "### Set df['date'] as the index and delete the column"
   ]
  },
  {
   "cell_type": "code",
   "execution_count": null,
   "metadata": {
    "collapsed": false
   },
   "outputs": [],
   "source": [
    "df.index = df['date']\n",
    "del df['date']\n",
    "df"
   ]
  },
  {
   "cell_type": "markdown",
   "metadata": {},
   "source": [
    "### Find the total value of battle_deaths per day\n",
    "\n",
    "**NOW with our new datetime index, we can apple the resample function to give us grouping by \"days\" (ie: \"D\").**"
   ]
  },
  {
   "cell_type": "code",
   "execution_count": null,
   "metadata": {
    "collapsed": false
   },
   "outputs": [],
   "source": [
    "df.resample('D').sum()"
   ]
  },
  {
   "cell_type": "markdown",
   "metadata": {},
   "source": [
    "### Almost every Pandas object can use .plot()\n",
    "\n",
    "Let's view the battle deaths per day now."
   ]
  },
  {
   "cell_type": "code",
   "execution_count": null,
   "metadata": {
    "collapsed": false
   },
   "outputs": [],
   "source": [
    "df.resample('D').sum().plot()"
   ]
  },
  {
   "cell_type": "markdown",
   "metadata": {},
   "source": [
    "<a name=\"ind-practice\"></a>\n",
    "## Independent Practice: Topic (20 minutes)\n",
    "\n",
    "Using the sales.csv data, do the following\n",
    "- Create a stacked bar plot of Rep and Price\n",
    "- Create a stacked bar plot of Rep and Quantity"
   ]
  },
  {
   "cell_type": "markdown",
   "metadata": {},
   "source": [
    "<a name=\"conclusion\"></a>\n",
    "## Conclusion (10 mins)\n",
    "\n",
    "As we saw in the introduction, df.plot can take a lot of parameters. Try adding some\n",
    "of them to the plots you created during independent practice. "
   ]
  },
  {
   "cell_type": "code",
   "execution_count": null,
   "metadata": {
    "collapsed": true
   },
   "outputs": [],
   "source": []
  }
 ],
 "metadata": {
  "kernelspec": {
   "display_name": "Python 2",
   "language": "python",
   "name": "python2"
  },
  "language_info": {
   "codemirror_mode": {
    "name": "ipython",
    "version": 2
   },
   "file_extension": ".py",
   "mimetype": "text/x-python",
   "name": "python",
   "nbconvert_exporter": "python",
   "pygments_lexer": "ipython2",
   "version": "2.7.11"
  }
 },
 "nbformat": 4,
 "nbformat_minor": 0
}

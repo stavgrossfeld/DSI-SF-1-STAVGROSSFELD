{
 "cells": [
  {
   "cell_type": "markdown",
   "metadata": {
    "slideshow": {
     "slide_type": "slide"
    }
   },
   "source": [
    "<img src=\"https://ga-dash.s3.amazonaws.com/production/assets/logo-9f88ae6c9c3871690e33280fcf557f33.png\" style=\"float: left; margin: 15px;\">\n",
    "\n",
    "# Intro to Data Cleaning\n",
    "\n",
    "***\n",
    "\n",
    "Week 2 | Lesson 2.3"
   ]
  },
  {
   "cell_type": "markdown",
   "metadata": {
    "slideshow": {
     "slide_type": "slide"
    }
   },
   "source": [
    "### LEARNING OBJECTIVES\n",
    "*After this lesson, you will be able to:*\n",
    "- Inspect data types\n",
    "- Clean up a column using df.apply()\n",
    "- Know what situations to use .value_counts() in your code"
   ]
  },
  {
   "cell_type": "markdown",
   "metadata": {
    "slideshow": {
     "slide_type": "slide"
    }
   },
   "source": [
    "### LESSON GUIDE\n",
    "| TIMING  | TYPE  | TOPIC  |\n",
    "|:-:|---|---|\n",
    "| 5 min  | [Introduction](#introduction)   | Inpsect data types, df.apply(), .value_counts()  |\n",
    "| 20 min  | [Demo /Guided Practice](#demo)  | Inpsect data types |\n",
    "| 20 min  | [Demo /Guided Practice](#demo)  | df.apply() |\n",
    "| 20 min  | [Demo /Guided Practice](#demo)  | .value_counts() |\n",
    "| 20 min  | [Independent Practice](#ind-practice)  |   |\n",
    "| 5 min  | [Conclusion](#conclusion)  |   |"
   ]
  },
  {
   "cell_type": "markdown",
   "metadata": {
    "slideshow": {
     "slide_type": "slide"
    }
   },
   "source": [
    "<a name=\"introduction\"></a>\n",
    "## Introduction: Topic (5 mins)\n",
    "\n",
    "Since we're starting to get pretty comfortable with using pandas to do EDA, let's add a\n",
    "couple more tools to our toolbox. \n",
    "\n",
    "The main data types stored in pandas objects are float, int, bool, datetime64, datetime64, timedelta, \n",
    "category, and object. \n",
    "\n",
    "df.apply() will apply a function along any axis of the DataFrame. We'll see it in action below. \n",
    "\n",
    "pandas.Series.value_counts returns Series containing counts of unique values. The resulting \n",
    "Series will be in descending order so that the first element is the most frequently-occurring \n",
    "element. Excludes NA values.\n",
    "\n",
    "[Pandas: dtypes](http://pandas.pydata.org/pandas-docs/stable/pandas.pdf)\n",
    "\n",
    "[Pandas Series: value_counts](http://nullege.com/codes/search/pandas.Series.value_counts)\n"
   ]
  },
  {
   "cell_type": "markdown",
   "metadata": {
    "slideshow": {
     "slide_type": "slide"
    }
   },
   "source": [
    "<a name=\"Inpsect data types \"></a>\n",
    "## Demo /Guided Practice: Inspect data types  (20 mins)\n",
    "\n",
    "Let's create a small dictionary with different data types in it. \n",
    "\n",
    "> [demo code](https://github.com/generalassembly-studio/dsi-course-materials/blob/W2-L2.3/curriculum/04-lessons/week-02/2.3-lesson/code/W2%20L2.3%20Intro%20to%20Data%20Cleaning%20demo%20code.ipynb)\n",
    "can be found in the code folder and contains all the code in this lesson in a Jupyter\n",
    "notebook. Follow along or create a new notebook.\n"
   ]
  },
  {
   "cell_type": "markdown",
   "metadata": {
    "slideshow": {
     "slide_type": "slide"
    }
   },
   "source": [
    "### Import Pandas + Numpy"
   ]
  },
  {
   "cell_type": "code",
   "execution_count": 3,
   "metadata": {
    "collapsed": true
   },
   "outputs": [],
   "source": [
    "import pandas as pd\n",
    "import numpy as np"
   ]
  },
  {
   "cell_type": "markdown",
   "metadata": {
    "slideshow": {
     "slide_type": "slide"
    }
   },
   "source": [
    "### Create Test Data"
   ]
  },
  {
   "cell_type": "code",
   "execution_count": 4,
   "metadata": {
    "collapsed": true
   },
   "outputs": [],
   "source": [
    "test_data = dict( \n",
    "    A = np.random.rand(3),\n",
    "    B = 1,\n",
    "    C = 'foo',\n",
    "    D = pd.Timestamp('20010102'),\n",
    "    E = pd.Series([1.0]*3).astype('float32'),\n",
    "    F = False,\n",
    "    G = pd.Series([1]*3,dtype='int8')\n",
    ")"
   ]
  },
  {
   "cell_type": "code",
   "execution_count": 5,
   "metadata": {
    "collapsed": false,
    "slideshow": {
     "slide_type": "slide"
    }
   },
   "outputs": [
    {
     "data": {
      "text/plain": [
       "{'A': array([ 0.70630261,  0.98246752,  0.9984217 ]),\n",
       " 'B': 1,\n",
       " 'C': 'foo',\n",
       " 'D': Timestamp('2001-01-02 00:00:00'),\n",
       " 'E': 0    1.0\n",
       " 1    1.0\n",
       " 2    1.0\n",
       " dtype: float32,\n",
       " 'F': False,\n",
       " 'G': 0    1\n",
       " 1    1\n",
       " 2    1\n",
       " dtype: int8}"
      ]
     },
     "execution_count": 5,
     "metadata": {},
     "output_type": "execute_result"
    }
   ],
   "source": [
    "test_data"
   ]
  },
  {
   "cell_type": "markdown",
   "metadata": {
    "slideshow": {
     "slide_type": "slide"
    }
   },
   "source": [
    "### Create our DataFrame"
   ]
  },
  {
   "cell_type": "code",
   "execution_count": 6,
   "metadata": {
    "collapsed": false
   },
   "outputs": [
    {
     "data": {
      "text/html": [
       "<div>\n",
       "<table border=\"1\" class=\"dataframe\">\n",
       "  <thead>\n",
       "    <tr style=\"text-align: right;\">\n",
       "      <th></th>\n",
       "      <th>A</th>\n",
       "      <th>B</th>\n",
       "      <th>C</th>\n",
       "      <th>D</th>\n",
       "      <th>E</th>\n",
       "      <th>F</th>\n",
       "      <th>G</th>\n",
       "    </tr>\n",
       "  </thead>\n",
       "  <tbody>\n",
       "    <tr>\n",
       "      <th>0</th>\n",
       "      <td>0.706303</td>\n",
       "      <td>1</td>\n",
       "      <td>foo</td>\n",
       "      <td>2001-01-02</td>\n",
       "      <td>1.0</td>\n",
       "      <td>False</td>\n",
       "      <td>1</td>\n",
       "    </tr>\n",
       "    <tr>\n",
       "      <th>1</th>\n",
       "      <td>0.982468</td>\n",
       "      <td>1</td>\n",
       "      <td>foo</td>\n",
       "      <td>2001-01-02</td>\n",
       "      <td>1.0</td>\n",
       "      <td>False</td>\n",
       "      <td>1</td>\n",
       "    </tr>\n",
       "    <tr>\n",
       "      <th>2</th>\n",
       "      <td>0.998422</td>\n",
       "      <td>1</td>\n",
       "      <td>foo</td>\n",
       "      <td>2001-01-02</td>\n",
       "      <td>1.0</td>\n",
       "      <td>False</td>\n",
       "      <td>1</td>\n",
       "    </tr>\n",
       "  </tbody>\n",
       "</table>\n",
       "</div>"
      ],
      "text/plain": [
       "          A  B    C          D    E      F  G\n",
       "0  0.706303  1  foo 2001-01-02  1.0  False  1\n",
       "1  0.982468  1  foo 2001-01-02  1.0  False  1\n",
       "2  0.998422  1  foo 2001-01-02  1.0  False  1"
      ]
     },
     "execution_count": 6,
     "metadata": {},
     "output_type": "execute_result"
    }
   ],
   "source": [
    "dft = pd.DataFrame(test_data)\n",
    "dft"
   ]
  },
  {
   "cell_type": "code",
   "execution_count": 7,
   "metadata": {
    "collapsed": false
   },
   "outputs": [
    {
     "data": {
      "text/plain": [
       "A           float64\n",
       "B             int64\n",
       "C            object\n",
       "D    datetime64[ns]\n",
       "E           float32\n",
       "F              bool\n",
       "G              int8\n",
       "dtype: object"
      ]
     },
     "execution_count": 7,
     "metadata": {},
     "output_type": "execute_result"
    }
   ],
   "source": [
    "dft.dtypes"
   ]
  },
  {
   "cell_type": "markdown",
   "metadata": {
    "slideshow": {
     "slide_type": "slide"
    }
   },
   "source": [
    "**What might we expect dtypes in the case of mixed type values in a single dimension?**\n",
    "\n",
    "ie:  [2, 3, 4, 5, 6, 7, 8.9]"
   ]
  },
  {
   "cell_type": "markdown",
   "metadata": {
    "slideshow": {
     "slide_type": "fragment"
    }
   },
   "source": [
    "If a pandas object contains data multiple dtypes IN A SINGLE COLUMN, the dtype of the column will be chosen to accommodate all of the data types (object is the most general)."
   ]
  },
  {
   "cell_type": "markdown",
   "metadata": {
    "slideshow": {
     "slide_type": "slide"
    }
   },
   "source": [
    "### Ints are cast to floats"
   ]
  },
  {
   "cell_type": "code",
   "execution_count": 8,
   "metadata": {
    "collapsed": false
   },
   "outputs": [
    {
     "data": {
      "text/plain": [
       "0    1.0\n",
       "1    2.0\n",
       "2    3.0\n",
       "3    4.0\n",
       "4    5.0\n",
       "5    6.0\n",
       "dtype: float64"
      ]
     },
     "execution_count": 8,
     "metadata": {},
     "output_type": "execute_result"
    }
   ],
   "source": [
    "pd.Series([1, 2, 3, 4, 5, 6.])"
   ]
  },
  {
   "cell_type": "markdown",
   "metadata": {
    "slideshow": {
     "slide_type": "slide"
    }
   },
   "source": [
    "### String elements are cast to ``object`` dtype"
   ]
  },
  {
   "cell_type": "code",
   "execution_count": 9,
   "metadata": {
    "collapsed": false,
    "scrolled": true
   },
   "outputs": [
    {
     "data": {
      "text/plain": [
       "0      1\n",
       "1      2\n",
       "2      3\n",
       "3    foo\n",
       "dtype: object"
      ]
     },
     "execution_count": 9,
     "metadata": {},
     "output_type": "execute_result"
    }
   ],
   "source": [
    "pd.Series([1, 2, 3, 'foo'])"
   ]
  },
  {
   "cell_type": "code",
   "execution_count": 10,
   "metadata": {
    "collapsed": false,
    "slideshow": {
     "slide_type": "slide"
    }
   },
   "outputs": [
    {
     "data": {
      "text/plain": [
       "bool              1\n",
       "datetime64[ns]    1\n",
       "float32           1\n",
       "float64           1\n",
       "int64             1\n",
       "int8              1\n",
       "object            1\n",
       "dtype: object"
      ]
     },
     "execution_count": 10,
     "metadata": {},
     "output_type": "execute_result"
    }
   ],
   "source": [
    "dft.get_dtype_counts().astype(list)"
   ]
  },
  {
   "cell_type": "markdown",
   "metadata": {
    "slideshow": {
     "slide_type": "slide"
    }
   },
   "source": [
    "### With a partner, take 3 minutes to discus:\n",
    "\n",
    "*Without* running this code with a Python interpreter, what types would you expect the common `dtype` to be selected?\n",
    "\n",
    "    [1, 3, 9, .33, False, '03-20-1978', np.arange(22)]\n",
    "\n"
   ]
  },
  {
   "cell_type": "markdown",
   "metadata": {
    "slideshow": {
     "slide_type": "slide"
    }
   },
   "source": [
    "You can do a lot more with dtypes.  Check out \n",
    "[Pandas Documentation](http://pandas.pydata.org/pandas-docs/stable/pandas.pdf)."
   ]
  },
  {
   "cell_type": "markdown",
   "metadata": {
    "slideshow": {
     "slide_type": "slide"
    }
   },
   "source": [
    "## Why do you think it might be important to know what kind of dtypes you're working with? "
   ]
  },
  {
   "cell_type": "markdown",
   "metadata": {
    "slideshow": {
     "slide_type": "slide"
    }
   },
   "source": [
    "<a name=\" df.apply()\"></a>\n",
    "## Demo /Guided Practice:  df.apply() (20 mins)\n",
    "\n",
    "Generally, df.apply(), will apply a singlular function to every cell of the dataframe you use it with.  \n",
    "\n",
    "Conversely: df.map(), is available when you only want to work with a single dimension of your dataset, ie:  df['a'].map(my_func)"
   ]
  },
  {
   "cell_type": "code",
   "execution_count": 11,
   "metadata": {
    "collapsed": false,
    "slideshow": {
     "slide_type": "slide"
    }
   },
   "outputs": [
    {
     "data": {
      "text/html": [
       "<div>\n",
       "<table border=\"1\" class=\"dataframe\">\n",
       "  <thead>\n",
       "    <tr style=\"text-align: right;\">\n",
       "      <th></th>\n",
       "      <th>a</th>\n",
       "      <th>b</th>\n",
       "      <th>c</th>\n",
       "      <th>d</th>\n",
       "    </tr>\n",
       "  </thead>\n",
       "  <tbody>\n",
       "    <tr>\n",
       "      <th>0</th>\n",
       "      <td>-1.200009</td>\n",
       "      <td>0.605222</td>\n",
       "      <td>1.868761</td>\n",
       "      <td>-0.604397</td>\n",
       "    </tr>\n",
       "    <tr>\n",
       "      <th>1</th>\n",
       "      <td>-2.132443</td>\n",
       "      <td>0.921174</td>\n",
       "      <td>-1.654215</td>\n",
       "      <td>-2.898519</td>\n",
       "    </tr>\n",
       "    <tr>\n",
       "      <th>2</th>\n",
       "      <td>-0.090855</td>\n",
       "      <td>-0.763516</td>\n",
       "      <td>0.804579</td>\n",
       "      <td>0.241590</td>\n",
       "    </tr>\n",
       "    <tr>\n",
       "      <th>3</th>\n",
       "      <td>-0.502342</td>\n",
       "      <td>-0.906263</td>\n",
       "      <td>-0.791563</td>\n",
       "      <td>0.050626</td>\n",
       "    </tr>\n",
       "    <tr>\n",
       "      <th>4</th>\n",
       "      <td>0.033142</td>\n",
       "      <td>0.176810</td>\n",
       "      <td>1.330263</td>\n",
       "      <td>-0.477527</td>\n",
       "    </tr>\n",
       "  </tbody>\n",
       "</table>\n",
       "</div>"
      ],
      "text/plain": [
       "          a         b         c         d\n",
       "0 -1.200009  0.605222  1.868761 -0.604397\n",
       "1 -2.132443  0.921174 -1.654215 -2.898519\n",
       "2 -0.090855 -0.763516  0.804579  0.241590\n",
       "3 -0.502342 -0.906263 -0.791563  0.050626\n",
       "4  0.033142  0.176810  1.330263 -0.477527"
      ]
     },
     "execution_count": 11,
     "metadata": {},
     "output_type": "execute_result"
    }
   ],
   "source": [
    "# Create some more test data\n",
    "df = pd.DataFrame(np.random.randn(5, 4), columns=['a', 'b', 'c', 'd'])\n",
    "df"
   ]
  },
  {
   "cell_type": "markdown",
   "metadata": {
    "slideshow": {
     "slide_type": "slide"
    }
   },
   "source": [
    "### Some Examples"
   ]
  },
  {
   "cell_type": "code",
   "execution_count": 12,
   "metadata": {
    "collapsed": false
   },
   "outputs": [
    {
     "data": {
      "text/html": [
       "<div>\n",
       "<table border=\"1\" class=\"dataframe\">\n",
       "  <thead>\n",
       "    <tr style=\"text-align: right;\">\n",
       "      <th></th>\n",
       "      <th>a</th>\n",
       "      <th>b</th>\n",
       "      <th>c</th>\n",
       "      <th>d</th>\n",
       "    </tr>\n",
       "  </thead>\n",
       "  <tbody>\n",
       "    <tr>\n",
       "      <th>0</th>\n",
       "      <td>NaN</td>\n",
       "      <td>0.777960</td>\n",
       "      <td>1.367026</td>\n",
       "      <td>NaN</td>\n",
       "    </tr>\n",
       "    <tr>\n",
       "      <th>1</th>\n",
       "      <td>NaN</td>\n",
       "      <td>0.959778</td>\n",
       "      <td>NaN</td>\n",
       "      <td>NaN</td>\n",
       "    </tr>\n",
       "    <tr>\n",
       "      <th>2</th>\n",
       "      <td>NaN</td>\n",
       "      <td>NaN</td>\n",
       "      <td>0.896983</td>\n",
       "      <td>0.491518</td>\n",
       "    </tr>\n",
       "    <tr>\n",
       "      <th>3</th>\n",
       "      <td>NaN</td>\n",
       "      <td>NaN</td>\n",
       "      <td>NaN</td>\n",
       "      <td>0.225002</td>\n",
       "    </tr>\n",
       "    <tr>\n",
       "      <th>4</th>\n",
       "      <td>0.182048</td>\n",
       "      <td>0.420488</td>\n",
       "      <td>1.153370</td>\n",
       "      <td>NaN</td>\n",
       "    </tr>\n",
       "  </tbody>\n",
       "</table>\n",
       "</div>"
      ],
      "text/plain": [
       "          a         b         c         d\n",
       "0       NaN  0.777960  1.367026       NaN\n",
       "1       NaN  0.959778       NaN       NaN\n",
       "2       NaN       NaN  0.896983  0.491518\n",
       "3       NaN       NaN       NaN  0.225002\n",
       "4  0.182048  0.420488  1.153370       NaN"
      ]
     },
     "execution_count": 12,
     "metadata": {},
     "output_type": "execute_result"
    }
   ],
   "source": [
    "# square root ALL CELLS (NaN == Not a Number)\n",
    "df.apply(np.sqrt)"
   ]
  },
  {
   "cell_type": "markdown",
   "metadata": {
    "slideshow": {
     "slide_type": "notes"
    }
   },
   "source": [
    "_Note: Illustrate with whiteboard DataFrame, with blank axis labels._"
   ]
  },
  {
   "cell_type": "markdown",
   "metadata": {
    "slideshow": {
     "slide_type": "slide"
    }
   },
   "source": [
    "### Apply method to only one axis, 0 (columns)\n",
    "ie:  `df['a'] == [-1.369438  , -0.76541512,  1.75835588,  1.17270527,  0.02630271]`"
   ]
  },
  {
   "cell_type": "code",
   "execution_count": 14,
   "metadata": {
    "collapsed": false,
    "slideshow": {
     "slide_type": "slide"
    }
   },
   "outputs": [
    {
     "data": {
      "text/plain": [
       "a   -0.778501\n",
       "b    0.006686\n",
       "c    0.311565\n",
       "d   -0.737646\n",
       "dtype: float64"
      ]
     },
     "execution_count": 14,
     "metadata": {},
     "output_type": "execute_result"
    }
   ],
   "source": [
    "df.apply(np.mean, axis=0)"
   ]
  },
  {
   "cell_type": "markdown",
   "metadata": {
    "slideshow": {
     "slide_type": "slide"
    }
   },
   "source": [
    "### Apply method to only axis 1 (rows)\n",
    "This is what the data slice would look like if we were to select only rows.  Here is the slice of the first row that would be affected with axis #1 with .apply():\n",
    "\n",
    "`df.iloc[0].values == [-1.369438  ,  0.0804468 , -1.22457047,  0.42207757]`\n",
    "\n",
    "_We are calculating the mean of lists of \"rows\", not \"columns\"._"
   ]
  },
  {
   "cell_type": "code",
   "execution_count": 32,
   "metadata": {
    "collapsed": false,
    "slideshow": {
     "slide_type": "fragment"
    }
   },
   "outputs": [
    {
     "data": {
      "text/plain": [
       "0   -0.522871\n",
       "1    0.215635\n",
       "2    0.134356\n",
       "3   -0.088068\n",
       "4   -0.386371\n",
       "dtype: float64"
      ]
     },
     "execution_count": 32,
     "metadata": {},
     "output_type": "execute_result"
    }
   ],
   "source": [
    "df.apply(np.mean, axis=1)"
   ]
  },
  {
   "cell_type": "markdown",
   "metadata": {
    "slideshow": {
     "slide_type": "slide"
    }
   },
   "source": [
    "### Further Reading\n",
    "\n",
    "For more advanced `.apply` usage, check out these links:\n",
    "\n",
    "[\"Why Not\"'s Gist Examples](https://gist.github.com/why-not/4582705)\n",
    "\n",
    "[Chris Albon's Map + Apply Examples](http://chrisalbon.com/python/pandas_apply_operations_to_dataframes.html)\n"
   ]
  },
  {
   "cell_type": "markdown",
   "metadata": {
    "slideshow": {
     "slide_type": "slide"
    }
   },
   "source": [
    "### **Check:** How would find the std of the columns and rows? "
   ]
  },
  {
   "cell_type": "markdown",
   "metadata": {
    "slideshow": {
     "slide_type": "slide"
    }
   },
   "source": [
    "<a name=\".value_counts()\"></a>\n",
    "## Demo /Guided Practice: .value_counts() (< 20 mins)\n",
    "\n",
    "Why is this important?  Basically, this tells us the count of unique values that exist.  It's helpful to identify anything unexpected.  Looking at value_counts(), per series, can give us a quick overview of values expressed in our data.\n",
    "\n",
    " - Strings inside of mostly numeric / continious data\n",
    " - Non-numeric values\n",
    " - General counts of values that we might expect to see\n",
    " - Most common / least common values"
   ]
  },
  {
   "cell_type": "markdown",
   "metadata": {
    "slideshow": {
     "slide_type": "slide"
    }
   },
   "source": [
    "Let's create some random data"
   ]
  },
  {
   "cell_type": "code",
   "execution_count": 64,
   "metadata": {
    "collapsed": false
   },
   "outputs": [
    {
     "data": {
      "text/plain": [
       "array([0, 4, 6, 0, 0, 0, 2, 0, 3, 2, 0, 5, 0, 4, 5, 1, 4, 6, 1, 1, 2, 3, 6,\n",
       "       2, 6, 2, 2, 5, 0, 2, 4, 4, 2, 4, 6, 6, 6, 1, 0, 3, 6, 0, 6, 2, 4, 3,\n",
       "       6, 5, 1, 6])"
      ]
     },
     "execution_count": 64,
     "metadata": {},
     "output_type": "execute_result"
    }
   ],
   "source": [
    "data = np.random.randint(0, 7, size = 50)\n",
    "data"
   ]
  },
  {
   "cell_type": "code",
   "execution_count": 65,
   "metadata": {
    "collapsed": false
   },
   "outputs": [
    {
     "data": {
      "text/plain": [
       "0    0\n",
       "1    4\n",
       "2    6\n",
       "3    0\n",
       "4    0\n",
       "dtype: int64"
      ]
     },
     "execution_count": 65,
     "metadata": {},
     "output_type": "execute_result"
    }
   ],
   "source": [
    "s = pd.Series(data)\n",
    "s.head()"
   ]
  },
  {
   "cell_type": "code",
   "execution_count": 66,
   "metadata": {
    "collapsed": false,
    "slideshow": {
     "slide_type": "slide"
    }
   },
   "outputs": [
    {
     "data": {
      "text/plain": [
       "6    11\n",
       "0    10\n",
       "2     9\n",
       "4     7\n",
       "1     5\n",
       "5     4\n",
       "3     4\n",
       "dtype: int64"
      ]
     },
     "execution_count": 66,
     "metadata": {},
     "output_type": "execute_result"
    }
   ],
   "source": [
    "# The counts of each number that occurs in our array is listed\n",
    "pd.value_counts(s)"
   ]
  },
  {
   "cell_type": "markdown",
   "metadata": {
    "slideshow": {
     "slide_type": "slide"
    }
   },
   "source": [
    "<a name=\"ind-practice\"></a>\n",
    "## Independent Practice: Topic (20+ minutes)\n",
    "- Use the sales.csv data set, we've seen this a few times in previous lessons\n",
    "- Inspect the data types\n",
    "- You've found out that all your values in column 1 are off by 1. Use df.apply to add 1 to column 1 of the dataset\n",
    "- Use .value_counts to count the values of 1 column of the dataset\n",
    "\n",
    "**Bonus** \n",
    "- Add 3 to column 2\n",
    "- Use .value_counts for each column of the dataset\n",
    "\n",
    "**Bonus Bonus -- COMPLETELY OPTIONAL!!!**\n",
    "<img src=\"http://vignette3.wikia.nocookie.net/erbparodies/images/a/a3/Troll_Based_On.png/revision/latest?cb=20151109194505\" style=\"width: 100px;\">\n",
    "\n",
    "Ruining data should give you a better sense of how to clean it.  Don't feel like you need to attempt this as it's completely optional and it's meant to be _extranious_.  Real-life datasets will not be like this.  The solution isn't as important as the process and thinking behind your approach.  Another way you might want to try to do this, is map out how you would do this with pseudo code with a step-by-step plan, without actually coding anything.\n",
    "\n",
    "- Add an extra column to your dataframe that is a copy of an existing column with continious data\n",
    "    - Randomly change the value of continious data cells within it to the following:\n",
    "      - NaN\n",
    "      - A blank string\n",
    "      - A numeric string\n",
    "      - The same value\n",
    "    - Report value_counts post-\"random data troll\" processing. Does it seem random?\n",
    "    - Convert blank strings and NaN values to float(0)\n",
    "    - Convert numeric strings to floats with 2f precision\n",
    "    - Divide by 2 if cell value is prime, use remainder as value\n",
    "    - Post solution as Gist with comments to Slack"
   ]
  },
  {
   "cell_type": "code",
   "execution_count": 38,
   "metadata": {
    "collapsed": false
   },
   "outputs": [
    {
     "data": {
      "text/plain": [
       "7.841363     1\n",
       "11.086030    1\n",
       "9.176668     1\n",
       "7.792889     1\n",
       "8.196779     1\n",
       "8.824354     1\n",
       "8.124444     1\n",
       "7.433606     1\n",
       "9.783937     1\n",
       "10.849660    1\n",
       "11.270185    1\n",
       "11.637769    1\n",
       "6.781266     1\n",
       "4.147741     1\n",
       "12.505838    1\n",
       "7.657733     1\n",
       "7.618174     1\n",
       "11.252870    1\n",
       "7.309813     1\n",
       "9.555078     1\n",
       "8.785867     1\n",
       "6.882779     1\n",
       "8.200364     1\n",
       "46.556096    1\n",
       "11.118018    1\n",
       "11.331430    1\n",
       "8.682494     1\n",
       "9.453647     1\n",
       "10.421713    1\n",
       "8.560549     1\n",
       "            ..\n",
       "16.697651    1\n",
       "9.124182     1\n",
       "12.826536    1\n",
       "10.347349    1\n",
       "11.260836    1\n",
       "8.611698     1\n",
       "12.129382    1\n",
       "8.930415     1\n",
       "8.343509     1\n",
       "52.800686    1\n",
       "5.904447     1\n",
       "8.695312     1\n",
       "9.092883     1\n",
       "7.447040     1\n",
       "13.581695    1\n",
       "6.965175     1\n",
       "4.725095     1\n",
       "8.211490     1\n",
       "8.790503     1\n",
       "9.500445     1\n",
       "5.296111     1\n",
       "6.324497     1\n",
       "9.753142     1\n",
       "9.686518     1\n",
       "12.019652    1\n",
       "7.686406     1\n",
       "13.076785    1\n",
       "15.439435    1\n",
       "5.557712     1\n",
       "8.437252     1\n",
       "Name: volume_sold, dtype: int64"
      ]
     },
     "execution_count": 38,
     "metadata": {},
     "output_type": "execute_result"
    }
   ],
   "source": [
    "sales = pd.read_csv('/Users/Stav/github-repos/Stav-Grossfeld-DSI/week-01/3.4-lab/assets/datasets/sales_info.csv')\n",
    "\n",
    "\n",
    "\n",
    "sales['volume_sold'] =  sales['volume_sold'].apply(lambda value: value + 1 )\n",
    "sales\n",
    "sales['volume_sold'].value_counts()"
   ]
  },
  {
   "cell_type": "code",
   "execution_count": 43,
   "metadata": {
    "collapsed": false
   },
   "outputs": [
    {
     "data": {
      "text/html": [
       "<div>\n",
       "<table border=\"1\" class=\"dataframe\">\n",
       "  <thead>\n",
       "    <tr style=\"text-align: right;\">\n",
       "      <th></th>\n",
       "      <th>volume_sold</th>\n",
       "      <th>2015_margin</th>\n",
       "      <th>2015_q1_sales</th>\n",
       "      <th>2016_q1_sales</th>\n",
       "    </tr>\n",
       "  </thead>\n",
       "  <tbody>\n",
       "    <tr>\n",
       "      <th>0</th>\n",
       "      <td>19.420760</td>\n",
       "      <td>105.802281</td>\n",
       "      <td>337166.53</td>\n",
       "      <td>337804.05</td>\n",
       "    </tr>\n",
       "    <tr>\n",
       "      <th>1</th>\n",
       "      <td>5.776510</td>\n",
       "      <td>33.082425</td>\n",
       "      <td>22351.86</td>\n",
       "      <td>21736.63</td>\n",
       "    </tr>\n",
       "    <tr>\n",
       "      <th>2</th>\n",
       "      <td>17.602401</td>\n",
       "      <td>105.612494</td>\n",
       "      <td>277764.46</td>\n",
       "      <td>306942.27</td>\n",
       "    </tr>\n",
       "    <tr>\n",
       "      <th>3</th>\n",
       "      <td>5.296111</td>\n",
       "      <td>28.824704</td>\n",
       "      <td>16805.11</td>\n",
       "      <td>9307.75</td>\n",
       "    </tr>\n",
       "    <tr>\n",
       "      <th>4</th>\n",
       "      <td>9.156023</td>\n",
       "      <td>47.011457</td>\n",
       "      <td>54411.42</td>\n",
       "      <td>58939.90</td>\n",
       "    </tr>\n",
       "    <tr>\n",
       "      <th>5</th>\n",
       "      <td>6.005122</td>\n",
       "      <td>43.877437</td>\n",
       "      <td>255939.81</td>\n",
       "      <td>332979.03</td>\n",
       "    </tr>\n",
       "    <tr>\n",
       "      <th>6</th>\n",
       "      <td>15.606750</td>\n",
       "      <td>88.518973</td>\n",
       "      <td>319020.69</td>\n",
       "      <td>302592.88</td>\n",
       "    </tr>\n",
       "    <tr>\n",
       "      <th>7</th>\n",
       "      <td>5.456466</td>\n",
       "      <td>31.337345</td>\n",
       "      <td>45340.33</td>\n",
       "      <td>55315.23</td>\n",
       "    </tr>\n",
       "    <tr>\n",
       "      <th>8</th>\n",
       "      <td>6.047530</td>\n",
       "      <td>38.142470</td>\n",
       "      <td>57849.23</td>\n",
       "      <td>42398.57</td>\n",
       "    </tr>\n",
       "    <tr>\n",
       "      <th>9</th>\n",
       "      <td>6.388070</td>\n",
       "      <td>34.427024</td>\n",
       "      <td>51031.04</td>\n",
       "      <td>56241.57</td>\n",
       "    </tr>\n",
       "    <tr>\n",
       "      <th>10</th>\n",
       "      <td>10.347349</td>\n",
       "      <td>53.892133</td>\n",
       "      <td>68657.91</td>\n",
       "      <td>3536.14</td>\n",
       "    </tr>\n",
       "    <tr>\n",
       "      <th>11</th>\n",
       "      <td>11.930398</td>\n",
       "      <td>78.403049</td>\n",
       "      <td>4151.93</td>\n",
       "      <td>137416.93</td>\n",
       "    </tr>\n",
       "    <tr>\n",
       "      <th>12</th>\n",
       "      <td>7.270209</td>\n",
       "      <td>59.869324</td>\n",
       "      <td>121837.56</td>\n",
       "      <td>158476.55</td>\n",
       "    </tr>\n",
       "    <tr>\n",
       "      <th>13</th>\n",
       "      <td>13.395919</td>\n",
       "      <td>98.760150</td>\n",
       "      <td>146725.31</td>\n",
       "      <td>125731.51</td>\n",
       "    </tr>\n",
       "    <tr>\n",
       "      <th>14</th>\n",
       "      <td>5.557712</td>\n",
       "      <td>34.948176</td>\n",
       "      <td>119287.76</td>\n",
       "      <td>21834.49</td>\n",
       "    </tr>\n",
       "    <tr>\n",
       "      <th>15</th>\n",
       "      <td>5.200122</td>\n",
       "      <td>30.706055</td>\n",
       "      <td>20335.03</td>\n",
       "      <td>39609.55</td>\n",
       "    </tr>\n",
       "    <tr>\n",
       "      <th>16</th>\n",
       "      <td>11.252870</td>\n",
       "      <td>56.041177</td>\n",
       "      <td>110552.94</td>\n",
       "      <td>204038.87</td>\n",
       "    </tr>\n",
       "    <tr>\n",
       "      <th>17</th>\n",
       "      <td>13.076785</td>\n",
       "      <td>74.199004</td>\n",
       "      <td>204237.78</td>\n",
       "      <td>15689.80</td>\n",
       "    </tr>\n",
       "    <tr>\n",
       "      <th>18</th>\n",
       "      <td>4.725095</td>\n",
       "      <td>26.251810</td>\n",
       "      <td>16939.15</td>\n",
       "      <td>48545.69</td>\n",
       "    </tr>\n",
       "    <tr>\n",
       "      <th>19</th>\n",
       "      <td>4.210727</td>\n",
       "      <td>28.043269</td>\n",
       "      <td>55498.12</td>\n",
       "      <td>16320.74</td>\n",
       "    </tr>\n",
       "    <tr>\n",
       "      <th>20</th>\n",
       "      <td>7.290971</td>\n",
       "      <td>37.191171</td>\n",
       "      <td>15983.98</td>\n",
       "      <td>53182.55</td>\n",
       "    </tr>\n",
       "    <tr>\n",
       "      <th>21</th>\n",
       "      <td>8.434821</td>\n",
       "      <td>43.753066</td>\n",
       "      <td>71758.66</td>\n",
       "      <td>30402.43</td>\n",
       "    </tr>\n",
       "    <tr>\n",
       "      <th>22</th>\n",
       "      <td>5.376225</td>\n",
       "      <td>35.161451</td>\n",
       "      <td>62988.17</td>\n",
       "      <td>47217.40</td>\n",
       "    </tr>\n",
       "    <tr>\n",
       "      <th>23</th>\n",
       "      <td>13.988913</td>\n",
       "      <td>60.820741</td>\n",
       "      <td>29637.75</td>\n",
       "      <td>6367.76</td>\n",
       "    </tr>\n",
       "    <tr>\n",
       "      <th>24</th>\n",
       "      <td>12.697456</td>\n",
       "      <td>85.231504</td>\n",
       "      <td>48759.71</td>\n",
       "      <td>329252.09</td>\n",
       "    </tr>\n",
       "    <tr>\n",
       "      <th>25</th>\n",
       "      <td>6.965175</td>\n",
       "      <td>35.450334</td>\n",
       "      <td>89736.70</td>\n",
       "      <td>332976.05</td>\n",
       "    </tr>\n",
       "    <tr>\n",
       "      <th>26</th>\n",
       "      <td>4.945223</td>\n",
       "      <td>26.144793</td>\n",
       "      <td>5577.61</td>\n",
       "      <td>234926.02</td>\n",
       "    </tr>\n",
       "    <tr>\n",
       "      <th>27</th>\n",
       "      <td>8.369585</td>\n",
       "      <td>48.408528</td>\n",
       "      <td>310035.66</td>\n",
       "      <td>151934.45</td>\n",
       "    </tr>\n",
       "    <tr>\n",
       "      <th>28</th>\n",
       "      <td>8.343509</td>\n",
       "      <td>48.171862</td>\n",
       "      <td>310718.21</td>\n",
       "      <td>314068.92</td>\n",
       "    </tr>\n",
       "    <tr>\n",
       "      <th>29</th>\n",
       "      <td>13.350027</td>\n",
       "      <td>71.893478</td>\n",
       "      <td>258284.84</td>\n",
       "      <td>61847.52</td>\n",
       "    </tr>\n",
       "    <tr>\n",
       "      <th>...</th>\n",
       "      <td>...</td>\n",
       "      <td>...</td>\n",
       "      <td>...</td>\n",
       "      <td>...</td>\n",
       "    </tr>\n",
       "    <tr>\n",
       "      <th>170</th>\n",
       "      <td>9.443932</td>\n",
       "      <td>49.407112</td>\n",
       "      <td>17232.45</td>\n",
       "      <td>19203.82</td>\n",
       "    </tr>\n",
       "    <tr>\n",
       "      <th>171</th>\n",
       "      <td>6.151964</td>\n",
       "      <td>32.698042</td>\n",
       "      <td>21340.78</td>\n",
       "      <td>25302.92</td>\n",
       "    </tr>\n",
       "    <tr>\n",
       "      <th>172</th>\n",
       "      <td>7.537069</td>\n",
       "      <td>34.888219</td>\n",
       "      <td>16617.85</td>\n",
       "      <td>18650.96</td>\n",
       "    </tr>\n",
       "    <tr>\n",
       "      <th>173</th>\n",
       "      <td>9.500445</td>\n",
       "      <td>39.507729</td>\n",
       "      <td>21711.71</td>\n",
       "      <td>14626.29</td>\n",
       "    </tr>\n",
       "    <tr>\n",
       "      <th>174</th>\n",
       "      <td>4.931543</td>\n",
       "      <td>33.811659</td>\n",
       "      <td>28128.95</td>\n",
       "      <td>46323.73</td>\n",
       "    </tr>\n",
       "    <tr>\n",
       "      <th>175</th>\n",
       "      <td>7.163689</td>\n",
       "      <td>37.428521</td>\n",
       "      <td>21803.20</td>\n",
       "      <td>535381.86</td>\n",
       "    </tr>\n",
       "    <tr>\n",
       "      <th>176</th>\n",
       "      <td>5.904447</td>\n",
       "      <td>31.568317</td>\n",
       "      <td>12517.29</td>\n",
       "      <td>812011.78</td>\n",
       "    </tr>\n",
       "    <tr>\n",
       "      <th>177</th>\n",
       "      <td>8.402413</td>\n",
       "      <td>38.935335</td>\n",
       "      <td>53988.92</td>\n",
       "      <td>206247.57</td>\n",
       "    </tr>\n",
       "    <tr>\n",
       "      <th>178</th>\n",
       "      <td>48.503269</td>\n",
       "      <td>247.730678</td>\n",
       "      <td>555707.40</td>\n",
       "      <td>6402.78</td>\n",
       "    </tr>\n",
       "    <tr>\n",
       "      <th>179</th>\n",
       "      <td>56.739180</td>\n",
       "      <td>280.869600</td>\n",
       "      <td>1082136.01</td>\n",
       "      <td>100765.67</td>\n",
       "    </tr>\n",
       "    <tr>\n",
       "      <th>180</th>\n",
       "      <td>12.840780</td>\n",
       "      <td>68.433388</td>\n",
       "      <td>192089.46</td>\n",
       "      <td>20098.61</td>\n",
       "    </tr>\n",
       "    <tr>\n",
       "      <th>181</th>\n",
       "      <td>8.002294</td>\n",
       "      <td>38.440917</td>\n",
       "      <td>5574.99</td>\n",
       "      <td>68230.36</td>\n",
       "    </tr>\n",
       "    <tr>\n",
       "      <th>182</th>\n",
       "      <td>9.753142</td>\n",
       "      <td>57.293847</td>\n",
       "      <td>80241.27</td>\n",
       "      <td>596063.00</td>\n",
       "    </tr>\n",
       "    <tr>\n",
       "      <th>183</th>\n",
       "      <td>4.147741</td>\n",
       "      <td>27.594552</td>\n",
       "      <td>27043.54</td>\n",
       "      <td>87471.43</td>\n",
       "    </tr>\n",
       "    <tr>\n",
       "      <th>184</th>\n",
       "      <td>8.196779</td>\n",
       "      <td>39.288652</td>\n",
       "      <td>61977.54</td>\n",
       "      <td>431990.70</td>\n",
       "    </tr>\n",
       "    <tr>\n",
       "      <th>185</th>\n",
       "      <td>77.203692</td>\n",
       "      <td>379.225653</td>\n",
       "      <td>977772.62</td>\n",
       "      <td>136717.57</td>\n",
       "    </tr>\n",
       "    <tr>\n",
       "      <th>186</th>\n",
       "      <td>11.804337</td>\n",
       "      <td>54.031199</td>\n",
       "      <td>41905.18</td>\n",
       "      <td>30008.81</td>\n",
       "    </tr>\n",
       "    <tr>\n",
       "      <th>187</th>\n",
       "      <td>11.705327</td>\n",
       "      <td>57.891477</td>\n",
       "      <td>87839.45</td>\n",
       "      <td>19420.34</td>\n",
       "    </tr>\n",
       "    <tr>\n",
       "      <th>188</th>\n",
       "      <td>52.800686</td>\n",
       "      <td>267.153235</td>\n",
       "      <td>445058.32</td>\n",
       "      <td>274752.60</td>\n",
       "    </tr>\n",
       "    <tr>\n",
       "      <th>189</th>\n",
       "      <td>6.882779</td>\n",
       "      <td>39.512271</td>\n",
       "      <td>127495.18</td>\n",
       "      <td>10315.35</td>\n",
       "    </tr>\n",
       "    <tr>\n",
       "      <th>190</th>\n",
       "      <td>7.686406</td>\n",
       "      <td>38.103097</td>\n",
       "      <td>23874.67</td>\n",
       "      <td>45252.42</td>\n",
       "    </tr>\n",
       "    <tr>\n",
       "      <th>191</th>\n",
       "      <td>6.833355</td>\n",
       "      <td>35.741603</td>\n",
       "      <td>21535.87</td>\n",
       "      <td>433832.28</td>\n",
       "    </tr>\n",
       "    <tr>\n",
       "      <th>192</th>\n",
       "      <td>46.556096</td>\n",
       "      <td>230.008350</td>\n",
       "      <td>276096.18</td>\n",
       "      <td>74215.43</td>\n",
       "    </tr>\n",
       "    <tr>\n",
       "      <th>193</th>\n",
       "      <td>6.172606</td>\n",
       "      <td>33.548782</td>\n",
       "      <td>8506.79</td>\n",
       "      <td>78137.29</td>\n",
       "    </tr>\n",
       "    <tr>\n",
       "      <th>194</th>\n",
       "      <td>11.118018</td>\n",
       "      <td>58.700709</td>\n",
       "      <td>49163.01</td>\n",
       "      <td>83915.72</td>\n",
       "    </tr>\n",
       "    <tr>\n",
       "      <th>195</th>\n",
       "      <td>52.675537</td>\n",
       "      <td>245.533189</td>\n",
       "      <td>434110.57</td>\n",
       "      <td>372240.72</td>\n",
       "    </tr>\n",
       "    <tr>\n",
       "      <th>196</th>\n",
       "      <td>3.794631</td>\n",
       "      <td>23.996118</td>\n",
       "      <td>73789.38</td>\n",
       "      <td>148021.90</td>\n",
       "    </tr>\n",
       "    <tr>\n",
       "      <th>197</th>\n",
       "      <td>8.611698</td>\n",
       "      <td>50.809973</td>\n",
       "      <td>88006.84</td>\n",
       "      <td>31184.18</td>\n",
       "    </tr>\n",
       "    <tr>\n",
       "      <th>198</th>\n",
       "      <td>16.697651</td>\n",
       "      <td>117.035207</td>\n",
       "      <td>117958.96</td>\n",
       "      <td>33324.36</td>\n",
       "    </tr>\n",
       "    <tr>\n",
       "      <th>199</th>\n",
       "      <td>51.275893</td>\n",
       "      <td>237.055138</td>\n",
       "      <td>407738.79</td>\n",
       "      <td>32079.13</td>\n",
       "    </tr>\n",
       "  </tbody>\n",
       "</table>\n",
       "<p>200 rows × 4 columns</p>\n",
       "</div>"
      ],
      "text/plain": [
       "     volume_sold  2015_margin  2015_q1_sales  2016_q1_sales\n",
       "0      19.420760   105.802281      337166.53      337804.05\n",
       "1       5.776510    33.082425       22351.86       21736.63\n",
       "2      17.602401   105.612494      277764.46      306942.27\n",
       "3       5.296111    28.824704       16805.11        9307.75\n",
       "4       9.156023    47.011457       54411.42       58939.90\n",
       "5       6.005122    43.877437      255939.81      332979.03\n",
       "6      15.606750    88.518973      319020.69      302592.88\n",
       "7       5.456466    31.337345       45340.33       55315.23\n",
       "8       6.047530    38.142470       57849.23       42398.57\n",
       "9       6.388070    34.427024       51031.04       56241.57\n",
       "10     10.347349    53.892133       68657.91        3536.14\n",
       "11     11.930398    78.403049        4151.93      137416.93\n",
       "12      7.270209    59.869324      121837.56      158476.55\n",
       "13     13.395919    98.760150      146725.31      125731.51\n",
       "14      5.557712    34.948176      119287.76       21834.49\n",
       "15      5.200122    30.706055       20335.03       39609.55\n",
       "16     11.252870    56.041177      110552.94      204038.87\n",
       "17     13.076785    74.199004      204237.78       15689.80\n",
       "18      4.725095    26.251810       16939.15       48545.69\n",
       "19      4.210727    28.043269       55498.12       16320.74\n",
       "20      7.290971    37.191171       15983.98       53182.55\n",
       "21      8.434821    43.753066       71758.66       30402.43\n",
       "22      5.376225    35.161451       62988.17       47217.40\n",
       "23     13.988913    60.820741       29637.75        6367.76\n",
       "24     12.697456    85.231504       48759.71      329252.09\n",
       "25      6.965175    35.450334       89736.70      332976.05\n",
       "26      4.945223    26.144793        5577.61      234926.02\n",
       "27      8.369585    48.408528      310035.66      151934.45\n",
       "28      8.343509    48.171862      310718.21      314068.92\n",
       "29     13.350027    71.893478      258284.84       61847.52\n",
       "..           ...          ...            ...            ...\n",
       "170     9.443932    49.407112       17232.45       19203.82\n",
       "171     6.151964    32.698042       21340.78       25302.92\n",
       "172     7.537069    34.888219       16617.85       18650.96\n",
       "173     9.500445    39.507729       21711.71       14626.29\n",
       "174     4.931543    33.811659       28128.95       46323.73\n",
       "175     7.163689    37.428521       21803.20      535381.86\n",
       "176     5.904447    31.568317       12517.29      812011.78\n",
       "177     8.402413    38.935335       53988.92      206247.57\n",
       "178    48.503269   247.730678      555707.40        6402.78\n",
       "179    56.739180   280.869600     1082136.01      100765.67\n",
       "180    12.840780    68.433388      192089.46       20098.61\n",
       "181     8.002294    38.440917        5574.99       68230.36\n",
       "182     9.753142    57.293847       80241.27      596063.00\n",
       "183     4.147741    27.594552       27043.54       87471.43\n",
       "184     8.196779    39.288652       61977.54      431990.70\n",
       "185    77.203692   379.225653      977772.62      136717.57\n",
       "186    11.804337    54.031199       41905.18       30008.81\n",
       "187    11.705327    57.891477       87839.45       19420.34\n",
       "188    52.800686   267.153235      445058.32      274752.60\n",
       "189     6.882779    39.512271      127495.18       10315.35\n",
       "190     7.686406    38.103097       23874.67       45252.42\n",
       "191     6.833355    35.741603       21535.87      433832.28\n",
       "192    46.556096   230.008350      276096.18       74215.43\n",
       "193     6.172606    33.548782        8506.79       78137.29\n",
       "194    11.118018    58.700709       49163.01       83915.72\n",
       "195    52.675537   245.533189      434110.57      372240.72\n",
       "196     3.794631    23.996118       73789.38      148021.90\n",
       "197     8.611698    50.809973       88006.84       31184.18\n",
       "198    16.697651   117.035207      117958.96       33324.36\n",
       "199    51.275893   237.055138      407738.79       32079.13\n",
       "\n",
       "[200 rows x 4 columns]"
      ]
     },
     "execution_count": 43,
     "metadata": {},
     "output_type": "execute_result"
    }
   ],
   "source": [
    "sales.iloc[:,1] =  sales.iloc[:,1].apply(lambda value: value + 3 )\n",
    "sales"
   ]
  },
  {
   "cell_type": "markdown",
   "metadata": {
    "slideshow": {
     "slide_type": "slide"
    }
   },
   "source": [
    "<a name=\"conclusion\"></a>\n",
    "## Conclusion (5 mins)\n",
    "So far we've used pandas to look at the head and tail of a data set. We've also taken a look at summary stats and different\n",
    "types of data types. We've selected and sliced data too. Today we added inspecting data types, df.apply, .value_counts to\n",
    "our pandas arsenal. Nice!"
   ]
  },
  {
   "cell_type": "code",
   "execution_count": 62,
   "metadata": {
    "collapsed": false
   },
   "outputs": [
    {
     "data": {
      "text/plain": [
       "[7.841363     1\n",
       " 11.086030    1\n",
       " 9.176668     1\n",
       " 7.792889     1\n",
       " 8.196779     1\n",
       " 8.824354     1\n",
       " 8.124444     1\n",
       " 7.433606     1\n",
       " 9.783937     1\n",
       " 10.849660    1\n",
       " 11.270185    1\n",
       " 11.637769    1\n",
       " 6.781266     1\n",
       " 4.147741     1\n",
       " 12.505838    1\n",
       " 7.657733     1\n",
       " 7.618174     1\n",
       " 11.252870    1\n",
       " 7.309813     1\n",
       " 9.555078     1\n",
       " 8.785867     1\n",
       " 6.882779     1\n",
       " 8.200364     1\n",
       " 46.556096    1\n",
       " 11.118018    1\n",
       " 11.331430    1\n",
       " 8.682494     1\n",
       " 9.453647     1\n",
       " 10.421713    1\n",
       " 8.560549     1\n",
       "             ..\n",
       " 16.697651    1\n",
       " 9.124182     1\n",
       " 12.826536    1\n",
       " 10.347349    1\n",
       " 11.260836    1\n",
       " 8.611698     1\n",
       " 12.129382    1\n",
       " 8.930415     1\n",
       " 8.343509     1\n",
       " 52.800686    1\n",
       " 5.904447     1\n",
       " 8.695312     1\n",
       " 9.092883     1\n",
       " 7.447040     1\n",
       " 13.581695    1\n",
       " 6.965175     1\n",
       " 4.725095     1\n",
       " 8.211490     1\n",
       " 8.790503     1\n",
       " 9.500445     1\n",
       " 5.296111     1\n",
       " 6.324497     1\n",
       " 9.753142     1\n",
       " 9.686518     1\n",
       " 12.019652    1\n",
       " 7.686406     1\n",
       " 13.076785    1\n",
       " 15.439435    1\n",
       " 5.557712     1\n",
       " 8.437252     1\n",
       " Name: volume_sold, dtype: int64, 48.715759     1\n",
       " 65.481394     1\n",
       " 58.299260     1\n",
       " 47.887044     1\n",
       " 57.598653     1\n",
       " 48.282033     1\n",
       " 47.087835     1\n",
       " 40.259220     1\n",
       " 70.940439     1\n",
       " 64.423563     1\n",
       " 28.043269     1\n",
       " 267.153235    1\n",
       " 71.893478     1\n",
       " 38.653136     1\n",
       " 56.345418     1\n",
       " 51.111647     1\n",
       " 57.872212     1\n",
       " 68.433388     1\n",
       " 45.223011     1\n",
       " 33.156300     1\n",
       " 26.144793     1\n",
       " 45.602314     1\n",
       " 49.108555     1\n",
       " 43.292393     1\n",
       " 51.530065     1\n",
       " 35.823065     1\n",
       " 32.000646     1\n",
       " 45.417852     1\n",
       " 37.405006     1\n",
       " 43.909156     1\n",
       "              ..\n",
       " 36.299432     1\n",
       " 63.491646     1\n",
       " 61.181634     1\n",
       " 31.337345     1\n",
       " 56.706360     1\n",
       " 84.464257     1\n",
       " 56.534832     1\n",
       " 45.995630     1\n",
       " 55.808956     1\n",
       " 43.877437     1\n",
       " 41.106349     1\n",
       " 49.156932     1\n",
       " 41.390666     1\n",
       " 88.518973     1\n",
       " 44.623592     1\n",
       " 35.741603     1\n",
       " 52.974879     1\n",
       " 48.408528     1\n",
       " 52.009303     1\n",
       " 47.222361     1\n",
       " 34.948176     1\n",
       " 44.732539     1\n",
       " 32.819711     1\n",
       " 55.444194     1\n",
       " 51.752970     1\n",
       " 117.035207    1\n",
       " 43.753066     1\n",
       " 58.700709     1\n",
       " 64.187977     1\n",
       " 46.760422     1\n",
       " Name: 2015_margin, dtype: int64, 192089.46    1\n",
       " 156513.07    1\n",
       " 163324.44    1\n",
       " 25575.88     1\n",
       " 21535.87     1\n",
       " 280506.28    1\n",
       " 145742.16    1\n",
       " 68077.30     1\n",
       " 88008.31     1\n",
       " 39867.38     1\n",
       " 32698.19     1\n",
       " 102794.01    1\n",
       " 133081.37    1\n",
       " 381036.91    1\n",
       " 5742.23      1\n",
       " 147242.83    1\n",
       " 208389.88    1\n",
       " 306947.29    1\n",
       " 130512.99    1\n",
       " 72185.66     1\n",
       " 157591.18    1\n",
       " 55538.11     1\n",
       " 7305.46      1\n",
       " 327334.28    1\n",
       " 110552.94    1\n",
       " 361865.13    1\n",
       " 176720.07    1\n",
       " 8458.20      1\n",
       " 407738.79    1\n",
       " 146850.63    1\n",
       "             ..\n",
       " 89736.70     1\n",
       " 167606.75    1\n",
       " 89053.08     1\n",
       " 27043.54     1\n",
       " 52054.10     1\n",
       " 49163.01     1\n",
       " 60986.22     1\n",
       " 13141.20     1\n",
       " 46509.65     1\n",
       " 5577.61      1\n",
       " 119287.76    1\n",
       " 45340.33     1\n",
       " 84998.58     1\n",
       " 332692.67    1\n",
       " 169131.81    1\n",
       " 108362.38    1\n",
       " 157981.20    1\n",
       " 19089.74     1\n",
       " 321983.24    1\n",
       " 87115.74     1\n",
       " 20335.03     1\n",
       " 247716.78    1\n",
       " 136167.32    1\n",
       " 51427.05     1\n",
       " 105046.24    1\n",
       " 286763.37    1\n",
       " 54655.98     1\n",
       " 134589.33    1\n",
       " 66097.53     1\n",
       " 29637.75     1\n",
       " Name: 2015_q1_sales, dtype: int64, 91213.98     1\n",
       " 234926.02    1\n",
       " 8041.09      1\n",
       " 78706.47     1\n",
       " 166847.54    1\n",
       " 6402.78      1\n",
       " 58332.41     1\n",
       " 343447.68    1\n",
       " 50434.54     1\n",
       " 256707.10    1\n",
       " 128500.31    1\n",
       " 156730.02    1\n",
       " 37179.58     1\n",
       " 7499.47      1\n",
       " 137697.56    1\n",
       " 218335.21    1\n",
       " 25302.92     1\n",
       " 30441.76     1\n",
       " 40160.26     1\n",
       " 4258.14      1\n",
       " 94229.41     1\n",
       " 37858.67     1\n",
       " 171119.44    1\n",
       " 31184.18     1\n",
       " 160278.07    1\n",
       " 58122.85     1\n",
       " 115591.86    1\n",
       " 20817.32     1\n",
       " 302592.88    1\n",
       " 61560.70     1\n",
       "             ..\n",
       " 433832.28    1\n",
       " 12707.72     1\n",
       " 274752.60    1\n",
       " 11367.40     1\n",
       " 24206.67     1\n",
       " 535381.86    1\n",
       " 139676.38    1\n",
       " 382790.84    1\n",
       " 47217.40     1\n",
       " 115993.15    1\n",
       " 125731.51    1\n",
       " 268226.70    1\n",
       " 6367.76      1\n",
       " 298889.32    1\n",
       " 111207.97    1\n",
       " 149791.31    1\n",
       " 33324.36     1\n",
       " 53182.55     1\n",
       " 21834.49     1\n",
       " 305851.47    1\n",
       " 94158.15     1\n",
       " 130377.49    1\n",
       " 79554.12     1\n",
       " 129489.89    1\n",
       " 332979.03    1\n",
       " 242057.36    1\n",
       " 103958.63    1\n",
       " 151934.45    1\n",
       " 22130.31     1\n",
       " 9307.75      1\n",
       " Name: 2016_q1_sales, dtype: int64]"
      ]
     },
     "execution_count": 62,
     "metadata": {},
     "output_type": "execute_result"
    }
   ],
   "source": [
    "   \n",
    "[sales[i].value_counts() for i in sales]"
   ]
  },
  {
   "cell_type": "code",
   "execution_count": null,
   "metadata": {
    "collapsed": true
   },
   "outputs": [],
   "source": []
  }
 ],
 "metadata": {
  "celltoolbar": "Slideshow",
  "kernelspec": {
   "display_name": "Python 2",
   "language": "python",
   "name": "python2"
  },
  "language_info": {
   "codemirror_mode": {
    "name": "ipython",
    "version": 2
   },
   "file_extension": ".py",
   "mimetype": "text/x-python",
   "name": "python",
   "nbconvert_exporter": "python",
   "pygments_lexer": "ipython2",
   "version": "2.7.11"
  }
 },
 "nbformat": 4,
 "nbformat_minor": 0
}

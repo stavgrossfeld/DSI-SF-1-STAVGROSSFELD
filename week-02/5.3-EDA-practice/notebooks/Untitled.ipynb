{
 "cells": [
  {
   "cell_type": "code",
   "execution_count": 2,
   "metadata": {
    "collapsed": true
   },
   "outputs": [],
   "source": [
    "import numpy as np\n",
    "import scipy.stats as stats\n",
    "import csv\n",
    "import seaborn as sns\n",
    "import pandas as pd\n",
    "\n",
    "import matplotlib.pyplot as plt\n",
    "\n",
    "%matplotlib inline"
   ]
  },
  {
   "cell_type": "code",
   "execution_count": 6,
   "metadata": {
    "collapsed": false
   },
   "outputs": [],
   "source": [
    "# First we need to fetch some data using Python requests from API\n",
    "# Read more about Python requests:\n",
    "# http://docs.python-requests.org/en/master/user/quickstart/\n",
    "\n",
    "import requests\n",
    "\n",
    "response = requests.get(\"http://api.dronestre.am/data\")\n",
    "json_data = response.json()\n",
    "drone = pd.DataFrame(json_data['strike'])"
   ]
  },
  {
   "cell_type": "code",
   "execution_count": 10,
   "metadata": {
    "collapsed": false
   },
   "outputs": [
    {
     "data": {
      "text/html": [
       "<div>\n",
       "<table border=\"1\" class=\"dataframe\">\n",
       "  <thead>\n",
       "    <tr style=\"text-align: right;\">\n",
       "      <th></th>\n",
       "      <th>_id</th>\n",
       "      <th>articles</th>\n",
       "      <th>bij_link</th>\n",
       "      <th>bij_summary_short</th>\n",
       "      <th>bureau_id</th>\n",
       "      <th>children</th>\n",
       "      <th>civilians</th>\n",
       "      <th>country</th>\n",
       "      <th>date</th>\n",
       "      <th>deaths</th>\n",
       "      <th>...</th>\n",
       "      <th>injuries</th>\n",
       "      <th>lat</th>\n",
       "      <th>location</th>\n",
       "      <th>lon</th>\n",
       "      <th>names</th>\n",
       "      <th>narrative</th>\n",
       "      <th>number</th>\n",
       "      <th>target</th>\n",
       "      <th>town</th>\n",
       "      <th>tweet_id</th>\n",
       "    </tr>\n",
       "  </thead>\n",
       "  <tbody>\n",
       "    <tr>\n",
       "      <th>616</th>\n",
       "      <td>56d9f27d395e4f60f00bca0d</td>\n",
       "      <td>[]</td>\n",
       "      <td>https://www.thebureauinvestigates.com/2016/01/...</td>\n",
       "      <td></td>\n",
       "      <td>YEM216</td>\n",
       "      <td></td>\n",
       "      <td></td>\n",
       "      <td>Yemen</td>\n",
       "      <td>2016-03-04T00:00:00.000Z</td>\n",
       "      <td>4</td>\n",
       "      <td>...</td>\n",
       "      <td></td>\n",
       "      <td></td>\n",
       "      <td>Shabwah Province</td>\n",
       "      <td></td>\n",
       "      <td>[]</td>\n",
       "      <td>Paper is all that remained. Dollars, leaflets....</td>\n",
       "      <td>617</td>\n",
       "      <td></td>\n",
       "      <td>Radhum</td>\n",
       "      <td>705788402944380929</td>\n",
       "    </tr>\n",
       "    <tr>\n",
       "      <th>617</th>\n",
       "      <td>56e74090395e4f60f00bca0e</td>\n",
       "      <td>[]</td>\n",
       "      <td>https://www.thebureauinvestigates.com/2012/02/...</td>\n",
       "      <td></td>\n",
       "      <td>SOM031</td>\n",
       "      <td></td>\n",
       "      <td></td>\n",
       "      <td>Somalia</td>\n",
       "      <td>2016-03-05T00:00:00.000Z</td>\n",
       "      <td>150</td>\n",
       "      <td>...</td>\n",
       "      <td></td>\n",
       "      <td>3.558808</td>\n",
       "      <td>Hiran</td>\n",
       "      <td>45.054424</td>\n",
       "      <td>[]</td>\n",
       "      <td>On Saturday, a U.S. drone strike killed 150 pe...</td>\n",
       "      <td>618</td>\n",
       "      <td></td>\n",
       "      <td>Raso</td>\n",
       "      <td>706906963603492865</td>\n",
       "    </tr>\n",
       "    <tr>\n",
       "      <th>618</th>\n",
       "      <td>56fd916c395e4f60f00bca0f</td>\n",
       "      <td>[]</td>\n",
       "      <td>https://www.thebureauinvestigates.com/2016/01/...</td>\n",
       "      <td></td>\n",
       "      <td>YEM218</td>\n",
       "      <td></td>\n",
       "      <td></td>\n",
       "      <td>Yemen</td>\n",
       "      <td>2016-03-26T00:00:00.000Z</td>\n",
       "      <td>8</td>\n",
       "      <td>...</td>\n",
       "      <td></td>\n",
       "      <td></td>\n",
       "      <td>Abyan Province</td>\n",
       "      <td></td>\n",
       "      <td>[]</td>\n",
       "      <td>Eight men gathered in a courtyard. Above them,...</td>\n",
       "      <td>619</td>\n",
       "      <td></td>\n",
       "      <td>Al Hudhn and Naqeel al Hayala villages</td>\n",
       "      <td>714155412644347906</td>\n",
       "    </tr>\n",
       "    <tr>\n",
       "      <th>619</th>\n",
       "      <td>570153e2395e4f60f00bca10</td>\n",
       "      <td>[]</td>\n",
       "      <td>https://www.thebureauinvestigates.com/2012/02/...</td>\n",
       "      <td></td>\n",
       "      <td>SOM032</td>\n",
       "      <td></td>\n",
       "      <td></td>\n",
       "      <td>Somalia</td>\n",
       "      <td>2016-03-31T00:00:00.000Z</td>\n",
       "      <td>3</td>\n",
       "      <td>...</td>\n",
       "      <td></td>\n",
       "      <td>0.474101</td>\n",
       "      <td>Middle Juba</td>\n",
       "      <td>42.779399</td>\n",
       "      <td>[]</td>\n",
       "      <td>In the early evening, about 20 miles from Jili...</td>\n",
       "      <td>620</td>\n",
       "      <td></td>\n",
       "      <td>Jilib</td>\n",
       "      <td>716042515355406336</td>\n",
       "    </tr>\n",
       "    <tr>\n",
       "      <th>620</th>\n",
       "      <td>570e6035395e4f60f00bca11</td>\n",
       "      <td>[]</td>\n",
       "      <td>https://www.thebureauinvestigates.com/2012/02/...</td>\n",
       "      <td></td>\n",
       "      <td>SOM037</td>\n",
       "      <td></td>\n",
       "      <td>3</td>\n",
       "      <td>Somalia</td>\n",
       "      <td>2016-04-12T00:00:00.000Z</td>\n",
       "      <td>12</td>\n",
       "      <td>...</td>\n",
       "      <td></td>\n",
       "      <td>-0.33997</td>\n",
       "      <td>Lower Juba</td>\n",
       "      <td>42.54606</td>\n",
       "      <td>[]</td>\n",
       "      <td>On Monday, and then again on Tuesday, they fle...</td>\n",
       "      <td>621</td>\n",
       "      <td></td>\n",
       "      <td>Kismayo</td>\n",
       "      <td>720077417176567808</td>\n",
       "    </tr>\n",
       "  </tbody>\n",
       "</table>\n",
       "<p>5 rows × 22 columns</p>\n",
       "</div>"
      ],
      "text/plain": [
       "                          _id articles  \\\n",
       "616  56d9f27d395e4f60f00bca0d       []   \n",
       "617  56e74090395e4f60f00bca0e       []   \n",
       "618  56fd916c395e4f60f00bca0f       []   \n",
       "619  570153e2395e4f60f00bca10       []   \n",
       "620  570e6035395e4f60f00bca11       []   \n",
       "\n",
       "                                              bij_link bij_summary_short  \\\n",
       "616  https://www.thebureauinvestigates.com/2016/01/...                     \n",
       "617  https://www.thebureauinvestigates.com/2012/02/...                     \n",
       "618  https://www.thebureauinvestigates.com/2016/01/...                     \n",
       "619  https://www.thebureauinvestigates.com/2012/02/...                     \n",
       "620  https://www.thebureauinvestigates.com/2012/02/...                     \n",
       "\n",
       "    bureau_id children civilians  country                      date deaths  \\\n",
       "616    YEM216                       Yemen  2016-03-04T00:00:00.000Z      4   \n",
       "617    SOM031                     Somalia  2016-03-05T00:00:00.000Z    150   \n",
       "618    YEM218                       Yemen  2016-03-26T00:00:00.000Z      8   \n",
       "619    SOM032                     Somalia  2016-03-31T00:00:00.000Z      3   \n",
       "620    SOM037                  3  Somalia  2016-04-12T00:00:00.000Z     12   \n",
       "\n",
       "            ...         injuries       lat          location        lon names  \\\n",
       "616         ...                             Shabwah Province               []   \n",
       "617         ...                   3.558808             Hiran  45.054424    []   \n",
       "618         ...                               Abyan Province               []   \n",
       "619         ...                   0.474101       Middle Juba  42.779399    []   \n",
       "620         ...                   -0.33997        Lower Juba   42.54606    []   \n",
       "\n",
       "                                             narrative number target  \\\n",
       "616  Paper is all that remained. Dollars, leaflets....    617          \n",
       "617  On Saturday, a U.S. drone strike killed 150 pe...    618          \n",
       "618  Eight men gathered in a courtyard. Above them,...    619          \n",
       "619  In the early evening, about 20 miles from Jili...    620          \n",
       "620  On Monday, and then again on Tuesday, they fle...    621          \n",
       "\n",
       "                                       town            tweet_id  \n",
       "616                                  Radhum  705788402944380929  \n",
       "617                                    Raso  706906963603492865  \n",
       "618  Al Hudhn and Naqeel al Hayala villages  714155412644347906  \n",
       "619                                   Jilib  716042515355406336  \n",
       "620                                 Kismayo  720077417176567808  \n",
       "\n",
       "[5 rows x 22 columns]"
      ]
     },
     "execution_count": 10,
     "metadata": {},
     "output_type": "execute_result"
    }
   ],
   "source": [
    "drone.head()\n",
    "drone.tail()"
   ]
  },
  {
   "cell_type": "code",
   "execution_count": 9,
   "metadata": {
    "collapsed": false
   },
   "outputs": [
    {
     "name": "stdout",
     "output_type": "stream",
     "text": [
      "<class 'pandas.core.frame.DataFrame'>\n",
      "RangeIndex: 621 entries, 0 to 620\n",
      "Data columns (total 22 columns):\n",
      "_id                  621 non-null object\n",
      "articles             621 non-null object\n",
      "bij_link             621 non-null object\n",
      "bij_summary_short    621 non-null object\n",
      "bureau_id            621 non-null object\n",
      "children             621 non-null object\n",
      "civilians            621 non-null object\n",
      "country              621 non-null object\n",
      "date                 621 non-null object\n",
      "deaths               621 non-null object\n",
      "deaths_max           621 non-null object\n",
      "deaths_min           621 non-null object\n",
      "injuries             621 non-null object\n",
      "lat                  621 non-null object\n",
      "location             621 non-null object\n",
      "lon                  621 non-null object\n",
      "names                621 non-null object\n",
      "narrative            621 non-null object\n",
      "number               621 non-null int64\n",
      "target               621 non-null object\n",
      "town                 621 non-null object\n",
      "tweet_id             621 non-null object\n",
      "dtypes: int64(1), object(21)\n",
      "memory usage: 106.8+ KB\n"
     ]
    }
   ],
   "source": [
    "drone.info()"
   ]
  },
  {
   "cell_type": "code",
   "execution_count": 19,
   "metadata": {
    "collapsed": false
   },
   "outputs": [
    {
     "data": {
      "text/plain": [
       "621"
      ]
     },
     "execution_count": 19,
     "metadata": {},
     "output_type": "execute_result"
    }
   ],
   "source": [
    "drone.deaths_max.count().sum()"
   ]
  },
  {
   "cell_type": "code",
   "execution_count": 32,
   "metadata": {
    "collapsed": false
   },
   "outputs": [
    {
     "name": "stdout",
     "output_type": "stream",
     "text": [
      "country\n",
      "Pakistan                       428\n",
      "Pakistan-Afghanistan Border      1\n",
      "Somalia                         19\n",
      "Yemen                          173\n",
      "dtype: int64\n"
     ]
    },
    {
     "data": {
      "text/plain": [
       "<matplotlib.axes._subplots.AxesSubplot at 0x11ab7df90>"
      ]
     },
     "execution_count": 32,
     "metadata": {},
     "output_type": "execute_result"
    },
    {
     "data": {
      "image/png": "[encoded data removed]",
      "text/plain": [
       "<matplotlib.figure.Figure at 0x1180badd0>"
      ]
     },
     "metadata": {},
     "output_type": "display_data"
    }
   ],
   "source": [
    "print drone.groupby('country').size()\n",
    "drone.groupby('country').size().plot(kind = 'bar')"
   ]
  },
  {
   "cell_type": "code",
   "execution_count": 52,
   "metadata": {
    "collapsed": false
   },
   "outputs": [
    {
     "data": {
      "text/plain": [
       "<bound method Series.unique of 0      [Qa'id Salim Sinan al-Harithi, Abu Ahmad al-Hi...\n",
       "1      [Nek Mohammad, Fakhar Zaman, Azmat Khan, Marez...\n",
       "2                    [Haitham al-Yemeni, Samiullah Khan]\n",
       "3                                                     []\n",
       "4      [Abu Hamza Rabia, Suleiman al-Moghrabi, Amer A...\n",
       "5                                                     []\n",
       "6                                                     []\n",
       "7      [Maulvi Liaqat, Mohammad Tahir (16), Maulvi Kh...\n",
       "8                                [Katoor Khan, Taj Alam]\n",
       "9                                                     []\n",
       "10                                                    []\n",
       "11                                                    []\n",
       "12                                                    []\n",
       "13                                                    []\n",
       "14                                                    []\n",
       "15                                                    []\n",
       "16                                                    []\n",
       "17                                                    []\n",
       "18                                                    []\n",
       "19                                                    []\n",
       "20                                                    []\n",
       "21                                                    []\n",
       "22                                                    []\n",
       "23                                                    []\n",
       "24                                                    []\n",
       "25                                                    []\n",
       "26                                                    []\n",
       "27                                                    []\n",
       "28                                                    []\n",
       "29                                                    []\n",
       "                             ...                        \n",
       "591                                                   []\n",
       "592                                                   []\n",
       "593                                                   []\n",
       "594                                                   []\n",
       "595                                                   []\n",
       "596                                                   []\n",
       "597                                                   []\n",
       "598                                                   []\n",
       "599                                                   []\n",
       "600                                                   []\n",
       "601                                                   []\n",
       "602                                                   []\n",
       "603                                                   []\n",
       "604                                                   []\n",
       "605                                                   []\n",
       "606                                                   []\n",
       "607                                                   []\n",
       "608                                                   []\n",
       "609                                                   []\n",
       "610                                                   []\n",
       "611                                                   []\n",
       "612                                                   []\n",
       "613                                                   []\n",
       "614                                                   []\n",
       "615                                                   []\n",
       "616                                                   []\n",
       "617                                                   []\n",
       "618                                                   []\n",
       "619                                                   []\n",
       "620                                                   []\n",
       "Name: names, dtype: object>"
      ]
     },
     "execution_count": 52,
     "metadata": {},
     "output_type": "execute_result"
    }
   ],
   "source": [
    "drone.names.unique"
   ]
  },
  {
   "cell_type": "code",
   "execution_count": 53,
   "metadata": {
    "collapsed": false
   },
   "outputs": [
    {
     "data": {
      "text/plain": [
       "0           Marib Province\n",
       "1         South Waziristan\n",
       "2         North Waziristan\n",
       "3         North Waziristan\n",
       "4         North Waziristan\n",
       "5         North Waziristan\n",
       "6            Bajaur Agency\n",
       "7            Bajaur Agency\n",
       "8         South Waziristan\n",
       "9         North Waziristan\n",
       "10        North Waziristan\n",
       "11        North Waziristan\n",
       "12          Bannu Frontier\n",
       "13        North Waziristan\n",
       "14        South Waziristan\n",
       "15        South Waziristan\n",
       "16           Bajaur Agency\n",
       "17        South Waziristan\n",
       "18        South Waziristan\n",
       "19        South Waziristan\n",
       "20        South Waziristan\n",
       "21        South Waziristan\n",
       "22        South Waziristan\n",
       "23        North Waziristan\n",
       "24        North Waziristan\n",
       "25        North Waziristan\n",
       "26        North Waziristan\n",
       "27        North Waziristan\n",
       "28        North Waziristan\n",
       "29        South Waziristan\n",
       "              ...         \n",
       "591    Hadhramaut Province\n",
       "592    Hadhramaut Province\n",
       "593       Shabwah Province\n",
       "594    Hadhramaut Province\n",
       "595                   Gedo\n",
       "596         Abyan Province\n",
       "597       North Waziristan\n",
       "598    Hadhramaut Province\n",
       "599         Marib Province\n",
       "600    Hadhramaut Province\n",
       "601    Hadhramaut Province\n",
       "602       North Waziristan\n",
       "603    Hadhramaut Province\n",
       "604       Al Jawf Province\n",
       "605         Marib Province\n",
       "606         Lower Shabelle\n",
       "607         Lower Shabelle\n",
       "608      Al Bayda Province\n",
       "609       North Waziristan\n",
       "610       Shabwah Province\n",
       "611    Hadhramaut Province\n",
       "612         Abyan Province\n",
       "613       Shabwah Province\n",
       "614          Lahj Province\n",
       "615           Lower Kurram\n",
       "616       Shabwah Province\n",
       "617                  Hiran\n",
       "618         Abyan Province\n",
       "619            Middle Juba\n",
       "620             Lower Juba\n",
       "Name: location, dtype: object"
      ]
     },
     "execution_count": 53,
     "metadata": {},
     "output_type": "execute_result"
    }
   ],
   "source": [
    "drone.location"
   ]
  },
  {
   "cell_type": "code",
   "execution_count": 62,
   "metadata": {
    "collapsed": false
   },
   "outputs": [
    {
     "name": "stdout",
     "output_type": "stream",
     "text": [
      "location\n",
      "Hiran                              1\n",
      "Orakzai Agency                     1\n",
      "Lower Kurram                       1\n",
      "Lahij and Abyan Provinces          1\n",
      "South/North Waziristan border      1\n",
      "Khyber Pakhtunkhwa                 1\n",
      "Kabul River                        1\n",
      "Orakzai/North Waziristan           1\n",
      "Dolbiyow                           1\n",
      "North/South Waziristan border      1\n",
      "Bay                                1\n",
      "Banaadir                           1\n",
      "Saada Province                     1\n",
      "Aden                               1\n",
      "Dhammar Province                   1\n",
      "Gedo                               2\n",
      "Lahj Province                      2\n",
      "Sanaa Province                     2\n",
      "Unknown                            2\n",
      "Middle Juba                        3\n",
      "Bannu Frontier                     3\n",
      "Bajaur Agency                      4\n",
      "Lower Juba                         4\n",
      "Khyber Agency                      6\n",
      "Lower Shabelle                     6\n",
      "Kurram Agency                      7\n",
      "Al Jawf Province                   8\n",
      "Marib Province                    20\n",
      "Al Bayda Province                 23\n",
      "Hadhramaut Province               32\n",
      "Shabwah Province                  38\n",
      "Abyan Province                    43\n",
      "South Waziristan                  98\n",
      "North Waziristan                 303\n",
      "dtype: int64\n"
     ]
    },
    {
     "name": "stderr",
     "output_type": "stream",
     "text": [
      "/Users/Stav/anaconda/lib/python2.7/site-packages/ipykernel/__main__.py:2: FutureWarning: order is deprecated, use sort_values(...)\n",
      "  from ipykernel import kernelapp as app\n",
      "/Users/Stav/anaconda/lib/python2.7/site-packages/ipykernel/__main__.py:3: FutureWarning: order is deprecated, use sort_values(...)\n",
      "  app.launch_new_instance()\n"
     ]
    },
    {
     "data": {
      "text/plain": [
       "<matplotlib.axes._subplots.AxesSubplot at 0x11be75e90>"
      ]
     },
     "execution_count": 62,
     "metadata": {},
     "output_type": "execute_result"
    },
    {
     "data": {
      "image/png": "[encoded data removed]",
      "text/plain": [
       "<matplotlib.figure.Figure at 0x11b57e690>"
      ]
     },
     "metadata": {},
     "output_type": "display_data"
    }
   ],
   "source": [
    "\n",
    "print drone.groupby('location').size().order()\n",
    "drone.groupby('location').size().order().plot(kind = 'bar', figsize = (12,12))"
   ]
  },
  {
   "cell_type": "code",
   "execution_count": 65,
   "metadata": {
    "collapsed": false
   },
   "outputs": [
    {
     "name": "stderr",
     "output_type": "stream",
     "text": [
      "/Users/Stav/anaconda/lib/python2.7/site-packages/ipykernel/__main__.py:1: FutureWarning: order is deprecated, use sort_values(...)\n",
      "  if __name__ == '__main__':\n",
      "/Users/Stav/anaconda/lib/python2.7/site-packages/ipykernel/__main__.py:3: FutureWarning: order is deprecated, use sort_values(...)\n",
      "  app.launch_new_instance()\n"
     ]
    },
    {
     "name": "stdout",
     "output_type": "stream",
     "text": [
      "injuries\n",
      "20           1\n",
      "27           1\n",
      "25           1\n",
      "35           1\n",
      "2-24         1\n",
      "4-7          1\n",
      "18           1\n",
      "4-8          1\n",
      "30           1\n",
      "5-30         1\n",
      "50           1\n",
      "5-11         1\n",
      "1-6          1\n",
      "Dozens       1\n",
      "0-1          1\n",
      "1-8          1\n",
      "0-4          1\n",
      "6-9          1\n",
      "0-3          1\n",
      "1-2          1\n",
      "55           1\n",
      "3-6          1\n",
      "16           2\n",
      "4-6          2\n",
      "0-2          2\n",
      "2-5          2\n",
      "Several      2\n",
      "24           2\n",
      "1-4          2\n",
      "11           2\n",
      "17           2\n",
      "Some         3\n",
      "1-3          3\n",
      "14           4\n",
      "3-4          4\n",
      "2-4          5\n",
      "15           6\n",
      "9            6\n",
      "8            7\n",
      "10           8\n",
      "12          10\n",
      "2-3         12\n",
      "0           14\n",
      "6           15\n",
      "7           15\n",
      "1           22\n",
      "5           29\n",
      "4           42\n",
      "3           60\n",
      "2           69\n",
      "           247\n",
      "dtype: int64\n"
     ]
    },
    {
     "data": {
      "text/plain": [
       "<matplotlib.axes._subplots.AxesSubplot at 0x11b02cb10>"
      ]
     },
     "execution_count": 65,
     "metadata": {},
     "output_type": "execute_result"
    },
    {
     "data": {
      "image/png": "[encoded data removed]",
      "text/plain": [
       "<matplotlib.figure.Figure at 0x11c283c50>"
      ]
     },
     "metadata": {},
     "output_type": "display_data"
    }
   ],
   "source": [
    "print drone.groupby('injuries').size().order()\n",
    "\n",
    "drone.groupby('injuries').size().order().plot(kind = 'bar', figsize = (12,12))"
   ]
  },
  {
   "cell_type": "code",
   "execution_count": 68,
   "metadata": {
    "collapsed": false
   },
   "outputs": [],
   "source": [
    "drone.date.dtype\n",
    "drone.date = pd.to_datetime(drone.date)"
   ]
  },
  {
   "cell_type": "code",
   "execution_count": 69,
   "metadata": {
    "collapsed": false
   },
   "outputs": [
    {
     "data": {
      "text/plain": [
       "dtype('<M8[ns]')"
      ]
     },
     "execution_count": 69,
     "metadata": {},
     "output_type": "execute_result"
    }
   ],
   "source": [
    "drone.date.dtype"
   ]
  },
  {
   "cell_type": "code",
   "execution_count": null,
   "metadata": {
    "collapsed": true
   },
   "outputs": [],
   "source": [
    "drone.index = drone.date['M']"
   ]
  }
 ],
 "metadata": {
  "kernelspec": {
   "display_name": "Python 2",
   "language": "python",
   "name": "python2"
  },
  "language_info": {
   "codemirror_mode": {
    "name": "ipython",
    "version": 2
   },
   "file_extension": ".py",
   "mimetype": "text/x-python",
   "name": "python",
   "nbconvert_exporter": "python",
   "pygments_lexer": "ipython2",
   "version": "2.7.11"
  }
 },
 "nbformat": 4,
 "nbformat_minor": 0
}

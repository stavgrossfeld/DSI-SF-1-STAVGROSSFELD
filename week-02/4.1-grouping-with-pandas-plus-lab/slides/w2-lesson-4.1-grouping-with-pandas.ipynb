{
 "cells": [
  {
   "cell_type": "markdown",
   "metadata": {},
   "source": [
    "<img src=\"https://ga-dash.s3.amazonaws.com/production/assets/logo-9f88ae6c9c3871690e33280fcf557f33.png\" style=\"float: left; margin: 15px;\">\n",
    "\n",
    "# Grouping with Pandas (Lesson + Lab)\n",
    "\n",
    "***\n",
    "\n",
    "Week 2 | Lesson 4.1-Alt"
   ]
  },
  {
   "cell_type": "markdown",
   "metadata": {},
   "source": [
    "### LEARNING OBJECTIVES\n",
    "*After this lesson, you will be able to:*\n",
    "- Know what situations **grouping** is useful for\n",
    "- Explain the **`.groupby()`** feature in Pandas\n",
    "- Demonstrate aggregation /w plotting methods in Pandas"
   ]
  },
  {
   "cell_type": "markdown",
   "metadata": {
    "slideshow": {
     "slide_type": "slide"
    }
   },
   "source": [
    "### LESSON GUIDE\n",
    "| TIMING  | TYPE  | TOPIC  |\n",
    "|:-:|---|---|\n",
    "| 5 min  | [Introduction](#introduction)   |   |\n",
    "| 15 min  | [Demo /Guided Practice](#demo)  | Discuss Grouping |\n",
    "| 30 min  | [Demo /Guided Practice](#demo)  | Demonstrate .groupby |\n",
    "| 20 min  | [Demo /Guided Practice](#demo)  | Plotting with groups |\n",
    "| 60+ min  | [Independent Practice](#ind-practice)  |   |\n",
    "| 10 min  | [Conclusion](#conclusion)  |   |\n"
   ]
  },
  {
   "cell_type": "markdown",
   "metadata": {
    "slideshow": {
     "slide_type": "slide"
    }
   },
   "source": [
    "<a name=\"introduction\"></a>\n",
    "## Introduction: Grouping (5 mins)"
   ]
  },
  {
   "cell_type": "markdown",
   "metadata": {
    "slideshow": {
     "slide_type": "slide"
    }
   },
   "source": [
    "## What have you used grouping for (work, reactionally)?"
   ]
  },
  {
   "cell_type": "markdown",
   "metadata": {
    "slideshow": {
     "slide_type": "slide"
    }
   },
   "source": [
    "## Generally:  Multi-Dimensional Data Analysis! \n",
    "   - Describe segments of your data based on unique values\n",
    "   - Understand latent charactaristics of your data\n",
    "       - Summary statistics of subsets\n",
    "       - Discover patterns that exist in subsets\n",
    "   - Finding duplicate values given specific variables\n",
    "   - Apply aggregate functions to subsets, based on variable aspects of our datasets\n",
    "   "
   ]
  },
  {
   "cell_type": "markdown",
   "metadata": {
    "slideshow": {
     "slide_type": "slide"
    }
   },
   "source": [
    "## Specific Examples\n",
    " - Sum of crimes given time of day in SF (morning, afternoon, night)\n",
    " - Count numer of people with the same last name\n",
    " - Median number of multi-unit buildings in a region\n",
    " - Popularity of movie genres based on ticket sales\n",
    " - Segmenting customers based on age, buying habbits, interests, behavior\n",
    " - Using the \"GROUP BY\" clause in a database query using SQL (you will learn this soon!)"
   ]
  },
  {
   "cell_type": "markdown",
   "metadata": {
    "slideshow": {
     "slide_type": "slide"
    }
   },
   "source": [
    "![](http://www.omnis.net/support/images/technews/g2msimplebargraph.jpg)"
   ]
  },
  {
   "cell_type": "markdown",
   "metadata": {
    "slideshow": {
     "slide_type": "notes"
    }
   },
   "source": [
    "_Think about what this would look like as a summary statistic like mean or sum?_"
   ]
  },
  {
   "cell_type": "markdown",
   "metadata": {},
   "source": [
    "![](http://stephanieevergreen.com/wp-content/uploads/2013/08/DivergingFinal.png)"
   ]
  },
  {
   "cell_type": "markdown",
   "metadata": {
    "slideshow": {
     "slide_type": "notes"
    }
   },
   "source": [
    "_Summary grouped by question and response category_"
   ]
  },
  {
   "cell_type": "markdown",
   "metadata": {
    "slideshow": {
     "slide_type": "slide"
    }
   },
   "source": [
    "![](http://zmjones.com/static/posts/titanic-survival-glm.png)"
   ]
  },
  {
   "cell_type": "markdown",
   "metadata": {
    "slideshow": {
     "slide_type": "slide"
    }
   },
   "source": [
    "## A slight side-trip with [Simpsons Paradox](http://vudlab.com/simpsons/)"
   ]
  },
  {
   "cell_type": "markdown",
   "metadata": {},
   "source": [
    "# Demo / Codealong - .groupby()\n",
    "\n",
    "First, a sample dataset to get us thinking about grouping on a small scale dataset."
   ]
  },
  {
   "cell_type": "code",
   "execution_count": null,
   "metadata": {
    "collapsed": false,
    "slideshow": {
     "slide_type": "fragment"
    }
   },
   "outputs": [],
   "source": [
    "import pandas as pd\n",
    "import numpy as np\n",
    "df = pd.DataFrame({'cat1':['X','X','Y','Y','Z'],\n",
    "                   'cat2':['alpha','beta','alpha','beta','alpha'],\n",
    "                   'a':np.random.randn(5),\n",
    "                   'b':np.random.randn(5)})\n",
    "df"
   ]
  },
  {
   "cell_type": "markdown",
   "metadata": {
    "slideshow": {
     "slide_type": "slide"
    }
   },
   "source": [
    "**This gives us a specific feature \"a\", grouped by cat1.** \n",
    "\n",
    "_Notice that groups don't really print anything interesting on their own._"
   ]
  },
  {
   "cell_type": "code",
   "execution_count": null,
   "metadata": {
    "collapsed": false,
    "scrolled": true,
    "slideshow": {
     "slide_type": "-"
    }
   },
   "outputs": [],
   "source": [
    "group = df['a'].groupby(df['cat1'])\n",
    "group"
   ]
  },
  {
   "cell_type": "markdown",
   "metadata": {
    "slideshow": {
     "slide_type": "slide"
    }
   },
   "source": [
    "**Groups can be operated on in aggregate.**"
   ]
  },
  {
   "cell_type": "code",
   "execution_count": null,
   "metadata": {
    "collapsed": false,
    "slideshow": {
     "slide_type": "slide"
    }
   },
   "outputs": [],
   "source": [
    "# mean\n",
    "group.mean()"
   ]
  },
  {
   "cell_type": "code",
   "execution_count": null,
   "metadata": {
    "collapsed": false,
    "slideshow": {
     "slide_type": "slide"
    }
   },
   "outputs": [],
   "source": [
    "# median\n",
    "group.median()"
   ]
  },
  {
   "cell_type": "code",
   "execution_count": null,
   "metadata": {
    "collapsed": false,
    "slideshow": {
     "slide_type": "slide"
    }
   },
   "outputs": [],
   "source": [
    "# sum\n",
    "group.sum()"
   ]
  },
  {
   "cell_type": "markdown",
   "metadata": {
    "slideshow": {
     "slide_type": "slide"
    }
   },
   "source": [
    "**We can use group keys that are series as well**\n",
    "\n",
    "For example:"
   ]
  },
  {
   "cell_type": "code",
   "execution_count": null,
   "metadata": {
    "collapsed": false,
    "slideshow": {
     "slide_type": "slide"
    }
   },
   "outputs": [],
   "source": [
    "#We'll make some arrays for use as keys\n",
    "cities = np.array(['NY','LA','LA','NY','NY'])\n",
    "month = np.array(['JAN','FEB','JAN','FEB','JAN'])\n",
    "\n",
    "#Now using the data from dataset1, group the means by city and month\n",
    "df['a'].groupby([cities,month]).mean()"
   ]
  },
  {
   "cell_type": "markdown",
   "metadata": {
    "slideshow": {
     "slide_type": "slide"
    }
   },
   "source": [
    "This is an equivelent method for doing the same thing but you will find this to be much more common when dealing with DataFrames."
   ]
  },
  {
   "cell_type": "code",
   "execution_count": null,
   "metadata": {
    "collapsed": false,
    "slideshow": {
     "slide_type": "-"
    }
   },
   "outputs": [],
   "source": [
    "# adding cites and month to our DataFrame\n",
    "df['cities'] = np.array(['NY','LA','LA','NY','NY'])\n",
    "df['month'] = np.array(['JAN','FEB','JAN','FEB','JAN'])\n",
    "df"
   ]
  },
  {
   "cell_type": "code",
   "execution_count": null,
   "metadata": {
    "collapsed": false
   },
   "outputs": [],
   "source": [
    "df.groupby(['cities', 'month']).mean()"
   ]
  },
  {
   "cell_type": "markdown",
   "metadata": {
    "slideshow": {
     "slide_type": "slide"
    }
   },
   "source": [
    "## For 1 minute:  Ask your group what would you expect to happen if you didn't specifiy a column / feature label?"
   ]
  },
  {
   "cell_type": "code",
   "execution_count": null,
   "metadata": {
    "collapsed": false,
    "slideshow": {
     "slide_type": "fragment"
    }
   },
   "outputs": [],
   "source": [
    "# It looks nicer for 1 thing!\n",
    "df.groupby(['cities', 'month']).mean()"
   ]
  },
  {
   "cell_type": "markdown",
   "metadata": {
    "slideshow": {
     "slide_type": "slide"
    }
   },
   "source": [
    "Grouping by a single variable can be done by specifying a variable key string."
   ]
  },
  {
   "cell_type": "code",
   "execution_count": null,
   "metadata": {
    "collapsed": false
   },
   "outputs": [],
   "source": [
    "df.groupby('cities').mean()"
   ]
  },
  {
   "cell_type": "code",
   "execution_count": null,
   "metadata": {
    "collapsed": false,
    "slideshow": {
     "slide_type": "slide"
    }
   },
   "outputs": [],
   "source": [
    "df.groupby('cities').count()"
   ]
  },
  {
   "cell_type": "markdown",
   "metadata": {
    "slideshow": {
     "slide_type": "slide"
    }
   },
   "source": [
    "## What's going on here!?\n",
    "\n",
    "_(visually)_"
   ]
  },
  {
   "cell_type": "markdown",
   "metadata": {
    "slideshow": {
     "slide_type": "slide"
    }
   },
   "source": [
    "![](http://www.w3resource.com/sql/sql-root-images/group-by.gif)"
   ]
  },
  {
   "cell_type": "markdown",
   "metadata": {
    "slideshow": {
     "slide_type": "slide"
    }
   },
   "source": [
    "## 5 mins discuss with your group:  How might you use this in the future?"
   ]
  },
  {
   "cell_type": "markdown",
   "metadata": {
    "slideshow": {
     "slide_type": "slide"
    }
   },
   "source": [
    "**Getting Subsets By Index**\n",
    "\n",
    "Usually, we tell a DataFrame what we want by axis, to get a series.  with groups, we can still select columns, but the way we select subsets is a little different.  We must request them with a method for example:"
   ]
  },
  {
   "cell_type": "code",
   "execution_count": null,
   "metadata": {
    "collapsed": false
   },
   "outputs": [],
   "source": [
    "# Re-init our test data\n",
    "df = pd.DataFrame({'cat1':['X','X','Y','Y','Z'],\n",
    "                   'cat2':['alpha','beta','alpha','beta','alpha'],\n",
    "                   'a':np.random.randn(5),\n",
    "                   'b':np.random.randn(5)})\n",
    "\n",
    "df['cities'] = np.array(['NY','LA','LA','NY','NY'])\n",
    "df['month'] = np.array(['JAN','FEB','JAN','FEB','JAN'])\n",
    "\n",
    "df"
   ]
  },
  {
   "cell_type": "code",
   "execution_count": null,
   "metadata": {
    "collapsed": false,
    "slideshow": {
     "slide_type": "slide"
    }
   },
   "outputs": [],
   "source": [
    "# our group by values of cat2, inside of groups by cities\n",
    "df.groupby([\"cities\", \"cat2\"]).size()"
   ]
  },
  {
   "cell_type": "code",
   "execution_count": null,
   "metadata": {
    "collapsed": false
   },
   "outputs": [],
   "source": [
    "# Fetching group subset pairs\n",
    "my_group = df.groupby([\"cities\"])\n",
    "for c in my_group.groups: \n",
    "    print c"
   ]
  },
  {
   "cell_type": "code",
   "execution_count": null,
   "metadata": {
    "collapsed": false,
    "slideshow": {
     "slide_type": "slide"
    }
   },
   "outputs": [],
   "source": [
    "# Say we want NY only from our subset\n",
    "my_group.get_group('NY')"
   ]
  },
  {
   "cell_type": "markdown",
   "metadata": {
    "slideshow": {
     "slide_type": "slide"
    }
   },
   "source": [
    "## 2-5 minutes try to do this with a partner:\n",
    "\n",
    " - Make a group object using citites and cat2\n",
    " - Select the cities subgroup \"NY\" with cat2 values \"alpha\"\n",
    " - Use get_group() on your group object, and pass a tuple with 2 values as the parameter\n",
    "   - The first tuple element is the value you are looking for in \"cities\" index\n",
    "   - The 2nd tuple element is the value you are looking for in \"cat2\""
   ]
  },
  {
   "cell_type": "code",
   "execution_count": null,
   "metadata": {
    "collapsed": false
   },
   "outputs": [],
   "source": [
    "my_group = df.groupby([\"cities\", \"cat2\"])\n",
    "my_group.get_group(('NY', 'alpha'))\n"
   ]
  },
  {
   "cell_type": "markdown",
   "metadata": {
    "slideshow": {
     "slide_type": "slide"
    }
   },
   "source": [
    "## Explain what happened to me!?"
   ]
  },
  {
   "cell_type": "markdown",
   "metadata": {
    "slideshow": {
     "slide_type": "slide"
    }
   },
   "source": [
    "More useful info about groups and selection in the [Pandas Cookbook docs](http://pandas.pydata.org/pandas-docs/stable/cookbook.html)"
   ]
  },
  {
   "cell_type": "markdown",
   "metadata": {
    "slideshow": {
     "slide_type": "slide"
    }
   },
   "source": [
    "A quick note about two popular aggregates that seem the same, but are not!\n",
    "\n",
    ".count() vs .size()"
   ]
  },
  {
   "cell_type": "code",
   "execution_count": null,
   "metadata": {
    "collapsed": false,
    "slideshow": {
     "slide_type": "slide"
    }
   },
   "outputs": [],
   "source": [
    "# Gives us counts of record rows repeated over variable columns\n",
    "df.groupby('cities').count()"
   ]
  },
  {
   "cell_type": "code",
   "execution_count": null,
   "metadata": {
    "collapsed": false,
    "slideshow": {
     "slide_type": "slide"
    }
   },
   "outputs": [],
   "source": [
    "# .size gives us counts as series, not repeated values over column variables\n",
    "df.groupby('cities').size()"
   ]
  },
  {
   "cell_type": "markdown",
   "metadata": {},
   "source": [
    "With a Pandas **group object**, .count(), .size(), .sum(), .mean(), .std() are some very common ways to apply calcuation operations in aggregate to subsets of your data.\n",
    "\n",
    "[Pandas .groupby docs](http://pandas.pydata.org/pandas-docs/version/0.15.2/groupby.html)\n"
   ]
  },
  {
   "cell_type": "code",
   "execution_count": null,
   "metadata": {
    "collapsed": false,
    "slideshow": {
     "slide_type": "slide"
    }
   },
   "outputs": [],
   "source": [
    "# Other group by methods include -- \n",
    "# sorry was too pressed for time to manually format this list\n",
    "\n",
    "groupby_list = \"\"\"\n",
    "gb.filter  gb.get_group  gb.height  gb.last gb.median gb.ngroups    gb.plot       gb.rank       gb.std        gb.transform\n",
    "gb.aggregate  gb.count      gb.cumprod    gb.dtype      gb.first      gb.groups     gb.hist       gb.max        gb.min        gb.nth        gb.prod       gb.resample   gb.sum        gb.var\n",
    "gb.apply      gb.cummax     gb.cumsum     gb.fillna     gb.gender     gb.head       gb.indices    gb.mean       gb.name       gb.ohlc       gb.quantile   gb.size       gb.tail       gb.weight\n",
    "\"\"\"\n",
    "\n",
    "cleaned_list = map(lambda item: item.replace(\"gb\", \"\").strip(), groupby_list.split(\".\")[1:])\n",
    "pd.DataFrame(cleaned_list, columns=[\".groupby() aggregate functions\"])"
   ]
  },
  {
   "cell_type": "markdown",
   "metadata": {
    "slideshow": {
     "slide_type": "slide"
    }
   },
   "source": [
    "## 10 Minute Break!"
   ]
  },
  {
   "cell_type": "markdown",
   "metadata": {
    "slideshow": {
     "slide_type": "slide"
    }
   },
   "source": [
    "# (basic) Plotting with Groups\n"
   ]
  },
  {
   "cell_type": "code",
   "execution_count": null,
   "metadata": {
    "collapsed": false
   },
   "outputs": [],
   "source": [
    "# This is a reminder of what our dataframe looks like\n",
    "df"
   ]
  },
  {
   "cell_type": "code",
   "execution_count": null,
   "metadata": {
    "collapsed": false,
    "slideshow": {
     "slide_type": "slide"
    }
   },
   "outputs": [],
   "source": [
    "# We want to see the count of alpha + beta values, given cities\n",
    "df.groupby(\"cities\")['cat2'].count()"
   ]
  },
  {
   "cell_type": "code",
   "execution_count": null,
   "metadata": {
    "collapsed": false,
    "scrolled": true
   },
   "outputs": [],
   "source": [
    "df.groupby(\"cities\")['cat2'].count().plot(kind=\"bar\")"
   ]
  },
  {
   "cell_type": "markdown",
   "metadata": {
    "slideshow": {
     "slide_type": "slide"
    }
   },
   "source": [
    "## Show of hands -- who remembers how to groupby with more than one variable?"
   ]
  },
  {
   "cell_type": "code",
   "execution_count": null,
   "metadata": {
    "collapsed": false,
    "slideshow": {
     "slide_type": "fragment"
    }
   },
   "outputs": [],
   "source": [
    "df.groupby([\"cities\",\"cat2\"]).size().plot(kind=\"bar\")"
   ]
  },
  {
   "cell_type": "code",
   "execution_count": null,
   "metadata": {
    "collapsed": false,
    "slideshow": {
     "slide_type": "slide"
    }
   },
   "outputs": [],
   "source": [
    "# Unstack will pull-apart group values for easy display\n",
    "df.groupby([\"cities\",\"cat2\"]).size().unstack().plot(kind=\"bar\")"
   ]
  },
  {
   "cell_type": "code",
   "execution_count": null,
   "metadata": {
    "collapsed": false,
    "slideshow": {
     "slide_type": "slide"
    }
   },
   "outputs": [],
   "source": [
    "# Stacking isn't a bad choice for fewer categories but can look cluttery with lots of categories\n",
    "df.groupby([\"cities\",\"cat2\"]).size().unstack().plot(kind=\"bar\", stacked=True)"
   ]
  },
  {
   "cell_type": "markdown",
   "metadata": {
    "slideshow": {
     "slide_type": "slide"
    }
   },
   "source": [
    "Bar charts are great for displaying quanitites with groups and understanding qantity / size within subsets.  This is only an \"introduction\".  There are many ways to plot things."
   ]
  },
  {
   "cell_type": "code",
   "execution_count": null,
   "metadata": {
    "collapsed": false
   },
   "outputs": [],
   "source": [
    "import matplotlib.pyplot as plt\n",
    "\n",
    "classes = [\"class 1\"] * 5 + [\"class 2\"] * 5\n",
    "vals = [1,3,5,1,3] + [2,6,7,5,2]\n",
    "p_df = pd.DataFrame({\"class\": classes, \"vals\": vals})\n",
    "\n",
    "fig, ax = plt.subplots(figsize=(8,6))\n",
    "for label, df in p_df.groupby('class'):\n",
    "    df.vals.plot(kind=\"kde\", ax=ax, label=label)\n",
    "plt.legend()"
   ]
  },
  {
   "cell_type": "code",
   "execution_count": null,
   "metadata": {
    "collapsed": false
   },
   "outputs": [],
   "source": [
    "# This could be labled better but notice we can also plot negative values\n",
    "df.groupby(\"cities\").plot(kind=\"barh\")"
   ]
  },
  {
   "cell_type": "code",
   "execution_count": null,
   "metadata": {
    "collapsed": false
   },
   "outputs": [],
   "source": [
    "# Here's a plot I made with mysterious code!"
   ]
  },
  {
   "cell_type": "markdown",
   "metadata": {},
   "source": [
    "## Group Exercize (~80mins-ish)\n",
    "\n",
    "We are going to investigate the nuances of UFO sightings around the US.  By now you should be able to perform groupby operations in multiple dimensions and investigate the relationships between subsets of datasets with basic aggregation.\n",
    "\n",
    "_Protip, to turn off slide type headers from every dataframe, go to \"View\" and select \"None\" from \"Cell Toolbar\"_"
   ]
  },
  {
   "cell_type": "code",
   "execution_count": 3,
   "metadata": {
    "collapsed": false
   },
   "outputs": [],
   "source": [
    "import pandas as pd, numpy as np, seaborn as sns\n",
    "\n",
    "%matplotlib inline"
   ]
  },
  {
   "cell_type": "code",
   "execution_count": 4,
   "metadata": {
    "collapsed": false
   },
   "outputs": [
    {
     "data": {
      "text/html": [
       "<div>\n",
       "<table border=\"1\" class=\"dataframe\">\n",
       "  <thead>\n",
       "    <tr style=\"text-align: right;\">\n",
       "      <th></th>\n",
       "      <th>City</th>\n",
       "      <th>Colors Reported</th>\n",
       "      <th>Shape Reported</th>\n",
       "      <th>State</th>\n",
       "      <th>Time</th>\n",
       "    </tr>\n",
       "  </thead>\n",
       "  <tbody>\n",
       "    <tr>\n",
       "      <th>0</th>\n",
       "      <td>Ithaca</td>\n",
       "      <td>NaN</td>\n",
       "      <td>TRIANGLE</td>\n",
       "      <td>NY</td>\n",
       "      <td>6/1/1930 22:00</td>\n",
       "    </tr>\n",
       "    <tr>\n",
       "      <th>1</th>\n",
       "      <td>Willingboro</td>\n",
       "      <td>NaN</td>\n",
       "      <td>OTHER</td>\n",
       "      <td>NJ</td>\n",
       "      <td>6/30/1930 20:00</td>\n",
       "    </tr>\n",
       "    <tr>\n",
       "      <th>2</th>\n",
       "      <td>Holyoke</td>\n",
       "      <td>NaN</td>\n",
       "      <td>OVAL</td>\n",
       "      <td>CO</td>\n",
       "      <td>2/15/1931 14:00</td>\n",
       "    </tr>\n",
       "    <tr>\n",
       "      <th>3</th>\n",
       "      <td>Abilene</td>\n",
       "      <td>NaN</td>\n",
       "      <td>DISK</td>\n",
       "      <td>KS</td>\n",
       "      <td>6/1/1931 13:00</td>\n",
       "    </tr>\n",
       "    <tr>\n",
       "      <th>4</th>\n",
       "      <td>New York Worlds Fair</td>\n",
       "      <td>NaN</td>\n",
       "      <td>LIGHT</td>\n",
       "      <td>NY</td>\n",
       "      <td>4/18/1933 19:00</td>\n",
       "    </tr>\n",
       "  </tbody>\n",
       "</table>\n",
       "</div>"
      ],
      "text/plain": [
       "                   City Colors Reported Shape Reported State             Time\n",
       "0                Ithaca             NaN       TRIANGLE    NY   6/1/1930 22:00\n",
       "1           Willingboro             NaN          OTHER    NJ  6/30/1930 20:00\n",
       "2               Holyoke             NaN           OVAL    CO  2/15/1931 14:00\n",
       "3               Abilene             NaN           DISK    KS   6/1/1931 13:00\n",
       "4  New York Worlds Fair             NaN          LIGHT    NY  4/18/1933 19:00"
      ]
     },
     "execution_count": 4,
     "metadata": {},
     "output_type": "execute_result"
    }
   ],
   "source": [
    "# Load the UFO dataset!\n",
    "# Did you know you can load csv over HTTP?  It's not ideal, but it can be done!\n",
    "ufo = pd.read_csv('https://raw.githubusercontent.com/sinanuozdemir/SF_DAT_17/master/data/ufo.csv')\n",
    "ufo.head()"
   ]
  },
  {
   "cell_type": "markdown",
   "metadata": {},
   "source": [
    "### 1. How many non-null values exist per each variable?\n",
    "\n",
    "The first thing that is important to know is how complete our dataset is and how uniform are the values."
   ]
  },
  {
   "cell_type": "code",
   "execution_count": 97,
   "metadata": {
    "collapsed": false
   },
   "outputs": [
    {
     "name": "stdout",
     "output_type": "stream",
     "text": [
      "<class 'pandas.core.frame.DataFrame'>\n",
      "RangeIndex: 80543 entries, 0 to 80542\n",
      "Data columns (total 5 columns):\n",
      "City               80496 non-null object\n",
      "Colors Reported    17034 non-null object\n",
      "Shape Reported     72141 non-null object\n",
      "State              80543 non-null object\n",
      "Time               80543 non-null object\n",
      "dtypes: object(5)\n",
      "memory usage: 3.1+ MB\n"
     ]
    }
   ],
   "source": [
    "# Solution here\n",
    "ufo.info()"
   ]
  },
  {
   "cell_type": "markdown",
   "metadata": {},
   "source": [
    "### 2. What is the breakdown of dtypes in our dataframe?"
   ]
  },
  {
   "cell_type": "code",
   "execution_count": 149,
   "metadata": {
    "collapsed": false
   },
   "outputs": [
    {
     "data": {
      "text/plain": [
       "City               object\n",
       "Colors Reported    object\n",
       "Shape Reported     object\n",
       "State              object\n",
       "Time               object\n",
       "dtype: object"
      ]
     },
     "execution_count": 149,
     "metadata": {},
     "output_type": "execute_result"
    }
   ],
   "source": [
    "# Solution here\n",
    "ufo.dtypes"
   ]
  },
  {
   "cell_type": "markdown",
   "metadata": {},
   "source": [
    "### 3. Provide a \"Data Dictionary\" that describes these features:\n",
    "\n",
    " - Variable / feature name\n",
    " - Brief description of what variable appears to represent\n",
    " - Expected dtype(s)\n",
    " - Number of unique values observed if categorical and < 20 unqiue \n",
    "\n",
    "_Please use \"Markdown\" tables to provide this info.  It's a good idea to get familliar with using markdown format when communicating your results.  Here's a primer on [markdown tables](https://github.com/adam-p/markdown-here/wiki/Markdown-Cheatsheet#tables).  No groaning allowed!_"
   ]
  },
  {
   "cell_type": "markdown",
   "metadata": {
    "collapsed": true
   },
   "source": [
    "## Change this cell to a \"markdown\" type cell\n",
    "| City          | Colors reported | Shape Reported |State          |Time   \n",
    "| ------------- |:---------------:|:--------------:|:-------------:|\n",
    "| City UFO sited| Color of UFO    | Shape Seen     |State reported |Time\n"
   ]
  },
  {
   "cell_type": "markdown",
   "metadata": {},
   "source": [
    "### 3. Which colors are most commonly reported?\n",
    "Provide a breakdown of colors by count."
   ]
  },
  {
   "cell_type": "code",
   "execution_count": 151,
   "metadata": {
    "collapsed": false
   },
   "outputs": [
    {
     "data": {
      "text/plain": [
       "ORANGE            5216\n",
       "RED               4809\n",
       "GREEN             1897\n",
       "BLUE              1855\n",
       "YELLOW             842\n",
       "RED ORANGE         486\n",
       "RED GREEN          469\n",
       "RED BLUE           445\n",
       "RED GREEN BLUE     166\n",
       "GREEN BLUE         147\n",
       "Name: Colors Reported, dtype: int64"
      ]
     },
     "execution_count": 151,
     "metadata": {},
     "output_type": "execute_result"
    }
   ],
   "source": [
    "ufo['Colors Reported'].value_counts()[0:10]"
   ]
  },
  {
   "cell_type": "markdown",
   "metadata": {},
   "source": [
    "### 4. Which shapes are most commonly reported?"
   ]
  },
  {
   "cell_type": "code",
   "execution_count": 160,
   "metadata": {
    "collapsed": false
   },
   "outputs": [
    {
     "data": {
      "text/plain": [
       "LIGHT        16332\n",
       "TRIANGLE      7816\n",
       "CIRCLE        7725\n",
       "FIREBALL      6249\n",
       "OTHER         5506\n",
       "SPHERE        5231\n",
       "DISK          5226\n",
       "OVAL          3721\n",
       "FORMATION     2405\n",
       "CIGAR         1983\n",
       "Name: Shape Reported, dtype: int64"
      ]
     },
     "execution_count": 160,
     "metadata": {},
     "output_type": "execute_result"
    }
   ],
   "source": [
    "ufo['Shape Reported'].value_counts()[0:10]"
   ]
  },
  {
   "cell_type": "markdown",
   "metadata": {},
   "source": [
    "### 5. Are there any shapes that take on some colors more than others?\n",
    "_* Warning: Use of broad langauge._"
   ]
  },
  {
   "cell_type": "code",
   "execution_count": 164,
   "metadata": {
    "collapsed": false
   },
   "outputs": [
    {
     "name": "stderr",
     "output_type": "stream",
     "text": [
      "/Users/Stav/anaconda/lib/python2.7/site-packages/ipykernel/__main__.py:1: FutureWarning: order is deprecated, use sort_values(...)\n",
      "  if __name__ == '__main__':\n"
     ]
    },
    {
     "data": {
      "text/plain": [
       "Shape Reported  Colors Reported         \n",
       "LIGHT           RED                         1188\n",
       "                ORANGE                      1122\n",
       "FIREBALL        ORANGE                       884\n",
       "CIRCLE          ORANGE                       796\n",
       "SPHERE          ORANGE                       569\n",
       "TRIANGLE        RED                          561\n",
       "CIRCLE          RED                          548\n",
       "LIGHT           BLUE                         403\n",
       "                GREEN                        378\n",
       "FIREBALL        RED                          377\n",
       "                GREEN                        353\n",
       "SPHERE          RED                          335\n",
       "TRIANGLE        ORANGE                       299\n",
       "OVAL            ORANGE                       236\n",
       "OTHER           RED                          233\n",
       "LIGHT           YELLOW                       208\n",
       "FORMATION       RED                          207\n",
       "                ORANGE                       206\n",
       "OTHER           ORANGE                       199\n",
       "CIRCLE          BLUE                         194\n",
       "OVAL            RED                          191\n",
       "DISK            RED                          187\n",
       "CIRCLE          GREEN                        182\n",
       "SPHERE          BLUE                         148\n",
       "                GREEN                        144\n",
       "FIREBALL        BLUE                         142\n",
       "DISK            ORANGE                       122\n",
       "TRIANGLE        BLUE                         120\n",
       "OTHER           BLUE                         116\n",
       "                GREEN                        116\n",
       "                                            ... \n",
       "EGG             ORANGE BLUE                    1\n",
       "DISK            YELLOW GREEN                   1\n",
       "FLASH           RED YELLOW GREEN BLUE          1\n",
       "                YELLOW GREEN                   1\n",
       "CYLINDER        RED YELLOW GREEN               1\n",
       "                RED YELLOW BLUE                1\n",
       "CONE            ORANGE YELLOW                  1\n",
       "OVAL            RED ORANGE GREEN               1\n",
       "                RED ORANGE BLUE                1\n",
       "CONE            RED ORANGE                     1\n",
       "CRESCENT        ORANGE                         1\n",
       "OTHER           RED YELLOW GREEN               1\n",
       "                RED ORANGE YELLOW GREEN        1\n",
       "CROSS           ORANGE YELLOW                  1\n",
       "OTHER           RED ORANGE GREEN BLUE          1\n",
       "                ORANGE YELLOW GREEN            1\n",
       "CROSS           RED ORANGE                     1\n",
       "                YELLOW BLUE                    1\n",
       "LIGHT           RED ORANGE YELLOW GREEN        1\n",
       "                ORANGE YELLOW GREEN BLUE       1\n",
       "                ORANGE YELLOW GREEN            1\n",
       "                ORANGE YELLOW BLUE             1\n",
       "CYLINDER        ORANGE BLUE                    1\n",
       "HEXAGON         RED GREEN                      1\n",
       "FORMATION       RED YELLOW GREEN               1\n",
       "                RED YELLOW BLUE                1\n",
       "                RED ORANGE YELLOW              1\n",
       "                RED ORANGE BLUE                1\n",
       "                ORANGE BLUE                    1\n",
       "VARIOUS         YELLOW GREEN                   1\n",
       "dtype: int64"
      ]
     },
     "execution_count": 164,
     "metadata": {},
     "output_type": "execute_result"
    }
   ],
   "source": [
    "ufo.groupby(['Shape Reported','Colors Reported']).size().order(ascending = False)"
   ]
  },
  {
   "cell_type": "markdown",
   "metadata": {},
   "source": [
    "### 6. Display only the group for \"CIGAR\" using a bit mask.. \n",
    "Go ahead try it out."
   ]
  },
  {
   "cell_type": "code",
   "execution_count": 167,
   "metadata": {
    "collapsed": false
   },
   "outputs": [],
   "source": [
    "#ufo[ufo['Shape Reported'] == 'CIGAR']"
   ]
  },
  {
   "cell_type": "markdown",
   "metadata": {},
   "source": [
    "### 7. Return only the group for \"VARIOUS\" without using a bit mask..\n",
    "It can be done and we're not just making this up!"
   ]
  },
  {
   "cell_type": "code",
   "execution_count": 103,
   "metadata": {
    "collapsed": false
   },
   "outputs": [
    {
     "data": {
      "text/html": [
       "<div>\n",
       "<table border=\"1\" class=\"dataframe\">\n",
       "  <thead>\n",
       "    <tr style=\"text-align: right;\">\n",
       "      <th></th>\n",
       "      <th>City</th>\n",
       "      <th>Colors Reported</th>\n",
       "      <th>Shape Reported</th>\n",
       "      <th>State</th>\n",
       "      <th>Time</th>\n",
       "    </tr>\n",
       "  </thead>\n",
       "  <tbody>\n",
       "    <tr>\n",
       "      <th>292</th>\n",
       "      <td>Morroco</td>\n",
       "      <td>NaN</td>\n",
       "      <td>VARIOUS</td>\n",
       "      <td>IN</td>\n",
       "      <td>7/12/1954 17:30</td>\n",
       "    </tr>\n",
       "    <tr>\n",
       "      <th>599</th>\n",
       "      <td>Silverfdale</td>\n",
       "      <td>NaN</td>\n",
       "      <td>VARIOUS</td>\n",
       "      <td>WA</td>\n",
       "      <td>6/1/1960 22:00</td>\n",
       "    </tr>\n",
       "    <tr>\n",
       "      <th>656</th>\n",
       "      <td>Parris Island</td>\n",
       "      <td>NaN</td>\n",
       "      <td>VARIOUS</td>\n",
       "      <td>SC</td>\n",
       "      <td>5/15/1961 4:00</td>\n",
       "    </tr>\n",
       "    <tr>\n",
       "      <th>707</th>\n",
       "      <td>Pittsburg</td>\n",
       "      <td>RED</td>\n",
       "      <td>VARIOUS</td>\n",
       "      <td>OK</td>\n",
       "      <td>5/15/1962 21:30</td>\n",
       "    </tr>\n",
       "    <tr>\n",
       "      <th>736</th>\n",
       "      <td>Avon-by-the-Sea</td>\n",
       "      <td>ORANGE</td>\n",
       "      <td>VARIOUS</td>\n",
       "      <td>NJ</td>\n",
       "      <td>7/15/1962 2:00</td>\n",
       "    </tr>\n",
       "    <tr>\n",
       "      <th>784</th>\n",
       "      <td>Tishimingo</td>\n",
       "      <td>NaN</td>\n",
       "      <td>VARIOUS</td>\n",
       "      <td>OK</td>\n",
       "      <td>5/15/1963 22:00</td>\n",
       "    </tr>\n",
       "    <tr>\n",
       "      <th>895</th>\n",
       "      <td>Atlanta</td>\n",
       "      <td>NaN</td>\n",
       "      <td>VARIOUS</td>\n",
       "      <td>GA</td>\n",
       "      <td>6/29/1964 21:50</td>\n",
       "    </tr>\n",
       "    <tr>\n",
       "      <th>1040</th>\n",
       "      <td>Waterford</td>\n",
       "      <td>NaN</td>\n",
       "      <td>VARIOUS</td>\n",
       "      <td>MI</td>\n",
       "      <td>7/6/1965 23:00</td>\n",
       "    </tr>\n",
       "    <tr>\n",
       "      <th>1077</th>\n",
       "      <td>Minneapolis</td>\n",
       "      <td>NaN</td>\n",
       "      <td>VARIOUS</td>\n",
       "      <td>MN</td>\n",
       "      <td>8/8/1965 23:10</td>\n",
       "    </tr>\n",
       "    <tr>\n",
       "      <th>1103</th>\n",
       "      <td>Great Bend</td>\n",
       "      <td>NaN</td>\n",
       "      <td>VARIOUS</td>\n",
       "      <td>KS</td>\n",
       "      <td>9/15/1965 22:00</td>\n",
       "    </tr>\n",
       "    <tr>\n",
       "      <th>1399</th>\n",
       "      <td>Shofield Barracks-Civilian</td>\n",
       "      <td>NaN</td>\n",
       "      <td>VARIOUS</td>\n",
       "      <td>HI</td>\n",
       "      <td>6/1/1967 0:00</td>\n",
       "    </tr>\n",
       "    <tr>\n",
       "      <th>1495</th>\n",
       "      <td>Camden</td>\n",
       "      <td>NaN</td>\n",
       "      <td>VARIOUS</td>\n",
       "      <td>NJ</td>\n",
       "      <td>8/16/1967 16:30</td>\n",
       "    </tr>\n",
       "    <tr>\n",
       "      <th>1606</th>\n",
       "      <td>Renton</td>\n",
       "      <td>ORANGE</td>\n",
       "      <td>VARIOUS</td>\n",
       "      <td>WA</td>\n",
       "      <td>6/1/1968 22:00</td>\n",
       "    </tr>\n",
       "    <tr>\n",
       "      <th>1680</th>\n",
       "      <td>Bena</td>\n",
       "      <td>NaN</td>\n",
       "      <td>VARIOUS</td>\n",
       "      <td>VA</td>\n",
       "      <td>7/15/1968 0:50</td>\n",
       "    </tr>\n",
       "    <tr>\n",
       "      <th>1720</th>\n",
       "      <td>Kansas Ciy</td>\n",
       "      <td>RED</td>\n",
       "      <td>VARIOUS</td>\n",
       "      <td>KS</td>\n",
       "      <td>8/16/1968 3:00</td>\n",
       "    </tr>\n",
       "    <tr>\n",
       "      <th>1901</th>\n",
       "      <td>Miami</td>\n",
       "      <td>NaN</td>\n",
       "      <td>VARIOUS</td>\n",
       "      <td>FL</td>\n",
       "      <td>10/15/1969 19:00</td>\n",
       "    </tr>\n",
       "    <tr>\n",
       "      <th>1948</th>\n",
       "      <td>New York City</td>\n",
       "      <td>NaN</td>\n",
       "      <td>VARIOUS</td>\n",
       "      <td>NY</td>\n",
       "      <td>5/5/1970 19:00</td>\n",
       "    </tr>\n",
       "    <tr>\n",
       "      <th>2066</th>\n",
       "      <td>Deltona</td>\n",
       "      <td>NaN</td>\n",
       "      <td>VARIOUS</td>\n",
       "      <td>FL</td>\n",
       "      <td>2/15/1971 21:00</td>\n",
       "    </tr>\n",
       "    <tr>\n",
       "      <th>2438</th>\n",
       "      <td>Stockton</td>\n",
       "      <td>NaN</td>\n",
       "      <td>VARIOUS</td>\n",
       "      <td>CA</td>\n",
       "      <td>7/5/1973 20:00</td>\n",
       "    </tr>\n",
       "    <tr>\n",
       "      <th>2543</th>\n",
       "      <td>Jacksonville Beach</td>\n",
       "      <td>NaN</td>\n",
       "      <td>VARIOUS</td>\n",
       "      <td>FL</td>\n",
       "      <td>10/24/1973 0:00</td>\n",
       "    </tr>\n",
       "    <tr>\n",
       "      <th>2583</th>\n",
       "      <td>Aurora</td>\n",
       "      <td>NaN</td>\n",
       "      <td>VARIOUS</td>\n",
       "      <td>CO</td>\n",
       "      <td>4/1/1974 7:30</td>\n",
       "    </tr>\n",
       "    <tr>\n",
       "      <th>2811</th>\n",
       "      <td>Aiken</td>\n",
       "      <td>RED GREEN</td>\n",
       "      <td>VARIOUS</td>\n",
       "      <td>SC</td>\n",
       "      <td>11/15/1974 21:00</td>\n",
       "    </tr>\n",
       "    <tr>\n",
       "      <th>2889</th>\n",
       "      <td>Milwaukee</td>\n",
       "      <td>NaN</td>\n",
       "      <td>VARIOUS</td>\n",
       "      <td>WI</td>\n",
       "      <td>6/1/1975 15:00</td>\n",
       "    </tr>\n",
       "    <tr>\n",
       "      <th>3076</th>\n",
       "      <td>Maricopa</td>\n",
       "      <td>ORANGE</td>\n",
       "      <td>VARIOUS</td>\n",
       "      <td>AZ</td>\n",
       "      <td>10/1/1975 22:00</td>\n",
       "    </tr>\n",
       "    <tr>\n",
       "      <th>3083</th>\n",
       "      <td>Killeen</td>\n",
       "      <td>NaN</td>\n",
       "      <td>VARIOUS</td>\n",
       "      <td>TX</td>\n",
       "      <td>10/15/1975 6:30</td>\n",
       "    </tr>\n",
       "    <tr>\n",
       "      <th>3144</th>\n",
       "      <td>Thousand Oaks</td>\n",
       "      <td>NaN</td>\n",
       "      <td>VARIOUS</td>\n",
       "      <td>CA</td>\n",
       "      <td>1/15/1976 20:00</td>\n",
       "    </tr>\n",
       "    <tr>\n",
       "      <th>3163</th>\n",
       "      <td>Dayton</td>\n",
       "      <td>NaN</td>\n",
       "      <td>VARIOUS</td>\n",
       "      <td>OH</td>\n",
       "      <td>4/20/1976 13:30</td>\n",
       "    </tr>\n",
       "    <tr>\n",
       "      <th>3174</th>\n",
       "      <td>Hydes</td>\n",
       "      <td>NaN</td>\n",
       "      <td>VARIOUS</td>\n",
       "      <td>MD</td>\n",
       "      <td>5/15/1976 19:00</td>\n",
       "    </tr>\n",
       "    <tr>\n",
       "      <th>3214</th>\n",
       "      <td>Gresham</td>\n",
       "      <td>NaN</td>\n",
       "      <td>VARIOUS</td>\n",
       "      <td>OR</td>\n",
       "      <td>6/1/1976 22:00</td>\n",
       "    </tr>\n",
       "    <tr>\n",
       "      <th>3352</th>\n",
       "      <td>Tierra Verde</td>\n",
       "      <td>NaN</td>\n",
       "      <td>VARIOUS</td>\n",
       "      <td>FL</td>\n",
       "      <td>8/15/1976 23:00</td>\n",
       "    </tr>\n",
       "    <tr>\n",
       "      <th>...</th>\n",
       "      <td>...</td>\n",
       "      <td>...</td>\n",
       "      <td>...</td>\n",
       "      <td>...</td>\n",
       "      <td>...</td>\n",
       "    </tr>\n",
       "    <tr>\n",
       "      <th>78704</th>\n",
       "      <td>Bucyrus</td>\n",
       "      <td>NaN</td>\n",
       "      <td>VARIOUS</td>\n",
       "      <td>OH</td>\n",
       "      <td>7/3/2014 20:41</td>\n",
       "    </tr>\n",
       "    <tr>\n",
       "      <th>78724</th>\n",
       "      <td>Burien</td>\n",
       "      <td>ORANGE</td>\n",
       "      <td>VARIOUS</td>\n",
       "      <td>WA</td>\n",
       "      <td>7/3/2014 22:27</td>\n",
       "    </tr>\n",
       "    <tr>\n",
       "      <th>78885</th>\n",
       "      <td>Seattle</td>\n",
       "      <td>ORANGE</td>\n",
       "      <td>VARIOUS</td>\n",
       "      <td>WA</td>\n",
       "      <td>7/4/2014 22:00</td>\n",
       "    </tr>\n",
       "    <tr>\n",
       "      <th>78888</th>\n",
       "      <td>Troy</td>\n",
       "      <td>NaN</td>\n",
       "      <td>VARIOUS</td>\n",
       "      <td>OH</td>\n",
       "      <td>7/4/2014 22:00</td>\n",
       "    </tr>\n",
       "    <tr>\n",
       "      <th>79040</th>\n",
       "      <td>El Monte</td>\n",
       "      <td>RED ORANGE</td>\n",
       "      <td>VARIOUS</td>\n",
       "      <td>CA</td>\n",
       "      <td>7/5/2014 21:49</td>\n",
       "    </tr>\n",
       "    <tr>\n",
       "      <th>79087</th>\n",
       "      <td>Davenport</td>\n",
       "      <td>YELLOW</td>\n",
       "      <td>VARIOUS</td>\n",
       "      <td>WA</td>\n",
       "      <td>7/6/2014 0:15</td>\n",
       "    </tr>\n",
       "    <tr>\n",
       "      <th>79090</th>\n",
       "      <td>Mount Eden</td>\n",
       "      <td>NaN</td>\n",
       "      <td>VARIOUS</td>\n",
       "      <td>KY</td>\n",
       "      <td>7/6/2014 3:00</td>\n",
       "    </tr>\n",
       "    <tr>\n",
       "      <th>79136</th>\n",
       "      <td>Torrance</td>\n",
       "      <td>RED</td>\n",
       "      <td>VARIOUS</td>\n",
       "      <td>CA</td>\n",
       "      <td>7/8/2014 21:15</td>\n",
       "    </tr>\n",
       "    <tr>\n",
       "      <th>79241</th>\n",
       "      <td>Quitman</td>\n",
       "      <td>NaN</td>\n",
       "      <td>VARIOUS</td>\n",
       "      <td>TX</td>\n",
       "      <td>7/12/2014 21:15</td>\n",
       "    </tr>\n",
       "    <tr>\n",
       "      <th>79403</th>\n",
       "      <td>Cottonwood</td>\n",
       "      <td>NaN</td>\n",
       "      <td>VARIOUS</td>\n",
       "      <td>CA</td>\n",
       "      <td>7/19/2014 3:00</td>\n",
       "    </tr>\n",
       "    <tr>\n",
       "      <th>79506</th>\n",
       "      <td>South Williamsport</td>\n",
       "      <td>NaN</td>\n",
       "      <td>VARIOUS</td>\n",
       "      <td>PA</td>\n",
       "      <td>7/24/2014 21:30</td>\n",
       "    </tr>\n",
       "    <tr>\n",
       "      <th>79577</th>\n",
       "      <td>Charlestown Township</td>\n",
       "      <td>NaN</td>\n",
       "      <td>VARIOUS</td>\n",
       "      <td>OH</td>\n",
       "      <td>7/27/2014 5:09</td>\n",
       "    </tr>\n",
       "    <tr>\n",
       "      <th>79637</th>\n",
       "      <td>Lancaster</td>\n",
       "      <td>NaN</td>\n",
       "      <td>VARIOUS</td>\n",
       "      <td>CA</td>\n",
       "      <td>7/30/2014 22:30</td>\n",
       "    </tr>\n",
       "    <tr>\n",
       "      <th>79654</th>\n",
       "      <td>Newport News</td>\n",
       "      <td>NaN</td>\n",
       "      <td>VARIOUS</td>\n",
       "      <td>VA</td>\n",
       "      <td>7/31/2014 21:55</td>\n",
       "    </tr>\n",
       "    <tr>\n",
       "      <th>79699</th>\n",
       "      <td>Savannah</td>\n",
       "      <td>NaN</td>\n",
       "      <td>VARIOUS</td>\n",
       "      <td>GA</td>\n",
       "      <td>8/2/2014 14:30</td>\n",
       "    </tr>\n",
       "    <tr>\n",
       "      <th>79742</th>\n",
       "      <td>Salisbury</td>\n",
       "      <td>NaN</td>\n",
       "      <td>VARIOUS</td>\n",
       "      <td>MD</td>\n",
       "      <td>8/3/2014 14:00</td>\n",
       "    </tr>\n",
       "    <tr>\n",
       "      <th>79847</th>\n",
       "      <td>Chicago</td>\n",
       "      <td>ORANGE</td>\n",
       "      <td>VARIOUS</td>\n",
       "      <td>IL</td>\n",
       "      <td>8/9/2014 2:30</td>\n",
       "    </tr>\n",
       "    <tr>\n",
       "      <th>79895</th>\n",
       "      <td>Tonawanda</td>\n",
       "      <td>BLUE</td>\n",
       "      <td>VARIOUS</td>\n",
       "      <td>NY</td>\n",
       "      <td>8/11/2014 1:00</td>\n",
       "    </tr>\n",
       "    <tr>\n",
       "      <th>79920</th>\n",
       "      <td>Santa Barbara</td>\n",
       "      <td>NaN</td>\n",
       "      <td>VARIOUS</td>\n",
       "      <td>CA</td>\n",
       "      <td>8/13/2014 6:15</td>\n",
       "    </tr>\n",
       "    <tr>\n",
       "      <th>79939</th>\n",
       "      <td>New Bern</td>\n",
       "      <td>NaN</td>\n",
       "      <td>VARIOUS</td>\n",
       "      <td>NC</td>\n",
       "      <td>8/14/2014 7:52</td>\n",
       "    </tr>\n",
       "    <tr>\n",
       "      <th>79945</th>\n",
       "      <td>Catawba</td>\n",
       "      <td>NaN</td>\n",
       "      <td>VARIOUS</td>\n",
       "      <td>NC</td>\n",
       "      <td>8/14/2014 20:48</td>\n",
       "    </tr>\n",
       "    <tr>\n",
       "      <th>80007</th>\n",
       "      <td>Highlands Ranch</td>\n",
       "      <td>NaN</td>\n",
       "      <td>VARIOUS</td>\n",
       "      <td>CO</td>\n",
       "      <td>8/16/2014 21:23</td>\n",
       "    </tr>\n",
       "    <tr>\n",
       "      <th>80109</th>\n",
       "      <td>Hyannis</td>\n",
       "      <td>RED</td>\n",
       "      <td>VARIOUS</td>\n",
       "      <td>MA</td>\n",
       "      <td>8/20/2014 20:30</td>\n",
       "    </tr>\n",
       "    <tr>\n",
       "      <th>80121</th>\n",
       "      <td>North Myrtle Beach</td>\n",
       "      <td>RED</td>\n",
       "      <td>VARIOUS</td>\n",
       "      <td>SC</td>\n",
       "      <td>8/20/2014 22:45</td>\n",
       "    </tr>\n",
       "    <tr>\n",
       "      <th>80254</th>\n",
       "      <td>Murray</td>\n",
       "      <td>RED</td>\n",
       "      <td>VARIOUS</td>\n",
       "      <td>UT</td>\n",
       "      <td>8/25/2014 10:00</td>\n",
       "    </tr>\n",
       "    <tr>\n",
       "      <th>80270</th>\n",
       "      <td>Oceanside</td>\n",
       "      <td>NaN</td>\n",
       "      <td>VARIOUS</td>\n",
       "      <td>CA</td>\n",
       "      <td>8/25/2014 21:38</td>\n",
       "    </tr>\n",
       "    <tr>\n",
       "      <th>80411</th>\n",
       "      <td>Eugene</td>\n",
       "      <td>NaN</td>\n",
       "      <td>VARIOUS</td>\n",
       "      <td>OR</td>\n",
       "      <td>8/30/2014 22:00</td>\n",
       "    </tr>\n",
       "    <tr>\n",
       "      <th>80460</th>\n",
       "      <td>Concord</td>\n",
       "      <td>NaN</td>\n",
       "      <td>VARIOUS</td>\n",
       "      <td>VT</td>\n",
       "      <td>9/1/2014 20:25</td>\n",
       "    </tr>\n",
       "    <tr>\n",
       "      <th>80465</th>\n",
       "      <td>South Londonderry</td>\n",
       "      <td>GREEN</td>\n",
       "      <td>VARIOUS</td>\n",
       "      <td>VT</td>\n",
       "      <td>9/1/2014 21:30</td>\n",
       "    </tr>\n",
       "    <tr>\n",
       "      <th>80503</th>\n",
       "      <td>Bethel Park</td>\n",
       "      <td>ORANGE</td>\n",
       "      <td>VARIOUS</td>\n",
       "      <td>PA</td>\n",
       "      <td>9/3/2014 21:15</td>\n",
       "    </tr>\n",
       "  </tbody>\n",
       "</table>\n",
       "<p>1957 rows × 5 columns</p>\n",
       "</div>"
      ],
      "text/plain": [
       "                             City Colors Reported Shape Reported State  \\\n",
       "292                       Morroco             NaN        VARIOUS    IN   \n",
       "599                   Silverfdale             NaN        VARIOUS    WA   \n",
       "656                 Parris Island             NaN        VARIOUS    SC   \n",
       "707                     Pittsburg             RED        VARIOUS    OK   \n",
       "736               Avon-by-the-Sea          ORANGE        VARIOUS    NJ   \n",
       "784                    Tishimingo             NaN        VARIOUS    OK   \n",
       "895                       Atlanta             NaN        VARIOUS    GA   \n",
       "1040                    Waterford             NaN        VARIOUS    MI   \n",
       "1077                  Minneapolis             NaN        VARIOUS    MN   \n",
       "1103                   Great Bend             NaN        VARIOUS    KS   \n",
       "1399   Shofield Barracks-Civilian             NaN        VARIOUS    HI   \n",
       "1495                       Camden             NaN        VARIOUS    NJ   \n",
       "1606                       Renton          ORANGE        VARIOUS    WA   \n",
       "1680                         Bena             NaN        VARIOUS    VA   \n",
       "1720                   Kansas Ciy             RED        VARIOUS    KS   \n",
       "1901                        Miami             NaN        VARIOUS    FL   \n",
       "1948                New York City             NaN        VARIOUS    NY   \n",
       "2066                      Deltona             NaN        VARIOUS    FL   \n",
       "2438                     Stockton             NaN        VARIOUS    CA   \n",
       "2543           Jacksonville Beach             NaN        VARIOUS    FL   \n",
       "2583                       Aurora             NaN        VARIOUS    CO   \n",
       "2811                        Aiken       RED GREEN        VARIOUS    SC   \n",
       "2889                    Milwaukee             NaN        VARIOUS    WI   \n",
       "3076                     Maricopa          ORANGE        VARIOUS    AZ   \n",
       "3083                      Killeen             NaN        VARIOUS    TX   \n",
       "3144                Thousand Oaks             NaN        VARIOUS    CA   \n",
       "3163                       Dayton             NaN        VARIOUS    OH   \n",
       "3174                        Hydes             NaN        VARIOUS    MD   \n",
       "3214                      Gresham             NaN        VARIOUS    OR   \n",
       "3352                 Tierra Verde             NaN        VARIOUS    FL   \n",
       "...                           ...             ...            ...   ...   \n",
       "78704                     Bucyrus             NaN        VARIOUS    OH   \n",
       "78724                      Burien          ORANGE        VARIOUS    WA   \n",
       "78885                     Seattle          ORANGE        VARIOUS    WA   \n",
       "78888                        Troy             NaN        VARIOUS    OH   \n",
       "79040                    El Monte      RED ORANGE        VARIOUS    CA   \n",
       "79087                   Davenport          YELLOW        VARIOUS    WA   \n",
       "79090                  Mount Eden             NaN        VARIOUS    KY   \n",
       "79136                    Torrance             RED        VARIOUS    CA   \n",
       "79241                     Quitman             NaN        VARIOUS    TX   \n",
       "79403                  Cottonwood             NaN        VARIOUS    CA   \n",
       "79506          South Williamsport             NaN        VARIOUS    PA   \n",
       "79577        Charlestown Township             NaN        VARIOUS    OH   \n",
       "79637                   Lancaster             NaN        VARIOUS    CA   \n",
       "79654                Newport News             NaN        VARIOUS    VA   \n",
       "79699                    Savannah             NaN        VARIOUS    GA   \n",
       "79742                   Salisbury             NaN        VARIOUS    MD   \n",
       "79847                     Chicago          ORANGE        VARIOUS    IL   \n",
       "79895                   Tonawanda            BLUE        VARIOUS    NY   \n",
       "79920               Santa Barbara             NaN        VARIOUS    CA   \n",
       "79939                    New Bern             NaN        VARIOUS    NC   \n",
       "79945                     Catawba             NaN        VARIOUS    NC   \n",
       "80007             Highlands Ranch             NaN        VARIOUS    CO   \n",
       "80109                     Hyannis             RED        VARIOUS    MA   \n",
       "80121          North Myrtle Beach             RED        VARIOUS    SC   \n",
       "80254                      Murray             RED        VARIOUS    UT   \n",
       "80270                   Oceanside             NaN        VARIOUS    CA   \n",
       "80411                      Eugene             NaN        VARIOUS    OR   \n",
       "80460                     Concord             NaN        VARIOUS    VT   \n",
       "80465           South Londonderry           GREEN        VARIOUS    VT   \n",
       "80503                 Bethel Park          ORANGE        VARIOUS    PA   \n",
       "\n",
       "                   Time  \n",
       "292     7/12/1954 17:30  \n",
       "599      6/1/1960 22:00  \n",
       "656      5/15/1961 4:00  \n",
       "707     5/15/1962 21:30  \n",
       "736      7/15/1962 2:00  \n",
       "784     5/15/1963 22:00  \n",
       "895     6/29/1964 21:50  \n",
       "1040     7/6/1965 23:00  \n",
       "1077     8/8/1965 23:10  \n",
       "1103    9/15/1965 22:00  \n",
       "1399      6/1/1967 0:00  \n",
       "1495    8/16/1967 16:30  \n",
       "1606     6/1/1968 22:00  \n",
       "1680     7/15/1968 0:50  \n",
       "1720     8/16/1968 3:00  \n",
       "1901   10/15/1969 19:00  \n",
       "1948     5/5/1970 19:00  \n",
       "2066    2/15/1971 21:00  \n",
       "2438     7/5/1973 20:00  \n",
       "2543    10/24/1973 0:00  \n",
       "2583      4/1/1974 7:30  \n",
       "2811   11/15/1974 21:00  \n",
       "2889     6/1/1975 15:00  \n",
       "3076    10/1/1975 22:00  \n",
       "3083    10/15/1975 6:30  \n",
       "3144    1/15/1976 20:00  \n",
       "3163    4/20/1976 13:30  \n",
       "3174    5/15/1976 19:00  \n",
       "3214     6/1/1976 22:00  \n",
       "3352    8/15/1976 23:00  \n",
       "...                 ...  \n",
       "78704    7/3/2014 20:41  \n",
       "78724    7/3/2014 22:27  \n",
       "78885    7/4/2014 22:00  \n",
       "78888    7/4/2014 22:00  \n",
       "79040    7/5/2014 21:49  \n",
       "79087     7/6/2014 0:15  \n",
       "79090     7/6/2014 3:00  \n",
       "79136    7/8/2014 21:15  \n",
       "79241   7/12/2014 21:15  \n",
       "79403    7/19/2014 3:00  \n",
       "79506   7/24/2014 21:30  \n",
       "79577    7/27/2014 5:09  \n",
       "79637   7/30/2014 22:30  \n",
       "79654   7/31/2014 21:55  \n",
       "79699    8/2/2014 14:30  \n",
       "79742    8/3/2014 14:00  \n",
       "79847     8/9/2014 2:30  \n",
       "79895    8/11/2014 1:00  \n",
       "79920    8/13/2014 6:15  \n",
       "79939    8/14/2014 7:52  \n",
       "79945   8/14/2014 20:48  \n",
       "80007   8/16/2014 21:23  \n",
       "80109   8/20/2014 20:30  \n",
       "80121   8/20/2014 22:45  \n",
       "80254   8/25/2014 10:00  \n",
       "80270   8/25/2014 21:38  \n",
       "80411   8/30/2014 22:00  \n",
       "80460    9/1/2014 20:25  \n",
       "80465    9/1/2014 21:30  \n",
       "80503    9/3/2014 21:15  \n",
       "\n",
       "[1957 rows x 5 columns]"
      ]
     },
     "execution_count": 103,
     "metadata": {},
     "output_type": "execute_result"
    }
   ],
   "source": [
    "ufo.groupby(['Shape Reported']).get_group(('VARIOUS'))"
   ]
  },
  {
   "cell_type": "markdown",
   "metadata": {},
   "source": [
    "### 8. Plot the counts of shapes, states, colors\n",
    "Double check our notebook and feel free to use Google for help."
   ]
  },
  {
   "cell_type": "code",
   "execution_count": 171,
   "metadata": {
    "collapsed": false
   },
   "outputs": [
    {
     "data": {
      "text/plain": [
       "<matplotlib.axes._subplots.AxesSubplot at 0x155905dd0>"
      ]
     },
     "execution_count": 171,
     "metadata": {},
     "output_type": "execute_result"
    },
    {
     "data": {
      "image/png": "[encoded data removed]",
      "text/plain": [
       "<matplotlib.figure.Figure at 0x15699c410>"
      ]
     },
     "metadata": {},
     "output_type": "display_data"
    }
   ],
   "source": [
    "ufo['Shape Reported'].value_counts()[0:10].plot(kind = 'barh')\n",
    "#ufo.groupby(['Shape Reported','State','Colors Reported']).size().plot(kind = 'barh')\n"
   ]
  },
  {
   "cell_type": "markdown",
   "metadata": {},
   "source": [
    "### 9. Plot counts of sightings per City"
   ]
  },
  {
   "cell_type": "code",
   "execution_count": 169,
   "metadata": {
    "collapsed": false
   },
   "outputs": [
    {
     "data": {
      "text/plain": [
       "<matplotlib.axes._subplots.AxesSubplot at 0x156f1bbd0>"
      ]
     },
     "execution_count": 169,
     "metadata": {},
     "output_type": "execute_result"
    },
    {
     "data": {
      "image/png": "[encoded data removed]",
      "text/plain": [
       "<matplotlib.figure.Figure at 0x157209f10>"
      ]
     },
     "metadata": {},
     "output_type": "display_data"
    }
   ],
   "source": [
    "ufo['City'].value_counts()[0:10].plot(kind = 'barh')"
   ]
  },
  {
   "cell_type": "markdown",
   "metadata": {},
   "source": [
    "### 10.  Your co-worker in your data science team has approached you with some concerns..\n",
    "\n",
    "<center>![a real data scientist](http://nerdist.com/wp-content/uploads/2016/02/20160225_becausescience_pokemon_1x1.jpg)\n",
    "_* Actual data scientists may vary in appearance_\n",
    "</center>\n",
    "\n",
    "\n",
    "They tell you that group counting your sightings by city might be inaccurate.  How can you reassure them that your logic is sound and you are certianly correct?  Demonstrate to them, in any other way possible (with code) that you think counting groups by city is a good idea (right?).  Show them by using another method, or grouping in conjunction with other variables validates your assumptions."
   ]
  },
  {
   "cell_type": "code",
   "execution_count": 177,
   "metadata": {
    "collapsed": false
   },
   "outputs": [
    {
     "data": {
      "text/plain": [
       "<matplotlib.axes._subplots.AxesSubplot at 0x137bffa90>"
      ]
     },
     "execution_count": 177,
     "metadata": {},
     "output_type": "execute_result"
    },
    {
     "data": {
      "image/png": "[encoded data removed]",
      "text/plain": [
       "<matplotlib.figure.Figure at 0x156f61050>"
      ]
     },
     "metadata": {},
     "output_type": "display_data"
    }
   ],
   "source": [
    "ufo.groupby(['State','City']).size().plot()"
   ]
  },
  {
   "cell_type": "markdown",
   "metadata": {},
   "source": [
    "### 11.  Which cities have the most \"CIGAR\" sightings?"
   ]
  },
  {
   "cell_type": "code",
   "execution_count": 192,
   "metadata": {
    "collapsed": false
   },
   "outputs": [
    {
     "name": "stdout",
     "output_type": "stream",
     "text": [
      "         City Colors Reported Shape Reported State              Time\n",
      "8     Eklutna             NaN          CIGAR    AK  10/15/1936 17:00\n",
      "25  San Diego             NaN          CIGAR    CA    1/1/1944 12:00\n",
      "32    Ft. Lee             NaN          CIGAR    VA    1/1/1945 12:00\n",
      "74   Syracuse             NaN          CIGAR    NY   7/14/1947 10:30\n",
      "88    Proctor             NaN          CIGAR    OK   8/15/1947 20:15\n"
     ]
    },
    {
     "name": "stderr",
     "output_type": "stream",
     "text": [
      "/Users/Stav/anaconda/lib/python2.7/site-packages/ipykernel/__main__.py:3: FutureWarning: order is deprecated, use sort_values(...)\n",
      "  app.launch_new_instance()\n"
     ]
    },
    {
     "data": {
      "text/plain": [
       "City\n",
       "New York City          19\n",
       "Los Angeles            18\n",
       "Phoenix                16\n",
       "Seattle                14\n",
       "Springfield            13\n",
       "Sacramento             13\n",
       "Chicago                10\n",
       "San Diego              10\n",
       "Las Vegas               9\n",
       "Charlotte               9\n",
       "Albany                  8\n",
       "Memphis                 7\n",
       "St. Louis               7\n",
       "Cleveland               7\n",
       "Boston                  7\n",
       "El Paso                 7\n",
       "Miami                   7\n",
       "Denver                  7\n",
       "Portland                7\n",
       "Albuquerque             7\n",
       "Dallas                  7\n",
       "Kansas City             7\n",
       "Richmond                7\n",
       "Baltimore               6\n",
       "Nashville               6\n",
       "Wichita                 6\n",
       "Canton                  6\n",
       "Omaha                   6\n",
       "Columbus                6\n",
       "Philadelphia            6\n",
       "                       ..\n",
       "North Las Vegas         1\n",
       "North Mankato           1\n",
       "North Mobile County     1\n",
       "Northlake               1\n",
       "North Bend              1\n",
       "Northridge              1\n",
       "Norwood                 1\n",
       "Noxen                   1\n",
       "Nyack                   1\n",
       "Nyona Lake              1\n",
       "O'Fallon                1\n",
       "North Carolina          1\n",
       "North Augusta           1\n",
       "New Hope                1\n",
       "New Vienna              1\n",
       "New Jersey              1\n",
       "New Kensington          1\n",
       "New Orleans             1\n",
       "New Port Richey         1\n",
       "New Preston             1\n",
       "New Rochelle            1\n",
       "Newark                  1\n",
       "North Adams             1\n",
       "Newaygo                 1\n",
       "Newbury                 1\n",
       "Newnan                  1\n",
       "Niagara Falls           1\n",
       "Nicholasville           1\n",
       "Noblesville             1\n",
       "Abbeville               1\n",
       "dtype: int64"
      ]
     },
     "execution_count": 192,
     "metadata": {},
     "output_type": "execute_result"
    }
   ],
   "source": [
    "cigar_df = ufo[ufo['Shape Reported'] == 'CIGAR']\n",
    "print cigar_df[0:5]\n",
    "cigar_df.groupby(\"City\").size().order(ascending = False)"
   ]
  },
  {
   "cell_type": "markdown",
   "metadata": {},
   "source": [
    "---\n",
    "\n",
    "Ask instructors for help on everything previous to this point, but we have designed the bonus material around collaboration in mind.  The next few problems are to be completed without instructor help.\n",
    "\n",
    "```\n",
    "if lab_question > 11:\n",
    "    no_instructors_allowed()\n",
    "```"
   ]
  },
  {
   "cell_type": "markdown",
   "metadata": {},
   "source": [
    "### 12.  Bonus:  Display only top 20 shape counts reported by state!\n",
    "\n",
    "This is a weird problem yes?  You're going to have weird questions and google is your friend!  So for this problem, we have found the answer with the search term \"pandas top 10 by group\" is a semi-obvious place where you will find many of these types of answers.\n",
    "\n",
    "You will easily find the answer but you will need to think about how to implement the solution as the ones you find won't be copy and paste but should demonstrate the intuition for doing so using a grouby object.\n",
    "\n",
    "This is the expected output, _using a groupby() and [some method(s)] to display \"State\" and \"Shape\" as your group indexes with a count!_:\n",
    "\n",
    "```\n",
    "State  Shape Reported\n",
    "CA     LIGHT             2171\n",
    "       CIRCLE            1023\n",
    "WA     LIGHT             1016\n",
    "CA     TRIANGLE           955\n",
    "FL     LIGHT              916\n",
    "TX     LIGHT              847\n",
    "CA     FIREBALL           808\n",
    "       DISK               775\n",
    "       OTHER              749\n",
    "       SPHERE             726\n",
    "NY     LIGHT              691\n",
    "AZ     LIGHT              677\n",
    "IL     LIGHT              600\n",
    "PA     LIGHT              581\n",
    "OH     LIGHT              525\n",
    "FL     FIREBALL           524\n",
    "MI     LIGHT              468\n",
    "FL     CIRCLE             467\n",
    "OR     LIGHT              466\n",
    "CA     OVAL               465\n",
    "dtype: int64\n",
    "```"
   ]
  },
  {
   "cell_type": "code",
   "execution_count": 9,
   "metadata": {
    "collapsed": false
   },
   "outputs": [
    {
     "data": {
      "text/plain": [
       "Shape Reported  State\n",
       "LIGHT           CA       2171\n",
       "CIRCLE          CA       1023\n",
       "LIGHT           WA       1016\n",
       "TRIANGLE        CA        955\n",
       "LIGHT           FL        916\n",
       "                TX        847\n",
       "FIREBALL        CA        808\n",
       "DISK            CA        775\n",
       "OTHER           CA        749\n",
       "SPHERE          CA        726\n",
       "LIGHT           NY        691\n",
       "                AZ        677\n",
       "                IL        600\n",
       "                PA        581\n",
       "                OH        525\n",
       "FIREBALL        FL        524\n",
       "LIGHT           MI        468\n",
       "CIRCLE          FL        467\n",
       "LIGHT           OR        466\n",
       "OVAL            CA        465\n",
       "dtype: int64"
      ]
     },
     "execution_count": 9,
     "metadata": {},
     "output_type": "execute_result"
    }
   ],
   "source": [
    "ufo.groupby(['Shape Reported','State']).size().nlargest(20)"
   ]
  },
  {
   "cell_type": "markdown",
   "metadata": {},
   "source": [
    "### 13.  Bonus:  What are the top 20 shapes by City + State?\n"
   ]
  },
  {
   "cell_type": "code",
   "execution_count": 10,
   "metadata": {
    "collapsed": false
   },
   "outputs": [
    {
     "data": {
      "text/plain": [
       "Shape Reported  State  City         \n",
       "LIGHT           WA     Seattle          129\n",
       "                AZ     Phoenix          105\n",
       "                NY     New York City    105\n",
       "                CA     San Diego         94\n",
       "                OR     Portland          88\n",
       "                NV     Las Vegas         84\n",
       "                CA     Los Angeles       72\n",
       "                SC     Myrtle Beach      64\n",
       "DISK            NY     New York City     63\n",
       "LIGHT           TX     Houston           63\n",
       "                IL     Tinley Park       60\n",
       "                AZ     Tucson            58\n",
       "CIRCLE          NY     New York City     56\n",
       "FIREBALL        WA     Seattle           55\n",
       "LIGHT           FL     Orlando           55\n",
       "                       Miami             53\n",
       "OTHER           WA     Seattle           51\n",
       "SPHERE          NY     New York City     51\n",
       "CIRCLE          WA     Seattle           50\n",
       "LIGHT           CA     Sacramento        48\n",
       "dtype: int64"
      ]
     },
     "execution_count": 10,
     "metadata": {},
     "output_type": "execute_result"
    }
   ],
   "source": [
    "ufo.groupby(['Shape Reported','State','City']).size().nlargest(20)"
   ]
  },
  {
   "cell_type": "markdown",
   "metadata": {},
   "source": [
    "### 14. Bonus: What hours of the day are sightings most commonly reported?\n",
    "\n",
    "To solve this problem, you will need to follow these steps:\n",
    "    - Convert time feature to datetime type\n",
    "    - Create a new feature based on a characteristic of the first step\n",
    "    - Check our Slack for how to accomplish this (dyerrington posted this recently) \n",
    "    \n",
    "There are at least 3 students who have asked how to do this out of personal interest in our class.  Your mission is to seek them out for advice.  No instructors allowed!"
   ]
  },
  {
   "cell_type": "code",
   "execution_count": 15,
   "metadata": {
    "collapsed": false
   },
   "outputs": [
    {
     "data": {
      "text/html": [
       "<div>\n",
       "<table border=\"1\" class=\"dataframe\">\n",
       "  <thead>\n",
       "    <tr style=\"text-align: right;\">\n",
       "      <th></th>\n",
       "      <th>City</th>\n",
       "      <th>Colors Reported</th>\n",
       "      <th>Shape Reported</th>\n",
       "      <th>State</th>\n",
       "      <th>Time</th>\n",
       "      <th>Date</th>\n",
       "    </tr>\n",
       "  </thead>\n",
       "  <tbody>\n",
       "    <tr>\n",
       "      <th>0</th>\n",
       "      <td>Ithaca</td>\n",
       "      <td>NaN</td>\n",
       "      <td>TRIANGLE</td>\n",
       "      <td>NY</td>\n",
       "      <td>6/1/1930 22:00</td>\n",
       "      <td>1930-06-01 22:00:00</td>\n",
       "    </tr>\n",
       "    <tr>\n",
       "      <th>1</th>\n",
       "      <td>Willingboro</td>\n",
       "      <td>NaN</td>\n",
       "      <td>OTHER</td>\n",
       "      <td>NJ</td>\n",
       "      <td>6/30/1930 20:00</td>\n",
       "      <td>1930-06-30 20:00:00</td>\n",
       "    </tr>\n",
       "    <tr>\n",
       "      <th>2</th>\n",
       "      <td>Holyoke</td>\n",
       "      <td>NaN</td>\n",
       "      <td>OVAL</td>\n",
       "      <td>CO</td>\n",
       "      <td>2/15/1931 14:00</td>\n",
       "      <td>1931-02-15 14:00:00</td>\n",
       "    </tr>\n",
       "    <tr>\n",
       "      <th>3</th>\n",
       "      <td>Abilene</td>\n",
       "      <td>NaN</td>\n",
       "      <td>DISK</td>\n",
       "      <td>KS</td>\n",
       "      <td>6/1/1931 13:00</td>\n",
       "      <td>1931-06-01 13:00:00</td>\n",
       "    </tr>\n",
       "    <tr>\n",
       "      <th>4</th>\n",
       "      <td>New York Worlds Fair</td>\n",
       "      <td>NaN</td>\n",
       "      <td>LIGHT</td>\n",
       "      <td>NY</td>\n",
       "      <td>4/18/1933 19:00</td>\n",
       "      <td>1933-04-18 19:00:00</td>\n",
       "    </tr>\n",
       "    <tr>\n",
       "      <th>5</th>\n",
       "      <td>Valley City</td>\n",
       "      <td>NaN</td>\n",
       "      <td>DISK</td>\n",
       "      <td>ND</td>\n",
       "      <td>9/15/1934 15:30</td>\n",
       "      <td>1934-09-15 15:30:00</td>\n",
       "    </tr>\n",
       "    <tr>\n",
       "      <th>6</th>\n",
       "      <td>Crater Lake</td>\n",
       "      <td>NaN</td>\n",
       "      <td>CIRCLE</td>\n",
       "      <td>CA</td>\n",
       "      <td>6/15/1935 0:00</td>\n",
       "      <td>1935-06-15 00:00:00</td>\n",
       "    </tr>\n",
       "    <tr>\n",
       "      <th>7</th>\n",
       "      <td>Alma</td>\n",
       "      <td>NaN</td>\n",
       "      <td>DISK</td>\n",
       "      <td>MI</td>\n",
       "      <td>7/15/1936 0:00</td>\n",
       "      <td>1936-07-15 00:00:00</td>\n",
       "    </tr>\n",
       "    <tr>\n",
       "      <th>8</th>\n",
       "      <td>Eklutna</td>\n",
       "      <td>NaN</td>\n",
       "      <td>CIGAR</td>\n",
       "      <td>AK</td>\n",
       "      <td>10/15/1936 17:00</td>\n",
       "      <td>1936-10-15 17:00:00</td>\n",
       "    </tr>\n",
       "    <tr>\n",
       "      <th>9</th>\n",
       "      <td>Hubbard</td>\n",
       "      <td>NaN</td>\n",
       "      <td>CYLINDER</td>\n",
       "      <td>OR</td>\n",
       "      <td>6/15/1937 0:00</td>\n",
       "      <td>1937-06-15 00:00:00</td>\n",
       "    </tr>\n",
       "    <tr>\n",
       "      <th>10</th>\n",
       "      <td>Fontana</td>\n",
       "      <td>NaN</td>\n",
       "      <td>LIGHT</td>\n",
       "      <td>CA</td>\n",
       "      <td>8/15/1937 21:00</td>\n",
       "      <td>1937-08-15 21:00:00</td>\n",
       "    </tr>\n",
       "    <tr>\n",
       "      <th>11</th>\n",
       "      <td>Waterloo</td>\n",
       "      <td>NaN</td>\n",
       "      <td>FIREBALL</td>\n",
       "      <td>AL</td>\n",
       "      <td>6/1/1939 20:00</td>\n",
       "      <td>1939-06-01 20:00:00</td>\n",
       "    </tr>\n",
       "    <tr>\n",
       "      <th>12</th>\n",
       "      <td>Belton</td>\n",
       "      <td>RED</td>\n",
       "      <td>SPHERE</td>\n",
       "      <td>SC</td>\n",
       "      <td>6/30/1939 20:00</td>\n",
       "      <td>1939-06-30 20:00:00</td>\n",
       "    </tr>\n",
       "    <tr>\n",
       "      <th>13</th>\n",
       "      <td>Keokuk</td>\n",
       "      <td>NaN</td>\n",
       "      <td>OVAL</td>\n",
       "      <td>IA</td>\n",
       "      <td>7/7/1939 2:00</td>\n",
       "      <td>1939-07-07 02:00:00</td>\n",
       "    </tr>\n",
       "    <tr>\n",
       "      <th>14</th>\n",
       "      <td>Ludington</td>\n",
       "      <td>NaN</td>\n",
       "      <td>DISK</td>\n",
       "      <td>MI</td>\n",
       "      <td>6/1/1941 13:00</td>\n",
       "      <td>1941-06-01 13:00:00</td>\n",
       "    </tr>\n",
       "    <tr>\n",
       "      <th>15</th>\n",
       "      <td>Forest Home</td>\n",
       "      <td>NaN</td>\n",
       "      <td>CIRCLE</td>\n",
       "      <td>CA</td>\n",
       "      <td>7/2/1941 11:30</td>\n",
       "      <td>1941-07-02 11:30:00</td>\n",
       "    </tr>\n",
       "    <tr>\n",
       "      <th>16</th>\n",
       "      <td>Los Angeles</td>\n",
       "      <td>NaN</td>\n",
       "      <td>NaN</td>\n",
       "      <td>CA</td>\n",
       "      <td>2/25/1942 0:00</td>\n",
       "      <td>1942-02-25 00:00:00</td>\n",
       "    </tr>\n",
       "    <tr>\n",
       "      <th>17</th>\n",
       "      <td>Hapeville</td>\n",
       "      <td>NaN</td>\n",
       "      <td>NaN</td>\n",
       "      <td>GA</td>\n",
       "      <td>6/1/1942 22:30</td>\n",
       "      <td>1942-06-01 22:30:00</td>\n",
       "    </tr>\n",
       "    <tr>\n",
       "      <th>18</th>\n",
       "      <td>Oneida</td>\n",
       "      <td>NaN</td>\n",
       "      <td>RECTANGLE</td>\n",
       "      <td>TN</td>\n",
       "      <td>7/15/1942 1:00</td>\n",
       "      <td>1942-07-15 01:00:00</td>\n",
       "    </tr>\n",
       "    <tr>\n",
       "      <th>19</th>\n",
       "      <td>Bering Sea</td>\n",
       "      <td>RED</td>\n",
       "      <td>OTHER</td>\n",
       "      <td>AK</td>\n",
       "      <td>4/30/1943 23:00</td>\n",
       "      <td>1943-04-30 23:00:00</td>\n",
       "    </tr>\n",
       "    <tr>\n",
       "      <th>20</th>\n",
       "      <td>Nebraska</td>\n",
       "      <td>NaN</td>\n",
       "      <td>DISK</td>\n",
       "      <td>NE</td>\n",
       "      <td>6/1/1943 15:00</td>\n",
       "      <td>1943-06-01 15:00:00</td>\n",
       "    </tr>\n",
       "    <tr>\n",
       "      <th>21</th>\n",
       "      <td>NaN</td>\n",
       "      <td>NaN</td>\n",
       "      <td>NaN</td>\n",
       "      <td>LA</td>\n",
       "      <td>8/15/1943 0:00</td>\n",
       "      <td>1943-08-15 00:00:00</td>\n",
       "    </tr>\n",
       "    <tr>\n",
       "      <th>22</th>\n",
       "      <td>NaN</td>\n",
       "      <td>NaN</td>\n",
       "      <td>LIGHT</td>\n",
       "      <td>LA</td>\n",
       "      <td>8/15/1943 0:00</td>\n",
       "      <td>1943-08-15 00:00:00</td>\n",
       "    </tr>\n",
       "    <tr>\n",
       "      <th>23</th>\n",
       "      <td>Owensboro</td>\n",
       "      <td>NaN</td>\n",
       "      <td>RECTANGLE</td>\n",
       "      <td>KY</td>\n",
       "      <td>10/15/1943 11:00</td>\n",
       "      <td>1943-10-15 11:00:00</td>\n",
       "    </tr>\n",
       "    <tr>\n",
       "      <th>24</th>\n",
       "      <td>Wilderness</td>\n",
       "      <td>NaN</td>\n",
       "      <td>DISK</td>\n",
       "      <td>WV</td>\n",
       "      <td>1/1/1944 10:00</td>\n",
       "      <td>1944-01-01 10:00:00</td>\n",
       "    </tr>\n",
       "    <tr>\n",
       "      <th>25</th>\n",
       "      <td>San Diego</td>\n",
       "      <td>NaN</td>\n",
       "      <td>CIGAR</td>\n",
       "      <td>CA</td>\n",
       "      <td>1/1/1944 12:00</td>\n",
       "      <td>1944-01-01 12:00:00</td>\n",
       "    </tr>\n",
       "    <tr>\n",
       "      <th>26</th>\n",
       "      <td>Wilderness</td>\n",
       "      <td>NaN</td>\n",
       "      <td>DISK</td>\n",
       "      <td>WV</td>\n",
       "      <td>1/1/1944 12:00</td>\n",
       "      <td>1944-01-01 12:00:00</td>\n",
       "    </tr>\n",
       "    <tr>\n",
       "      <th>27</th>\n",
       "      <td>Clovis</td>\n",
       "      <td>NaN</td>\n",
       "      <td>DISK</td>\n",
       "      <td>NM</td>\n",
       "      <td>4/2/1944 11:00</td>\n",
       "      <td>1944-04-02 11:00:00</td>\n",
       "    </tr>\n",
       "    <tr>\n",
       "      <th>28</th>\n",
       "      <td>Los Alamos</td>\n",
       "      <td>NaN</td>\n",
       "      <td>DISK</td>\n",
       "      <td>NM</td>\n",
       "      <td>6/1/1944 12:00</td>\n",
       "      <td>1944-06-01 12:00:00</td>\n",
       "    </tr>\n",
       "    <tr>\n",
       "      <th>29</th>\n",
       "      <td>Ft. Duschene</td>\n",
       "      <td>NaN</td>\n",
       "      <td>DISK</td>\n",
       "      <td>UT</td>\n",
       "      <td>6/30/1944 10:00</td>\n",
       "      <td>1944-06-30 10:00:00</td>\n",
       "    </tr>\n",
       "    <tr>\n",
       "      <th>...</th>\n",
       "      <td>...</td>\n",
       "      <td>...</td>\n",
       "      <td>...</td>\n",
       "      <td>...</td>\n",
       "      <td>...</td>\n",
       "      <td>...</td>\n",
       "    </tr>\n",
       "    <tr>\n",
       "      <th>80513</th>\n",
       "      <td>Manahawkin</td>\n",
       "      <td>NaN</td>\n",
       "      <td>CIRCLE</td>\n",
       "      <td>NJ</td>\n",
       "      <td>9/4/2014 8:30</td>\n",
       "      <td>2014-09-04 08:30:00</td>\n",
       "    </tr>\n",
       "    <tr>\n",
       "      <th>80514</th>\n",
       "      <td>New Bedford</td>\n",
       "      <td>NaN</td>\n",
       "      <td>LIGHT</td>\n",
       "      <td>MA</td>\n",
       "      <td>9/4/2014 9:47</td>\n",
       "      <td>2014-09-04 09:47:00</td>\n",
       "    </tr>\n",
       "    <tr>\n",
       "      <th>80515</th>\n",
       "      <td>Woodbridge</td>\n",
       "      <td>NaN</td>\n",
       "      <td>TRIANGLE</td>\n",
       "      <td>VA</td>\n",
       "      <td>9/4/2014 16:30</td>\n",
       "      <td>2014-09-04 16:30:00</td>\n",
       "    </tr>\n",
       "    <tr>\n",
       "      <th>80516</th>\n",
       "      <td>Glendale</td>\n",
       "      <td>NaN</td>\n",
       "      <td>CYLINDER</td>\n",
       "      <td>CA</td>\n",
       "      <td>9/4/2014 17:38</td>\n",
       "      <td>2014-09-04 17:38:00</td>\n",
       "    </tr>\n",
       "    <tr>\n",
       "      <th>80517</th>\n",
       "      <td>Laconia</td>\n",
       "      <td>NaN</td>\n",
       "      <td>CIGAR</td>\n",
       "      <td>NH</td>\n",
       "      <td>9/4/2014 19:02</td>\n",
       "      <td>2014-09-04 19:02:00</td>\n",
       "    </tr>\n",
       "    <tr>\n",
       "      <th>80518</th>\n",
       "      <td>Langhorne</td>\n",
       "      <td>NaN</td>\n",
       "      <td>OTHER</td>\n",
       "      <td>PA</td>\n",
       "      <td>9/4/2014 19:30</td>\n",
       "      <td>2014-09-04 19:30:00</td>\n",
       "    </tr>\n",
       "    <tr>\n",
       "      <th>80519</th>\n",
       "      <td>Glen Ellyn</td>\n",
       "      <td>RED</td>\n",
       "      <td>CIRCLE</td>\n",
       "      <td>IL</td>\n",
       "      <td>9/4/2014 20:20</td>\n",
       "      <td>2014-09-04 20:20:00</td>\n",
       "    </tr>\n",
       "    <tr>\n",
       "      <th>80520</th>\n",
       "      <td>Waynesburg</td>\n",
       "      <td>NaN</td>\n",
       "      <td>FLASH</td>\n",
       "      <td>PA</td>\n",
       "      <td>9/4/2014 20:25</td>\n",
       "      <td>2014-09-04 20:25:00</td>\n",
       "    </tr>\n",
       "    <tr>\n",
       "      <th>80521</th>\n",
       "      <td>Canal Winchester</td>\n",
       "      <td>NaN</td>\n",
       "      <td>TRIANGLE</td>\n",
       "      <td>OH</td>\n",
       "      <td>9/4/2014 20:30</td>\n",
       "      <td>2014-09-04 20:30:00</td>\n",
       "    </tr>\n",
       "    <tr>\n",
       "      <th>80522</th>\n",
       "      <td>Lawrence</td>\n",
       "      <td>ORANGE</td>\n",
       "      <td>LIGHT</td>\n",
       "      <td>MA</td>\n",
       "      <td>9/4/2014 20:30</td>\n",
       "      <td>2014-09-04 20:30:00</td>\n",
       "    </tr>\n",
       "    <tr>\n",
       "      <th>80523</th>\n",
       "      <td>Ellicott City</td>\n",
       "      <td>NaN</td>\n",
       "      <td>LIGHT</td>\n",
       "      <td>MD</td>\n",
       "      <td>9/4/2014 20:45</td>\n",
       "      <td>2014-09-04 20:45:00</td>\n",
       "    </tr>\n",
       "    <tr>\n",
       "      <th>80524</th>\n",
       "      <td>Olympia</td>\n",
       "      <td>RED</td>\n",
       "      <td>LIGHT</td>\n",
       "      <td>WA</td>\n",
       "      <td>9/4/2014 21:10</td>\n",
       "      <td>2014-09-04 21:10:00</td>\n",
       "    </tr>\n",
       "    <tr>\n",
       "      <th>80525</th>\n",
       "      <td>Iowa City</td>\n",
       "      <td>BLUE</td>\n",
       "      <td>LIGHT</td>\n",
       "      <td>IA</td>\n",
       "      <td>9/4/2014 21:11</td>\n",
       "      <td>2014-09-04 21:11:00</td>\n",
       "    </tr>\n",
       "    <tr>\n",
       "      <th>80526</th>\n",
       "      <td>Marshfield</td>\n",
       "      <td>NaN</td>\n",
       "      <td>LIGHT</td>\n",
       "      <td>MA</td>\n",
       "      <td>9/4/2014 21:15</td>\n",
       "      <td>2014-09-04 21:15:00</td>\n",
       "    </tr>\n",
       "    <tr>\n",
       "      <th>80527</th>\n",
       "      <td>Seattle</td>\n",
       "      <td>NaN</td>\n",
       "      <td>DIAMOND</td>\n",
       "      <td>WA</td>\n",
       "      <td>9/4/2014 21:15</td>\n",
       "      <td>2014-09-04 21:15:00</td>\n",
       "    </tr>\n",
       "    <tr>\n",
       "      <th>80528</th>\n",
       "      <td>North Royalton</td>\n",
       "      <td>RED</td>\n",
       "      <td>TRIANGLE</td>\n",
       "      <td>OH</td>\n",
       "      <td>9/4/2014 21:30</td>\n",
       "      <td>2014-09-04 21:30:00</td>\n",
       "    </tr>\n",
       "    <tr>\n",
       "      <th>80529</th>\n",
       "      <td>Deer Park</td>\n",
       "      <td>NaN</td>\n",
       "      <td>LIGHT</td>\n",
       "      <td>WA</td>\n",
       "      <td>9/4/2014 22:00</td>\n",
       "      <td>2014-09-04 22:00:00</td>\n",
       "    </tr>\n",
       "    <tr>\n",
       "      <th>80530</th>\n",
       "      <td>Glen St. Mary</td>\n",
       "      <td>NaN</td>\n",
       "      <td>DISK</td>\n",
       "      <td>FL</td>\n",
       "      <td>9/4/2014 22:00</td>\n",
       "      <td>2014-09-04 22:00:00</td>\n",
       "    </tr>\n",
       "    <tr>\n",
       "      <th>80531</th>\n",
       "      <td>Abingdon</td>\n",
       "      <td>NaN</td>\n",
       "      <td>CIRCLE</td>\n",
       "      <td>VA</td>\n",
       "      <td>9/4/2014 22:05</td>\n",
       "      <td>2014-09-04 22:05:00</td>\n",
       "    </tr>\n",
       "    <tr>\n",
       "      <th>80532</th>\n",
       "      <td>Lawrence</td>\n",
       "      <td>NaN</td>\n",
       "      <td>LIGHT</td>\n",
       "      <td>MA</td>\n",
       "      <td>9/4/2014 22:15</td>\n",
       "      <td>2014-09-04 22:15:00</td>\n",
       "    </tr>\n",
       "    <tr>\n",
       "      <th>80533</th>\n",
       "      <td>Melbourne</td>\n",
       "      <td>NaN</td>\n",
       "      <td>OVAL</td>\n",
       "      <td>IA</td>\n",
       "      <td>9/4/2014 22:15</td>\n",
       "      <td>2014-09-04 22:15:00</td>\n",
       "    </tr>\n",
       "    <tr>\n",
       "      <th>80534</th>\n",
       "      <td>Burleson</td>\n",
       "      <td>NaN</td>\n",
       "      <td>LIGHT</td>\n",
       "      <td>TX</td>\n",
       "      <td>9/4/2014 22:30</td>\n",
       "      <td>2014-09-04 22:30:00</td>\n",
       "    </tr>\n",
       "    <tr>\n",
       "      <th>80535</th>\n",
       "      <td>Elizabethtown</td>\n",
       "      <td>NaN</td>\n",
       "      <td>CIRCLE</td>\n",
       "      <td>KY</td>\n",
       "      <td>9/4/2014 22:30</td>\n",
       "      <td>2014-09-04 22:30:00</td>\n",
       "    </tr>\n",
       "    <tr>\n",
       "      <th>80536</th>\n",
       "      <td>Wyoming</td>\n",
       "      <td>RED</td>\n",
       "      <td>DISK</td>\n",
       "      <td>PA</td>\n",
       "      <td>9/4/2014 23:00</td>\n",
       "      <td>2014-09-04 23:00:00</td>\n",
       "    </tr>\n",
       "    <tr>\n",
       "      <th>80537</th>\n",
       "      <td>Neligh</td>\n",
       "      <td>NaN</td>\n",
       "      <td>CIRCLE</td>\n",
       "      <td>NE</td>\n",
       "      <td>9/4/2014 23:20</td>\n",
       "      <td>2014-09-04 23:20:00</td>\n",
       "    </tr>\n",
       "    <tr>\n",
       "      <th>80538</th>\n",
       "      <td>Neligh</td>\n",
       "      <td>NaN</td>\n",
       "      <td>CIRCLE</td>\n",
       "      <td>NE</td>\n",
       "      <td>9/4/2014 23:20</td>\n",
       "      <td>2014-09-04 23:20:00</td>\n",
       "    </tr>\n",
       "    <tr>\n",
       "      <th>80539</th>\n",
       "      <td>Uhrichsville</td>\n",
       "      <td>NaN</td>\n",
       "      <td>LIGHT</td>\n",
       "      <td>OH</td>\n",
       "      <td>9/5/2014 1:14</td>\n",
       "      <td>2014-09-05 01:14:00</td>\n",
       "    </tr>\n",
       "    <tr>\n",
       "      <th>80540</th>\n",
       "      <td>Tucson</td>\n",
       "      <td>RED BLUE</td>\n",
       "      <td>NaN</td>\n",
       "      <td>AZ</td>\n",
       "      <td>9/5/2014 2:40</td>\n",
       "      <td>2014-09-05 02:40:00</td>\n",
       "    </tr>\n",
       "    <tr>\n",
       "      <th>80541</th>\n",
       "      <td>Orland park</td>\n",
       "      <td>RED</td>\n",
       "      <td>LIGHT</td>\n",
       "      <td>IL</td>\n",
       "      <td>9/5/2014 3:43</td>\n",
       "      <td>2014-09-05 03:43:00</td>\n",
       "    </tr>\n",
       "    <tr>\n",
       "      <th>80542</th>\n",
       "      <td>Loughman</td>\n",
       "      <td>NaN</td>\n",
       "      <td>LIGHT</td>\n",
       "      <td>FL</td>\n",
       "      <td>9/5/2014 5:30</td>\n",
       "      <td>2014-09-05 05:30:00</td>\n",
       "    </tr>\n",
       "  </tbody>\n",
       "</table>\n",
       "<p>80543 rows × 6 columns</p>\n",
       "</div>"
      ],
      "text/plain": [
       "                       City Colors Reported Shape Reported State  \\\n",
       "0                    Ithaca             NaN       TRIANGLE    NY   \n",
       "1               Willingboro             NaN          OTHER    NJ   \n",
       "2                   Holyoke             NaN           OVAL    CO   \n",
       "3                   Abilene             NaN           DISK    KS   \n",
       "4      New York Worlds Fair             NaN          LIGHT    NY   \n",
       "5               Valley City             NaN           DISK    ND   \n",
       "6               Crater Lake             NaN         CIRCLE    CA   \n",
       "7                      Alma             NaN           DISK    MI   \n",
       "8                   Eklutna             NaN          CIGAR    AK   \n",
       "9                   Hubbard             NaN       CYLINDER    OR   \n",
       "10                  Fontana             NaN          LIGHT    CA   \n",
       "11                 Waterloo             NaN       FIREBALL    AL   \n",
       "12                   Belton             RED         SPHERE    SC   \n",
       "13                   Keokuk             NaN           OVAL    IA   \n",
       "14                Ludington             NaN           DISK    MI   \n",
       "15              Forest Home             NaN         CIRCLE    CA   \n",
       "16              Los Angeles             NaN            NaN    CA   \n",
       "17                Hapeville             NaN            NaN    GA   \n",
       "18                   Oneida             NaN      RECTANGLE    TN   \n",
       "19               Bering Sea             RED          OTHER    AK   \n",
       "20                 Nebraska             NaN           DISK    NE   \n",
       "21                      NaN             NaN            NaN    LA   \n",
       "22                      NaN             NaN          LIGHT    LA   \n",
       "23                Owensboro             NaN      RECTANGLE    KY   \n",
       "24               Wilderness             NaN           DISK    WV   \n",
       "25                San Diego             NaN          CIGAR    CA   \n",
       "26               Wilderness             NaN           DISK    WV   \n",
       "27                   Clovis             NaN           DISK    NM   \n",
       "28               Los Alamos             NaN           DISK    NM   \n",
       "29             Ft. Duschene             NaN           DISK    UT   \n",
       "...                     ...             ...            ...   ...   \n",
       "80513            Manahawkin             NaN         CIRCLE    NJ   \n",
       "80514           New Bedford             NaN          LIGHT    MA   \n",
       "80515            Woodbridge             NaN       TRIANGLE    VA   \n",
       "80516              Glendale             NaN       CYLINDER    CA   \n",
       "80517               Laconia             NaN          CIGAR    NH   \n",
       "80518             Langhorne             NaN          OTHER    PA   \n",
       "80519            Glen Ellyn             RED         CIRCLE    IL   \n",
       "80520            Waynesburg             NaN          FLASH    PA   \n",
       "80521      Canal Winchester             NaN       TRIANGLE    OH   \n",
       "80522              Lawrence          ORANGE          LIGHT    MA   \n",
       "80523         Ellicott City             NaN          LIGHT    MD   \n",
       "80524               Olympia             RED          LIGHT    WA   \n",
       "80525             Iowa City            BLUE          LIGHT    IA   \n",
       "80526            Marshfield             NaN          LIGHT    MA   \n",
       "80527               Seattle             NaN        DIAMOND    WA   \n",
       "80528        North Royalton             RED       TRIANGLE    OH   \n",
       "80529             Deer Park             NaN          LIGHT    WA   \n",
       "80530         Glen St. Mary             NaN           DISK    FL   \n",
       "80531              Abingdon             NaN         CIRCLE    VA   \n",
       "80532              Lawrence             NaN          LIGHT    MA   \n",
       "80533             Melbourne             NaN           OVAL    IA   \n",
       "80534              Burleson             NaN          LIGHT    TX   \n",
       "80535         Elizabethtown             NaN         CIRCLE    KY   \n",
       "80536               Wyoming             RED           DISK    PA   \n",
       "80537                Neligh             NaN         CIRCLE    NE   \n",
       "80538                Neligh             NaN         CIRCLE    NE   \n",
       "80539          Uhrichsville             NaN          LIGHT    OH   \n",
       "80540                Tucson        RED BLUE            NaN    AZ   \n",
       "80541           Orland park             RED          LIGHT    IL   \n",
       "80542              Loughman             NaN          LIGHT    FL   \n",
       "\n",
       "                   Time                Date  \n",
       "0        6/1/1930 22:00 1930-06-01 22:00:00  \n",
       "1       6/30/1930 20:00 1930-06-30 20:00:00  \n",
       "2       2/15/1931 14:00 1931-02-15 14:00:00  \n",
       "3        6/1/1931 13:00 1931-06-01 13:00:00  \n",
       "4       4/18/1933 19:00 1933-04-18 19:00:00  \n",
       "5       9/15/1934 15:30 1934-09-15 15:30:00  \n",
       "6        6/15/1935 0:00 1935-06-15 00:00:00  \n",
       "7        7/15/1936 0:00 1936-07-15 00:00:00  \n",
       "8      10/15/1936 17:00 1936-10-15 17:00:00  \n",
       "9        6/15/1937 0:00 1937-06-15 00:00:00  \n",
       "10      8/15/1937 21:00 1937-08-15 21:00:00  \n",
       "11       6/1/1939 20:00 1939-06-01 20:00:00  \n",
       "12      6/30/1939 20:00 1939-06-30 20:00:00  \n",
       "13        7/7/1939 2:00 1939-07-07 02:00:00  \n",
       "14       6/1/1941 13:00 1941-06-01 13:00:00  \n",
       "15       7/2/1941 11:30 1941-07-02 11:30:00  \n",
       "16       2/25/1942 0:00 1942-02-25 00:00:00  \n",
       "17       6/1/1942 22:30 1942-06-01 22:30:00  \n",
       "18       7/15/1942 1:00 1942-07-15 01:00:00  \n",
       "19      4/30/1943 23:00 1943-04-30 23:00:00  \n",
       "20       6/1/1943 15:00 1943-06-01 15:00:00  \n",
       "21       8/15/1943 0:00 1943-08-15 00:00:00  \n",
       "22       8/15/1943 0:00 1943-08-15 00:00:00  \n",
       "23     10/15/1943 11:00 1943-10-15 11:00:00  \n",
       "24       1/1/1944 10:00 1944-01-01 10:00:00  \n",
       "25       1/1/1944 12:00 1944-01-01 12:00:00  \n",
       "26       1/1/1944 12:00 1944-01-01 12:00:00  \n",
       "27       4/2/1944 11:00 1944-04-02 11:00:00  \n",
       "28       6/1/1944 12:00 1944-06-01 12:00:00  \n",
       "29      6/30/1944 10:00 1944-06-30 10:00:00  \n",
       "...                 ...                 ...  \n",
       "80513     9/4/2014 8:30 2014-09-04 08:30:00  \n",
       "80514     9/4/2014 9:47 2014-09-04 09:47:00  \n",
       "80515    9/4/2014 16:30 2014-09-04 16:30:00  \n",
       "80516    9/4/2014 17:38 2014-09-04 17:38:00  \n",
       "80517    9/4/2014 19:02 2014-09-04 19:02:00  \n",
       "80518    9/4/2014 19:30 2014-09-04 19:30:00  \n",
       "80519    9/4/2014 20:20 2014-09-04 20:20:00  \n",
       "80520    9/4/2014 20:25 2014-09-04 20:25:00  \n",
       "80521    9/4/2014 20:30 2014-09-04 20:30:00  \n",
       "80522    9/4/2014 20:30 2014-09-04 20:30:00  \n",
       "80523    9/4/2014 20:45 2014-09-04 20:45:00  \n",
       "80524    9/4/2014 21:10 2014-09-04 21:10:00  \n",
       "80525    9/4/2014 21:11 2014-09-04 21:11:00  \n",
       "80526    9/4/2014 21:15 2014-09-04 21:15:00  \n",
       "80527    9/4/2014 21:15 2014-09-04 21:15:00  \n",
       "80528    9/4/2014 21:30 2014-09-04 21:30:00  \n",
       "80529    9/4/2014 22:00 2014-09-04 22:00:00  \n",
       "80530    9/4/2014 22:00 2014-09-04 22:00:00  \n",
       "80531    9/4/2014 22:05 2014-09-04 22:05:00  \n",
       "80532    9/4/2014 22:15 2014-09-04 22:15:00  \n",
       "80533    9/4/2014 22:15 2014-09-04 22:15:00  \n",
       "80534    9/4/2014 22:30 2014-09-04 22:30:00  \n",
       "80535    9/4/2014 22:30 2014-09-04 22:30:00  \n",
       "80536    9/4/2014 23:00 2014-09-04 23:00:00  \n",
       "80537    9/4/2014 23:20 2014-09-04 23:20:00  \n",
       "80538    9/4/2014 23:20 2014-09-04 23:20:00  \n",
       "80539     9/5/2014 1:14 2014-09-05 01:14:00  \n",
       "80540     9/5/2014 2:40 2014-09-05 02:40:00  \n",
       "80541     9/5/2014 3:43 2014-09-05 03:43:00  \n",
       "80542     9/5/2014 5:30 2014-09-05 05:30:00  \n",
       "\n",
       "[80543 rows x 6 columns]"
      ]
     },
     "execution_count": 15,
     "metadata": {},
     "output_type": "execute_result"
    }
   ],
   "source": [
    "ufo.Time.dtype\n",
    "ufo['Date'] = pd.to_datetime(ufo['Time'])\n",
    "ufo"
   ]
  },
  {
   "cell_type": "markdown",
   "metadata": {},
   "source": [
    "### 15. BONUS BONUS:  Generally, what interesting insights can you share about our UFO dataset?\n",
    "    \n",
    "Be as detailed as possible and tell us a nice story (long or short), about your observations.  Great ideas are:\n",
    " - Summary statistics\n",
    " - Outliers\n",
    " - Patterns\n",
    " - Latent characteristics\n",
    " - Graphs / plots / ascii art"
   ]
  },
  {
   "cell_type": "code",
   "execution_count": 16,
   "metadata": {
    "collapsed": false
   },
   "outputs": [
    {
     "data": {
      "text/plain": [
       "<matplotlib.axes._subplots.AxesSubplot at 0x117e4d8d0>"
      ]
     },
     "execution_count": 16,
     "metadata": {},
     "output_type": "execute_result"
    },
    {
     "data": {
      "image/png": "[encoded data removed]",
      "text/plain": [
       "<matplotlib.figure.Figure at 0x116b16390>"
      ]
     },
     "metadata": {},
     "output_type": "display_data"
    }
   ],
   "source": [
    "ufo['hour'] = ufo['Date'].map(lambda date: date.hour)\n",
    "ufo.groupby('hour').size().plot(kind = 'barh', figsize = (14,12))"
   ]
  },
  {
   "cell_type": "code",
   "execution_count": null,
   "metadata": {
    "collapsed": true
   },
   "outputs": [],
   "source": []
  }
 ],
 "metadata": {
  "celltoolbar": "Slideshow",
  "kernelspec": {
   "display_name": "Python 2",
   "language": "python",
   "name": "python2"
  },
  "language_info": {
   "codemirror_mode": {
    "name": "ipython",
    "version": 2
   },
   "file_extension": ".py",
   "mimetype": "text/x-python",
   "name": "python",
   "nbconvert_exporter": "python",
   "pygments_lexer": "ipython2",
   "version": "2.7.11"
  }
 },
 "nbformat": 4,
 "nbformat_minor": 0
}
